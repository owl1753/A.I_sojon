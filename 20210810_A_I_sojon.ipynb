{
  "nbformat": 4,
  "nbformat_minor": 0,
  "metadata": {
    "colab": {
      "name": "20210810_A.I_sojon.ipynb",
      "provenance": [],
      "collapsed_sections": [],
      "authorship_tag": "ABX9TyP/+XxRum+X584IL+unu7aR",
      "include_colab_link": true
    },
    "kernelspec": {
      "name": "python3",
      "display_name": "Python 3"
    },
    "language_info": {
      "name": "python"
    },
    "accelerator": "GPU",
    "widgets": {
      "application/vnd.jupyter.widget-state+json": {
        "e9aece2c2fae468c96fdeb76c5e6359a": {
          "model_module": "@jupyter-widgets/controls",
          "model_name": "HBoxModel",
          "model_module_version": "1.5.0",
          "state": {
            "_view_name": "HBoxView",
            "_dom_classes": [],
            "_model_name": "HBoxModel",
            "_view_module": "@jupyter-widgets/controls",
            "_model_module_version": "1.5.0",
            "_view_count": null,
            "_view_module_version": "1.5.0",
            "box_style": "",
            "layout": "IPY_MODEL_575e16674d2542309e1be8a5f651626c",
            "_model_module": "@jupyter-widgets/controls",
            "children": [
              "IPY_MODEL_536d67ddede44c5793b06cd4a27689d7",
              "IPY_MODEL_d89ce5e30da94f66a3940b652af254c2"
            ]
          }
        },
        "575e16674d2542309e1be8a5f651626c": {
          "model_module": "@jupyter-widgets/base",
          "model_name": "LayoutModel",
          "model_module_version": "1.2.0",
          "state": {
            "_view_name": "LayoutView",
            "grid_template_rows": null,
            "right": null,
            "justify_content": null,
            "_view_module": "@jupyter-widgets/base",
            "overflow": null,
            "_model_module_version": "1.2.0",
            "_view_count": null,
            "flex_flow": null,
            "width": null,
            "min_width": null,
            "border": null,
            "align_items": null,
            "bottom": null,
            "_model_module": "@jupyter-widgets/base",
            "top": null,
            "grid_column": null,
            "overflow_y": null,
            "overflow_x": null,
            "grid_auto_flow": null,
            "grid_area": null,
            "grid_template_columns": null,
            "flex": null,
            "_model_name": "LayoutModel",
            "justify_items": null,
            "grid_row": null,
            "max_height": null,
            "align_content": null,
            "visibility": null,
            "align_self": null,
            "height": null,
            "min_height": null,
            "padding": null,
            "grid_auto_rows": null,
            "grid_gap": null,
            "max_width": null,
            "order": null,
            "_view_module_version": "1.2.0",
            "grid_template_areas": null,
            "object_position": null,
            "object_fit": null,
            "grid_auto_columns": null,
            "margin": null,
            "display": null,
            "left": null
          }
        },
        "536d67ddede44c5793b06cd4a27689d7": {
          "model_module": "@jupyter-widgets/controls",
          "model_name": "FloatProgressModel",
          "model_module_version": "1.5.0",
          "state": {
            "_view_name": "ProgressView",
            "style": "IPY_MODEL_cdd9e50e6fbe49d3a97e7eb37d16b509",
            "_dom_classes": [],
            "description": "",
            "_model_name": "FloatProgressModel",
            "bar_style": "success",
            "max": 26421880,
            "_view_module": "@jupyter-widgets/controls",
            "_model_module_version": "1.5.0",
            "value": 26421880,
            "_view_count": null,
            "_view_module_version": "1.5.0",
            "orientation": "horizontal",
            "min": 0,
            "description_tooltip": null,
            "_model_module": "@jupyter-widgets/controls",
            "layout": "IPY_MODEL_624aac16edc042669c5e09a8fb3262a9"
          }
        },
        "d89ce5e30da94f66a3940b652af254c2": {
          "model_module": "@jupyter-widgets/controls",
          "model_name": "HTMLModel",
          "model_module_version": "1.5.0",
          "state": {
            "_view_name": "HTMLView",
            "style": "IPY_MODEL_2b7b29c5138f4f49bc326f94e78ee2f4",
            "_dom_classes": [],
            "description": "",
            "_model_name": "HTMLModel",
            "placeholder": "​",
            "_view_module": "@jupyter-widgets/controls",
            "_model_module_version": "1.5.0",
            "value": " 26422272/? [00:37&lt;00:00, 711565.92it/s]",
            "_view_count": null,
            "_view_module_version": "1.5.0",
            "description_tooltip": null,
            "_model_module": "@jupyter-widgets/controls",
            "layout": "IPY_MODEL_9adf4fd1861247c08b91ea0da4c40561"
          }
        },
        "cdd9e50e6fbe49d3a97e7eb37d16b509": {
          "model_module": "@jupyter-widgets/controls",
          "model_name": "ProgressStyleModel",
          "model_module_version": "1.5.0",
          "state": {
            "_view_name": "StyleView",
            "_model_name": "ProgressStyleModel",
            "description_width": "initial",
            "_view_module": "@jupyter-widgets/base",
            "_model_module_version": "1.5.0",
            "_view_count": null,
            "_view_module_version": "1.2.0",
            "bar_color": null,
            "_model_module": "@jupyter-widgets/controls"
          }
        },
        "624aac16edc042669c5e09a8fb3262a9": {
          "model_module": "@jupyter-widgets/base",
          "model_name": "LayoutModel",
          "model_module_version": "1.2.0",
          "state": {
            "_view_name": "LayoutView",
            "grid_template_rows": null,
            "right": null,
            "justify_content": null,
            "_view_module": "@jupyter-widgets/base",
            "overflow": null,
            "_model_module_version": "1.2.0",
            "_view_count": null,
            "flex_flow": null,
            "width": null,
            "min_width": null,
            "border": null,
            "align_items": null,
            "bottom": null,
            "_model_module": "@jupyter-widgets/base",
            "top": null,
            "grid_column": null,
            "overflow_y": null,
            "overflow_x": null,
            "grid_auto_flow": null,
            "grid_area": null,
            "grid_template_columns": null,
            "flex": null,
            "_model_name": "LayoutModel",
            "justify_items": null,
            "grid_row": null,
            "max_height": null,
            "align_content": null,
            "visibility": null,
            "align_self": null,
            "height": null,
            "min_height": null,
            "padding": null,
            "grid_auto_rows": null,
            "grid_gap": null,
            "max_width": null,
            "order": null,
            "_view_module_version": "1.2.0",
            "grid_template_areas": null,
            "object_position": null,
            "object_fit": null,
            "grid_auto_columns": null,
            "margin": null,
            "display": null,
            "left": null
          }
        },
        "2b7b29c5138f4f49bc326f94e78ee2f4": {
          "model_module": "@jupyter-widgets/controls",
          "model_name": "DescriptionStyleModel",
          "model_module_version": "1.5.0",
          "state": {
            "_view_name": "StyleView",
            "_model_name": "DescriptionStyleModel",
            "description_width": "",
            "_view_module": "@jupyter-widgets/base",
            "_model_module_version": "1.5.0",
            "_view_count": null,
            "_view_module_version": "1.2.0",
            "_model_module": "@jupyter-widgets/controls"
          }
        },
        "9adf4fd1861247c08b91ea0da4c40561": {
          "model_module": "@jupyter-widgets/base",
          "model_name": "LayoutModel",
          "model_module_version": "1.2.0",
          "state": {
            "_view_name": "LayoutView",
            "grid_template_rows": null,
            "right": null,
            "justify_content": null,
            "_view_module": "@jupyter-widgets/base",
            "overflow": null,
            "_model_module_version": "1.2.0",
            "_view_count": null,
            "flex_flow": null,
            "width": null,
            "min_width": null,
            "border": null,
            "align_items": null,
            "bottom": null,
            "_model_module": "@jupyter-widgets/base",
            "top": null,
            "grid_column": null,
            "overflow_y": null,
            "overflow_x": null,
            "grid_auto_flow": null,
            "grid_area": null,
            "grid_template_columns": null,
            "flex": null,
            "_model_name": "LayoutModel",
            "justify_items": null,
            "grid_row": null,
            "max_height": null,
            "align_content": null,
            "visibility": null,
            "align_self": null,
            "height": null,
            "min_height": null,
            "padding": null,
            "grid_auto_rows": null,
            "grid_gap": null,
            "max_width": null,
            "order": null,
            "_view_module_version": "1.2.0",
            "grid_template_areas": null,
            "object_position": null,
            "object_fit": null,
            "grid_auto_columns": null,
            "margin": null,
            "display": null,
            "left": null
          }
        },
        "7e4b4ef2e6844f60a3ed8c3208ca010f": {
          "model_module": "@jupyter-widgets/controls",
          "model_name": "HBoxModel",
          "model_module_version": "1.5.0",
          "state": {
            "_view_name": "HBoxView",
            "_dom_classes": [],
            "_model_name": "HBoxModel",
            "_view_module": "@jupyter-widgets/controls",
            "_model_module_version": "1.5.0",
            "_view_count": null,
            "_view_module_version": "1.5.0",
            "box_style": "",
            "layout": "IPY_MODEL_c006889ba1234fe6b391193cf02137ce",
            "_model_module": "@jupyter-widgets/controls",
            "children": [
              "IPY_MODEL_4dc2a32cf64c41db9171d93b4e53fb4d",
              "IPY_MODEL_c3d8db1f0aa642419a19791f3b04fe84"
            ]
          }
        },
        "c006889ba1234fe6b391193cf02137ce": {
          "model_module": "@jupyter-widgets/base",
          "model_name": "LayoutModel",
          "model_module_version": "1.2.0",
          "state": {
            "_view_name": "LayoutView",
            "grid_template_rows": null,
            "right": null,
            "justify_content": null,
            "_view_module": "@jupyter-widgets/base",
            "overflow": null,
            "_model_module_version": "1.2.0",
            "_view_count": null,
            "flex_flow": null,
            "width": null,
            "min_width": null,
            "border": null,
            "align_items": null,
            "bottom": null,
            "_model_module": "@jupyter-widgets/base",
            "top": null,
            "grid_column": null,
            "overflow_y": null,
            "overflow_x": null,
            "grid_auto_flow": null,
            "grid_area": null,
            "grid_template_columns": null,
            "flex": null,
            "_model_name": "LayoutModel",
            "justify_items": null,
            "grid_row": null,
            "max_height": null,
            "align_content": null,
            "visibility": null,
            "align_self": null,
            "height": null,
            "min_height": null,
            "padding": null,
            "grid_auto_rows": null,
            "grid_gap": null,
            "max_width": null,
            "order": null,
            "_view_module_version": "1.2.0",
            "grid_template_areas": null,
            "object_position": null,
            "object_fit": null,
            "grid_auto_columns": null,
            "margin": null,
            "display": null,
            "left": null
          }
        },
        "4dc2a32cf64c41db9171d93b4e53fb4d": {
          "model_module": "@jupyter-widgets/controls",
          "model_name": "FloatProgressModel",
          "model_module_version": "1.5.0",
          "state": {
            "_view_name": "ProgressView",
            "style": "IPY_MODEL_0fc4d0e629bc4f248cef597b410c2eea",
            "_dom_classes": [],
            "description": "",
            "_model_name": "FloatProgressModel",
            "bar_style": "success",
            "max": 29515,
            "_view_module": "@jupyter-widgets/controls",
            "_model_module_version": "1.5.0",
            "value": 29515,
            "_view_count": null,
            "_view_module_version": "1.5.0",
            "orientation": "horizontal",
            "min": 0,
            "description_tooltip": null,
            "_model_module": "@jupyter-widgets/controls",
            "layout": "IPY_MODEL_aa38b68d73584403a6fd29211930d8c4"
          }
        },
        "c3d8db1f0aa642419a19791f3b04fe84": {
          "model_module": "@jupyter-widgets/controls",
          "model_name": "HTMLModel",
          "model_module_version": "1.5.0",
          "state": {
            "_view_name": "HTMLView",
            "style": "IPY_MODEL_2218105533c84cc794afa12e89655e99",
            "_dom_classes": [],
            "description": "",
            "_model_name": "HTMLModel",
            "placeholder": "​",
            "_view_module": "@jupyter-widgets/controls",
            "_model_module_version": "1.5.0",
            "value": " 29696/? [00:02&lt;00:00, 10688.44it/s]",
            "_view_count": null,
            "_view_module_version": "1.5.0",
            "description_tooltip": null,
            "_model_module": "@jupyter-widgets/controls",
            "layout": "IPY_MODEL_484f95cfc23a4d3baa2a18cda150abd1"
          }
        },
        "0fc4d0e629bc4f248cef597b410c2eea": {
          "model_module": "@jupyter-widgets/controls",
          "model_name": "ProgressStyleModel",
          "model_module_version": "1.5.0",
          "state": {
            "_view_name": "StyleView",
            "_model_name": "ProgressStyleModel",
            "description_width": "initial",
            "_view_module": "@jupyter-widgets/base",
            "_model_module_version": "1.5.0",
            "_view_count": null,
            "_view_module_version": "1.2.0",
            "bar_color": null,
            "_model_module": "@jupyter-widgets/controls"
          }
        },
        "aa38b68d73584403a6fd29211930d8c4": {
          "model_module": "@jupyter-widgets/base",
          "model_name": "LayoutModel",
          "model_module_version": "1.2.0",
          "state": {
            "_view_name": "LayoutView",
            "grid_template_rows": null,
            "right": null,
            "justify_content": null,
            "_view_module": "@jupyter-widgets/base",
            "overflow": null,
            "_model_module_version": "1.2.0",
            "_view_count": null,
            "flex_flow": null,
            "width": null,
            "min_width": null,
            "border": null,
            "align_items": null,
            "bottom": null,
            "_model_module": "@jupyter-widgets/base",
            "top": null,
            "grid_column": null,
            "overflow_y": null,
            "overflow_x": null,
            "grid_auto_flow": null,
            "grid_area": null,
            "grid_template_columns": null,
            "flex": null,
            "_model_name": "LayoutModel",
            "justify_items": null,
            "grid_row": null,
            "max_height": null,
            "align_content": null,
            "visibility": null,
            "align_self": null,
            "height": null,
            "min_height": null,
            "padding": null,
            "grid_auto_rows": null,
            "grid_gap": null,
            "max_width": null,
            "order": null,
            "_view_module_version": "1.2.0",
            "grid_template_areas": null,
            "object_position": null,
            "object_fit": null,
            "grid_auto_columns": null,
            "margin": null,
            "display": null,
            "left": null
          }
        },
        "2218105533c84cc794afa12e89655e99": {
          "model_module": "@jupyter-widgets/controls",
          "model_name": "DescriptionStyleModel",
          "model_module_version": "1.5.0",
          "state": {
            "_view_name": "StyleView",
            "_model_name": "DescriptionStyleModel",
            "description_width": "",
            "_view_module": "@jupyter-widgets/base",
            "_model_module_version": "1.5.0",
            "_view_count": null,
            "_view_module_version": "1.2.0",
            "_model_module": "@jupyter-widgets/controls"
          }
        },
        "484f95cfc23a4d3baa2a18cda150abd1": {
          "model_module": "@jupyter-widgets/base",
          "model_name": "LayoutModel",
          "model_module_version": "1.2.0",
          "state": {
            "_view_name": "LayoutView",
            "grid_template_rows": null,
            "right": null,
            "justify_content": null,
            "_view_module": "@jupyter-widgets/base",
            "overflow": null,
            "_model_module_version": "1.2.0",
            "_view_count": null,
            "flex_flow": null,
            "width": null,
            "min_width": null,
            "border": null,
            "align_items": null,
            "bottom": null,
            "_model_module": "@jupyter-widgets/base",
            "top": null,
            "grid_column": null,
            "overflow_y": null,
            "overflow_x": null,
            "grid_auto_flow": null,
            "grid_area": null,
            "grid_template_columns": null,
            "flex": null,
            "_model_name": "LayoutModel",
            "justify_items": null,
            "grid_row": null,
            "max_height": null,
            "align_content": null,
            "visibility": null,
            "align_self": null,
            "height": null,
            "min_height": null,
            "padding": null,
            "grid_auto_rows": null,
            "grid_gap": null,
            "max_width": null,
            "order": null,
            "_view_module_version": "1.2.0",
            "grid_template_areas": null,
            "object_position": null,
            "object_fit": null,
            "grid_auto_columns": null,
            "margin": null,
            "display": null,
            "left": null
          }
        },
        "1a5cb127400a4debbda4397149da6cd0": {
          "model_module": "@jupyter-widgets/controls",
          "model_name": "HBoxModel",
          "model_module_version": "1.5.0",
          "state": {
            "_view_name": "HBoxView",
            "_dom_classes": [],
            "_model_name": "HBoxModel",
            "_view_module": "@jupyter-widgets/controls",
            "_model_module_version": "1.5.0",
            "_view_count": null,
            "_view_module_version": "1.5.0",
            "box_style": "",
            "layout": "IPY_MODEL_ff8a015c5cbe457997562989f6a1da3b",
            "_model_module": "@jupyter-widgets/controls",
            "children": [
              "IPY_MODEL_fcc73ae9d10746209f0a654eb1e73348",
              "IPY_MODEL_2213ad536f8b48d38db2dbcd69a7aa18"
            ]
          }
        },
        "ff8a015c5cbe457997562989f6a1da3b": {
          "model_module": "@jupyter-widgets/base",
          "model_name": "LayoutModel",
          "model_module_version": "1.2.0",
          "state": {
            "_view_name": "LayoutView",
            "grid_template_rows": null,
            "right": null,
            "justify_content": null,
            "_view_module": "@jupyter-widgets/base",
            "overflow": null,
            "_model_module_version": "1.2.0",
            "_view_count": null,
            "flex_flow": null,
            "width": null,
            "min_width": null,
            "border": null,
            "align_items": null,
            "bottom": null,
            "_model_module": "@jupyter-widgets/base",
            "top": null,
            "grid_column": null,
            "overflow_y": null,
            "overflow_x": null,
            "grid_auto_flow": null,
            "grid_area": null,
            "grid_template_columns": null,
            "flex": null,
            "_model_name": "LayoutModel",
            "justify_items": null,
            "grid_row": null,
            "max_height": null,
            "align_content": null,
            "visibility": null,
            "align_self": null,
            "height": null,
            "min_height": null,
            "padding": null,
            "grid_auto_rows": null,
            "grid_gap": null,
            "max_width": null,
            "order": null,
            "_view_module_version": "1.2.0",
            "grid_template_areas": null,
            "object_position": null,
            "object_fit": null,
            "grid_auto_columns": null,
            "margin": null,
            "display": null,
            "left": null
          }
        },
        "fcc73ae9d10746209f0a654eb1e73348": {
          "model_module": "@jupyter-widgets/controls",
          "model_name": "FloatProgressModel",
          "model_module_version": "1.5.0",
          "state": {
            "_view_name": "ProgressView",
            "style": "IPY_MODEL_1362cf5a8ac943939e75e444d364994a",
            "_dom_classes": [],
            "description": "",
            "_model_name": "FloatProgressModel",
            "bar_style": "success",
            "max": 4422102,
            "_view_module": "@jupyter-widgets/controls",
            "_model_module_version": "1.5.0",
            "value": 4422102,
            "_view_count": null,
            "_view_module_version": "1.5.0",
            "orientation": "horizontal",
            "min": 0,
            "description_tooltip": null,
            "_model_module": "@jupyter-widgets/controls",
            "layout": "IPY_MODEL_3681c855c6da41ce9d786bac6d6afade"
          }
        },
        "2213ad536f8b48d38db2dbcd69a7aa18": {
          "model_module": "@jupyter-widgets/controls",
          "model_name": "HTMLModel",
          "model_module_version": "1.5.0",
          "state": {
            "_view_name": "HTMLView",
            "style": "IPY_MODEL_306867f19d6547eda3ad96ce9049b0e7",
            "_dom_classes": [],
            "description": "",
            "_model_name": "HTMLModel",
            "placeholder": "​",
            "_view_module": "@jupyter-widgets/controls",
            "_model_module_version": "1.5.0",
            "value": " 4422656/? [00:01&lt;00:00, 2300171.87it/s]",
            "_view_count": null,
            "_view_module_version": "1.5.0",
            "description_tooltip": null,
            "_model_module": "@jupyter-widgets/controls",
            "layout": "IPY_MODEL_14d6ea366b394e2ba5b08dfecb6d84d1"
          }
        },
        "1362cf5a8ac943939e75e444d364994a": {
          "model_module": "@jupyter-widgets/controls",
          "model_name": "ProgressStyleModel",
          "model_module_version": "1.5.0",
          "state": {
            "_view_name": "StyleView",
            "_model_name": "ProgressStyleModel",
            "description_width": "initial",
            "_view_module": "@jupyter-widgets/base",
            "_model_module_version": "1.5.0",
            "_view_count": null,
            "_view_module_version": "1.2.0",
            "bar_color": null,
            "_model_module": "@jupyter-widgets/controls"
          }
        },
        "3681c855c6da41ce9d786bac6d6afade": {
          "model_module": "@jupyter-widgets/base",
          "model_name": "LayoutModel",
          "model_module_version": "1.2.0",
          "state": {
            "_view_name": "LayoutView",
            "grid_template_rows": null,
            "right": null,
            "justify_content": null,
            "_view_module": "@jupyter-widgets/base",
            "overflow": null,
            "_model_module_version": "1.2.0",
            "_view_count": null,
            "flex_flow": null,
            "width": null,
            "min_width": null,
            "border": null,
            "align_items": null,
            "bottom": null,
            "_model_module": "@jupyter-widgets/base",
            "top": null,
            "grid_column": null,
            "overflow_y": null,
            "overflow_x": null,
            "grid_auto_flow": null,
            "grid_area": null,
            "grid_template_columns": null,
            "flex": null,
            "_model_name": "LayoutModel",
            "justify_items": null,
            "grid_row": null,
            "max_height": null,
            "align_content": null,
            "visibility": null,
            "align_self": null,
            "height": null,
            "min_height": null,
            "padding": null,
            "grid_auto_rows": null,
            "grid_gap": null,
            "max_width": null,
            "order": null,
            "_view_module_version": "1.2.0",
            "grid_template_areas": null,
            "object_position": null,
            "object_fit": null,
            "grid_auto_columns": null,
            "margin": null,
            "display": null,
            "left": null
          }
        },
        "306867f19d6547eda3ad96ce9049b0e7": {
          "model_module": "@jupyter-widgets/controls",
          "model_name": "DescriptionStyleModel",
          "model_module_version": "1.5.0",
          "state": {
            "_view_name": "StyleView",
            "_model_name": "DescriptionStyleModel",
            "description_width": "",
            "_view_module": "@jupyter-widgets/base",
            "_model_module_version": "1.5.0",
            "_view_count": null,
            "_view_module_version": "1.2.0",
            "_model_module": "@jupyter-widgets/controls"
          }
        },
        "14d6ea366b394e2ba5b08dfecb6d84d1": {
          "model_module": "@jupyter-widgets/base",
          "model_name": "LayoutModel",
          "model_module_version": "1.2.0",
          "state": {
            "_view_name": "LayoutView",
            "grid_template_rows": null,
            "right": null,
            "justify_content": null,
            "_view_module": "@jupyter-widgets/base",
            "overflow": null,
            "_model_module_version": "1.2.0",
            "_view_count": null,
            "flex_flow": null,
            "width": null,
            "min_width": null,
            "border": null,
            "align_items": null,
            "bottom": null,
            "_model_module": "@jupyter-widgets/base",
            "top": null,
            "grid_column": null,
            "overflow_y": null,
            "overflow_x": null,
            "grid_auto_flow": null,
            "grid_area": null,
            "grid_template_columns": null,
            "flex": null,
            "_model_name": "LayoutModel",
            "justify_items": null,
            "grid_row": null,
            "max_height": null,
            "align_content": null,
            "visibility": null,
            "align_self": null,
            "height": null,
            "min_height": null,
            "padding": null,
            "grid_auto_rows": null,
            "grid_gap": null,
            "max_width": null,
            "order": null,
            "_view_module_version": "1.2.0",
            "grid_template_areas": null,
            "object_position": null,
            "object_fit": null,
            "grid_auto_columns": null,
            "margin": null,
            "display": null,
            "left": null
          }
        },
        "d8213673811047f3b1c8cf23c9308a1a": {
          "model_module": "@jupyter-widgets/controls",
          "model_name": "HBoxModel",
          "model_module_version": "1.5.0",
          "state": {
            "_view_name": "HBoxView",
            "_dom_classes": [],
            "_model_name": "HBoxModel",
            "_view_module": "@jupyter-widgets/controls",
            "_model_module_version": "1.5.0",
            "_view_count": null,
            "_view_module_version": "1.5.0",
            "box_style": "",
            "layout": "IPY_MODEL_f5603b225da74c2f90a6f0cdd4ea8746",
            "_model_module": "@jupyter-widgets/controls",
            "children": [
              "IPY_MODEL_228607a844324f66a1f03596a65d285d",
              "IPY_MODEL_f28b39ee1aaf49b498c88318bbd823c0"
            ]
          }
        },
        "f5603b225da74c2f90a6f0cdd4ea8746": {
          "model_module": "@jupyter-widgets/base",
          "model_name": "LayoutModel",
          "model_module_version": "1.2.0",
          "state": {
            "_view_name": "LayoutView",
            "grid_template_rows": null,
            "right": null,
            "justify_content": null,
            "_view_module": "@jupyter-widgets/base",
            "overflow": null,
            "_model_module_version": "1.2.0",
            "_view_count": null,
            "flex_flow": null,
            "width": null,
            "min_width": null,
            "border": null,
            "align_items": null,
            "bottom": null,
            "_model_module": "@jupyter-widgets/base",
            "top": null,
            "grid_column": null,
            "overflow_y": null,
            "overflow_x": null,
            "grid_auto_flow": null,
            "grid_area": null,
            "grid_template_columns": null,
            "flex": null,
            "_model_name": "LayoutModel",
            "justify_items": null,
            "grid_row": null,
            "max_height": null,
            "align_content": null,
            "visibility": null,
            "align_self": null,
            "height": null,
            "min_height": null,
            "padding": null,
            "grid_auto_rows": null,
            "grid_gap": null,
            "max_width": null,
            "order": null,
            "_view_module_version": "1.2.0",
            "grid_template_areas": null,
            "object_position": null,
            "object_fit": null,
            "grid_auto_columns": null,
            "margin": null,
            "display": null,
            "left": null
          }
        },
        "228607a844324f66a1f03596a65d285d": {
          "model_module": "@jupyter-widgets/controls",
          "model_name": "FloatProgressModel",
          "model_module_version": "1.5.0",
          "state": {
            "_view_name": "ProgressView",
            "style": "IPY_MODEL_57bf31c86f3e4397bc5b9d395d164753",
            "_dom_classes": [],
            "description": "",
            "_model_name": "FloatProgressModel",
            "bar_style": "success",
            "max": 5148,
            "_view_module": "@jupyter-widgets/controls",
            "_model_module_version": "1.5.0",
            "value": 5148,
            "_view_count": null,
            "_view_module_version": "1.5.0",
            "orientation": "horizontal",
            "min": 0,
            "description_tooltip": null,
            "_model_module": "@jupyter-widgets/controls",
            "layout": "IPY_MODEL_6a37b9c4c164432fbeafd308755e2d7d"
          }
        },
        "f28b39ee1aaf49b498c88318bbd823c0": {
          "model_module": "@jupyter-widgets/controls",
          "model_name": "HTMLModel",
          "model_module_version": "1.5.0",
          "state": {
            "_view_name": "HTMLView",
            "style": "IPY_MODEL_72c69d4f6ca045a8a3c8b5daf4dc028a",
            "_dom_classes": [],
            "description": "",
            "_model_name": "HTMLModel",
            "placeholder": "​",
            "_view_module": "@jupyter-widgets/controls",
            "_model_module_version": "1.5.0",
            "value": " 6144/? [00:30&lt;00:00, 200.10it/s]",
            "_view_count": null,
            "_view_module_version": "1.5.0",
            "description_tooltip": null,
            "_model_module": "@jupyter-widgets/controls",
            "layout": "IPY_MODEL_87808b91ca5145c08588037ff67b443e"
          }
        },
        "57bf31c86f3e4397bc5b9d395d164753": {
          "model_module": "@jupyter-widgets/controls",
          "model_name": "ProgressStyleModel",
          "model_module_version": "1.5.0",
          "state": {
            "_view_name": "StyleView",
            "_model_name": "ProgressStyleModel",
            "description_width": "initial",
            "_view_module": "@jupyter-widgets/base",
            "_model_module_version": "1.5.0",
            "_view_count": null,
            "_view_module_version": "1.2.0",
            "bar_color": null,
            "_model_module": "@jupyter-widgets/controls"
          }
        },
        "6a37b9c4c164432fbeafd308755e2d7d": {
          "model_module": "@jupyter-widgets/base",
          "model_name": "LayoutModel",
          "model_module_version": "1.2.0",
          "state": {
            "_view_name": "LayoutView",
            "grid_template_rows": null,
            "right": null,
            "justify_content": null,
            "_view_module": "@jupyter-widgets/base",
            "overflow": null,
            "_model_module_version": "1.2.0",
            "_view_count": null,
            "flex_flow": null,
            "width": null,
            "min_width": null,
            "border": null,
            "align_items": null,
            "bottom": null,
            "_model_module": "@jupyter-widgets/base",
            "top": null,
            "grid_column": null,
            "overflow_y": null,
            "overflow_x": null,
            "grid_auto_flow": null,
            "grid_area": null,
            "grid_template_columns": null,
            "flex": null,
            "_model_name": "LayoutModel",
            "justify_items": null,
            "grid_row": null,
            "max_height": null,
            "align_content": null,
            "visibility": null,
            "align_self": null,
            "height": null,
            "min_height": null,
            "padding": null,
            "grid_auto_rows": null,
            "grid_gap": null,
            "max_width": null,
            "order": null,
            "_view_module_version": "1.2.0",
            "grid_template_areas": null,
            "object_position": null,
            "object_fit": null,
            "grid_auto_columns": null,
            "margin": null,
            "display": null,
            "left": null
          }
        },
        "72c69d4f6ca045a8a3c8b5daf4dc028a": {
          "model_module": "@jupyter-widgets/controls",
          "model_name": "DescriptionStyleModel",
          "model_module_version": "1.5.0",
          "state": {
            "_view_name": "StyleView",
            "_model_name": "DescriptionStyleModel",
            "description_width": "",
            "_view_module": "@jupyter-widgets/base",
            "_model_module_version": "1.5.0",
            "_view_count": null,
            "_view_module_version": "1.2.0",
            "_model_module": "@jupyter-widgets/controls"
          }
        },
        "87808b91ca5145c08588037ff67b443e": {
          "model_module": "@jupyter-widgets/base",
          "model_name": "LayoutModel",
          "model_module_version": "1.2.0",
          "state": {
            "_view_name": "LayoutView",
            "grid_template_rows": null,
            "right": null,
            "justify_content": null,
            "_view_module": "@jupyter-widgets/base",
            "overflow": null,
            "_model_module_version": "1.2.0",
            "_view_count": null,
            "flex_flow": null,
            "width": null,
            "min_width": null,
            "border": null,
            "align_items": null,
            "bottom": null,
            "_model_module": "@jupyter-widgets/base",
            "top": null,
            "grid_column": null,
            "overflow_y": null,
            "overflow_x": null,
            "grid_auto_flow": null,
            "grid_area": null,
            "grid_template_columns": null,
            "flex": null,
            "_model_name": "LayoutModel",
            "justify_items": null,
            "grid_row": null,
            "max_height": null,
            "align_content": null,
            "visibility": null,
            "align_self": null,
            "height": null,
            "min_height": null,
            "padding": null,
            "grid_auto_rows": null,
            "grid_gap": null,
            "max_width": null,
            "order": null,
            "_view_module_version": "1.2.0",
            "grid_template_areas": null,
            "object_position": null,
            "object_fit": null,
            "grid_auto_columns": null,
            "margin": null,
            "display": null,
            "left": null
          }
        },
        "3e31e158092642f3bcdb8ad5e71c61d2": {
          "model_module": "@jupyter-widgets/controls",
          "model_name": "HBoxModel",
          "model_module_version": "1.5.0",
          "state": {
            "_view_name": "HBoxView",
            "_dom_classes": [],
            "_model_name": "HBoxModel",
            "_view_module": "@jupyter-widgets/controls",
            "_model_module_version": "1.5.0",
            "_view_count": null,
            "_view_module_version": "1.5.0",
            "box_style": "",
            "layout": "IPY_MODEL_885ff733b013494c8213abf532ea4cfd",
            "_model_module": "@jupyter-widgets/controls",
            "children": [
              "IPY_MODEL_627146edab7043718c8bddf62af9bdda",
              "IPY_MODEL_1331cf821d3a45288b5ac217c5bb5d60"
            ]
          }
        },
        "885ff733b013494c8213abf532ea4cfd": {
          "model_module": "@jupyter-widgets/base",
          "model_name": "LayoutModel",
          "model_module_version": "1.2.0",
          "state": {
            "_view_name": "LayoutView",
            "grid_template_rows": null,
            "right": null,
            "justify_content": null,
            "_view_module": "@jupyter-widgets/base",
            "overflow": null,
            "_model_module_version": "1.2.0",
            "_view_count": null,
            "flex_flow": null,
            "width": null,
            "min_width": null,
            "border": null,
            "align_items": null,
            "bottom": null,
            "_model_module": "@jupyter-widgets/base",
            "top": null,
            "grid_column": null,
            "overflow_y": null,
            "overflow_x": null,
            "grid_auto_flow": null,
            "grid_area": null,
            "grid_template_columns": null,
            "flex": null,
            "_model_name": "LayoutModel",
            "justify_items": null,
            "grid_row": null,
            "max_height": null,
            "align_content": null,
            "visibility": null,
            "align_self": null,
            "height": null,
            "min_height": null,
            "padding": null,
            "grid_auto_rows": null,
            "grid_gap": null,
            "max_width": null,
            "order": null,
            "_view_module_version": "1.2.0",
            "grid_template_areas": null,
            "object_position": null,
            "object_fit": null,
            "grid_auto_columns": null,
            "margin": null,
            "display": null,
            "left": null
          }
        },
        "627146edab7043718c8bddf62af9bdda": {
          "model_module": "@jupyter-widgets/controls",
          "model_name": "FloatProgressModel",
          "model_module_version": "1.5.0",
          "state": {
            "_view_name": "ProgressView",
            "style": "IPY_MODEL_e7f637d6fb2e4fda948ba64e26ec9dd1",
            "_dom_classes": [],
            "description": "",
            "_model_name": "FloatProgressModel",
            "bar_style": "success",
            "max": 9912422,
            "_view_module": "@jupyter-widgets/controls",
            "_model_module_version": "1.5.0",
            "value": 9912422,
            "_view_count": null,
            "_view_module_version": "1.5.0",
            "orientation": "horizontal",
            "min": 0,
            "description_tooltip": null,
            "_model_module": "@jupyter-widgets/controls",
            "layout": "IPY_MODEL_3279d189f04d4203b120e676e93a9ad9"
          }
        },
        "1331cf821d3a45288b5ac217c5bb5d60": {
          "model_module": "@jupyter-widgets/controls",
          "model_name": "HTMLModel",
          "model_module_version": "1.5.0",
          "state": {
            "_view_name": "HTMLView",
            "style": "IPY_MODEL_3ef5dd0899754b45948602638eb23481",
            "_dom_classes": [],
            "description": "",
            "_model_name": "HTMLModel",
            "placeholder": "​",
            "_view_module": "@jupyter-widgets/controls",
            "_model_module_version": "1.5.0",
            "value": " 9913344/? [10:18&lt;00:00, 16018.99it/s]",
            "_view_count": null,
            "_view_module_version": "1.5.0",
            "description_tooltip": null,
            "_model_module": "@jupyter-widgets/controls",
            "layout": "IPY_MODEL_9d851b874d7f4427a7cb003502c1c86a"
          }
        },
        "e7f637d6fb2e4fda948ba64e26ec9dd1": {
          "model_module": "@jupyter-widgets/controls",
          "model_name": "ProgressStyleModel",
          "model_module_version": "1.5.0",
          "state": {
            "_view_name": "StyleView",
            "_model_name": "ProgressStyleModel",
            "description_width": "initial",
            "_view_module": "@jupyter-widgets/base",
            "_model_module_version": "1.5.0",
            "_view_count": null,
            "_view_module_version": "1.2.0",
            "bar_color": null,
            "_model_module": "@jupyter-widgets/controls"
          }
        },
        "3279d189f04d4203b120e676e93a9ad9": {
          "model_module": "@jupyter-widgets/base",
          "model_name": "LayoutModel",
          "model_module_version": "1.2.0",
          "state": {
            "_view_name": "LayoutView",
            "grid_template_rows": null,
            "right": null,
            "justify_content": null,
            "_view_module": "@jupyter-widgets/base",
            "overflow": null,
            "_model_module_version": "1.2.0",
            "_view_count": null,
            "flex_flow": null,
            "width": null,
            "min_width": null,
            "border": null,
            "align_items": null,
            "bottom": null,
            "_model_module": "@jupyter-widgets/base",
            "top": null,
            "grid_column": null,
            "overflow_y": null,
            "overflow_x": null,
            "grid_auto_flow": null,
            "grid_area": null,
            "grid_template_columns": null,
            "flex": null,
            "_model_name": "LayoutModel",
            "justify_items": null,
            "grid_row": null,
            "max_height": null,
            "align_content": null,
            "visibility": null,
            "align_self": null,
            "height": null,
            "min_height": null,
            "padding": null,
            "grid_auto_rows": null,
            "grid_gap": null,
            "max_width": null,
            "order": null,
            "_view_module_version": "1.2.0",
            "grid_template_areas": null,
            "object_position": null,
            "object_fit": null,
            "grid_auto_columns": null,
            "margin": null,
            "display": null,
            "left": null
          }
        },
        "3ef5dd0899754b45948602638eb23481": {
          "model_module": "@jupyter-widgets/controls",
          "model_name": "DescriptionStyleModel",
          "model_module_version": "1.5.0",
          "state": {
            "_view_name": "StyleView",
            "_model_name": "DescriptionStyleModel",
            "description_width": "",
            "_view_module": "@jupyter-widgets/base",
            "_model_module_version": "1.5.0",
            "_view_count": null,
            "_view_module_version": "1.2.0",
            "_model_module": "@jupyter-widgets/controls"
          }
        },
        "9d851b874d7f4427a7cb003502c1c86a": {
          "model_module": "@jupyter-widgets/base",
          "model_name": "LayoutModel",
          "model_module_version": "1.2.0",
          "state": {
            "_view_name": "LayoutView",
            "grid_template_rows": null,
            "right": null,
            "justify_content": null,
            "_view_module": "@jupyter-widgets/base",
            "overflow": null,
            "_model_module_version": "1.2.0",
            "_view_count": null,
            "flex_flow": null,
            "width": null,
            "min_width": null,
            "border": null,
            "align_items": null,
            "bottom": null,
            "_model_module": "@jupyter-widgets/base",
            "top": null,
            "grid_column": null,
            "overflow_y": null,
            "overflow_x": null,
            "grid_auto_flow": null,
            "grid_area": null,
            "grid_template_columns": null,
            "flex": null,
            "_model_name": "LayoutModel",
            "justify_items": null,
            "grid_row": null,
            "max_height": null,
            "align_content": null,
            "visibility": null,
            "align_self": null,
            "height": null,
            "min_height": null,
            "padding": null,
            "grid_auto_rows": null,
            "grid_gap": null,
            "max_width": null,
            "order": null,
            "_view_module_version": "1.2.0",
            "grid_template_areas": null,
            "object_position": null,
            "object_fit": null,
            "grid_auto_columns": null,
            "margin": null,
            "display": null,
            "left": null
          }
        },
        "77d13a2d57034311a9e276805ff39a55": {
          "model_module": "@jupyter-widgets/controls",
          "model_name": "HBoxModel",
          "model_module_version": "1.5.0",
          "state": {
            "_view_name": "HBoxView",
            "_dom_classes": [],
            "_model_name": "HBoxModel",
            "_view_module": "@jupyter-widgets/controls",
            "_model_module_version": "1.5.0",
            "_view_count": null,
            "_view_module_version": "1.5.0",
            "box_style": "",
            "layout": "IPY_MODEL_32ec46c2277b484eb13a83963b733e88",
            "_model_module": "@jupyter-widgets/controls",
            "children": [
              "IPY_MODEL_5f5737e9be554970a006a99f9401324e",
              "IPY_MODEL_b32e656b27cc432cb7cf7dbf8b29c6cd"
            ]
          }
        },
        "32ec46c2277b484eb13a83963b733e88": {
          "model_module": "@jupyter-widgets/base",
          "model_name": "LayoutModel",
          "model_module_version": "1.2.0",
          "state": {
            "_view_name": "LayoutView",
            "grid_template_rows": null,
            "right": null,
            "justify_content": null,
            "_view_module": "@jupyter-widgets/base",
            "overflow": null,
            "_model_module_version": "1.2.0",
            "_view_count": null,
            "flex_flow": null,
            "width": null,
            "min_width": null,
            "border": null,
            "align_items": null,
            "bottom": null,
            "_model_module": "@jupyter-widgets/base",
            "top": null,
            "grid_column": null,
            "overflow_y": null,
            "overflow_x": null,
            "grid_auto_flow": null,
            "grid_area": null,
            "grid_template_columns": null,
            "flex": null,
            "_model_name": "LayoutModel",
            "justify_items": null,
            "grid_row": null,
            "max_height": null,
            "align_content": null,
            "visibility": null,
            "align_self": null,
            "height": null,
            "min_height": null,
            "padding": null,
            "grid_auto_rows": null,
            "grid_gap": null,
            "max_width": null,
            "order": null,
            "_view_module_version": "1.2.0",
            "grid_template_areas": null,
            "object_position": null,
            "object_fit": null,
            "grid_auto_columns": null,
            "margin": null,
            "display": null,
            "left": null
          }
        },
        "5f5737e9be554970a006a99f9401324e": {
          "model_module": "@jupyter-widgets/controls",
          "model_name": "FloatProgressModel",
          "model_module_version": "1.5.0",
          "state": {
            "_view_name": "ProgressView",
            "style": "IPY_MODEL_f5dd7a4f78104d5993c72f13419586a9",
            "_dom_classes": [],
            "description": "",
            "_model_name": "FloatProgressModel",
            "bar_style": "success",
            "max": 28881,
            "_view_module": "@jupyter-widgets/controls",
            "_model_module_version": "1.5.0",
            "value": 28881,
            "_view_count": null,
            "_view_module_version": "1.5.0",
            "orientation": "horizontal",
            "min": 0,
            "description_tooltip": null,
            "_model_module": "@jupyter-widgets/controls",
            "layout": "IPY_MODEL_711b360f286b4cca90f95d6f376f06aa"
          }
        },
        "b32e656b27cc432cb7cf7dbf8b29c6cd": {
          "model_module": "@jupyter-widgets/controls",
          "model_name": "HTMLModel",
          "model_module_version": "1.5.0",
          "state": {
            "_view_name": "HTMLView",
            "style": "IPY_MODEL_e4e766c59dce4bc9a511c73a8f698973",
            "_dom_classes": [],
            "description": "",
            "_model_name": "HTMLModel",
            "placeholder": "​",
            "_view_module": "@jupyter-widgets/controls",
            "_model_module_version": "1.5.0",
            "value": " 29696/? [00:39&lt;00:00, 751.86it/s]",
            "_view_count": null,
            "_view_module_version": "1.5.0",
            "description_tooltip": null,
            "_model_module": "@jupyter-widgets/controls",
            "layout": "IPY_MODEL_a0146d24b50046ae82d4f2c433df1e84"
          }
        },
        "f5dd7a4f78104d5993c72f13419586a9": {
          "model_module": "@jupyter-widgets/controls",
          "model_name": "ProgressStyleModel",
          "model_module_version": "1.5.0",
          "state": {
            "_view_name": "StyleView",
            "_model_name": "ProgressStyleModel",
            "description_width": "initial",
            "_view_module": "@jupyter-widgets/base",
            "_model_module_version": "1.5.0",
            "_view_count": null,
            "_view_module_version": "1.2.0",
            "bar_color": null,
            "_model_module": "@jupyter-widgets/controls"
          }
        },
        "711b360f286b4cca90f95d6f376f06aa": {
          "model_module": "@jupyter-widgets/base",
          "model_name": "LayoutModel",
          "model_module_version": "1.2.0",
          "state": {
            "_view_name": "LayoutView",
            "grid_template_rows": null,
            "right": null,
            "justify_content": null,
            "_view_module": "@jupyter-widgets/base",
            "overflow": null,
            "_model_module_version": "1.2.0",
            "_view_count": null,
            "flex_flow": null,
            "width": null,
            "min_width": null,
            "border": null,
            "align_items": null,
            "bottom": null,
            "_model_module": "@jupyter-widgets/base",
            "top": null,
            "grid_column": null,
            "overflow_y": null,
            "overflow_x": null,
            "grid_auto_flow": null,
            "grid_area": null,
            "grid_template_columns": null,
            "flex": null,
            "_model_name": "LayoutModel",
            "justify_items": null,
            "grid_row": null,
            "max_height": null,
            "align_content": null,
            "visibility": null,
            "align_self": null,
            "height": null,
            "min_height": null,
            "padding": null,
            "grid_auto_rows": null,
            "grid_gap": null,
            "max_width": null,
            "order": null,
            "_view_module_version": "1.2.0",
            "grid_template_areas": null,
            "object_position": null,
            "object_fit": null,
            "grid_auto_columns": null,
            "margin": null,
            "display": null,
            "left": null
          }
        },
        "e4e766c59dce4bc9a511c73a8f698973": {
          "model_module": "@jupyter-widgets/controls",
          "model_name": "DescriptionStyleModel",
          "model_module_version": "1.5.0",
          "state": {
            "_view_name": "StyleView",
            "_model_name": "DescriptionStyleModel",
            "description_width": "",
            "_view_module": "@jupyter-widgets/base",
            "_model_module_version": "1.5.0",
            "_view_count": null,
            "_view_module_version": "1.2.0",
            "_model_module": "@jupyter-widgets/controls"
          }
        },
        "a0146d24b50046ae82d4f2c433df1e84": {
          "model_module": "@jupyter-widgets/base",
          "model_name": "LayoutModel",
          "model_module_version": "1.2.0",
          "state": {
            "_view_name": "LayoutView",
            "grid_template_rows": null,
            "right": null,
            "justify_content": null,
            "_view_module": "@jupyter-widgets/base",
            "overflow": null,
            "_model_module_version": "1.2.0",
            "_view_count": null,
            "flex_flow": null,
            "width": null,
            "min_width": null,
            "border": null,
            "align_items": null,
            "bottom": null,
            "_model_module": "@jupyter-widgets/base",
            "top": null,
            "grid_column": null,
            "overflow_y": null,
            "overflow_x": null,
            "grid_auto_flow": null,
            "grid_area": null,
            "grid_template_columns": null,
            "flex": null,
            "_model_name": "LayoutModel",
            "justify_items": null,
            "grid_row": null,
            "max_height": null,
            "align_content": null,
            "visibility": null,
            "align_self": null,
            "height": null,
            "min_height": null,
            "padding": null,
            "grid_auto_rows": null,
            "grid_gap": null,
            "max_width": null,
            "order": null,
            "_view_module_version": "1.2.0",
            "grid_template_areas": null,
            "object_position": null,
            "object_fit": null,
            "grid_auto_columns": null,
            "margin": null,
            "display": null,
            "left": null
          }
        },
        "dbd8a7b4c17b4a1497f4a691406c6522": {
          "model_module": "@jupyter-widgets/controls",
          "model_name": "HBoxModel",
          "model_module_version": "1.5.0",
          "state": {
            "_view_name": "HBoxView",
            "_dom_classes": [],
            "_model_name": "HBoxModel",
            "_view_module": "@jupyter-widgets/controls",
            "_model_module_version": "1.5.0",
            "_view_count": null,
            "_view_module_version": "1.5.0",
            "box_style": "",
            "layout": "IPY_MODEL_97c2d0b461c44b23ae77c8945f751c07",
            "_model_module": "@jupyter-widgets/controls",
            "children": [
              "IPY_MODEL_eebf5fc8f70640f8ba3f5856052e709d",
              "IPY_MODEL_941c8212f52142ed9c77c54328645ca8"
            ]
          }
        },
        "97c2d0b461c44b23ae77c8945f751c07": {
          "model_module": "@jupyter-widgets/base",
          "model_name": "LayoutModel",
          "model_module_version": "1.2.0",
          "state": {
            "_view_name": "LayoutView",
            "grid_template_rows": null,
            "right": null,
            "justify_content": null,
            "_view_module": "@jupyter-widgets/base",
            "overflow": null,
            "_model_module_version": "1.2.0",
            "_view_count": null,
            "flex_flow": null,
            "width": null,
            "min_width": null,
            "border": null,
            "align_items": null,
            "bottom": null,
            "_model_module": "@jupyter-widgets/base",
            "top": null,
            "grid_column": null,
            "overflow_y": null,
            "overflow_x": null,
            "grid_auto_flow": null,
            "grid_area": null,
            "grid_template_columns": null,
            "flex": null,
            "_model_name": "LayoutModel",
            "justify_items": null,
            "grid_row": null,
            "max_height": null,
            "align_content": null,
            "visibility": null,
            "align_self": null,
            "height": null,
            "min_height": null,
            "padding": null,
            "grid_auto_rows": null,
            "grid_gap": null,
            "max_width": null,
            "order": null,
            "_view_module_version": "1.2.0",
            "grid_template_areas": null,
            "object_position": null,
            "object_fit": null,
            "grid_auto_columns": null,
            "margin": null,
            "display": null,
            "left": null
          }
        },
        "eebf5fc8f70640f8ba3f5856052e709d": {
          "model_module": "@jupyter-widgets/controls",
          "model_name": "FloatProgressModel",
          "model_module_version": "1.5.0",
          "state": {
            "_view_name": "ProgressView",
            "style": "IPY_MODEL_a2e362809e7047b1851d53f1429df437",
            "_dom_classes": [],
            "description": "",
            "_model_name": "FloatProgressModel",
            "bar_style": "success",
            "max": 1648877,
            "_view_module": "@jupyter-widgets/controls",
            "_model_module_version": "1.5.0",
            "value": 1648877,
            "_view_count": null,
            "_view_module_version": "1.5.0",
            "orientation": "horizontal",
            "min": 0,
            "description_tooltip": null,
            "_model_module": "@jupyter-widgets/controls",
            "layout": "IPY_MODEL_4e8dae2e0d6642abb291f3acfde79b06"
          }
        },
        "941c8212f52142ed9c77c54328645ca8": {
          "model_module": "@jupyter-widgets/controls",
          "model_name": "HTMLModel",
          "model_module_version": "1.5.0",
          "state": {
            "_view_name": "HTMLView",
            "style": "IPY_MODEL_594e1ba664844a60b6c8a091e68682da",
            "_dom_classes": [],
            "description": "",
            "_model_name": "HTMLModel",
            "placeholder": "​",
            "_view_module": "@jupyter-widgets/controls",
            "_model_module_version": "1.5.0",
            "value": " 1649664/? [00:39&lt;00:00, 42221.62it/s]",
            "_view_count": null,
            "_view_module_version": "1.5.0",
            "description_tooltip": null,
            "_model_module": "@jupyter-widgets/controls",
            "layout": "IPY_MODEL_67446eb59b694dd1ae98d119d19a2a42"
          }
        },
        "a2e362809e7047b1851d53f1429df437": {
          "model_module": "@jupyter-widgets/controls",
          "model_name": "ProgressStyleModel",
          "model_module_version": "1.5.0",
          "state": {
            "_view_name": "StyleView",
            "_model_name": "ProgressStyleModel",
            "description_width": "initial",
            "_view_module": "@jupyter-widgets/base",
            "_model_module_version": "1.5.0",
            "_view_count": null,
            "_view_module_version": "1.2.0",
            "bar_color": null,
            "_model_module": "@jupyter-widgets/controls"
          }
        },
        "4e8dae2e0d6642abb291f3acfde79b06": {
          "model_module": "@jupyter-widgets/base",
          "model_name": "LayoutModel",
          "model_module_version": "1.2.0",
          "state": {
            "_view_name": "LayoutView",
            "grid_template_rows": null,
            "right": null,
            "justify_content": null,
            "_view_module": "@jupyter-widgets/base",
            "overflow": null,
            "_model_module_version": "1.2.0",
            "_view_count": null,
            "flex_flow": null,
            "width": null,
            "min_width": null,
            "border": null,
            "align_items": null,
            "bottom": null,
            "_model_module": "@jupyter-widgets/base",
            "top": null,
            "grid_column": null,
            "overflow_y": null,
            "overflow_x": null,
            "grid_auto_flow": null,
            "grid_area": null,
            "grid_template_columns": null,
            "flex": null,
            "_model_name": "LayoutModel",
            "justify_items": null,
            "grid_row": null,
            "max_height": null,
            "align_content": null,
            "visibility": null,
            "align_self": null,
            "height": null,
            "min_height": null,
            "padding": null,
            "grid_auto_rows": null,
            "grid_gap": null,
            "max_width": null,
            "order": null,
            "_view_module_version": "1.2.0",
            "grid_template_areas": null,
            "object_position": null,
            "object_fit": null,
            "grid_auto_columns": null,
            "margin": null,
            "display": null,
            "left": null
          }
        },
        "594e1ba664844a60b6c8a091e68682da": {
          "model_module": "@jupyter-widgets/controls",
          "model_name": "DescriptionStyleModel",
          "model_module_version": "1.5.0",
          "state": {
            "_view_name": "StyleView",
            "_model_name": "DescriptionStyleModel",
            "description_width": "",
            "_view_module": "@jupyter-widgets/base",
            "_model_module_version": "1.5.0",
            "_view_count": null,
            "_view_module_version": "1.2.0",
            "_model_module": "@jupyter-widgets/controls"
          }
        },
        "67446eb59b694dd1ae98d119d19a2a42": {
          "model_module": "@jupyter-widgets/base",
          "model_name": "LayoutModel",
          "model_module_version": "1.2.0",
          "state": {
            "_view_name": "LayoutView",
            "grid_template_rows": null,
            "right": null,
            "justify_content": null,
            "_view_module": "@jupyter-widgets/base",
            "overflow": null,
            "_model_module_version": "1.2.0",
            "_view_count": null,
            "flex_flow": null,
            "width": null,
            "min_width": null,
            "border": null,
            "align_items": null,
            "bottom": null,
            "_model_module": "@jupyter-widgets/base",
            "top": null,
            "grid_column": null,
            "overflow_y": null,
            "overflow_x": null,
            "grid_auto_flow": null,
            "grid_area": null,
            "grid_template_columns": null,
            "flex": null,
            "_model_name": "LayoutModel",
            "justify_items": null,
            "grid_row": null,
            "max_height": null,
            "align_content": null,
            "visibility": null,
            "align_self": null,
            "height": null,
            "min_height": null,
            "padding": null,
            "grid_auto_rows": null,
            "grid_gap": null,
            "max_width": null,
            "order": null,
            "_view_module_version": "1.2.0",
            "grid_template_areas": null,
            "object_position": null,
            "object_fit": null,
            "grid_auto_columns": null,
            "margin": null,
            "display": null,
            "left": null
          }
        },
        "a923b4478b89400ba92d13a07d7505b1": {
          "model_module": "@jupyter-widgets/controls",
          "model_name": "HBoxModel",
          "model_module_version": "1.5.0",
          "state": {
            "_view_name": "HBoxView",
            "_dom_classes": [],
            "_model_name": "HBoxModel",
            "_view_module": "@jupyter-widgets/controls",
            "_model_module_version": "1.5.0",
            "_view_count": null,
            "_view_module_version": "1.5.0",
            "box_style": "",
            "layout": "IPY_MODEL_677662d86bda446594ac58886885712e",
            "_model_module": "@jupyter-widgets/controls",
            "children": [
              "IPY_MODEL_25157dbec7b74c388c90c8d24d8d9557",
              "IPY_MODEL_06dbb996b0a34f03b36264a122f1adef"
            ]
          }
        },
        "677662d86bda446594ac58886885712e": {
          "model_module": "@jupyter-widgets/base",
          "model_name": "LayoutModel",
          "model_module_version": "1.2.0",
          "state": {
            "_view_name": "LayoutView",
            "grid_template_rows": null,
            "right": null,
            "justify_content": null,
            "_view_module": "@jupyter-widgets/base",
            "overflow": null,
            "_model_module_version": "1.2.0",
            "_view_count": null,
            "flex_flow": null,
            "width": null,
            "min_width": null,
            "border": null,
            "align_items": null,
            "bottom": null,
            "_model_module": "@jupyter-widgets/base",
            "top": null,
            "grid_column": null,
            "overflow_y": null,
            "overflow_x": null,
            "grid_auto_flow": null,
            "grid_area": null,
            "grid_template_columns": null,
            "flex": null,
            "_model_name": "LayoutModel",
            "justify_items": null,
            "grid_row": null,
            "max_height": null,
            "align_content": null,
            "visibility": null,
            "align_self": null,
            "height": null,
            "min_height": null,
            "padding": null,
            "grid_auto_rows": null,
            "grid_gap": null,
            "max_width": null,
            "order": null,
            "_view_module_version": "1.2.0",
            "grid_template_areas": null,
            "object_position": null,
            "object_fit": null,
            "grid_auto_columns": null,
            "margin": null,
            "display": null,
            "left": null
          }
        },
        "25157dbec7b74c388c90c8d24d8d9557": {
          "model_module": "@jupyter-widgets/controls",
          "model_name": "FloatProgressModel",
          "model_module_version": "1.5.0",
          "state": {
            "_view_name": "ProgressView",
            "style": "IPY_MODEL_df5800853d8743629e7b0862e3e93795",
            "_dom_classes": [],
            "description": "",
            "_model_name": "FloatProgressModel",
            "bar_style": "success",
            "max": 4542,
            "_view_module": "@jupyter-widgets/controls",
            "_model_module_version": "1.5.0",
            "value": 4542,
            "_view_count": null,
            "_view_module_version": "1.5.0",
            "orientation": "horizontal",
            "min": 0,
            "description_tooltip": null,
            "_model_module": "@jupyter-widgets/controls",
            "layout": "IPY_MODEL_c94749bbb72049238c7f631b1cbf013e"
          }
        },
        "06dbb996b0a34f03b36264a122f1adef": {
          "model_module": "@jupyter-widgets/controls",
          "model_name": "HTMLModel",
          "model_module_version": "1.5.0",
          "state": {
            "_view_name": "HTMLView",
            "style": "IPY_MODEL_05a3027c2e15439cb4b7c665a002c85a",
            "_dom_classes": [],
            "description": "",
            "_model_name": "HTMLModel",
            "placeholder": "​",
            "_view_module": "@jupyter-widgets/controls",
            "_model_module_version": "1.5.0",
            "value": " 5120/? [00:02&lt;00:00, 1815.62it/s]",
            "_view_count": null,
            "_view_module_version": "1.5.0",
            "description_tooltip": null,
            "_model_module": "@jupyter-widgets/controls",
            "layout": "IPY_MODEL_cb07e800bae648cc878d1a04372d042e"
          }
        },
        "df5800853d8743629e7b0862e3e93795": {
          "model_module": "@jupyter-widgets/controls",
          "model_name": "ProgressStyleModel",
          "model_module_version": "1.5.0",
          "state": {
            "_view_name": "StyleView",
            "_model_name": "ProgressStyleModel",
            "description_width": "initial",
            "_view_module": "@jupyter-widgets/base",
            "_model_module_version": "1.5.0",
            "_view_count": null,
            "_view_module_version": "1.2.0",
            "bar_color": null,
            "_model_module": "@jupyter-widgets/controls"
          }
        },
        "c94749bbb72049238c7f631b1cbf013e": {
          "model_module": "@jupyter-widgets/base",
          "model_name": "LayoutModel",
          "model_module_version": "1.2.0",
          "state": {
            "_view_name": "LayoutView",
            "grid_template_rows": null,
            "right": null,
            "justify_content": null,
            "_view_module": "@jupyter-widgets/base",
            "overflow": null,
            "_model_module_version": "1.2.0",
            "_view_count": null,
            "flex_flow": null,
            "width": null,
            "min_width": null,
            "border": null,
            "align_items": null,
            "bottom": null,
            "_model_module": "@jupyter-widgets/base",
            "top": null,
            "grid_column": null,
            "overflow_y": null,
            "overflow_x": null,
            "grid_auto_flow": null,
            "grid_area": null,
            "grid_template_columns": null,
            "flex": null,
            "_model_name": "LayoutModel",
            "justify_items": null,
            "grid_row": null,
            "max_height": null,
            "align_content": null,
            "visibility": null,
            "align_self": null,
            "height": null,
            "min_height": null,
            "padding": null,
            "grid_auto_rows": null,
            "grid_gap": null,
            "max_width": null,
            "order": null,
            "_view_module_version": "1.2.0",
            "grid_template_areas": null,
            "object_position": null,
            "object_fit": null,
            "grid_auto_columns": null,
            "margin": null,
            "display": null,
            "left": null
          }
        },
        "05a3027c2e15439cb4b7c665a002c85a": {
          "model_module": "@jupyter-widgets/controls",
          "model_name": "DescriptionStyleModel",
          "model_module_version": "1.5.0",
          "state": {
            "_view_name": "StyleView",
            "_model_name": "DescriptionStyleModel",
            "description_width": "",
            "_view_module": "@jupyter-widgets/base",
            "_model_module_version": "1.5.0",
            "_view_count": null,
            "_view_module_version": "1.2.0",
            "_model_module": "@jupyter-widgets/controls"
          }
        },
        "cb07e800bae648cc878d1a04372d042e": {
          "model_module": "@jupyter-widgets/base",
          "model_name": "LayoutModel",
          "model_module_version": "1.2.0",
          "state": {
            "_view_name": "LayoutView",
            "grid_template_rows": null,
            "right": null,
            "justify_content": null,
            "_view_module": "@jupyter-widgets/base",
            "overflow": null,
            "_model_module_version": "1.2.0",
            "_view_count": null,
            "flex_flow": null,
            "width": null,
            "min_width": null,
            "border": null,
            "align_items": null,
            "bottom": null,
            "_model_module": "@jupyter-widgets/base",
            "top": null,
            "grid_column": null,
            "overflow_y": null,
            "overflow_x": null,
            "grid_auto_flow": null,
            "grid_area": null,
            "grid_template_columns": null,
            "flex": null,
            "_model_name": "LayoutModel",
            "justify_items": null,
            "grid_row": null,
            "max_height": null,
            "align_content": null,
            "visibility": null,
            "align_self": null,
            "height": null,
            "min_height": null,
            "padding": null,
            "grid_auto_rows": null,
            "grid_gap": null,
            "max_width": null,
            "order": null,
            "_view_module_version": "1.2.0",
            "grid_template_areas": null,
            "object_position": null,
            "object_fit": null,
            "grid_auto_columns": null,
            "margin": null,
            "display": null,
            "left": null
          }
        },
        "f1d0f8f3f1164baba55b66e31af2a626": {
          "model_module": "@jupyter-widgets/controls",
          "model_name": "HBoxModel",
          "model_module_version": "1.5.0",
          "state": {
            "_view_name": "HBoxView",
            "_dom_classes": [],
            "_model_name": "HBoxModel",
            "_view_module": "@jupyter-widgets/controls",
            "_model_module_version": "1.5.0",
            "_view_count": null,
            "_view_module_version": "1.5.0",
            "box_style": "",
            "layout": "IPY_MODEL_3624f825204a44c6b6f33ca37625b929",
            "_model_module": "@jupyter-widgets/controls",
            "children": [
              "IPY_MODEL_d15a105b8d0641978a501bac3a92edbe",
              "IPY_MODEL_b433038fe53449689187eabf789be0a7"
            ]
          }
        },
        "3624f825204a44c6b6f33ca37625b929": {
          "model_module": "@jupyter-widgets/base",
          "model_name": "LayoutModel",
          "model_module_version": "1.2.0",
          "state": {
            "_view_name": "LayoutView",
            "grid_template_rows": null,
            "right": null,
            "justify_content": null,
            "_view_module": "@jupyter-widgets/base",
            "overflow": null,
            "_model_module_version": "1.2.0",
            "_view_count": null,
            "flex_flow": null,
            "width": null,
            "min_width": null,
            "border": null,
            "align_items": null,
            "bottom": null,
            "_model_module": "@jupyter-widgets/base",
            "top": null,
            "grid_column": null,
            "overflow_y": null,
            "overflow_x": null,
            "grid_auto_flow": null,
            "grid_area": null,
            "grid_template_columns": null,
            "flex": null,
            "_model_name": "LayoutModel",
            "justify_items": null,
            "grid_row": null,
            "max_height": null,
            "align_content": null,
            "visibility": null,
            "align_self": null,
            "height": null,
            "min_height": null,
            "padding": null,
            "grid_auto_rows": null,
            "grid_gap": null,
            "max_width": null,
            "order": null,
            "_view_module_version": "1.2.0",
            "grid_template_areas": null,
            "object_position": null,
            "object_fit": null,
            "grid_auto_columns": null,
            "margin": null,
            "display": null,
            "left": null
          }
        },
        "d15a105b8d0641978a501bac3a92edbe": {
          "model_module": "@jupyter-widgets/controls",
          "model_name": "FloatProgressModel",
          "model_module_version": "1.5.0",
          "state": {
            "_view_name": "ProgressView",
            "style": "IPY_MODEL_b035554a3783490fbb9dbe5aca3476b7",
            "_dom_classes": [],
            "description": "",
            "_model_name": "FloatProgressModel",
            "bar_style": "success",
            "max": 170498071,
            "_view_module": "@jupyter-widgets/controls",
            "_model_module_version": "1.5.0",
            "value": 170498071,
            "_view_count": null,
            "_view_module_version": "1.5.0",
            "orientation": "horizontal",
            "min": 0,
            "description_tooltip": null,
            "_model_module": "@jupyter-widgets/controls",
            "layout": "IPY_MODEL_12429eda07c84595885c816322eca490"
          }
        },
        "b433038fe53449689187eabf789be0a7": {
          "model_module": "@jupyter-widgets/controls",
          "model_name": "HTMLModel",
          "model_module_version": "1.5.0",
          "state": {
            "_view_name": "HTMLView",
            "style": "IPY_MODEL_ef642326a6ca4b529513fda397682c48",
            "_dom_classes": [],
            "description": "",
            "_model_name": "HTMLModel",
            "placeholder": "​",
            "_view_module": "@jupyter-widgets/controls",
            "_model_module_version": "1.5.0",
            "value": " 170499072/? [00:10&lt;00:00, 15737423.54it/s]",
            "_view_count": null,
            "_view_module_version": "1.5.0",
            "description_tooltip": null,
            "_model_module": "@jupyter-widgets/controls",
            "layout": "IPY_MODEL_b4dcf79c2d214c3595778c5ee205125a"
          }
        },
        "b035554a3783490fbb9dbe5aca3476b7": {
          "model_module": "@jupyter-widgets/controls",
          "model_name": "ProgressStyleModel",
          "model_module_version": "1.5.0",
          "state": {
            "_view_name": "StyleView",
            "_model_name": "ProgressStyleModel",
            "description_width": "initial",
            "_view_module": "@jupyter-widgets/base",
            "_model_module_version": "1.5.0",
            "_view_count": null,
            "_view_module_version": "1.2.0",
            "bar_color": null,
            "_model_module": "@jupyter-widgets/controls"
          }
        },
        "12429eda07c84595885c816322eca490": {
          "model_module": "@jupyter-widgets/base",
          "model_name": "LayoutModel",
          "model_module_version": "1.2.0",
          "state": {
            "_view_name": "LayoutView",
            "grid_template_rows": null,
            "right": null,
            "justify_content": null,
            "_view_module": "@jupyter-widgets/base",
            "overflow": null,
            "_model_module_version": "1.2.0",
            "_view_count": null,
            "flex_flow": null,
            "width": null,
            "min_width": null,
            "border": null,
            "align_items": null,
            "bottom": null,
            "_model_module": "@jupyter-widgets/base",
            "top": null,
            "grid_column": null,
            "overflow_y": null,
            "overflow_x": null,
            "grid_auto_flow": null,
            "grid_area": null,
            "grid_template_columns": null,
            "flex": null,
            "_model_name": "LayoutModel",
            "justify_items": null,
            "grid_row": null,
            "max_height": null,
            "align_content": null,
            "visibility": null,
            "align_self": null,
            "height": null,
            "min_height": null,
            "padding": null,
            "grid_auto_rows": null,
            "grid_gap": null,
            "max_width": null,
            "order": null,
            "_view_module_version": "1.2.0",
            "grid_template_areas": null,
            "object_position": null,
            "object_fit": null,
            "grid_auto_columns": null,
            "margin": null,
            "display": null,
            "left": null
          }
        },
        "ef642326a6ca4b529513fda397682c48": {
          "model_module": "@jupyter-widgets/controls",
          "model_name": "DescriptionStyleModel",
          "model_module_version": "1.5.0",
          "state": {
            "_view_name": "StyleView",
            "_model_name": "DescriptionStyleModel",
            "description_width": "",
            "_view_module": "@jupyter-widgets/base",
            "_model_module_version": "1.5.0",
            "_view_count": null,
            "_view_module_version": "1.2.0",
            "_model_module": "@jupyter-widgets/controls"
          }
        },
        "b4dcf79c2d214c3595778c5ee205125a": {
          "model_module": "@jupyter-widgets/base",
          "model_name": "LayoutModel",
          "model_module_version": "1.2.0",
          "state": {
            "_view_name": "LayoutView",
            "grid_template_rows": null,
            "right": null,
            "justify_content": null,
            "_view_module": "@jupyter-widgets/base",
            "overflow": null,
            "_model_module_version": "1.2.0",
            "_view_count": null,
            "flex_flow": null,
            "width": null,
            "min_width": null,
            "border": null,
            "align_items": null,
            "bottom": null,
            "_model_module": "@jupyter-widgets/base",
            "top": null,
            "grid_column": null,
            "overflow_y": null,
            "overflow_x": null,
            "grid_auto_flow": null,
            "grid_area": null,
            "grid_template_columns": null,
            "flex": null,
            "_model_name": "LayoutModel",
            "justify_items": null,
            "grid_row": null,
            "max_height": null,
            "align_content": null,
            "visibility": null,
            "align_self": null,
            "height": null,
            "min_height": null,
            "padding": null,
            "grid_auto_rows": null,
            "grid_gap": null,
            "max_width": null,
            "order": null,
            "_view_module_version": "1.2.0",
            "grid_template_areas": null,
            "object_position": null,
            "object_fit": null,
            "grid_auto_columns": null,
            "margin": null,
            "display": null,
            "left": null
          }
        }
      }
    }
  },
  "cells": [
    {
      "cell_type": "markdown",
      "metadata": {
        "id": "view-in-github",
        "colab_type": "text"
      },
      "source": [
        "<a href=\"https://colab.research.google.com/github/owl1753/A.I_sojon/blob/main/20210810_A_I_sojon.ipynb\" target=\"_parent\"><img src=\"https://colab.research.google.com/assets/colab-badge.svg\" alt=\"Open In Colab\"/></a>"
      ]
    },
    {
      "cell_type": "code",
      "metadata": {
        "id": "1_AQ5Bn0MoeA"
      },
      "source": [
        "import numpy as np\n",
        "import torch"
      ],
      "execution_count": null,
      "outputs": []
    },
    {
      "cell_type": "code",
      "metadata": {
        "colab": {
          "base_uri": "https://localhost:8080/"
        },
        "id": "sdn_2_n4M7a3",
        "outputId": "7945fc4a-ff49-4354-fe50-f0f0c850e7c2"
      },
      "source": [
        "# torch.cuda.is_available()를 통해 현재 시스템의 상태를 인식, 지정하면 GPU또는 CPU를 상황에 맞게 적용할 수 있다.\n",
        "# device='cuda' 또는 device='cuda:0'와 같은 방법으로 직접 지정할 수 있다. (0: GPU의 Index)\n",
        "\n",
        "USE_CUDA = torch.cuda.is_available()\n",
        "DEVICE = torch.device(\"cuda\" if USE_CUDA else \"cpu\")\n",
        "print(DEVICE)"
      ],
      "execution_count": null,
      "outputs": [
        {
          "output_type": "stream",
          "text": [
            "cuda\n"
          ],
          "name": "stdout"
        }
      ]
    },
    {
      "cell_type": "code",
      "metadata": {
        "colab": {
          "base_uri": "https://localhost:8080/"
        },
        "id": "33oCon5_N80e",
        "outputId": "47400efc-92fb-4b4e-e8c1-067ef6d111d5"
      },
      "source": [
        "# 중첩 list를 지정\n",
        "t = torch.tensor([[1, 2], [3, 4.]])\n",
        "print(t)\n",
        "\n",
        "# device를 지정하면 GPU로 Tensor를 만들 수 있다\n",
        "t = torch.tensor([[1, 2], [3, 4.]], device='cuda')\n",
        "print(t)\n",
        "\n",
        "# dtype을 사용해 데이터형을 지정해 Tensor를 만들 수 있다\n",
        "t = torch.tensor([[1, 2], [3, 4.]], dtype=torch.float64)\n",
        "print(t)"
      ],
      "execution_count": null,
      "outputs": [
        {
          "output_type": "stream",
          "text": [
            "tensor([[1., 2.],\n",
            "        [3., 4.]])\n",
            "tensor([[1., 2.],\n",
            "        [3., 4.]], device='cuda:0')\n",
            "tensor([[1., 2.],\n",
            "        [3., 4.]], dtype=torch.float64)\n"
          ],
          "name": "stdout"
        }
      ]
    },
    {
      "cell_type": "code",
      "metadata": {
        "colab": {
          "base_uri": "https://localhost:8080/"
        },
        "id": "44DEg5SROToH",
        "outputId": "5751e3da-4d07-4145-ff3b-ac3bdbe1c3f3"
      },
      "source": [
        "# 0부터 9까지의 수치로 초기화된 1차원 Tensor\n",
        "t = torch.arange(0, 10)\n",
        "print(t)"
      ],
      "execution_count": null,
      "outputs": [
        {
          "output_type": "stream",
          "text": [
            "tensor([0, 1, 2, 3, 4, 5, 6, 7, 8, 9])\n"
          ],
          "name": "stdout"
        }
      ]
    },
    {
      "cell_type": "code",
      "metadata": {
        "colab": {
          "base_uri": "https://localhost:8080/"
        },
        "id": "a9GIbIvdOV5H",
        "outputId": "fbfb7b64-ac56-4b02-a132-0352fdf3b976"
      },
      "source": [
        "#모든 값이 0인 100 x 10 의 Tensor를 작성해서 to메서드로 GPU에 전송\n",
        "if DEVICE == 'cuda':\n",
        "  t = torch.zeros(100, 10).to(\"cuda:0\")\n",
        "else:\n",
        "  t = torch.zeros(100, 10)\n",
        "\n",
        "print(t)"
      ],
      "execution_count": null,
      "outputs": [
        {
          "output_type": "stream",
          "text": [
            "tensor([[0., 0., 0., 0., 0., 0., 0., 0., 0., 0.],\n",
            "        [0., 0., 0., 0., 0., 0., 0., 0., 0., 0.],\n",
            "        [0., 0., 0., 0., 0., 0., 0., 0., 0., 0.],\n",
            "        [0., 0., 0., 0., 0., 0., 0., 0., 0., 0.],\n",
            "        [0., 0., 0., 0., 0., 0., 0., 0., 0., 0.],\n",
            "        [0., 0., 0., 0., 0., 0., 0., 0., 0., 0.],\n",
            "        [0., 0., 0., 0., 0., 0., 0., 0., 0., 0.],\n",
            "        [0., 0., 0., 0., 0., 0., 0., 0., 0., 0.],\n",
            "        [0., 0., 0., 0., 0., 0., 0., 0., 0., 0.],\n",
            "        [0., 0., 0., 0., 0., 0., 0., 0., 0., 0.],\n",
            "        [0., 0., 0., 0., 0., 0., 0., 0., 0., 0.],\n",
            "        [0., 0., 0., 0., 0., 0., 0., 0., 0., 0.],\n",
            "        [0., 0., 0., 0., 0., 0., 0., 0., 0., 0.],\n",
            "        [0., 0., 0., 0., 0., 0., 0., 0., 0., 0.],\n",
            "        [0., 0., 0., 0., 0., 0., 0., 0., 0., 0.],\n",
            "        [0., 0., 0., 0., 0., 0., 0., 0., 0., 0.],\n",
            "        [0., 0., 0., 0., 0., 0., 0., 0., 0., 0.],\n",
            "        [0., 0., 0., 0., 0., 0., 0., 0., 0., 0.],\n",
            "        [0., 0., 0., 0., 0., 0., 0., 0., 0., 0.],\n",
            "        [0., 0., 0., 0., 0., 0., 0., 0., 0., 0.],\n",
            "        [0., 0., 0., 0., 0., 0., 0., 0., 0., 0.],\n",
            "        [0., 0., 0., 0., 0., 0., 0., 0., 0., 0.],\n",
            "        [0., 0., 0., 0., 0., 0., 0., 0., 0., 0.],\n",
            "        [0., 0., 0., 0., 0., 0., 0., 0., 0., 0.],\n",
            "        [0., 0., 0., 0., 0., 0., 0., 0., 0., 0.],\n",
            "        [0., 0., 0., 0., 0., 0., 0., 0., 0., 0.],\n",
            "        [0., 0., 0., 0., 0., 0., 0., 0., 0., 0.],\n",
            "        [0., 0., 0., 0., 0., 0., 0., 0., 0., 0.],\n",
            "        [0., 0., 0., 0., 0., 0., 0., 0., 0., 0.],\n",
            "        [0., 0., 0., 0., 0., 0., 0., 0., 0., 0.],\n",
            "        [0., 0., 0., 0., 0., 0., 0., 0., 0., 0.],\n",
            "        [0., 0., 0., 0., 0., 0., 0., 0., 0., 0.],\n",
            "        [0., 0., 0., 0., 0., 0., 0., 0., 0., 0.],\n",
            "        [0., 0., 0., 0., 0., 0., 0., 0., 0., 0.],\n",
            "        [0., 0., 0., 0., 0., 0., 0., 0., 0., 0.],\n",
            "        [0., 0., 0., 0., 0., 0., 0., 0., 0., 0.],\n",
            "        [0., 0., 0., 0., 0., 0., 0., 0., 0., 0.],\n",
            "        [0., 0., 0., 0., 0., 0., 0., 0., 0., 0.],\n",
            "        [0., 0., 0., 0., 0., 0., 0., 0., 0., 0.],\n",
            "        [0., 0., 0., 0., 0., 0., 0., 0., 0., 0.],\n",
            "        [0., 0., 0., 0., 0., 0., 0., 0., 0., 0.],\n",
            "        [0., 0., 0., 0., 0., 0., 0., 0., 0., 0.],\n",
            "        [0., 0., 0., 0., 0., 0., 0., 0., 0., 0.],\n",
            "        [0., 0., 0., 0., 0., 0., 0., 0., 0., 0.],\n",
            "        [0., 0., 0., 0., 0., 0., 0., 0., 0., 0.],\n",
            "        [0., 0., 0., 0., 0., 0., 0., 0., 0., 0.],\n",
            "        [0., 0., 0., 0., 0., 0., 0., 0., 0., 0.],\n",
            "        [0., 0., 0., 0., 0., 0., 0., 0., 0., 0.],\n",
            "        [0., 0., 0., 0., 0., 0., 0., 0., 0., 0.],\n",
            "        [0., 0., 0., 0., 0., 0., 0., 0., 0., 0.],\n",
            "        [0., 0., 0., 0., 0., 0., 0., 0., 0., 0.],\n",
            "        [0., 0., 0., 0., 0., 0., 0., 0., 0., 0.],\n",
            "        [0., 0., 0., 0., 0., 0., 0., 0., 0., 0.],\n",
            "        [0., 0., 0., 0., 0., 0., 0., 0., 0., 0.],\n",
            "        [0., 0., 0., 0., 0., 0., 0., 0., 0., 0.],\n",
            "        [0., 0., 0., 0., 0., 0., 0., 0., 0., 0.],\n",
            "        [0., 0., 0., 0., 0., 0., 0., 0., 0., 0.],\n",
            "        [0., 0., 0., 0., 0., 0., 0., 0., 0., 0.],\n",
            "        [0., 0., 0., 0., 0., 0., 0., 0., 0., 0.],\n",
            "        [0., 0., 0., 0., 0., 0., 0., 0., 0., 0.],\n",
            "        [0., 0., 0., 0., 0., 0., 0., 0., 0., 0.],\n",
            "        [0., 0., 0., 0., 0., 0., 0., 0., 0., 0.],\n",
            "        [0., 0., 0., 0., 0., 0., 0., 0., 0., 0.],\n",
            "        [0., 0., 0., 0., 0., 0., 0., 0., 0., 0.],\n",
            "        [0., 0., 0., 0., 0., 0., 0., 0., 0., 0.],\n",
            "        [0., 0., 0., 0., 0., 0., 0., 0., 0., 0.],\n",
            "        [0., 0., 0., 0., 0., 0., 0., 0., 0., 0.],\n",
            "        [0., 0., 0., 0., 0., 0., 0., 0., 0., 0.],\n",
            "        [0., 0., 0., 0., 0., 0., 0., 0., 0., 0.],\n",
            "        [0., 0., 0., 0., 0., 0., 0., 0., 0., 0.],\n",
            "        [0., 0., 0., 0., 0., 0., 0., 0., 0., 0.],\n",
            "        [0., 0., 0., 0., 0., 0., 0., 0., 0., 0.],\n",
            "        [0., 0., 0., 0., 0., 0., 0., 0., 0., 0.],\n",
            "        [0., 0., 0., 0., 0., 0., 0., 0., 0., 0.],\n",
            "        [0., 0., 0., 0., 0., 0., 0., 0., 0., 0.],\n",
            "        [0., 0., 0., 0., 0., 0., 0., 0., 0., 0.],\n",
            "        [0., 0., 0., 0., 0., 0., 0., 0., 0., 0.],\n",
            "        [0., 0., 0., 0., 0., 0., 0., 0., 0., 0.],\n",
            "        [0., 0., 0., 0., 0., 0., 0., 0., 0., 0.],\n",
            "        [0., 0., 0., 0., 0., 0., 0., 0., 0., 0.],\n",
            "        [0., 0., 0., 0., 0., 0., 0., 0., 0., 0.],\n",
            "        [0., 0., 0., 0., 0., 0., 0., 0., 0., 0.],\n",
            "        [0., 0., 0., 0., 0., 0., 0., 0., 0., 0.],\n",
            "        [0., 0., 0., 0., 0., 0., 0., 0., 0., 0.],\n",
            "        [0., 0., 0., 0., 0., 0., 0., 0., 0., 0.],\n",
            "        [0., 0., 0., 0., 0., 0., 0., 0., 0., 0.],\n",
            "        [0., 0., 0., 0., 0., 0., 0., 0., 0., 0.],\n",
            "        [0., 0., 0., 0., 0., 0., 0., 0., 0., 0.],\n",
            "        [0., 0., 0., 0., 0., 0., 0., 0., 0., 0.],\n",
            "        [0., 0., 0., 0., 0., 0., 0., 0., 0., 0.],\n",
            "        [0., 0., 0., 0., 0., 0., 0., 0., 0., 0.],\n",
            "        [0., 0., 0., 0., 0., 0., 0., 0., 0., 0.],\n",
            "        [0., 0., 0., 0., 0., 0., 0., 0., 0., 0.],\n",
            "        [0., 0., 0., 0., 0., 0., 0., 0., 0., 0.],\n",
            "        [0., 0., 0., 0., 0., 0., 0., 0., 0., 0.],\n",
            "        [0., 0., 0., 0., 0., 0., 0., 0., 0., 0.],\n",
            "        [0., 0., 0., 0., 0., 0., 0., 0., 0., 0.],\n",
            "        [0., 0., 0., 0., 0., 0., 0., 0., 0., 0.],\n",
            "        [0., 0., 0., 0., 0., 0., 0., 0., 0., 0.],\n",
            "        [0., 0., 0., 0., 0., 0., 0., 0., 0., 0.]])\n"
          ],
          "name": "stdout"
        }
      ]
    },
    {
      "cell_type": "code",
      "metadata": {
        "colab": {
          "base_uri": "https://localhost:8080/"
        },
        "id": "FS8qVK0eQRqp",
        "outputId": "961a4a0d-3813-4eb1-98e8-71cb1cea4037"
      },
      "source": [
        "# 정규 난수로 100 x 10의 Tensor를 작성\n",
        "t = torch.randn(100, 10)\n",
        "print(t)"
      ],
      "execution_count": null,
      "outputs": [
        {
          "output_type": "stream",
          "text": [
            "tensor([[-1.8122e-01,  1.2439e+00, -1.5600e+00,  1.6090e+00,  7.3959e-01,\n",
            "          2.5919e-01, -7.1386e-01, -1.7558e-01, -9.8656e-01,  4.7276e-01],\n",
            "        [-1.9681e+00,  2.4795e-01,  2.2679e-01,  2.1997e-01, -4.0075e-01,\n",
            "         -1.4845e+00,  2.4268e-01,  4.2237e-01,  3.0268e-01,  4.1797e-02],\n",
            "        [ 1.2896e+00, -1.4103e-01,  1.0805e-04,  1.2386e+00,  5.7487e-01,\n",
            "         -1.4806e+00,  1.5409e+00, -5.9054e-01, -8.4537e-01,  3.3704e+00],\n",
            "        [-1.6047e-01, -6.4585e-01,  8.9249e-02,  7.1481e-02,  1.1405e+00,\n",
            "         -3.5208e-01, -2.2600e-01, -3.9692e-01,  2.1844e-01, -8.9924e-01],\n",
            "        [ 3.0944e-01,  8.4783e-01, -6.7280e-01,  7.4778e-01,  1.1766e+00,\n",
            "         -1.1208e+00,  3.6302e-01,  2.0964e-01, -2.6209e+00,  8.7177e-02],\n",
            "        [ 1.1913e-01,  1.1984e+00,  1.2189e+00, -1.3435e+00, -8.7488e-01,\n",
            "          8.5546e-01, -8.0099e-01, -2.6902e-01,  2.9177e-01,  7.2691e-01],\n",
            "        [ 9.5566e-01,  3.2332e-01, -1.1402e+00, -4.2749e-01, -1.5070e+00,\n",
            "         -8.6814e-01, -2.3784e+00,  4.5560e-01, -1.5535e+00, -5.4438e-01],\n",
            "        [ 8.0272e-01, -1.6004e-01,  8.7330e-01, -2.0358e-01, -1.3515e+00,\n",
            "          1.9079e-01, -2.5271e-01, -1.7333e-01, -1.8350e+00, -1.0202e+00],\n",
            "        [-1.4468e+00, -2.4029e+00,  6.7336e-01, -2.3839e-01, -4.5648e-01,\n",
            "         -1.1962e+00, -1.5191e-01, -3.9785e-02, -1.9144e-01, -1.5859e-01],\n",
            "        [-1.0187e+00, -1.0880e+00, -8.6953e-01,  1.0957e+00, -3.2092e-01,\n",
            "         -8.0634e-01,  8.1927e-01,  9.4350e-01,  2.2514e-01, -1.9703e+00],\n",
            "        [-5.2148e-01,  1.5181e+00,  7.8961e-01,  9.2513e-01, -8.8383e-01,\n",
            "         -7.5229e-01, -1.4195e+00,  1.9333e+00, -1.3048e+00, -4.9959e-01],\n",
            "        [-1.9542e+00,  8.7562e-01,  2.7562e-01, -5.5438e-01,  6.9147e-03,\n",
            "          1.3275e+00, -3.2601e-01, -2.3403e-02,  1.0788e+00, -1.2604e+00],\n",
            "        [ 1.6206e+00,  1.4782e-01,  6.1477e-01, -5.5371e-01, -7.2652e-01,\n",
            "          9.8261e-01, -4.5950e-01,  1.2014e+00, -2.6841e-01, -1.0286e+00],\n",
            "        [ 2.2973e+00,  1.1422e+00,  4.7815e-01, -5.8328e-01,  6.8399e-01,\n",
            "          3.0457e-01, -1.9481e-01,  1.0789e+00,  1.7216e+00, -2.4570e-01],\n",
            "        [-9.0604e-01,  1.7039e+00, -1.1714e-01,  7.3970e-01, -1.4086e+00,\n",
            "          1.5399e+00,  8.2482e-01, -1.2384e-01, -2.2218e-01, -2.7455e+00],\n",
            "        [-1.0486e+00,  1.5002e+00,  1.3352e-01,  1.3949e+00, -5.6595e-01,\n",
            "          3.3451e-01, -2.4861e-01, -1.8055e-01,  1.3122e+00, -7.5024e-01],\n",
            "        [ 6.1395e-01,  1.2908e+00,  9.2325e-01,  2.8088e-01, -8.0910e-01,\n",
            "          7.0294e-01,  2.3606e+00, -1.2365e+00, -1.9108e+00,  4.0944e-01],\n",
            "        [ 2.5538e-02,  1.2287e+00,  3.4280e-01,  3.4726e-01, -2.3215e+00,\n",
            "          1.9748e+00, -9.0566e-01, -9.8153e-01, -3.0168e-02,  5.6933e-01],\n",
            "        [ 8.0140e-01,  1.1606e+00,  1.1378e+00, -2.3064e+00,  2.1027e-01,\n",
            "          1.5687e+00, -2.3697e-01,  1.3346e+00, -9.9652e-01,  2.0975e-01],\n",
            "        [ 2.5135e-01,  1.7139e-02, -5.7759e-01, -9.7596e-01,  4.8110e-01,\n",
            "         -2.4493e-01,  5.0153e-01,  2.2796e+00, -1.0745e+00,  7.8112e-01],\n",
            "        [ 1.1726e+00, -7.8194e-01, -2.9894e-01, -1.0969e+00,  1.1904e+00,\n",
            "         -8.8034e-01, -9.3197e-01, -4.3839e-01,  9.6448e-01,  8.4236e-01],\n",
            "        [ 3.0866e-01, -1.9445e+00,  6.1787e-01, -1.0344e+00,  1.5663e+00,\n",
            "          3.4114e-01,  1.2341e+00,  3.5407e-01,  4.0010e-01,  8.4605e-01],\n",
            "        [-1.9308e+00,  6.8390e-01, -3.2038e+00, -1.3665e+00, -1.4013e+00,\n",
            "         -1.2603e-01,  3.2213e-02, -1.2235e+00,  2.3030e+00,  7.9603e-01],\n",
            "        [-6.6610e-01, -8.2087e-01, -4.7092e-03,  7.5138e-01, -5.2509e-01,\n",
            "         -6.8407e-02, -2.1389e+00, -6.8927e-01,  1.2418e+00, -6.3505e-01],\n",
            "        [-1.1849e+00,  3.9054e-01,  1.5550e+00, -1.6898e+00,  1.2693e-01,\n",
            "         -1.5166e+00,  2.6537e-01,  7.3275e-01,  3.1963e-01, -7.7053e-01],\n",
            "        [-1.0833e+00,  8.8659e-01, -6.5687e-01, -1.2879e+00, -1.0984e-01,\n",
            "          1.5102e+00,  3.2620e-02,  1.3445e+00, -1.4529e+00,  8.6256e-02],\n",
            "        [-9.3678e-02, -3.8607e-02, -1.6940e+00, -1.2417e+00, -6.2259e-01,\n",
            "          2.0186e+00,  9.4410e-01, -1.1664e+00,  3.8035e-01, -4.1679e-01],\n",
            "        [ 9.8948e-01, -1.0761e+00, -1.5593e+00, -2.8527e-02,  1.2226e+00,\n",
            "          5.5840e-01,  1.0897e+00,  9.8027e-01, -8.8324e-01,  4.5660e-01],\n",
            "        [-9.8726e-01, -9.9388e-01, -4.8062e-01, -6.9297e-01,  3.3446e-01,\n",
            "          1.0985e+00, -1.6843e+00,  1.2079e+00, -6.7587e-02, -8.9766e-01],\n",
            "        [ 1.4187e+00,  1.3034e-01,  5.9410e-01, -6.4160e-01, -2.2163e-01,\n",
            "          1.1643e+00, -1.1956e-01, -2.7133e+00, -6.2652e-01, -7.4784e-01],\n",
            "        [-4.5326e-01, -1.3135e+00, -9.6660e-01,  2.8950e+00, -1.0598e+00,\n",
            "         -3.0308e-01,  7.2101e-01, -9.9677e-01,  1.3011e+00,  7.0936e-01],\n",
            "        [-4.5571e-01, -2.5150e-01,  1.1212e+00, -4.8373e-01,  2.3579e-01,\n",
            "          7.7858e-01,  2.7461e-01, -9.3351e-01, -2.3462e-01, -7.7318e-01],\n",
            "        [ 1.0534e+00, -1.0329e+00, -5.8077e-01, -4.5293e-02, -3.4739e-02,\n",
            "          1.7215e+00,  9.3856e-01,  4.7039e-01,  2.5192e-01, -1.5543e-01],\n",
            "        [-8.2930e-01, -1.3947e+00,  1.5369e+00,  1.1448e+00, -4.5377e-01,\n",
            "         -8.1970e-01, -4.8520e-01, -1.4401e+00, -1.0141e+00,  4.0399e-02],\n",
            "        [-2.5840e-01,  3.8355e-01, -1.0325e+00,  6.9659e-01, -1.4525e+00,\n",
            "         -4.9572e-01, -1.3444e+00,  6.8789e-01, -2.3004e-01,  1.0447e+00],\n",
            "        [ 8.5606e-01,  9.3165e-01, -7.7220e-02, -1.4882e+00,  1.8030e+00,\n",
            "          1.5483e+00,  1.3807e+00, -1.6753e+00,  1.1788e+00, -4.3140e-01],\n",
            "        [ 1.0638e+00,  3.5364e-03, -2.3362e-01, -1.3811e-01,  4.6445e-01,\n",
            "          5.3409e-02,  9.9251e-01,  1.5277e+00,  1.7723e+00, -3.9915e-01],\n",
            "        [ 1.8191e+00, -6.6564e-01, -7.7316e-01,  3.7538e-01,  9.7315e-01,\n",
            "          1.1701e-01,  1.1484e+00,  3.3172e-01, -7.6155e-01,  1.3991e+00],\n",
            "        [-4.1412e-01,  1.6315e+00,  2.9632e-01,  9.3405e-03,  1.5430e-01,\n",
            "         -2.8032e-02, -1.1097e-01, -5.0680e-01,  1.8742e-01,  1.6268e-01],\n",
            "        [ 2.2107e+00, -4.9636e-01,  5.9177e-02,  4.7199e-01,  6.0852e-01,\n",
            "         -5.8024e-02,  1.8348e-01,  1.1197e+00,  1.1658e+00,  7.4604e-02],\n",
            "        [-2.1221e+00,  1.0091e+00, -5.6866e-01, -1.4215e+00, -7.4711e-01,\n",
            "          5.7024e-01,  6.5217e-01,  8.7326e-01,  3.0685e-01,  7.9654e-02],\n",
            "        [-1.0593e+00, -1.8683e+00, -2.4064e-01,  2.8639e-01, -7.6567e-01,\n",
            "         -1.9995e+00, -4.6745e-01,  1.1051e+00, -2.0369e+00,  1.5161e-01],\n",
            "        [-1.1527e+00, -2.6253e-01, -2.1259e-01, -6.0136e-01,  5.5397e-02,\n",
            "         -1.3280e+00, -9.8801e-01, -2.7519e-01, -7.5587e-01,  9.6559e-01],\n",
            "        [ 9.1037e-01,  5.0543e-01, -7.4747e-02,  9.4043e-01, -1.2494e+00,\n",
            "         -1.7561e-01,  4.8934e-01,  1.2771e-01, -5.3659e-01,  1.3539e+00],\n",
            "        [-1.6035e-01,  1.6537e+00,  8.2988e-01,  1.4626e+00,  9.3939e-02,\n",
            "          2.5673e-01,  2.9009e-01, -1.0936e+00,  5.4765e-01,  9.0061e-01],\n",
            "        [ 1.1381e+00, -1.5688e+00, -1.0347e+00, -1.6727e+00, -4.2653e-01,\n",
            "          1.8811e-01,  4.1321e-01, -5.7789e-01, -8.1531e-01, -2.2052e+00],\n",
            "        [-7.9069e-01,  2.3783e-01, -2.4555e-02, -1.0003e+00, -2.1356e-01,\n",
            "          1.3106e+00, -3.2826e-01,  6.3053e-01, -8.2860e-01, -5.2080e-01],\n",
            "        [ 5.0281e-01,  1.9593e+00,  5.4986e-02,  3.9210e-01, -1.0647e+00,\n",
            "         -4.2783e-01, -1.0703e+00,  5.2764e-01, -2.1102e+00, -1.2642e-01],\n",
            "        [ 8.2756e-01, -7.5429e-01, -1.3489e+00,  1.4493e-01,  1.7296e+00,\n",
            "         -9.5570e-01, -5.6685e-01, -3.5623e-01,  2.4730e-01, -1.0222e-01],\n",
            "        [-1.1351e+00, -1.0122e+00, -6.3728e-01,  1.9622e-01, -6.8825e-01,\n",
            "          6.4908e-01, -7.5990e-01,  5.2213e-01,  3.6779e-01, -4.0004e-01],\n",
            "        [ 4.2078e-01,  2.0894e+00, -5.5493e-01, -5.3455e-01, -1.7894e+00,\n",
            "          8.7753e-01, -1.1969e+00,  2.5356e+00,  7.0755e-02,  6.0496e-01],\n",
            "        [ 8.1660e-01, -1.2972e+00,  6.2833e-01, -1.1799e+00,  6.0618e-01,\n",
            "         -1.5942e+00,  5.0801e-01,  1.3504e-01,  5.2820e-01,  4.0666e-01],\n",
            "        [-1.0335e+00, -5.8389e-01,  1.5853e-01,  1.1029e-01,  1.0949e+00,\n",
            "          1.8988e+00,  1.4197e+00, -2.2047e-01, -1.2084e+00, -8.2026e-01],\n",
            "        [ 1.5402e+00,  9.6036e-02, -6.2842e-01, -2.0944e+00,  1.2475e+00,\n",
            "          7.6756e-02, -6.1151e-01,  4.0628e-02,  3.5016e-01,  1.0900e-01],\n",
            "        [-7.6584e-02, -8.1209e-01,  1.0913e+00, -1.1685e+00, -7.6416e-01,\n",
            "         -1.7212e+00,  5.1620e-02, -8.6337e-01, -9.3462e-01,  3.0792e-01],\n",
            "        [ 8.7077e-01, -9.4140e-01,  5.1721e-01, -1.2773e+00, -1.7437e+00,\n",
            "         -1.0134e+00,  1.6321e+00,  1.1982e+00, -9.0250e-01,  1.4731e+00],\n",
            "        [ 7.3459e-01,  4.2129e-01,  4.1143e-01, -6.1298e-01, -1.2154e-01,\n",
            "         -1.7689e+00,  7.6005e-01,  6.4583e-01,  7.1839e-01, -1.3872e+00],\n",
            "        [-6.6213e-01, -8.5600e-01, -4.8790e-01, -9.0069e-02, -3.1582e-01,\n",
            "         -9.3896e-01,  4.8652e-02,  1.3786e+00,  1.4218e-01,  2.2981e+00],\n",
            "        [-2.8393e-01,  2.6592e+00, -6.6731e-01, -1.1242e+00, -1.2681e+00,\n",
            "          1.1554e+00,  3.2233e-01, -1.3544e+00,  2.2429e-01, -2.0207e-03],\n",
            "        [ 1.1769e+00, -7.3325e-01,  5.1685e-01, -2.0607e-01,  4.3891e-01,\n",
            "          1.0658e+00,  1.1515e+00, -2.4855e-01,  3.8601e-01,  4.7662e-02],\n",
            "        [-1.5201e+00, -2.4907e-01,  4.4389e-01, -1.1315e+00, -1.3277e+00,\n",
            "          1.9442e-01, -2.2101e-01, -2.3871e-01, -1.3316e+00,  3.0537e-01],\n",
            "        [-5.2525e-01,  4.8102e-01, -1.8193e+00, -1.7420e-01,  5.6206e-01,\n",
            "         -7.5165e-01,  2.1288e+00,  7.7411e-02, -6.3967e-01, -7.7024e-01],\n",
            "        [-8.8106e-01,  6.2250e-01,  9.5433e-01, -1.0263e-01,  2.8426e+00,\n",
            "         -5.7296e-01, -8.4607e-03, -6.2752e-01,  1.1396e+00,  9.6078e-01],\n",
            "        [ 6.0445e-01, -1.8071e+00,  7.8929e-01,  2.2671e+00, -2.8861e-01,\n",
            "          1.0179e+00,  1.6630e+00,  1.8040e+00, -2.5918e+00,  2.1227e-02],\n",
            "        [ 6.9517e-01, -3.4383e-02,  6.5926e-01, -5.8533e-01,  7.0185e-01,\n",
            "          1.3046e+00,  3.8849e-01, -2.2578e+00, -2.9416e-01, -3.1181e-02],\n",
            "        [ 5.2135e-01, -6.3405e-01,  1.8485e+00, -4.3802e-01,  1.0528e+00,\n",
            "         -7.9597e-01,  2.7140e+00, -6.8553e-01,  8.9455e-02, -1.2441e+00],\n",
            "        [-1.5565e-02,  7.1278e-02, -5.4557e-01, -5.4813e-01, -6.1716e-01,\n",
            "          1.0001e-01, -7.0414e-02,  3.5939e-01, -1.5638e+00,  3.0160e-01],\n",
            "        [-2.2873e+00,  7.9929e-02,  5.3164e-03,  8.3868e-01, -1.3557e+00,\n",
            "         -1.3033e-01,  4.5884e-01,  3.1927e-01, -7.5789e-01, -1.2898e+00],\n",
            "        [-2.5947e-01, -1.2605e+00,  6.8150e-01,  7.1517e-01,  1.0569e+00,\n",
            "         -2.5957e-01,  6.6322e-01, -1.1389e+00, -2.0395e+00, -8.0679e-01],\n",
            "        [ 6.9776e-01,  1.5062e+00, -6.4316e-01, -2.5130e-01,  6.9492e-02,\n",
            "          6.2647e-01, -8.4120e-01,  1.0982e+00,  6.8175e-01, -8.9255e-01],\n",
            "        [ 9.7665e-01,  6.4640e-01,  5.7350e-01, -8.6727e-01, -3.1039e-01,\n",
            "         -3.9844e-01, -9.8113e-01,  4.3333e-01, -1.2387e+00,  6.2837e-01],\n",
            "        [-5.2906e-01, -4.1678e-01, -9.3272e-01,  5.9571e-01, -1.1331e+00,\n",
            "          1.2046e-01,  4.2841e-01, -6.4560e-01, -5.0277e-01, -2.0692e+00],\n",
            "        [ 6.0272e-01,  4.1084e-01,  4.1122e-01,  1.1276e+00, -1.1742e+00,\n",
            "         -1.4083e+00,  1.1587e+00, -1.1713e+00, -7.5853e-02,  1.3308e-01],\n",
            "        [ 3.6176e-01,  2.8916e-01,  1.6209e+00,  1.2035e+00,  4.2634e-01,\n",
            "          3.9499e-01,  3.3535e-01, -3.7352e-01,  6.1843e-01,  2.0086e+00],\n",
            "        [-1.1888e+00,  3.3493e-01, -5.9839e-01, -1.5815e+00, -7.3959e-01,\n",
            "          7.0675e-01, -2.3357e-01,  1.8720e+00, -2.1513e+00, -6.3254e-01],\n",
            "        [ 2.2018e+00,  4.6496e-01, -6.7959e-01, -1.2782e-01, -6.4915e-01,\n",
            "          7.5971e-01, -1.0021e-02, -4.4797e-01, -6.8666e-01,  1.0664e-01],\n",
            "        [-1.8827e+00, -1.1415e+00,  5.1217e-01, -7.9943e-01,  1.2592e+00,\n",
            "         -9.3220e-01, -1.2334e+00,  5.8381e-01,  1.1584e+00,  8.8128e-01],\n",
            "        [ 7.8058e-02,  1.6301e+00, -1.7781e+00, -6.2178e-01,  1.3822e+00,\n",
            "         -1.7696e+00, -1.8463e-01, -3.6950e-02,  3.1154e-02,  1.6642e+00],\n",
            "        [-6.0654e-01,  1.6697e-01,  4.8657e-01, -7.6178e-02,  4.0670e-01,\n",
            "         -9.8997e-01,  4.2244e-01,  1.3538e-01,  1.6223e+00,  6.8735e-01],\n",
            "        [ 2.1532e-01, -1.1725e+00, -1.0489e+00,  2.2189e-01,  2.4666e+00,\n",
            "          4.4548e-01, -1.6835e+00, -2.0342e+00,  3.8576e-01,  3.1319e-01],\n",
            "        [ 6.3847e-01, -3.3500e-01,  1.1534e+00,  3.6512e-01, -7.6207e-01,\n",
            "         -1.3253e+00,  6.3074e-02, -1.6353e+00, -1.7653e-01, -4.4205e-01],\n",
            "        [-9.5787e-02,  1.3327e+00, -9.1303e-01,  2.4438e-01, -1.1296e+00,\n",
            "         -1.4472e+00, -4.5538e-01, -2.1160e+00,  1.3635e+00,  1.3205e+00],\n",
            "        [ 3.0674e-01, -1.4160e+00, -4.7861e-01,  6.1984e-01,  1.8844e+00,\n",
            "          2.4181e+00,  4.4828e-02,  1.7000e+00,  1.4537e+00, -5.4304e-01],\n",
            "        [ 1.5304e+00, -4.2025e-01, -4.2933e-01, -1.1435e+00,  1.1083e-01,\n",
            "         -3.3966e-01,  8.1159e-01,  5.9262e-01, -8.9072e-01, -3.2847e-01],\n",
            "        [ 8.5983e-01,  5.1512e-01,  1.0061e+00, -5.5244e-01, -6.0700e-01,\n",
            "          6.5668e-01,  9.1423e-01,  6.6729e-01,  1.0537e+00,  1.6163e+00],\n",
            "        [ 6.7400e-01, -1.1300e+00,  3.6123e-01, -2.7659e-01, -3.9773e-01,\n",
            "          1.1791e+00, -9.0661e-01, -8.6770e-01,  6.2504e-01, -2.9930e-01],\n",
            "        [-1.8434e+00,  2.0301e+00,  1.1970e+00, -1.0591e+00,  1.7332e-01,\n",
            "          3.7578e-01,  1.0582e+00,  8.9136e-01,  1.6978e+00, -1.5292e+00],\n",
            "        [-9.6914e-01, -5.8922e-01, -1.8646e+00,  5.8696e-03, -1.3092e+00,\n",
            "          1.8668e-01,  2.5411e-01,  7.6674e-01, -2.2786e+00,  4.3929e-02],\n",
            "        [-3.6770e-02, -3.6437e+00,  1.0357e+00,  5.7728e-01,  5.1166e-01,\n",
            "         -5.3212e-01, -1.1154e+00, -9.4913e-01, -8.9232e-03,  1.3443e+00],\n",
            "        [ 1.3418e+00,  5.8175e-01,  4.0160e-01,  1.0268e+00, -1.0241e+00,\n",
            "         -7.5104e-01, -2.1398e-01, -1.4880e+00, -2.3324e+00, -1.0047e+00],\n",
            "        [ 7.9829e-02, -6.5321e-01, -5.0555e-01,  5.8025e-01, -1.1334e+00,\n",
            "         -6.1660e-01, -4.2285e-01,  1.1365e-01, -1.3877e+00, -6.7838e-01],\n",
            "        [-1.4208e+00,  4.3131e-01, -5.7105e-01, -7.8373e-01,  1.5874e+00,\n",
            "          3.9975e-01,  4.8793e-01,  2.9451e-01, -1.7709e+00,  1.1667e+00],\n",
            "        [-1.8998e+00,  3.2312e-01, -1.1723e+00, -1.5955e+00,  1.5352e-01,\n",
            "         -8.5972e-01, -1.1685e+00,  3.1666e-01, -1.9572e+00, -4.9263e-01],\n",
            "        [-5.8460e-01, -4.1636e-01,  3.8830e-01, -1.0777e+00, -3.9893e-01,\n",
            "         -2.1797e+00,  5.2223e-01, -1.0686e+00,  9.0751e-01,  8.9911e-03],\n",
            "        [-9.3077e-01,  3.9535e+00,  1.0804e+00,  1.2275e+00, -5.6721e-01,\n",
            "         -9.5960e-01,  7.4822e-01,  1.1699e-01,  4.3362e-01, -1.5973e-01],\n",
            "        [ 6.5346e-01,  9.1669e-01,  1.1364e+00, -2.9743e+00, -1.1316e+00,\n",
            "         -6.6849e-01,  9.7528e-01, -7.1911e-02, -1.0723e+00, -6.1411e-01],\n",
            "        [-5.0947e-01,  1.2140e+00,  3.9994e-01, -8.1963e-02, -4.3151e-01,\n",
            "         -5.3597e-01,  3.5993e-01, -4.9964e-01, -4.9369e-01, -1.5944e+00],\n",
            "        [ 4.3436e-01,  1.6470e-01,  1.0833e+00, -3.6101e-01, -5.0463e-01,\n",
            "          1.9326e+00, -3.2353e-01,  9.5367e-01, -8.7036e-01,  1.8315e-01],\n",
            "        [-1.2966e-01,  6.4646e-01, -3.4622e-01,  8.0817e-01,  2.0203e-01,\n",
            "         -1.1020e+00,  5.4358e-01,  7.8234e-02, -8.7426e-01,  8.6497e-01],\n",
            "        [-7.8008e-01, -8.0657e-01, -8.8788e-01, -5.9005e-01, -6.9809e-01,\n",
            "         -1.1411e-01,  3.3688e-01,  1.0046e+00,  1.6134e-02, -2.2332e-01]])\n"
          ],
          "name": "stdout"
        }
      ]
    },
    {
      "cell_type": "code",
      "metadata": {
        "colab": {
          "base_uri": "https://localhost:8080/"
        },
        "id": "4QuHG796QUc3",
        "outputId": "4f71e260-edbe-4dc9-e0c2-585ea93dd91c"
      },
      "source": [
        "# Tensor의 shape은 size 메서드로 취득 가능\n",
        "t.size()"
      ],
      "execution_count": null,
      "outputs": [
        {
          "output_type": "execute_result",
          "data": {
            "text/plain": [
              "torch.Size([100, 10])"
            ]
          },
          "metadata": {
            "tags": []
          },
          "execution_count": 7
        }
      ]
    },
    {
      "cell_type": "code",
      "metadata": {
        "colab": {
          "base_uri": "https://localhost:8080/"
        },
        "id": "JZF-626SQXaa",
        "outputId": "b478012e-8819-48be-94f5-e3d3c59ad212"
      },
      "source": [
        "# numpy 메서드를 사용해 ndarray로 변환\n",
        "t = torch.tensor([[1, 2], [3, 4.]])\n",
        "x = t.numpy()\n",
        "x"
      ],
      "execution_count": null,
      "outputs": [
        {
          "output_type": "execute_result",
          "data": {
            "text/plain": [
              "array([[1., 2.],\n",
              "       [3., 4.]], dtype=float32)"
            ]
          },
          "metadata": {
            "tags": []
          },
          "execution_count": 8
        }
      ]
    },
    {
      "cell_type": "code",
      "metadata": {
        "colab": {
          "base_uri": "https://localhost:8080/"
        },
        "id": "66t3oPXLQZZT",
        "outputId": "64f1d4a3-7b9c-4a3d-e51f-b7e4193dd8a1"
      },
      "source": [
        "# GPU上상의 Tensor는 cpu메서드로,\n",
        "# CPU의 Tensor로 이동(변환)할 필요가 있다\n",
        "t = torch.tensor([[1, 2], [3, 4.]], device=\"cuda:0\")\n",
        "x = t.to(\"cpu\").numpy()\n",
        "x"
      ],
      "execution_count": null,
      "outputs": [
        {
          "output_type": "execute_result",
          "data": {
            "text/plain": [
              "array([[1., 2.],\n",
              "       [3., 4.]], dtype=float32)"
            ]
          },
          "metadata": {
            "tags": []
          },
          "execution_count": 9
        }
      ]
    },
    {
      "cell_type": "code",
      "metadata": {
        "colab": {
          "base_uri": "https://localhost:8080/"
        },
        "id": "2ZpEtiQbQbGm",
        "outputId": "06b5cc4d-19b9-44be-e679-5977bbb728a3"
      },
      "source": [
        "t = torch.tensor([[1,2,3], [4,5,6.]])\n",
        "\n",
        "# 스칼라 첨자 지정\n",
        "print(t[0, 2])\n",
        "\n",
        "# 슬라이스로 지정\n",
        "print(t[:, :2])\n",
        "\n",
        "# 리스트로 지정\n",
        "print(t[:, [1,2]])\n",
        "\n",
        "# 마스크 배열을 시용해서 3보다 큰 부분만 선택\n",
        "print(t[t > 3])"
      ],
      "execution_count": null,
      "outputs": [
        {
          "output_type": "stream",
          "text": [
            "tensor(3.)\n",
            "tensor([[1., 2.],\n",
            "        [4., 5.]])\n",
            "tensor([[2., 3.],\n",
            "        [5., 6.]])\n",
            "tensor([4., 5., 6.])\n"
          ],
          "name": "stdout"
        }
      ]
    },
    {
      "cell_type": "code",
      "metadata": {
        "colab": {
          "base_uri": "https://localhost:8080/"
        },
        "id": "zBCB7vyOQd0G",
        "outputId": "146131dc-c6c8-4c65-df4c-ebb9e0e4b2fb"
      },
      "source": [
        "# [0, 1]의 요소를 100으로 설정\n",
        "t[0, 1] = 100\n",
        "print(t)\n",
        "\n",
        "# 슬라이스를 사용한 일괄 대입\n",
        "t[:, 1] = 200\n",
        "print(t)      \n",
        "\n",
        "# 마스크 배열을 사용해서 특정 조건의 요소만 치환\n",
        "t[t > 10] = 20\n",
        "print(t)"
      ],
      "execution_count": null,
      "outputs": [
        {
          "output_type": "stream",
          "text": [
            "tensor([[  1., 100.,   3.],\n",
            "        [  4.,   5.,   6.]])\n",
            "tensor([[  1., 200.,   3.],\n",
            "        [  4., 200.,   6.]])\n",
            "tensor([[ 1., 20.,  3.],\n",
            "        [ 4., 20.,  6.]])\n"
          ],
          "name": "stdout"
        }
      ]
    },
    {
      "cell_type": "code",
      "metadata": {
        "colab": {
          "base_uri": "https://localhost:8080/"
        },
        "id": "qtSfz_PXSTyP",
        "outputId": "3636971c-670d-4412-cb95-6be6f1e7ebe9"
      },
      "source": [
        "# 길이 3인 벡터\n",
        "v = torch.tensor([1, 2, 3.])\n",
        "w = torch.tensor([0, 10, 20.])\n",
        "print('v=', v)\n",
        "print('w=', w)\n",
        "print('----------------------------------------------')\n",
        "\n",
        "# 2 × 3의 행렬\n",
        "m = torch.tensor([[0, 1, 2], [100, 200, 300.]])\n",
        "print('m=', m)\n",
        "print('----------------------------------------------')\n",
        "\n",
        "# 벡터와 스칼라의 덧셈\n",
        "v2 = v + 10\n",
        "print('v2=', v2)\n",
        "\n",
        "# 자승도 같은 방식\n",
        "v2 = v ** 2\n",
        "print('v2=', v2)\n",
        "\n",
        "# 동일 길이의 벡터 간 뺄쎔\n",
        "z = v - w\n",
        "print('z=', z)\n",
        "\n",
        "# 여러 가지 조합\n",
        "u = 2 * v - w / 10 + 6.0\n",
        "print('u=', u)\n",
        "print('----------------------------------------------')\n",
        "\n",
        "# 행렬과 스칼라\n",
        "m2 = m * 2.0\n",
        "print('m2=', m2)\n",
        "# 행렬과 벡터\n",
        "#(2, 3)인 행렬과 (3,)인 벡터이므로 브로드 캐스트가 작동\n",
        "m3 = m + v\n",
        "print('m3=', m3)\n",
        "# 행렬 간 처리\n",
        "m4 = m + m\n",
        "print('m4=', m4)\n",
        "print('----------------------------------------------')"
      ],
      "execution_count": null,
      "outputs": [
        {
          "output_type": "stream",
          "text": [
            "v= tensor([1., 2., 3.])\n",
            "w= tensor([ 0., 10., 20.])\n",
            "----------------------------------------------\n",
            "m= tensor([[  0.,   1.,   2.],\n",
            "        [100., 200., 300.]])\n",
            "----------------------------------------------\n",
            "v2= tensor([11., 12., 13.])\n",
            "v2= tensor([1., 4., 9.])\n",
            "z= tensor([  1.,  -8., -17.])\n",
            "u= tensor([ 8.,  9., 10.])\n",
            "----------------------------------------------\n",
            "m2= tensor([[  0.,   2.,   4.],\n",
            "        [200., 400., 600.]])\n",
            "m3= tensor([[  1.,   3.,   5.],\n",
            "        [101., 202., 303.]])\n",
            "m4= tensor([[  0.,   2.,   4.],\n",
            "        [200., 400., 600.]])\n",
            "----------------------------------------------\n"
          ],
          "name": "stdout"
        }
      ]
    },
    {
      "cell_type": "code",
      "metadata": {
        "colab": {
          "base_uri": "https://localhost:8080/"
        },
        "id": "pRJXhw3USWUh",
        "outputId": "b1ae4572-dfeb-4835-f666-8fd3af34c28f"
      },
      "source": [
        "# 100 × 10의 테스트 데이터 생성\n",
        "X = torch.randn(100, 10)\n",
        "print(X)\n",
        "print(\"X=\", X)\n",
        "print('----------------------------------------------')\n",
        "\n",
        "# 수학 함수를 포함하는 수식\n",
        "y = X * 2 + torch.abs(X)\n",
        "print(\"y=\", y)\n",
        "print('----------------------------------------------')\n",
        "\n",
        "# 평균치 구하기\n",
        "m = torch.mean(X)\n",
        "print('m=', m)\n",
        "print('----------------------------------------------')\n",
        "\n",
        "# 함수가 아닌 메서드로도 사용할 수 있다\n",
        "m = X.mean()\n",
        "print('m=', m)\n",
        "print('----------------------------------------------')\n",
        "\n",
        "# 집계 결과는 0차원의 Tensor로 item 메서드를 사용해서\n",
        "# 값을 추출할 수 있다\n",
        "m_value = m.item()\n",
        "print('m_value=', m_value)\n",
        "print('----------------------------------------------')\n",
        "\n",
        "# 집계는 차원을 지정할 수도 있다. 다음은 행 방향으로 집계해서,\n",
        "# 열 단위로 평균값을 계산한다\n",
        "m2 = X.mean(0)\n",
        "print('m2=', m2)\n",
        "print('----------------------------------------------')"
      ],
      "execution_count": null,
      "outputs": [
        {
          "output_type": "stream",
          "text": [
            "tensor([[ 2.5088e+00, -7.3355e-02,  1.3575e+00, -1.5293e-01, -6.1139e-01,\n",
            "          2.8825e+00, -5.1439e-01, -8.5319e-01,  6.0157e-01, -1.2173e+00],\n",
            "        [ 1.0714e-01, -1.1895e+00,  1.4352e+00, -8.1780e-01, -9.0691e-01,\n",
            "          1.3510e+00,  3.2277e-01, -1.3035e+00, -6.9659e-01,  2.8406e+00],\n",
            "        [-2.4153e-01, -1.3474e+00, -2.6007e+00,  2.5001e+00, -4.0235e-01,\n",
            "         -5.1941e-01,  4.7142e-01, -7.2611e-01,  1.7231e+00, -1.3929e+00],\n",
            "        [-4.5459e-01, -6.1361e-01, -1.6427e-01, -5.8768e-01, -5.9564e-01,\n",
            "         -1.9578e+00,  8.0832e-02,  1.1806e+00, -3.2828e-01, -1.1588e+00],\n",
            "        [-6.5333e-01,  4.6117e-01, -5.1867e-01,  1.5441e-01, -1.1469e+00,\n",
            "          4.6710e-01, -1.7363e+00,  2.0118e-01, -8.6794e-02, -6.2378e-02],\n",
            "        [-7.4352e-02, -2.1073e-01,  2.7866e-01, -2.4349e-01, -5.1918e-01,\n",
            "          8.9384e-01, -8.5784e-01, -1.7130e+00,  8.4545e-02, -8.1790e-01],\n",
            "        [-2.9083e-01, -2.4773e+00,  5.4066e-01,  8.0801e-01, -8.8169e-01,\n",
            "          1.1515e-01,  1.5251e+00,  2.7803e-01,  7.0847e-01, -2.5972e+00],\n",
            "        [-8.2495e-01,  8.2671e-01, -4.9795e-01,  3.2980e-01,  7.8025e-01,\n",
            "         -6.8531e-01, -1.1658e+00,  1.9757e+00,  1.3488e+00, -1.4173e+00],\n",
            "        [ 3.4609e-01, -3.5109e-01,  6.2794e-01, -2.1023e+00, -6.8829e-02,\n",
            "         -1.1207e-01,  1.2338e+00, -4.7453e-01,  1.3644e+00,  4.9414e-01],\n",
            "        [-5.2819e-01,  1.1434e+00, -1.7415e-01, -7.6729e-01, -6.0505e-02,\n",
            "          1.1631e-01, -6.6792e-01, -4.6555e-01,  2.9402e-01,  1.2139e+00],\n",
            "        [ 1.7755e+00, -5.0735e-01, -2.8902e-01, -1.7908e+00, -1.8658e+00,\n",
            "         -3.2966e-01, -1.0278e+00,  1.1306e+00,  1.6806e+00,  1.2098e+00],\n",
            "        [-1.6970e+00, -1.2829e-01, -4.2892e-01, -4.4207e-01, -4.3427e-01,\n",
            "          2.0931e-01,  3.9243e-02, -2.2004e-01, -1.1211e-02,  1.6535e-01],\n",
            "        [-1.0643e+00, -2.1011e+00,  1.6553e-01,  1.0799e+00,  1.2322e-01,\n",
            "          3.7192e-01, -7.3945e-01, -1.1215e+00, -6.0165e-01, -5.7261e-01],\n",
            "        [-1.5335e+00,  1.8246e-01,  1.0117e+00, -1.2770e+00, -8.3127e-02,\n",
            "          5.8438e-01, -6.5636e-01, -1.5693e+00, -1.0589e-01, -1.7444e-01],\n",
            "        [ 2.1953e+00,  1.4754e-01, -9.4958e-01,  5.9607e-01,  9.5849e-01,\n",
            "         -8.9953e-01, -9.2741e-01, -4.9519e-01,  1.2871e-01, -1.2621e-01],\n",
            "        [ 3.3473e-01, -4.2852e-01,  1.4135e+00, -6.4436e-02, -9.7046e-01,\n",
            "          1.4753e+00,  4.1104e-01,  9.6213e-02,  1.0292e+00, -6.5127e-01],\n",
            "        [-9.0243e-01, -1.4429e+00,  4.9150e-01,  1.3985e+00,  7.3591e-01,\n",
            "          1.7280e+00, -1.9763e-01,  2.8365e+00, -8.7714e-01,  6.0129e-01],\n",
            "        [ 2.8692e-01,  2.1257e+00,  1.1388e+00,  2.5050e-02, -1.6279e-01,\n",
            "         -9.2088e-01,  2.6516e-02,  4.2762e-01,  5.2744e-01,  1.0602e+00],\n",
            "        [ 1.5354e+00,  4.3819e-01, -1.9526e-01, -1.5038e+00, -7.2852e-01,\n",
            "          2.0068e+00, -2.3790e+00, -2.7236e-01, -2.6197e-01, -8.2914e-01],\n",
            "        [-1.7358e+00, -2.7343e-01, -2.9437e-01, -3.8567e-01,  5.4350e-02,\n",
            "          9.4683e-01, -8.8942e-01,  1.1713e+00, -2.5131e+00, -1.2265e+00],\n",
            "        [ 4.7884e-01, -1.9366e+00,  6.7182e-01, -3.1183e-01,  1.4890e+00,\n",
            "          8.1463e-01,  5.0501e-01, -9.5890e-02, -5.6776e-01,  2.3189e-01],\n",
            "        [ 9.9566e-01, -2.0181e-01,  6.1676e-01,  1.2112e+00,  2.9654e-01,\n",
            "          1.2566e-01, -9.1227e-01,  6.4770e-01, -7.8884e-01, -7.5379e-03],\n",
            "        [ 8.7696e-01, -1.8739e+00,  1.3628e+00,  3.8578e-01, -1.0311e+00,\n",
            "         -1.3149e+00, -4.1149e-01,  9.5906e-02, -1.5464e-01, -7.6326e-01],\n",
            "        [-1.0596e+00, -6.9024e-04,  5.4935e-01, -1.1956e+00,  5.3691e-01,\n",
            "          4.3840e-01, -5.6740e-01, -3.9093e-02,  1.3671e-01,  1.3591e+00],\n",
            "        [-9.7284e-01, -4.0695e-01, -7.2329e-02,  2.4677e+00, -1.2170e+00,\n",
            "          3.5080e-01, -6.8237e-01, -5.2719e-01, -5.1394e-01,  7.9674e-02],\n",
            "        [-9.3289e-01, -5.9851e-01, -1.1145e-01,  2.1827e+00,  1.1170e+00,\n",
            "          1.6329e+00, -1.0948e+00, -9.5067e-01,  7.3487e-01,  4.4172e-01],\n",
            "        [ 9.8617e-01, -1.2098e+00, -8.3221e-01,  6.3911e-01,  6.1575e-01,\n",
            "          6.8023e-01,  9.9849e-01,  7.7275e-01,  1.5825e+00, -6.8418e-01],\n",
            "        [ 3.9801e-01,  9.5794e-01,  9.5058e-01,  1.2161e+00, -8.5605e-01,\n",
            "          1.3933e+00,  1.6699e-01, -1.4039e+00, -5.0051e-01, -9.0481e-01],\n",
            "        [ 3.3690e-01, -4.4562e-01,  2.1471e+00, -3.2170e-02, -3.7408e-01,\n",
            "         -9.1324e-01, -4.3953e-01,  4.6533e-02, -1.3165e-01, -7.1441e-01],\n",
            "        [ 4.4656e-01, -1.0639e+00,  7.2359e-02,  4.1708e-01,  2.2557e+00,\n",
            "         -2.2329e-01, -3.6567e-01,  9.3909e-01,  4.7254e-01, -2.1420e-01],\n",
            "        [-2.6515e-01,  1.5981e-01, -1.8432e-01, -6.7491e-01, -1.8417e+00,\n",
            "          9.0034e-01,  7.7812e-01, -2.1494e+00, -2.7666e-02,  1.5581e+00],\n",
            "        [ 1.1130e+00, -8.8544e-01,  1.1993e+00, -2.4397e-01,  4.5805e-01,\n",
            "         -7.6521e-01, -9.0009e-01, -9.5916e-01,  1.3905e+00,  6.2641e-01],\n",
            "        [-3.0375e-01, -2.2913e-01, -2.7633e+00,  4.6259e-01,  7.8016e-02,\n",
            "          4.5326e-01,  1.2277e-01, -1.6945e-01, -7.4232e-01,  2.9281e-02],\n",
            "        [-7.5206e-01, -4.3307e-01, -1.1243e+00, -3.8789e-01,  1.3306e+00,\n",
            "          7.2617e-02,  1.3487e-01, -1.0267e+00, -7.7575e-01, -5.7894e-01],\n",
            "        [ 7.0382e-01,  3.0857e-01,  1.0845e+00,  3.4144e-01,  1.6001e-01,\n",
            "          2.4867e-01,  2.1315e-02,  7.2677e-01,  1.0465e+00,  7.5118e-01],\n",
            "        [ 1.8894e-01, -1.5541e+00,  7.0352e-01,  1.0995e-01,  4.9531e-02,\n",
            "         -2.6085e-01,  4.4815e-02, -6.0807e-01, -9.9365e-01,  5.6837e-01],\n",
            "        [ 8.9888e-01, -1.2266e+00,  1.0776e+00, -1.7659e+00,  7.4156e-03,\n",
            "         -1.2591e+00,  2.3788e-01,  6.2375e-02,  4.9547e-01, -1.3960e+00],\n",
            "        [ 2.4351e+00,  2.5322e-01,  8.8075e-01,  8.6156e-01, -1.5976e+00,\n",
            "         -3.9701e-03, -1.2172e+00, -8.3190e-01, -2.9255e-02,  8.3760e-03],\n",
            "        [-1.1102e+00, -9.0337e-01,  1.4656e+00,  6.4363e-01,  1.2007e+00,\n",
            "         -1.8254e+00,  1.4459e-01,  2.9218e-01,  5.0890e-01,  3.1805e-01],\n",
            "        [ 1.2259e-01, -1.1056e+00,  1.5861e+00, -1.2541e+00,  4.1111e-01,\n",
            "         -6.3950e-01,  1.9538e+00,  6.2167e-01,  3.6640e-01,  1.7733e-01],\n",
            "        [-1.4041e-01, -3.4550e-01, -7.8624e-01,  5.5300e-01,  8.9662e-01,\n",
            "         -1.7287e+00,  8.2752e-01, -7.7322e-01,  1.7543e-01,  5.2799e-02],\n",
            "        [ 9.0084e-02, -1.1521e+00, -1.0971e+00,  1.9382e-01,  1.8911e+00,\n",
            "         -1.0603e-01,  7.3810e-01, -3.6766e-02,  4.8052e-01, -8.6355e-01],\n",
            "        [-4.8059e-01, -4.5519e-01, -1.6798e+00, -2.3762e-01,  3.1825e-01,\n",
            "         -1.0064e+00,  5.4391e-01,  4.3100e-01, -3.5460e-01,  1.1873e+00],\n",
            "        [ 1.3066e+00,  2.7629e-01,  4.7636e-01,  9.8557e-01, -4.6272e-01,\n",
            "         -1.1581e+00,  3.1160e-02, -7.4167e-01,  1.1089e+00, -1.8839e-01],\n",
            "        [ 8.8237e-01,  6.5077e-01, -2.9421e-01, -2.2533e-01,  1.1609e-02,\n",
            "         -1.0975e+00, -8.2976e-01,  1.1968e+00, -3.2458e-01, -4.0780e-01],\n",
            "        [ 1.7972e+00,  1.2260e+00, -9.1265e-01,  1.1109e+00, -4.5327e-01,\n",
            "          1.4459e-01, -6.7398e-01,  1.0158e+00,  5.7591e-01,  1.5194e+00],\n",
            "        [-5.8204e-02,  5.0578e-01,  1.0789e+00,  9.2152e-01,  3.1675e-01,\n",
            "         -1.3849e-01, -2.1678e+00,  2.3508e-01,  5.8129e-01,  1.1439e+00],\n",
            "        [ 1.7332e+00, -2.4058e+00, -1.9400e-01,  2.2338e-01,  1.3849e-01,\n",
            "         -9.3318e-01,  1.2026e+00, -6.7343e-01,  8.2611e-01,  2.2349e-01],\n",
            "        [ 1.5730e+00,  2.0479e-01, -1.5066e-01,  1.1103e-01, -1.2072e+00,\n",
            "         -4.5792e-01,  9.0187e-01,  1.0818e-01, -1.1785e-01, -1.2135e+00],\n",
            "        [ 1.2234e+00, -9.7779e-01,  3.9373e-01, -1.5591e+00, -6.4376e-01,\n",
            "          1.0053e+00, -1.4843e+00,  7.3772e-01,  6.1075e-01, -4.4076e-01],\n",
            "        [-5.0329e-02,  1.1159e+00, -8.9088e-01,  5.8242e-01, -9.7645e-01,\n",
            "         -1.1744e+00, -1.4981e+00, -9.0161e-01,  6.8793e-01,  3.8678e-01],\n",
            "        [-5.3634e-01, -2.7411e-01,  6.6652e-01,  2.5402e-01, -3.4375e-01,\n",
            "         -1.9230e+00, -2.8704e-01,  5.2020e-01,  1.5329e+00, -1.0454e+00],\n",
            "        [-2.5545e-01,  2.7947e+00,  3.2945e-01, -1.1059e+00, -3.4687e-01,\n",
            "         -6.8431e-01, -1.2121e+00,  9.8055e-01,  9.7972e-02,  1.1652e+00],\n",
            "        [ 6.5182e-01, -3.9498e-01,  1.6357e+00,  1.0467e-01, -1.4823e-01,\n",
            "          1.3949e+00,  9.9090e-01,  3.8106e-01,  3.4483e-01,  4.7322e-01],\n",
            "        [-2.0375e-02, -2.4250e+00, -1.5842e+00,  6.5922e-01, -3.3992e-01,\n",
            "          6.0753e-01,  1.2995e+00,  2.8555e-01, -4.0524e-01,  2.1528e-01],\n",
            "        [-1.0562e+00, -1.6182e+00,  9.7560e-02,  1.6820e+00,  1.3936e+00,\n",
            "         -1.1625e+00,  1.5831e+00,  2.9707e-01, -4.0413e-02,  8.5834e-01],\n",
            "        [ 1.9314e+00, -4.0401e-01, -3.6700e-01,  1.7093e+00, -5.8463e-01,\n",
            "          7.3066e-01,  1.7418e-01, -3.4903e-01,  1.5907e+00, -3.5006e-01],\n",
            "        [ 3.2948e-01, -4.6653e-01, -4.7027e-01,  1.3168e+00,  2.8290e-01,\n",
            "          9.6073e-01, -3.7917e-01, -8.0223e-01,  8.9097e-01,  8.0972e-01],\n",
            "        [ 5.8645e-01, -7.7755e-01, -1.0813e+00, -5.9650e-01,  1.2931e+00,\n",
            "          1.3477e+00,  9.6610e-01,  1.5677e-01, -6.7796e-01,  1.9932e-01],\n",
            "        [ 4.1102e-01, -6.5861e-01, -1.0844e+00,  2.6597e-01,  4.8775e-01,\n",
            "          8.1070e-01,  1.3993e+00,  4.1189e-01, -4.1826e-01, -8.3420e-02],\n",
            "        [ 1.5142e+00, -1.6412e+00,  6.4247e-02, -4.4375e-01, -6.1804e-01,\n",
            "         -1.5733e-01, -1.0236e+00,  1.6377e+00,  1.3452e+00,  2.4878e+00],\n",
            "        [-9.1050e-01,  1.4284e-01,  1.2552e+00,  9.9272e-02, -1.5335e-01,\n",
            "         -2.4634e+00, -4.0865e-01,  6.7445e-01,  1.9434e+00,  1.1150e-01],\n",
            "        [-5.0144e-01, -1.0794e+00,  3.7034e-01,  3.5671e-01, -1.9356e+00,\n",
            "         -4.7392e-01, -2.2754e-02,  1.4154e+00,  8.3198e-01,  2.2076e+00],\n",
            "        [-8.0047e-01,  1.4353e+00,  1.2493e+00,  6.5640e-02, -4.4960e-02,\n",
            "         -1.2825e+00, -4.2963e-01,  1.3258e+00, -1.1516e-01,  6.1818e-01],\n",
            "        [-5.2815e-01, -1.0094e+00,  9.0265e-01,  1.2279e+00,  1.1839e+00,\n",
            "         -5.9054e-02,  8.6819e-03, -1.3649e+00,  1.7345e+00, -1.4797e-01],\n",
            "        [ 4.5984e-01,  8.3506e-01,  7.0656e-01, -3.7237e-01,  1.3345e+00,\n",
            "         -9.3217e-01,  1.7723e-01, -2.1893e+00, -1.5804e+00,  3.9456e-01],\n",
            "        [-6.1622e-01,  1.5215e+00, -9.0596e-01, -4.0090e-01, -2.7041e+00,\n",
            "         -1.1020e+00, -6.3800e-01,  1.5240e+00, -1.6516e-01,  5.0862e-02],\n",
            "        [ 1.7396e+00,  1.3168e+00,  1.9678e+00, -1.3001e+00, -1.5173e+00,\n",
            "         -7.6029e-01,  1.7514e+00,  2.5171e-01,  8.4940e-02, -3.9900e-01],\n",
            "        [-1.4268e+00,  4.8574e-01, -3.3649e-01,  6.6806e-01, -7.4327e-01,\n",
            "          3.7132e-01, -3.9787e-01,  4.0733e-01,  1.4060e+00, -7.5519e-01],\n",
            "        [ 1.0582e+00, -1.1382e+00,  1.8362e-01, -1.1144e+00, -1.4657e+00,\n",
            "         -3.0329e-01, -2.2383e-01,  5.4303e-01, -8.9290e-01, -9.9843e-01],\n",
            "        [-3.2328e-01,  2.7268e+00, -1.6640e+00,  1.2136e+00,  5.8757e-01,\n",
            "         -8.5796e-01, -1.1297e+00, -1.5021e-01,  7.9193e-01, -5.3316e-01],\n",
            "        [ 1.0340e+00, -2.4416e-01, -1.9729e-01,  3.6208e-02, -6.6916e-01,\n",
            "          8.4338e-01,  1.6814e-01, -2.0527e-01,  4.8933e-01, -1.4371e-01],\n",
            "        [ 3.8464e-01, -7.5837e-01,  1.9821e-01, -1.9719e-01,  5.1875e-01,\n",
            "         -9.0689e-02,  7.7025e-01,  5.4496e-01,  2.4479e-02,  9.2908e-01],\n",
            "        [ 5.3135e-01,  2.9837e-01, -7.0364e-01,  8.2920e-01,  5.1368e-01,\n",
            "         -1.1200e+00, -8.0273e-01, -1.3167e-01,  8.4070e-01,  2.1637e+00],\n",
            "        [ 6.7635e-01,  7.1479e-01,  7.6066e-02,  1.5165e+00,  7.5270e-01,\n",
            "         -1.8839e+00, -5.5758e-02, -1.0800e+00,  1.7599e+00,  3.1455e+00],\n",
            "        [-1.2860e+00, -1.3933e+00,  2.5468e+00, -5.7150e-01,  6.9573e-02,\n",
            "          2.9335e-01, -6.9625e-01, -2.3413e-01,  1.6247e-01, -3.5105e-01],\n",
            "        [ 6.1553e-01,  6.1801e-01,  7.8953e-01, -1.3988e+00,  2.6120e-01,\n",
            "          5.4607e-01, -8.9494e-01, -1.0320e+00, -3.6717e-01, -2.6501e-01],\n",
            "        [-4.2147e-02,  6.1027e-01,  7.8671e-01,  1.5171e-01,  2.5051e+00,\n",
            "          1.2338e+00,  1.0189e+00, -3.1075e-01,  2.4525e-01, -5.3113e-01],\n",
            "        [ 6.0397e-01,  4.3333e-01,  4.7128e-02, -3.0810e-01, -4.4433e-02,\n",
            "         -9.1363e-02, -1.4887e+00,  8.9274e-01,  1.4534e+00,  2.8438e+00],\n",
            "        [ 1.6987e+00,  5.0961e-01, -6.5689e-02, -1.4423e-02, -3.3464e-01,\n",
            "          6.1401e-01,  1.7113e-01,  1.2397e+00,  7.4512e-01, -1.3800e+00],\n",
            "        [ 2.1752e-01, -3.6574e-01, -2.0910e-01, -3.0649e-01,  2.0205e+00,\n",
            "         -3.7320e-01, -7.3333e-02, -1.1973e-01,  1.9078e+00,  4.2441e-01],\n",
            "        [-6.6053e-02,  4.6353e-01,  1.1118e+00,  7.7744e-01, -1.1817e+00,\n",
            "          6.6521e-01, -1.0120e+00,  3.8190e-01, -7.8213e-01,  1.8276e-01],\n",
            "        [-1.4628e+00,  2.1245e+00, -1.0386e+00,  1.5048e-01,  1.0833e+00,\n",
            "         -5.3035e-01,  1.2221e+00, -5.0704e-01,  4.5462e-02,  5.3574e-01],\n",
            "        [-1.7468e+00, -5.1060e-01, -6.2109e-01, -5.9346e-01, -4.2958e-01,\n",
            "         -6.4515e-01,  1.1458e+00, -7.2668e-01,  1.0924e+00,  3.2036e-01],\n",
            "        [-1.3422e+00,  5.1905e-01,  5.4693e-01, -9.0282e-01, -2.0825e-01,\n",
            "          2.3692e-01, -1.8701e+00, -3.8281e-01, -9.4349e-02, -4.4773e-01],\n",
            "        [-6.6689e-01, -9.4588e-01, -2.4546e-01, -9.3665e-01,  6.5108e-02,\n",
            "         -3.3692e-01, -8.0654e-01, -4.1441e-01, -3.1331e-02, -1.1252e+00],\n",
            "        [ 1.7524e-01,  2.2395e-01, -5.1367e-01, -1.2872e+00,  1.5469e+00,\n",
            "          1.6347e+00, -3.9113e-01,  4.7343e-01, -7.2816e-01,  5.3454e-01],\n",
            "        [ 2.6342e-01,  1.3450e+00, -8.9428e-01, -2.5030e-01, -1.2762e+00,\n",
            "         -6.0880e-02,  1.3579e+00,  3.0967e-01, -2.6319e-02,  8.2977e-01],\n",
            "        [-5.5009e-01,  7.9968e-01,  8.9599e-01, -2.6131e-01, -1.5770e+00,\n",
            "          5.9600e-01, -6.8564e-02,  6.4537e-01,  1.5769e+00, -6.0254e-01],\n",
            "        [ 3.0476e-01, -1.1448e-02, -1.4179e+00, -6.7451e-01,  1.2031e-01,\n",
            "          7.5462e-01,  9.4458e-02,  1.3409e-01, -1.1914e+00, -9.3191e-03],\n",
            "        [ 1.2169e+00,  7.9998e-02, -4.3321e-01, -7.7685e-01, -8.4192e-01,\n",
            "         -6.2290e-01, -1.2877e+00, -1.4318e-01, -1.6974e-01, -4.1666e-01],\n",
            "        [-1.5045e-01,  6.5325e-01, -1.9113e+00,  2.9089e-01,  7.4814e-01,\n",
            "          3.5277e-01,  1.4270e+00, -1.1957e-01,  2.0253e-01, -1.0487e+00],\n",
            "        [ 2.2124e-01,  7.8176e-01,  5.1974e-01, -9.2754e-02, -5.1843e-01,\n",
            "         -7.6213e-01,  5.0139e-01, -6.4310e-01,  8.1428e-01,  9.3389e-03],\n",
            "        [ 1.2221e+00, -1.6693e+00,  1.1654e+00, -1.3084e+00, -3.9084e-01,\n",
            "          1.0607e+00,  7.8164e-01,  1.0627e+00, -1.7830e-01, -1.0539e+00],\n",
            "        [-6.9560e-01,  1.2039e+00,  1.1062e+00,  1.3035e+00,  2.0317e-01,\n",
            "          1.8109e-01, -7.0920e-02, -3.2531e-01, -5.6452e-01,  2.4345e-01],\n",
            "        [ 2.4142e-01,  7.6417e-01,  4.5118e-01,  2.6898e-01, -7.3877e-01,\n",
            "          5.3474e-01,  7.4661e-01, -5.8930e-01,  8.9616e-01, -7.5775e-01],\n",
            "        [-3.1345e-01,  1.5126e-02,  6.6880e-02,  6.7181e-01,  1.7821e+00,\n",
            "         -7.2438e-01, -7.1322e-01, -4.1470e-01, -7.2784e-01,  8.2199e-03],\n",
            "        [ 1.0844e+00, -2.7998e-02, -2.5452e+00, -5.9040e-02,  4.8620e-01,\n",
            "          4.1729e-01, -3.0352e-01, -2.7052e+00,  5.5051e-01,  5.0155e-01],\n",
            "        [-1.7552e+00,  1.0233e-01,  7.0392e-02, -9.4359e-03,  4.5401e-01,\n",
            "         -8.6785e-01, -3.3907e-01, -1.8069e-01, -7.3656e-01,  1.0171e+00],\n",
            "        [-4.0243e-01, -9.0457e-01,  2.9522e+00,  7.9816e-01,  9.6721e-01,\n",
            "          3.1841e-01, -2.1445e-01, -1.9799e+00,  1.3726e+00, -1.2086e+00]])\n",
            "X= tensor([[ 2.5088e+00, -7.3355e-02,  1.3575e+00, -1.5293e-01, -6.1139e-01,\n",
            "          2.8825e+00, -5.1439e-01, -8.5319e-01,  6.0157e-01, -1.2173e+00],\n",
            "        [ 1.0714e-01, -1.1895e+00,  1.4352e+00, -8.1780e-01, -9.0691e-01,\n",
            "          1.3510e+00,  3.2277e-01, -1.3035e+00, -6.9659e-01,  2.8406e+00],\n",
            "        [-2.4153e-01, -1.3474e+00, -2.6007e+00,  2.5001e+00, -4.0235e-01,\n",
            "         -5.1941e-01,  4.7142e-01, -7.2611e-01,  1.7231e+00, -1.3929e+00],\n",
            "        [-4.5459e-01, -6.1361e-01, -1.6427e-01, -5.8768e-01, -5.9564e-01,\n",
            "         -1.9578e+00,  8.0832e-02,  1.1806e+00, -3.2828e-01, -1.1588e+00],\n",
            "        [-6.5333e-01,  4.6117e-01, -5.1867e-01,  1.5441e-01, -1.1469e+00,\n",
            "          4.6710e-01, -1.7363e+00,  2.0118e-01, -8.6794e-02, -6.2378e-02],\n",
            "        [-7.4352e-02, -2.1073e-01,  2.7866e-01, -2.4349e-01, -5.1918e-01,\n",
            "          8.9384e-01, -8.5784e-01, -1.7130e+00,  8.4545e-02, -8.1790e-01],\n",
            "        [-2.9083e-01, -2.4773e+00,  5.4066e-01,  8.0801e-01, -8.8169e-01,\n",
            "          1.1515e-01,  1.5251e+00,  2.7803e-01,  7.0847e-01, -2.5972e+00],\n",
            "        [-8.2495e-01,  8.2671e-01, -4.9795e-01,  3.2980e-01,  7.8025e-01,\n",
            "         -6.8531e-01, -1.1658e+00,  1.9757e+00,  1.3488e+00, -1.4173e+00],\n",
            "        [ 3.4609e-01, -3.5109e-01,  6.2794e-01, -2.1023e+00, -6.8829e-02,\n",
            "         -1.1207e-01,  1.2338e+00, -4.7453e-01,  1.3644e+00,  4.9414e-01],\n",
            "        [-5.2819e-01,  1.1434e+00, -1.7415e-01, -7.6729e-01, -6.0505e-02,\n",
            "          1.1631e-01, -6.6792e-01, -4.6555e-01,  2.9402e-01,  1.2139e+00],\n",
            "        [ 1.7755e+00, -5.0735e-01, -2.8902e-01, -1.7908e+00, -1.8658e+00,\n",
            "         -3.2966e-01, -1.0278e+00,  1.1306e+00,  1.6806e+00,  1.2098e+00],\n",
            "        [-1.6970e+00, -1.2829e-01, -4.2892e-01, -4.4207e-01, -4.3427e-01,\n",
            "          2.0931e-01,  3.9243e-02, -2.2004e-01, -1.1211e-02,  1.6535e-01],\n",
            "        [-1.0643e+00, -2.1011e+00,  1.6553e-01,  1.0799e+00,  1.2322e-01,\n",
            "          3.7192e-01, -7.3945e-01, -1.1215e+00, -6.0165e-01, -5.7261e-01],\n",
            "        [-1.5335e+00,  1.8246e-01,  1.0117e+00, -1.2770e+00, -8.3127e-02,\n",
            "          5.8438e-01, -6.5636e-01, -1.5693e+00, -1.0589e-01, -1.7444e-01],\n",
            "        [ 2.1953e+00,  1.4754e-01, -9.4958e-01,  5.9607e-01,  9.5849e-01,\n",
            "         -8.9953e-01, -9.2741e-01, -4.9519e-01,  1.2871e-01, -1.2621e-01],\n",
            "        [ 3.3473e-01, -4.2852e-01,  1.4135e+00, -6.4436e-02, -9.7046e-01,\n",
            "          1.4753e+00,  4.1104e-01,  9.6213e-02,  1.0292e+00, -6.5127e-01],\n",
            "        [-9.0243e-01, -1.4429e+00,  4.9150e-01,  1.3985e+00,  7.3591e-01,\n",
            "          1.7280e+00, -1.9763e-01,  2.8365e+00, -8.7714e-01,  6.0129e-01],\n",
            "        [ 2.8692e-01,  2.1257e+00,  1.1388e+00,  2.5050e-02, -1.6279e-01,\n",
            "         -9.2088e-01,  2.6516e-02,  4.2762e-01,  5.2744e-01,  1.0602e+00],\n",
            "        [ 1.5354e+00,  4.3819e-01, -1.9526e-01, -1.5038e+00, -7.2852e-01,\n",
            "          2.0068e+00, -2.3790e+00, -2.7236e-01, -2.6197e-01, -8.2914e-01],\n",
            "        [-1.7358e+00, -2.7343e-01, -2.9437e-01, -3.8567e-01,  5.4350e-02,\n",
            "          9.4683e-01, -8.8942e-01,  1.1713e+00, -2.5131e+00, -1.2265e+00],\n",
            "        [ 4.7884e-01, -1.9366e+00,  6.7182e-01, -3.1183e-01,  1.4890e+00,\n",
            "          8.1463e-01,  5.0501e-01, -9.5890e-02, -5.6776e-01,  2.3189e-01],\n",
            "        [ 9.9566e-01, -2.0181e-01,  6.1676e-01,  1.2112e+00,  2.9654e-01,\n",
            "          1.2566e-01, -9.1227e-01,  6.4770e-01, -7.8884e-01, -7.5379e-03],\n",
            "        [ 8.7696e-01, -1.8739e+00,  1.3628e+00,  3.8578e-01, -1.0311e+00,\n",
            "         -1.3149e+00, -4.1149e-01,  9.5906e-02, -1.5464e-01, -7.6326e-01],\n",
            "        [-1.0596e+00, -6.9024e-04,  5.4935e-01, -1.1956e+00,  5.3691e-01,\n",
            "          4.3840e-01, -5.6740e-01, -3.9093e-02,  1.3671e-01,  1.3591e+00],\n",
            "        [-9.7284e-01, -4.0695e-01, -7.2329e-02,  2.4677e+00, -1.2170e+00,\n",
            "          3.5080e-01, -6.8237e-01, -5.2719e-01, -5.1394e-01,  7.9674e-02],\n",
            "        [-9.3289e-01, -5.9851e-01, -1.1145e-01,  2.1827e+00,  1.1170e+00,\n",
            "          1.6329e+00, -1.0948e+00, -9.5067e-01,  7.3487e-01,  4.4172e-01],\n",
            "        [ 9.8617e-01, -1.2098e+00, -8.3221e-01,  6.3911e-01,  6.1575e-01,\n",
            "          6.8023e-01,  9.9849e-01,  7.7275e-01,  1.5825e+00, -6.8418e-01],\n",
            "        [ 3.9801e-01,  9.5794e-01,  9.5058e-01,  1.2161e+00, -8.5605e-01,\n",
            "          1.3933e+00,  1.6699e-01, -1.4039e+00, -5.0051e-01, -9.0481e-01],\n",
            "        [ 3.3690e-01, -4.4562e-01,  2.1471e+00, -3.2170e-02, -3.7408e-01,\n",
            "         -9.1324e-01, -4.3953e-01,  4.6533e-02, -1.3165e-01, -7.1441e-01],\n",
            "        [ 4.4656e-01, -1.0639e+00,  7.2359e-02,  4.1708e-01,  2.2557e+00,\n",
            "         -2.2329e-01, -3.6567e-01,  9.3909e-01,  4.7254e-01, -2.1420e-01],\n",
            "        [-2.6515e-01,  1.5981e-01, -1.8432e-01, -6.7491e-01, -1.8417e+00,\n",
            "          9.0034e-01,  7.7812e-01, -2.1494e+00, -2.7666e-02,  1.5581e+00],\n",
            "        [ 1.1130e+00, -8.8544e-01,  1.1993e+00, -2.4397e-01,  4.5805e-01,\n",
            "         -7.6521e-01, -9.0009e-01, -9.5916e-01,  1.3905e+00,  6.2641e-01],\n",
            "        [-3.0375e-01, -2.2913e-01, -2.7633e+00,  4.6259e-01,  7.8016e-02,\n",
            "          4.5326e-01,  1.2277e-01, -1.6945e-01, -7.4232e-01,  2.9281e-02],\n",
            "        [-7.5206e-01, -4.3307e-01, -1.1243e+00, -3.8789e-01,  1.3306e+00,\n",
            "          7.2617e-02,  1.3487e-01, -1.0267e+00, -7.7575e-01, -5.7894e-01],\n",
            "        [ 7.0382e-01,  3.0857e-01,  1.0845e+00,  3.4144e-01,  1.6001e-01,\n",
            "          2.4867e-01,  2.1315e-02,  7.2677e-01,  1.0465e+00,  7.5118e-01],\n",
            "        [ 1.8894e-01, -1.5541e+00,  7.0352e-01,  1.0995e-01,  4.9531e-02,\n",
            "         -2.6085e-01,  4.4815e-02, -6.0807e-01, -9.9365e-01,  5.6837e-01],\n",
            "        [ 8.9888e-01, -1.2266e+00,  1.0776e+00, -1.7659e+00,  7.4156e-03,\n",
            "         -1.2591e+00,  2.3788e-01,  6.2375e-02,  4.9547e-01, -1.3960e+00],\n",
            "        [ 2.4351e+00,  2.5322e-01,  8.8075e-01,  8.6156e-01, -1.5976e+00,\n",
            "         -3.9701e-03, -1.2172e+00, -8.3190e-01, -2.9255e-02,  8.3760e-03],\n",
            "        [-1.1102e+00, -9.0337e-01,  1.4656e+00,  6.4363e-01,  1.2007e+00,\n",
            "         -1.8254e+00,  1.4459e-01,  2.9218e-01,  5.0890e-01,  3.1805e-01],\n",
            "        [ 1.2259e-01, -1.1056e+00,  1.5861e+00, -1.2541e+00,  4.1111e-01,\n",
            "         -6.3950e-01,  1.9538e+00,  6.2167e-01,  3.6640e-01,  1.7733e-01],\n",
            "        [-1.4041e-01, -3.4550e-01, -7.8624e-01,  5.5300e-01,  8.9662e-01,\n",
            "         -1.7287e+00,  8.2752e-01, -7.7322e-01,  1.7543e-01,  5.2799e-02],\n",
            "        [ 9.0084e-02, -1.1521e+00, -1.0971e+00,  1.9382e-01,  1.8911e+00,\n",
            "         -1.0603e-01,  7.3810e-01, -3.6766e-02,  4.8052e-01, -8.6355e-01],\n",
            "        [-4.8059e-01, -4.5519e-01, -1.6798e+00, -2.3762e-01,  3.1825e-01,\n",
            "         -1.0064e+00,  5.4391e-01,  4.3100e-01, -3.5460e-01,  1.1873e+00],\n",
            "        [ 1.3066e+00,  2.7629e-01,  4.7636e-01,  9.8557e-01, -4.6272e-01,\n",
            "         -1.1581e+00,  3.1160e-02, -7.4167e-01,  1.1089e+00, -1.8839e-01],\n",
            "        [ 8.8237e-01,  6.5077e-01, -2.9421e-01, -2.2533e-01,  1.1609e-02,\n",
            "         -1.0975e+00, -8.2976e-01,  1.1968e+00, -3.2458e-01, -4.0780e-01],\n",
            "        [ 1.7972e+00,  1.2260e+00, -9.1265e-01,  1.1109e+00, -4.5327e-01,\n",
            "          1.4459e-01, -6.7398e-01,  1.0158e+00,  5.7591e-01,  1.5194e+00],\n",
            "        [-5.8204e-02,  5.0578e-01,  1.0789e+00,  9.2152e-01,  3.1675e-01,\n",
            "         -1.3849e-01, -2.1678e+00,  2.3508e-01,  5.8129e-01,  1.1439e+00],\n",
            "        [ 1.7332e+00, -2.4058e+00, -1.9400e-01,  2.2338e-01,  1.3849e-01,\n",
            "         -9.3318e-01,  1.2026e+00, -6.7343e-01,  8.2611e-01,  2.2349e-01],\n",
            "        [ 1.5730e+00,  2.0479e-01, -1.5066e-01,  1.1103e-01, -1.2072e+00,\n",
            "         -4.5792e-01,  9.0187e-01,  1.0818e-01, -1.1785e-01, -1.2135e+00],\n",
            "        [ 1.2234e+00, -9.7779e-01,  3.9373e-01, -1.5591e+00, -6.4376e-01,\n",
            "          1.0053e+00, -1.4843e+00,  7.3772e-01,  6.1075e-01, -4.4076e-01],\n",
            "        [-5.0329e-02,  1.1159e+00, -8.9088e-01,  5.8242e-01, -9.7645e-01,\n",
            "         -1.1744e+00, -1.4981e+00, -9.0161e-01,  6.8793e-01,  3.8678e-01],\n",
            "        [-5.3634e-01, -2.7411e-01,  6.6652e-01,  2.5402e-01, -3.4375e-01,\n",
            "         -1.9230e+00, -2.8704e-01,  5.2020e-01,  1.5329e+00, -1.0454e+00],\n",
            "        [-2.5545e-01,  2.7947e+00,  3.2945e-01, -1.1059e+00, -3.4687e-01,\n",
            "         -6.8431e-01, -1.2121e+00,  9.8055e-01,  9.7972e-02,  1.1652e+00],\n",
            "        [ 6.5182e-01, -3.9498e-01,  1.6357e+00,  1.0467e-01, -1.4823e-01,\n",
            "          1.3949e+00,  9.9090e-01,  3.8106e-01,  3.4483e-01,  4.7322e-01],\n",
            "        [-2.0375e-02, -2.4250e+00, -1.5842e+00,  6.5922e-01, -3.3992e-01,\n",
            "          6.0753e-01,  1.2995e+00,  2.8555e-01, -4.0524e-01,  2.1528e-01],\n",
            "        [-1.0562e+00, -1.6182e+00,  9.7560e-02,  1.6820e+00,  1.3936e+00,\n",
            "         -1.1625e+00,  1.5831e+00,  2.9707e-01, -4.0413e-02,  8.5834e-01],\n",
            "        [ 1.9314e+00, -4.0401e-01, -3.6700e-01,  1.7093e+00, -5.8463e-01,\n",
            "          7.3066e-01,  1.7418e-01, -3.4903e-01,  1.5907e+00, -3.5006e-01],\n",
            "        [ 3.2948e-01, -4.6653e-01, -4.7027e-01,  1.3168e+00,  2.8290e-01,\n",
            "          9.6073e-01, -3.7917e-01, -8.0223e-01,  8.9097e-01,  8.0972e-01],\n",
            "        [ 5.8645e-01, -7.7755e-01, -1.0813e+00, -5.9650e-01,  1.2931e+00,\n",
            "          1.3477e+00,  9.6610e-01,  1.5677e-01, -6.7796e-01,  1.9932e-01],\n",
            "        [ 4.1102e-01, -6.5861e-01, -1.0844e+00,  2.6597e-01,  4.8775e-01,\n",
            "          8.1070e-01,  1.3993e+00,  4.1189e-01, -4.1826e-01, -8.3420e-02],\n",
            "        [ 1.5142e+00, -1.6412e+00,  6.4247e-02, -4.4375e-01, -6.1804e-01,\n",
            "         -1.5733e-01, -1.0236e+00,  1.6377e+00,  1.3452e+00,  2.4878e+00],\n",
            "        [-9.1050e-01,  1.4284e-01,  1.2552e+00,  9.9272e-02, -1.5335e-01,\n",
            "         -2.4634e+00, -4.0865e-01,  6.7445e-01,  1.9434e+00,  1.1150e-01],\n",
            "        [-5.0144e-01, -1.0794e+00,  3.7034e-01,  3.5671e-01, -1.9356e+00,\n",
            "         -4.7392e-01, -2.2754e-02,  1.4154e+00,  8.3198e-01,  2.2076e+00],\n",
            "        [-8.0047e-01,  1.4353e+00,  1.2493e+00,  6.5640e-02, -4.4960e-02,\n",
            "         -1.2825e+00, -4.2963e-01,  1.3258e+00, -1.1516e-01,  6.1818e-01],\n",
            "        [-5.2815e-01, -1.0094e+00,  9.0265e-01,  1.2279e+00,  1.1839e+00,\n",
            "         -5.9054e-02,  8.6819e-03, -1.3649e+00,  1.7345e+00, -1.4797e-01],\n",
            "        [ 4.5984e-01,  8.3506e-01,  7.0656e-01, -3.7237e-01,  1.3345e+00,\n",
            "         -9.3217e-01,  1.7723e-01, -2.1893e+00, -1.5804e+00,  3.9456e-01],\n",
            "        [-6.1622e-01,  1.5215e+00, -9.0596e-01, -4.0090e-01, -2.7041e+00,\n",
            "         -1.1020e+00, -6.3800e-01,  1.5240e+00, -1.6516e-01,  5.0862e-02],\n",
            "        [ 1.7396e+00,  1.3168e+00,  1.9678e+00, -1.3001e+00, -1.5173e+00,\n",
            "         -7.6029e-01,  1.7514e+00,  2.5171e-01,  8.4940e-02, -3.9900e-01],\n",
            "        [-1.4268e+00,  4.8574e-01, -3.3649e-01,  6.6806e-01, -7.4327e-01,\n",
            "          3.7132e-01, -3.9787e-01,  4.0733e-01,  1.4060e+00, -7.5519e-01],\n",
            "        [ 1.0582e+00, -1.1382e+00,  1.8362e-01, -1.1144e+00, -1.4657e+00,\n",
            "         -3.0329e-01, -2.2383e-01,  5.4303e-01, -8.9290e-01, -9.9843e-01],\n",
            "        [-3.2328e-01,  2.7268e+00, -1.6640e+00,  1.2136e+00,  5.8757e-01,\n",
            "         -8.5796e-01, -1.1297e+00, -1.5021e-01,  7.9193e-01, -5.3316e-01],\n",
            "        [ 1.0340e+00, -2.4416e-01, -1.9729e-01,  3.6208e-02, -6.6916e-01,\n",
            "          8.4338e-01,  1.6814e-01, -2.0527e-01,  4.8933e-01, -1.4371e-01],\n",
            "        [ 3.8464e-01, -7.5837e-01,  1.9821e-01, -1.9719e-01,  5.1875e-01,\n",
            "         -9.0689e-02,  7.7025e-01,  5.4496e-01,  2.4479e-02,  9.2908e-01],\n",
            "        [ 5.3135e-01,  2.9837e-01, -7.0364e-01,  8.2920e-01,  5.1368e-01,\n",
            "         -1.1200e+00, -8.0273e-01, -1.3167e-01,  8.4070e-01,  2.1637e+00],\n",
            "        [ 6.7635e-01,  7.1479e-01,  7.6066e-02,  1.5165e+00,  7.5270e-01,\n",
            "         -1.8839e+00, -5.5758e-02, -1.0800e+00,  1.7599e+00,  3.1455e+00],\n",
            "        [-1.2860e+00, -1.3933e+00,  2.5468e+00, -5.7150e-01,  6.9573e-02,\n",
            "          2.9335e-01, -6.9625e-01, -2.3413e-01,  1.6247e-01, -3.5105e-01],\n",
            "        [ 6.1553e-01,  6.1801e-01,  7.8953e-01, -1.3988e+00,  2.6120e-01,\n",
            "          5.4607e-01, -8.9494e-01, -1.0320e+00, -3.6717e-01, -2.6501e-01],\n",
            "        [-4.2147e-02,  6.1027e-01,  7.8671e-01,  1.5171e-01,  2.5051e+00,\n",
            "          1.2338e+00,  1.0189e+00, -3.1075e-01,  2.4525e-01, -5.3113e-01],\n",
            "        [ 6.0397e-01,  4.3333e-01,  4.7128e-02, -3.0810e-01, -4.4433e-02,\n",
            "         -9.1363e-02, -1.4887e+00,  8.9274e-01,  1.4534e+00,  2.8438e+00],\n",
            "        [ 1.6987e+00,  5.0961e-01, -6.5689e-02, -1.4423e-02, -3.3464e-01,\n",
            "          6.1401e-01,  1.7113e-01,  1.2397e+00,  7.4512e-01, -1.3800e+00],\n",
            "        [ 2.1752e-01, -3.6574e-01, -2.0910e-01, -3.0649e-01,  2.0205e+00,\n",
            "         -3.7320e-01, -7.3333e-02, -1.1973e-01,  1.9078e+00,  4.2441e-01],\n",
            "        [-6.6053e-02,  4.6353e-01,  1.1118e+00,  7.7744e-01, -1.1817e+00,\n",
            "          6.6521e-01, -1.0120e+00,  3.8190e-01, -7.8213e-01,  1.8276e-01],\n",
            "        [-1.4628e+00,  2.1245e+00, -1.0386e+00,  1.5048e-01,  1.0833e+00,\n",
            "         -5.3035e-01,  1.2221e+00, -5.0704e-01,  4.5462e-02,  5.3574e-01],\n",
            "        [-1.7468e+00, -5.1060e-01, -6.2109e-01, -5.9346e-01, -4.2958e-01,\n",
            "         -6.4515e-01,  1.1458e+00, -7.2668e-01,  1.0924e+00,  3.2036e-01],\n",
            "        [-1.3422e+00,  5.1905e-01,  5.4693e-01, -9.0282e-01, -2.0825e-01,\n",
            "          2.3692e-01, -1.8701e+00, -3.8281e-01, -9.4349e-02, -4.4773e-01],\n",
            "        [-6.6689e-01, -9.4588e-01, -2.4546e-01, -9.3665e-01,  6.5108e-02,\n",
            "         -3.3692e-01, -8.0654e-01, -4.1441e-01, -3.1331e-02, -1.1252e+00],\n",
            "        [ 1.7524e-01,  2.2395e-01, -5.1367e-01, -1.2872e+00,  1.5469e+00,\n",
            "          1.6347e+00, -3.9113e-01,  4.7343e-01, -7.2816e-01,  5.3454e-01],\n",
            "        [ 2.6342e-01,  1.3450e+00, -8.9428e-01, -2.5030e-01, -1.2762e+00,\n",
            "         -6.0880e-02,  1.3579e+00,  3.0967e-01, -2.6319e-02,  8.2977e-01],\n",
            "        [-5.5009e-01,  7.9968e-01,  8.9599e-01, -2.6131e-01, -1.5770e+00,\n",
            "          5.9600e-01, -6.8564e-02,  6.4537e-01,  1.5769e+00, -6.0254e-01],\n",
            "        [ 3.0476e-01, -1.1448e-02, -1.4179e+00, -6.7451e-01,  1.2031e-01,\n",
            "          7.5462e-01,  9.4458e-02,  1.3409e-01, -1.1914e+00, -9.3191e-03],\n",
            "        [ 1.2169e+00,  7.9998e-02, -4.3321e-01, -7.7685e-01, -8.4192e-01,\n",
            "         -6.2290e-01, -1.2877e+00, -1.4318e-01, -1.6974e-01, -4.1666e-01],\n",
            "        [-1.5045e-01,  6.5325e-01, -1.9113e+00,  2.9089e-01,  7.4814e-01,\n",
            "          3.5277e-01,  1.4270e+00, -1.1957e-01,  2.0253e-01, -1.0487e+00],\n",
            "        [ 2.2124e-01,  7.8176e-01,  5.1974e-01, -9.2754e-02, -5.1843e-01,\n",
            "         -7.6213e-01,  5.0139e-01, -6.4310e-01,  8.1428e-01,  9.3389e-03],\n",
            "        [ 1.2221e+00, -1.6693e+00,  1.1654e+00, -1.3084e+00, -3.9084e-01,\n",
            "          1.0607e+00,  7.8164e-01,  1.0627e+00, -1.7830e-01, -1.0539e+00],\n",
            "        [-6.9560e-01,  1.2039e+00,  1.1062e+00,  1.3035e+00,  2.0317e-01,\n",
            "          1.8109e-01, -7.0920e-02, -3.2531e-01, -5.6452e-01,  2.4345e-01],\n",
            "        [ 2.4142e-01,  7.6417e-01,  4.5118e-01,  2.6898e-01, -7.3877e-01,\n",
            "          5.3474e-01,  7.4661e-01, -5.8930e-01,  8.9616e-01, -7.5775e-01],\n",
            "        [-3.1345e-01,  1.5126e-02,  6.6880e-02,  6.7181e-01,  1.7821e+00,\n",
            "         -7.2438e-01, -7.1322e-01, -4.1470e-01, -7.2784e-01,  8.2199e-03],\n",
            "        [ 1.0844e+00, -2.7998e-02, -2.5452e+00, -5.9040e-02,  4.8620e-01,\n",
            "          4.1729e-01, -3.0352e-01, -2.7052e+00,  5.5051e-01,  5.0155e-01],\n",
            "        [-1.7552e+00,  1.0233e-01,  7.0392e-02, -9.4359e-03,  4.5401e-01,\n",
            "         -8.6785e-01, -3.3907e-01, -1.8069e-01, -7.3656e-01,  1.0171e+00],\n",
            "        [-4.0243e-01, -9.0457e-01,  2.9522e+00,  7.9816e-01,  9.6721e-01,\n",
            "          3.1841e-01, -2.1445e-01, -1.9799e+00,  1.3726e+00, -1.2086e+00]])\n",
            "----------------------------------------------\n",
            "y= tensor([[ 7.5264e+00, -7.3355e-02,  4.0725e+00, -1.5293e-01, -6.1139e-01,\n",
            "          8.6475e+00, -5.1439e-01, -8.5319e-01,  1.8047e+00, -1.2173e+00],\n",
            "        [ 3.2143e-01, -1.1895e+00,  4.3055e+00, -8.1780e-01, -9.0691e-01,\n",
            "          4.0529e+00,  9.6830e-01, -1.3035e+00, -6.9659e-01,  8.5217e+00],\n",
            "        [-2.4153e-01, -1.3474e+00, -2.6007e+00,  7.5002e+00, -4.0235e-01,\n",
            "         -5.1941e-01,  1.4143e+00, -7.2611e-01,  5.1694e+00, -1.3929e+00],\n",
            "        [-4.5459e-01, -6.1361e-01, -1.6427e-01, -5.8768e-01, -5.9564e-01,\n",
            "         -1.9578e+00,  2.4249e-01,  3.5417e+00, -3.2828e-01, -1.1588e+00],\n",
            "        [-6.5333e-01,  1.3835e+00, -5.1867e-01,  4.6323e-01, -1.1469e+00,\n",
            "          1.4013e+00, -1.7363e+00,  6.0355e-01, -8.6794e-02, -6.2378e-02],\n",
            "        [-7.4352e-02, -2.1073e-01,  8.3598e-01, -2.4349e-01, -5.1918e-01,\n",
            "          2.6815e+00, -8.5784e-01, -1.7130e+00,  2.5364e-01, -8.1790e-01],\n",
            "        [-2.9083e-01, -2.4773e+00,  1.6220e+00,  2.4240e+00, -8.8169e-01,\n",
            "          3.4545e-01,  4.5753e+00,  8.3408e-01,  2.1254e+00, -2.5972e+00],\n",
            "        [-8.2495e-01,  2.4801e+00, -4.9795e-01,  9.8939e-01,  2.3407e+00,\n",
            "         -6.8531e-01, -1.1658e+00,  5.9270e+00,  4.0465e+00, -1.4173e+00],\n",
            "        [ 1.0383e+00, -3.5109e-01,  1.8838e+00, -2.1023e+00, -6.8829e-02,\n",
            "         -1.1207e-01,  3.7013e+00, -4.7453e-01,  4.0931e+00,  1.4824e+00],\n",
            "        [-5.2819e-01,  3.4301e+00, -1.7415e-01, -7.6729e-01, -6.0505e-02,\n",
            "          3.4894e-01, -6.6792e-01, -4.6555e-01,  8.8206e-01,  3.6416e+00],\n",
            "        [ 5.3265e+00, -5.0735e-01, -2.8902e-01, -1.7908e+00, -1.8658e+00,\n",
            "         -3.2966e-01, -1.0278e+00,  3.3917e+00,  5.0418e+00,  3.6293e+00],\n",
            "        [-1.6970e+00, -1.2829e-01, -4.2892e-01, -4.4207e-01, -4.3427e-01,\n",
            "          6.2792e-01,  1.1773e-01, -2.2004e-01, -1.1211e-02,  4.9604e-01],\n",
            "        [-1.0643e+00, -2.1011e+00,  4.9660e-01,  3.2398e+00,  3.6967e-01,\n",
            "          1.1157e+00, -7.3945e-01, -1.1215e+00, -6.0165e-01, -5.7261e-01],\n",
            "        [-1.5335e+00,  5.4737e-01,  3.0352e+00, -1.2770e+00, -8.3127e-02,\n",
            "          1.7531e+00, -6.5636e-01, -1.5693e+00, -1.0589e-01, -1.7444e-01],\n",
            "        [ 6.5860e+00,  4.4262e-01, -9.4958e-01,  1.7882e+00,  2.8755e+00,\n",
            "         -8.9953e-01, -9.2741e-01, -4.9519e-01,  3.8614e-01, -1.2621e-01],\n",
            "        [ 1.0042e+00, -4.2852e-01,  4.2406e+00, -6.4436e-02, -9.7046e-01,\n",
            "          4.4258e+00,  1.2331e+00,  2.8864e-01,  3.0877e+00, -6.5127e-01],\n",
            "        [-9.0243e-01, -1.4429e+00,  1.4745e+00,  4.1956e+00,  2.2077e+00,\n",
            "          5.1840e+00, -1.9763e-01,  8.5094e+00, -8.7714e-01,  1.8039e+00],\n",
            "        [ 8.6077e-01,  6.3772e+00,  3.4164e+00,  7.5149e-02, -1.6279e-01,\n",
            "         -9.2088e-01,  7.9549e-02,  1.2829e+00,  1.5823e+00,  3.1805e+00],\n",
            "        [ 4.6063e+00,  1.3146e+00, -1.9526e-01, -1.5038e+00, -7.2852e-01,\n",
            "          6.0205e+00, -2.3790e+00, -2.7236e-01, -2.6197e-01, -8.2914e-01],\n",
            "        [-1.7358e+00, -2.7343e-01, -2.9437e-01, -3.8567e-01,  1.6305e-01,\n",
            "          2.8405e+00, -8.8942e-01,  3.5139e+00, -2.5131e+00, -1.2265e+00],\n",
            "        [ 1.4365e+00, -1.9366e+00,  2.0155e+00, -3.1183e-01,  4.4669e+00,\n",
            "          2.4439e+00,  1.5150e+00, -9.5890e-02, -5.6776e-01,  6.9566e-01],\n",
            "        [ 2.9870e+00, -2.0181e-01,  1.8503e+00,  3.6335e+00,  8.8963e-01,\n",
            "          3.7699e-01, -9.1227e-01,  1.9431e+00, -7.8884e-01, -7.5379e-03],\n",
            "        [ 2.6309e+00, -1.8739e+00,  4.0883e+00,  1.1573e+00, -1.0311e+00,\n",
            "         -1.3149e+00, -4.1149e-01,  2.8772e-01, -1.5464e-01, -7.6326e-01],\n",
            "        [-1.0596e+00, -6.9024e-04,  1.6480e+00, -1.1956e+00,  1.6107e+00,\n",
            "          1.3152e+00, -5.6740e-01, -3.9093e-02,  4.1014e-01,  4.0772e+00],\n",
            "        [-9.7284e-01, -4.0695e-01, -7.2329e-02,  7.4030e+00, -1.2170e+00,\n",
            "          1.0524e+00, -6.8237e-01, -5.2719e-01, -5.1394e-01,  2.3902e-01],\n",
            "        [-9.3289e-01, -5.9851e-01, -1.1145e-01,  6.5481e+00,  3.3509e+00,\n",
            "          4.8987e+00, -1.0948e+00, -9.5067e-01,  2.2046e+00,  1.3252e+00],\n",
            "        [ 2.9585e+00, -1.2098e+00, -8.3221e-01,  1.9173e+00,  1.8473e+00,\n",
            "          2.0407e+00,  2.9955e+00,  2.3183e+00,  4.7476e+00, -6.8418e-01],\n",
            "        [ 1.1940e+00,  2.8738e+00,  2.8517e+00,  3.6482e+00, -8.5605e-01,\n",
            "          4.1798e+00,  5.0096e-01, -1.4039e+00, -5.0051e-01, -9.0481e-01],\n",
            "        [ 1.0107e+00, -4.4562e-01,  6.4413e+00, -3.2170e-02, -3.7408e-01,\n",
            "         -9.1324e-01, -4.3953e-01,  1.3960e-01, -1.3165e-01, -7.1441e-01],\n",
            "        [ 1.3397e+00, -1.0639e+00,  2.1708e-01,  1.2512e+00,  6.7671e+00,\n",
            "         -2.2329e-01, -3.6567e-01,  2.8173e+00,  1.4176e+00, -2.1420e-01],\n",
            "        [-2.6515e-01,  4.7942e-01, -1.8432e-01, -6.7491e-01, -1.8417e+00,\n",
            "          2.7010e+00,  2.3343e+00, -2.1494e+00, -2.7666e-02,  4.6744e+00],\n",
            "        [ 3.3389e+00, -8.8544e-01,  3.5979e+00, -2.4397e-01,  1.3742e+00,\n",
            "         -7.6521e-01, -9.0009e-01, -9.5916e-01,  4.1715e+00,  1.8792e+00],\n",
            "        [-3.0375e-01, -2.2913e-01, -2.7633e+00,  1.3878e+00,  2.3405e-01,\n",
            "          1.3598e+00,  3.6832e-01, -1.6945e-01, -7.4232e-01,  8.7843e-02],\n",
            "        [-7.5206e-01, -4.3307e-01, -1.1243e+00, -3.8789e-01,  3.9918e+00,\n",
            "          2.1785e-01,  4.0461e-01, -1.0267e+00, -7.7575e-01, -5.7894e-01],\n",
            "        [ 2.1115e+00,  9.2570e-01,  3.2534e+00,  1.0243e+00,  4.8003e-01,\n",
            "          7.4602e-01,  6.3945e-02,  2.1803e+00,  3.1396e+00,  2.2535e+00],\n",
            "        [ 5.6682e-01, -1.5541e+00,  2.1106e+00,  3.2986e-01,  1.4859e-01,\n",
            "         -2.6085e-01,  1.3445e-01, -6.0807e-01, -9.9365e-01,  1.7051e+00],\n",
            "        [ 2.6966e+00, -1.2266e+00,  3.2328e+00, -1.7659e+00,  2.2247e-02,\n",
            "         -1.2591e+00,  7.1364e-01,  1.8713e-01,  1.4864e+00, -1.3960e+00],\n",
            "        [ 7.3054e+00,  7.5967e-01,  2.6422e+00,  2.5847e+00, -1.5976e+00,\n",
            "         -3.9701e-03, -1.2172e+00, -8.3190e-01, -2.9255e-02,  2.5128e-02],\n",
            "        [-1.1102e+00, -9.0337e-01,  4.3968e+00,  1.9309e+00,  3.6021e+00,\n",
            "         -1.8254e+00,  4.3377e-01,  8.7653e-01,  1.5267e+00,  9.5416e-01],\n",
            "        [ 3.6777e-01, -1.1056e+00,  4.7582e+00, -1.2541e+00,  1.2333e+00,\n",
            "         -6.3950e-01,  5.8615e+00,  1.8650e+00,  1.0992e+00,  5.3200e-01],\n",
            "        [-1.4041e-01, -3.4550e-01, -7.8624e-01,  1.6590e+00,  2.6899e+00,\n",
            "         -1.7287e+00,  2.4826e+00, -7.7322e-01,  5.2630e-01,  1.5840e-01],\n",
            "        [ 2.7025e-01, -1.1521e+00, -1.0971e+00,  5.8147e-01,  5.6732e+00,\n",
            "         -1.0603e-01,  2.2143e+00, -3.6766e-02,  1.4415e+00, -8.6355e-01],\n",
            "        [-4.8059e-01, -4.5519e-01, -1.6798e+00, -2.3762e-01,  9.5474e-01,\n",
            "         -1.0064e+00,  1.6317e+00,  1.2930e+00, -3.5460e-01,  3.5620e+00],\n",
            "        [ 3.9199e+00,  8.2887e-01,  1.4291e+00,  2.9567e+00, -4.6272e-01,\n",
            "         -1.1581e+00,  9.3481e-02, -7.4167e-01,  3.3267e+00, -1.8839e-01],\n",
            "        [ 2.6471e+00,  1.9523e+00, -2.9421e-01, -2.2533e-01,  3.4828e-02,\n",
            "         -1.0975e+00, -8.2976e-01,  3.5905e+00, -3.2458e-01, -4.0780e-01],\n",
            "        [ 5.3916e+00,  3.6779e+00, -9.1265e-01,  3.3328e+00, -4.5327e-01,\n",
            "          4.3376e-01, -6.7398e-01,  3.0473e+00,  1.7277e+00,  4.5583e+00],\n",
            "        [-5.8204e-02,  1.5174e+00,  3.2367e+00,  2.7646e+00,  9.5026e-01,\n",
            "         -1.3849e-01, -2.1678e+00,  7.0523e-01,  1.7439e+00,  3.4317e+00],\n",
            "        [ 5.1996e+00, -2.4058e+00, -1.9400e-01,  6.7014e-01,  4.1548e-01,\n",
            "         -9.3318e-01,  3.6078e+00, -6.7343e-01,  2.4783e+00,  6.7048e-01],\n",
            "        [ 4.7189e+00,  6.1437e-01, -1.5066e-01,  3.3310e-01, -1.2072e+00,\n",
            "         -4.5792e-01,  2.7056e+00,  3.2455e-01, -1.1785e-01, -1.2135e+00],\n",
            "        [ 3.6703e+00, -9.7779e-01,  1.1812e+00, -1.5591e+00, -6.4376e-01,\n",
            "          3.0159e+00, -1.4843e+00,  2.2132e+00,  1.8322e+00, -4.4076e-01],\n",
            "        [-5.0329e-02,  3.3476e+00, -8.9088e-01,  1.7473e+00, -9.7645e-01,\n",
            "         -1.1744e+00, -1.4981e+00, -9.0161e-01,  2.0638e+00,  1.1604e+00],\n",
            "        [-5.3634e-01, -2.7411e-01,  1.9996e+00,  7.6206e-01, -3.4375e-01,\n",
            "         -1.9230e+00, -2.8704e-01,  1.5606e+00,  4.5988e+00, -1.0454e+00],\n",
            "        [-2.5545e-01,  8.3842e+00,  9.8836e-01, -1.1059e+00, -3.4687e-01,\n",
            "         -6.8431e-01, -1.2121e+00,  2.9416e+00,  2.9392e-01,  3.4955e+00],\n",
            "        [ 1.9555e+00, -3.9498e-01,  4.9072e+00,  3.1402e-01, -1.4823e-01,\n",
            "          4.1848e+00,  2.9727e+00,  1.1432e+00,  1.0345e+00,  1.4197e+00],\n",
            "        [-2.0375e-02, -2.4250e+00, -1.5842e+00,  1.9776e+00, -3.3992e-01,\n",
            "          1.8226e+00,  3.8986e+00,  8.5666e-01, -4.0524e-01,  6.4583e-01],\n",
            "        [-1.0562e+00, -1.6182e+00,  2.9268e-01,  5.0459e+00,  4.1807e+00,\n",
            "         -1.1625e+00,  4.7494e+00,  8.9120e-01, -4.0413e-02,  2.5750e+00],\n",
            "        [ 5.7942e+00, -4.0401e-01, -3.6700e-01,  5.1279e+00, -5.8463e-01,\n",
            "          2.1920e+00,  5.2254e-01, -3.4903e-01,  4.7722e+00, -3.5006e-01],\n",
            "        [ 9.8843e-01, -4.6653e-01, -4.7027e-01,  3.9504e+00,  8.4870e-01,\n",
            "          2.8822e+00, -3.7917e-01, -8.0223e-01,  2.6729e+00,  2.4292e+00],\n",
            "        [ 1.7594e+00, -7.7755e-01, -1.0813e+00, -5.9650e-01,  3.8792e+00,\n",
            "          4.0432e+00,  2.8983e+00,  4.7031e-01, -6.7796e-01,  5.9795e-01],\n",
            "        [ 1.2331e+00, -6.5861e-01, -1.0844e+00,  7.9791e-01,  1.4633e+00,\n",
            "          2.4321e+00,  4.1980e+00,  1.2357e+00, -4.1826e-01, -8.3420e-02],\n",
            "        [ 4.5426e+00, -1.6412e+00,  1.9274e-01, -4.4375e-01, -6.1804e-01,\n",
            "         -1.5733e-01, -1.0236e+00,  4.9130e+00,  4.0355e+00,  7.4633e+00],\n",
            "        [-9.1050e-01,  4.2853e-01,  3.7656e+00,  2.9782e-01, -1.5335e-01,\n",
            "         -2.4634e+00, -4.0865e-01,  2.0234e+00,  5.8301e+00,  3.3451e-01],\n",
            "        [-5.0144e-01, -1.0794e+00,  1.1110e+00,  1.0701e+00, -1.9356e+00,\n",
            "         -4.7392e-01, -2.2754e-02,  4.2463e+00,  2.4959e+00,  6.6228e+00],\n",
            "        [-8.0047e-01,  4.3059e+00,  3.7480e+00,  1.9692e-01, -4.4960e-02,\n",
            "         -1.2825e+00, -4.2963e-01,  3.9775e+00, -1.1516e-01,  1.8546e+00],\n",
            "        [-5.2815e-01, -1.0094e+00,  2.7080e+00,  3.6837e+00,  3.5516e+00,\n",
            "         -5.9054e-02,  2.6046e-02, -1.3649e+00,  5.2035e+00, -1.4797e-01],\n",
            "        [ 1.3795e+00,  2.5052e+00,  2.1197e+00, -3.7237e-01,  4.0036e+00,\n",
            "         -9.3217e-01,  5.3168e-01, -2.1893e+00, -1.5804e+00,  1.1837e+00],\n",
            "        [-6.1622e-01,  4.5645e+00, -9.0596e-01, -4.0090e-01, -2.7041e+00,\n",
            "         -1.1020e+00, -6.3800e-01,  4.5720e+00, -1.6516e-01,  1.5259e-01],\n",
            "        [ 5.2188e+00,  3.9505e+00,  5.9035e+00, -1.3001e+00, -1.5173e+00,\n",
            "         -7.6029e-01,  5.2543e+00,  7.5512e-01,  2.5482e-01, -3.9900e-01],\n",
            "        [-1.4268e+00,  1.4572e+00, -3.3649e-01,  2.0042e+00, -7.4327e-01,\n",
            "          1.1139e+00, -3.9787e-01,  1.2220e+00,  4.2179e+00, -7.5519e-01],\n",
            "        [ 3.1745e+00, -1.1382e+00,  5.5087e-01, -1.1144e+00, -1.4657e+00,\n",
            "         -3.0329e-01, -2.2383e-01,  1.6291e+00, -8.9290e-01, -9.9843e-01],\n",
            "        [-3.2328e-01,  8.1805e+00, -1.6640e+00,  3.6408e+00,  1.7627e+00,\n",
            "         -8.5796e-01, -1.1297e+00, -1.5021e-01,  2.3758e+00, -5.3316e-01],\n",
            "        [ 3.1021e+00, -2.4416e-01, -1.9729e-01,  1.0862e-01, -6.6916e-01,\n",
            "          2.5301e+00,  5.0442e-01, -2.0527e-01,  1.4680e+00, -1.4371e-01],\n",
            "        [ 1.1539e+00, -7.5837e-01,  5.9462e-01, -1.9719e-01,  1.5563e+00,\n",
            "         -9.0689e-02,  2.3108e+00,  1.6349e+00,  7.3437e-02,  2.7872e+00],\n",
            "        [ 1.5940e+00,  8.9510e-01, -7.0364e-01,  2.4876e+00,  1.5410e+00,\n",
            "         -1.1200e+00, -8.0273e-01, -1.3167e-01,  2.5221e+00,  6.4912e+00],\n",
            "        [ 2.0291e+00,  2.1444e+00,  2.2820e-01,  4.5496e+00,  2.2581e+00,\n",
            "         -1.8839e+00, -5.5758e-02, -1.0800e+00,  5.2797e+00,  9.4364e+00],\n",
            "        [-1.2860e+00, -1.3933e+00,  7.6403e+00, -5.7150e-01,  2.0872e-01,\n",
            "          8.8006e-01, -6.9625e-01, -2.3413e-01,  4.8741e-01, -3.5105e-01],\n",
            "        [ 1.8466e+00,  1.8540e+00,  2.3686e+00, -1.3988e+00,  7.8359e-01,\n",
            "          1.6382e+00, -8.9494e-01, -1.0320e+00, -3.6717e-01, -2.6501e-01],\n",
            "        [-4.2147e-02,  1.8308e+00,  2.3601e+00,  4.5513e-01,  7.5152e+00,\n",
            "          3.7015e+00,  3.0567e+00, -3.1075e-01,  7.3576e-01, -5.3113e-01],\n",
            "        [ 1.8119e+00,  1.3000e+00,  1.4138e-01, -3.0810e-01, -4.4433e-02,\n",
            "         -9.1363e-02, -1.4887e+00,  2.6782e+00,  4.3603e+00,  8.5315e+00],\n",
            "        [ 5.0961e+00,  1.5288e+00, -6.5689e-02, -1.4423e-02, -3.3464e-01,\n",
            "          1.8420e+00,  5.1339e-01,  3.7192e+00,  2.2354e+00, -1.3800e+00],\n",
            "        [ 6.5256e-01, -3.6574e-01, -2.0910e-01, -3.0649e-01,  6.0615e+00,\n",
            "         -3.7320e-01, -7.3333e-02, -1.1973e-01,  5.7233e+00,  1.2732e+00],\n",
            "        [-6.6053e-02,  1.3906e+00,  3.3354e+00,  2.3323e+00, -1.1817e+00,\n",
            "          1.9956e+00, -1.0120e+00,  1.1457e+00, -7.8213e-01,  5.4829e-01],\n",
            "        [-1.4628e+00,  6.3735e+00, -1.0386e+00,  4.5145e-01,  3.2500e+00,\n",
            "         -5.3035e-01,  3.6662e+00, -5.0704e-01,  1.3639e-01,  1.6072e+00],\n",
            "        [-1.7468e+00, -5.1060e-01, -6.2109e-01, -5.9346e-01, -4.2958e-01,\n",
            "         -6.4515e-01,  3.4375e+00, -7.2668e-01,  3.2772e+00,  9.6107e-01],\n",
            "        [-1.3422e+00,  1.5572e+00,  1.6408e+00, -9.0282e-01, -2.0825e-01,\n",
            "          7.1077e-01, -1.8701e+00, -3.8281e-01, -9.4349e-02, -4.4773e-01],\n",
            "        [-6.6689e-01, -9.4588e-01, -2.4546e-01, -9.3665e-01,  1.9532e-01,\n",
            "         -3.3692e-01, -8.0654e-01, -4.1441e-01, -3.1331e-02, -1.1252e+00],\n",
            "        [ 5.2573e-01,  6.7185e-01, -5.1367e-01, -1.2872e+00,  4.6406e+00,\n",
            "          4.9041e+00, -3.9113e-01,  1.4203e+00, -7.2816e-01,  1.6036e+00],\n",
            "        [ 7.9027e-01,  4.0351e+00, -8.9428e-01, -2.5030e-01, -1.2762e+00,\n",
            "         -6.0880e-02,  4.0736e+00,  9.2902e-01, -2.6319e-02,  2.4893e+00],\n",
            "        [-5.5009e-01,  2.3990e+00,  2.6880e+00, -2.6131e-01, -1.5770e+00,\n",
            "          1.7880e+00, -6.8564e-02,  1.9361e+00,  4.7307e+00, -6.0254e-01],\n",
            "        [ 9.1429e-01, -1.1448e-02, -1.4179e+00, -6.7451e-01,  3.6092e-01,\n",
            "          2.2639e+00,  2.8337e-01,  4.0227e-01, -1.1914e+00, -9.3191e-03],\n",
            "        [ 3.6506e+00,  2.4000e-01, -4.3321e-01, -7.7685e-01, -8.4192e-01,\n",
            "         -6.2290e-01, -1.2877e+00, -1.4318e-01, -1.6974e-01, -4.1666e-01],\n",
            "        [-1.5045e-01,  1.9598e+00, -1.9113e+00,  8.7266e-01,  2.2444e+00,\n",
            "          1.0583e+00,  4.2810e+00, -1.1957e-01,  6.0760e-01, -1.0487e+00],\n",
            "        [ 6.6373e-01,  2.3453e+00,  1.5592e+00, -9.2754e-02, -5.1843e-01,\n",
            "         -7.6213e-01,  1.5042e+00, -6.4310e-01,  2.4428e+00,  2.8017e-02],\n",
            "        [ 3.6662e+00, -1.6693e+00,  3.4963e+00, -1.3084e+00, -3.9084e-01,\n",
            "          3.1820e+00,  2.3449e+00,  3.1882e+00, -1.7830e-01, -1.0539e+00],\n",
            "        [-6.9560e-01,  3.6118e+00,  3.3185e+00,  3.9105e+00,  6.0950e-01,\n",
            "          5.4327e-01, -7.0920e-02, -3.2531e-01, -5.6452e-01,  7.3034e-01],\n",
            "        [ 7.2425e-01,  2.2925e+00,  1.3535e+00,  8.0694e-01, -7.3877e-01,\n",
            "          1.6042e+00,  2.2398e+00, -5.8930e-01,  2.6885e+00, -7.5775e-01],\n",
            "        [-3.1345e-01,  4.5379e-02,  2.0064e-01,  2.0154e+00,  5.3462e+00,\n",
            "         -7.2438e-01, -7.1322e-01, -4.1470e-01, -7.2784e-01,  2.4660e-02],\n",
            "        [ 3.2532e+00, -2.7998e-02, -2.5452e+00, -5.9040e-02,  1.4586e+00,\n",
            "          1.2519e+00, -3.0352e-01, -2.7052e+00,  1.6515e+00,  1.5047e+00],\n",
            "        [-1.7552e+00,  3.0698e-01,  2.1118e-01, -9.4359e-03,  1.3620e+00,\n",
            "         -8.6785e-01, -3.3907e-01, -1.8069e-01, -7.3656e-01,  3.0512e+00],\n",
            "        [-4.0243e-01, -9.0457e-01,  8.8565e+00,  2.3945e+00,  2.9016e+00,\n",
            "          9.5524e-01, -2.1445e-01, -1.9799e+00,  4.1178e+00, -1.2086e+00]])\n",
            "----------------------------------------------\n",
            "m= tensor(0.0294)\n",
            "----------------------------------------------\n",
            "m= tensor(0.0294)\n",
            "----------------------------------------------\n",
            "m_value= 0.029410671442747116\n",
            "----------------------------------------------\n",
            "m2= tensor([ 0.1327, -0.1477,  0.1204,  0.0562, -0.0236, -0.0279, -0.1103, -0.0448,\n",
            "         0.2665,  0.0725])\n",
            "----------------------------------------------\n"
          ],
          "name": "stdout"
        }
      ]
    },
    {
      "cell_type": "code",
      "metadata": {
        "colab": {
          "base_uri": "https://localhost:8080/"
        },
        "id": "8aIHwVWvSjI7",
        "outputId": "924318da-b8b6-4d4d-ef75-cafa87f87f41"
      },
      "source": [
        "x1 = torch.tensor([[1, 2], [3, 4.]]) # 2×2\n",
        "x2 = torch.tensor([[10, 20, 30], [40, 50, 60.]]) # 2×3\n",
        "\n",
        "# 2×2를 4×1로 보여준다\n",
        "print(x1)\n",
        "print(x1.view(4, 1))\n",
        "print('----------------------------------------------')\n",
        "\n",
        "# -1는 나머지 차원을 나타내며 한 번만 사용할 수 있다\n",
        "# 아래 예에선 -1을 사용하면 자동으로 4가 된다\n",
        "print(x1.view(1, -1))\n",
        "print('----------------------------------------------')\n",
        "\n",
        "# 2×3을 전치해서 3×2로 만든다\n",
        "print(x2.t())\n",
        "print('----------------------------------------------')\n",
        "\n",
        "# dim=1로 결합하면 2×5의 Tensor를 만든다\n",
        "torch.cat([x1, x2], dim=1)"
      ],
      "execution_count": null,
      "outputs": [
        {
          "output_type": "stream",
          "text": [
            "tensor([[1., 2.],\n",
            "        [3., 4.]])\n",
            "tensor([[1.],\n",
            "        [2.],\n",
            "        [3.],\n",
            "        [4.]])\n",
            "----------------------------------------------\n",
            "tensor([[1., 2., 3., 4.]])\n",
            "----------------------------------------------\n",
            "tensor([[10., 40.],\n",
            "        [20., 50.],\n",
            "        [30., 60.]])\n",
            "----------------------------------------------\n"
          ],
          "name": "stdout"
        },
        {
          "output_type": "execute_result",
          "data": {
            "text/plain": [
              "tensor([[ 1.,  2., 10., 20., 30.],\n",
              "        [ 3.,  4., 40., 50., 60.]])"
            ]
          },
          "metadata": {
            "tags": []
          },
          "execution_count": 14
        }
      ]
    },
    {
      "cell_type": "code",
      "metadata": {
        "colab": {
          "base_uri": "https://localhost:8080/"
        },
        "id": "vEkqtag4Smix",
        "outputId": "0eed9895-cb67-4267-d127-f44145dc4ecc"
      },
      "source": [
        "# HWC을 CHW로 변환\n",
        "# 64×32×3의 데이터가 100개\n",
        "hwc_img_data = torch.rand(100, 64, 32, 3)\n",
        "print(hwc_img_data)\n",
        "print('----------------------------------------------')\n",
        "chw_img_data = hwc_img_data.transpose(1, 2).transpose(1, 3)\n",
        "print(chw_img_data)"
      ],
      "execution_count": null,
      "outputs": [
        {
          "output_type": "stream",
          "text": [
            "tensor([[[[1.5691e-01, 5.1335e-01, 6.5334e-01],\n",
            "          [4.0925e-01, 3.6930e-01, 4.3955e-01],\n",
            "          [3.7092e-01, 8.0338e-01, 1.2183e-01],\n",
            "          ...,\n",
            "          [9.5767e-01, 9.3596e-01, 9.8083e-02],\n",
            "          [7.4108e-01, 8.5896e-01, 4.9465e-01],\n",
            "          [3.2577e-01, 4.0422e-01, 9.3842e-01]],\n",
            "\n",
            "         [[7.4101e-01, 1.6672e-01, 8.3724e-01],\n",
            "          [4.2579e-02, 4.8064e-01, 4.6879e-01],\n",
            "          [2.7791e-01, 9.9257e-01, 5.1054e-01],\n",
            "          ...,\n",
            "          [4.2177e-01, 4.1714e-01, 8.7886e-01],\n",
            "          [4.9236e-01, 5.5918e-01, 7.4269e-01],\n",
            "          [2.2755e-01, 6.7225e-01, 6.4039e-01]],\n",
            "\n",
            "         [[5.3604e-01, 2.6977e-01, 3.2169e-01],\n",
            "          [3.0318e-01, 8.3785e-01, 2.7384e-01],\n",
            "          [5.7375e-01, 1.9334e-01, 3.4711e-01],\n",
            "          ...,\n",
            "          [8.3571e-01, 5.9189e-01, 5.0467e-01],\n",
            "          [4.1991e-02, 9.9634e-01, 2.8870e-01],\n",
            "          [7.3704e-01, 7.1836e-01, 4.3418e-01]],\n",
            "\n",
            "         ...,\n",
            "\n",
            "         [[9.9603e-01, 6.9948e-01, 9.1911e-01],\n",
            "          [1.4600e-01, 5.6014e-01, 7.8987e-01],\n",
            "          [1.0152e-01, 2.2744e-01, 9.8739e-01],\n",
            "          ...,\n",
            "          [2.5726e-01, 7.2972e-01, 9.7661e-01],\n",
            "          [7.3942e-02, 8.4931e-01, 9.8285e-01],\n",
            "          [9.1305e-01, 3.6305e-01, 8.4176e-01]],\n",
            "\n",
            "         [[3.3326e-01, 1.2334e-01, 8.1012e-01],\n",
            "          [6.8493e-01, 3.7878e-01, 6.9790e-01],\n",
            "          [6.8157e-01, 7.8945e-01, 5.4821e-01],\n",
            "          ...,\n",
            "          [1.2093e-01, 5.0107e-01, 8.4075e-01],\n",
            "          [6.1501e-01, 7.4178e-02, 8.2233e-01],\n",
            "          [7.1225e-01, 7.7396e-01, 9.8782e-01]],\n",
            "\n",
            "         [[2.6289e-01, 2.5842e-01, 8.6164e-01],\n",
            "          [3.2666e-01, 8.5123e-01, 7.8676e-01],\n",
            "          [8.5016e-01, 6.3522e-01, 9.4355e-01],\n",
            "          ...,\n",
            "          [8.5544e-01, 4.5722e-01, 1.9222e-01],\n",
            "          [3.3265e-01, 2.6848e-01, 2.8928e-02],\n",
            "          [8.6741e-01, 6.5819e-01, 3.6338e-01]]],\n",
            "\n",
            "\n",
            "        [[[9.2229e-01, 7.8070e-01, 1.0745e-01],\n",
            "          [2.6503e-01, 8.7264e-01, 3.0201e-01],\n",
            "          [4.9680e-01, 3.3663e-01, 9.3089e-01],\n",
            "          ...,\n",
            "          [5.6047e-01, 7.6847e-01, 6.6996e-02],\n",
            "          [1.9035e-01, 3.2825e-03, 6.8289e-01],\n",
            "          [2.5916e-01, 8.3259e-01, 3.4633e-01]],\n",
            "\n",
            "         [[9.0288e-01, 8.8750e-01, 4.3033e-01],\n",
            "          [5.5902e-01, 8.0251e-01, 8.0013e-01],\n",
            "          [8.1969e-01, 3.2493e-01, 4.2879e-01],\n",
            "          ...,\n",
            "          [7.8933e-01, 8.5312e-01, 5.0551e-01],\n",
            "          [1.8955e-01, 5.3705e-02, 8.2018e-01],\n",
            "          [1.1126e-02, 6.3395e-01, 2.4157e-01]],\n",
            "\n",
            "         [[6.5700e-01, 7.2636e-01, 3.6366e-01],\n",
            "          [7.6569e-01, 5.1079e-01, 6.1465e-01],\n",
            "          [9.2773e-02, 1.3487e-01, 7.5952e-01],\n",
            "          ...,\n",
            "          [4.4156e-01, 3.8464e-01, 5.1192e-01],\n",
            "          [4.6313e-01, 4.7755e-01, 6.7714e-01],\n",
            "          [7.8193e-02, 7.6882e-01, 4.8910e-01]],\n",
            "\n",
            "         ...,\n",
            "\n",
            "         [[2.9333e-01, 6.6856e-01, 8.1713e-01],\n",
            "          [6.0512e-01, 7.6414e-01, 6.1249e-01],\n",
            "          [2.2340e-01, 7.6500e-01, 2.9296e-01],\n",
            "          ...,\n",
            "          [9.8349e-01, 5.4941e-01, 2.2596e-01],\n",
            "          [4.3061e-01, 7.9445e-01, 1.8126e-01],\n",
            "          [2.6812e-01, 6.9091e-01, 3.0615e-01]],\n",
            "\n",
            "         [[6.0575e-02, 2.0371e-01, 8.5351e-01],\n",
            "          [9.6500e-01, 7.5425e-01, 7.3185e-01],\n",
            "          [2.2665e-01, 4.6855e-01, 3.9799e-01],\n",
            "          ...,\n",
            "          [2.0899e-01, 9.7095e-02, 7.1551e-01],\n",
            "          [6.5173e-01, 2.8341e-01, 3.4771e-01],\n",
            "          [2.4128e-01, 5.8028e-01, 5.9230e-01]],\n",
            "\n",
            "         [[4.6788e-01, 2.8442e-02, 3.6588e-02],\n",
            "          [5.5347e-01, 7.7903e-01, 7.7074e-01],\n",
            "          [8.9784e-01, 3.5417e-01, 1.9460e-01],\n",
            "          ...,\n",
            "          [1.9622e-01, 4.7450e-01, 7.8263e-01],\n",
            "          [8.5028e-01, 7.3963e-01, 7.7283e-01],\n",
            "          [7.6423e-01, 3.9210e-01, 4.2847e-01]]],\n",
            "\n",
            "\n",
            "        [[[5.5608e-02, 4.8306e-01, 8.6134e-01],\n",
            "          [3.3410e-01, 5.2689e-02, 8.3212e-01],\n",
            "          [7.3777e-01, 2.6357e-01, 6.7818e-01],\n",
            "          ...,\n",
            "          [4.7504e-02, 7.1243e-01, 8.2089e-01],\n",
            "          [9.7593e-01, 4.2515e-01, 2.9827e-01],\n",
            "          [9.5521e-01, 2.9743e-01, 4.5211e-01]],\n",
            "\n",
            "         [[2.8840e-01, 9.7080e-01, 7.9133e-01],\n",
            "          [5.5961e-01, 5.0821e-01, 8.6019e-01],\n",
            "          [3.4515e-01, 1.5243e-02, 7.8668e-01],\n",
            "          ...,\n",
            "          [7.0746e-01, 8.1329e-01, 7.6204e-01],\n",
            "          [3.1674e-01, 7.3991e-01, 7.3277e-01],\n",
            "          [6.3623e-01, 4.1105e-01, 2.8327e-01]],\n",
            "\n",
            "         [[5.4017e-01, 1.5530e-01, 9.1465e-01],\n",
            "          [6.1286e-01, 1.9464e-01, 3.6110e-01],\n",
            "          [8.7407e-01, 8.0491e-01, 7.8229e-01],\n",
            "          ...,\n",
            "          [9.4583e-01, 7.7279e-01, 1.9580e-01],\n",
            "          [3.0558e-01, 3.6833e-01, 9.3768e-02],\n",
            "          [9.8134e-01, 2.9873e-01, 2.6927e-02]],\n",
            "\n",
            "         ...,\n",
            "\n",
            "         [[4.3170e-02, 3.9478e-02, 5.8390e-01],\n",
            "          [2.2269e-01, 4.2675e-01, 8.9446e-01],\n",
            "          [8.1277e-01, 1.1583e-01, 3.0787e-01],\n",
            "          ...,\n",
            "          [3.0037e-01, 7.7367e-01, 5.2543e-01],\n",
            "          [3.9075e-01, 2.9566e-01, 4.4213e-01],\n",
            "          [8.8596e-01, 7.4351e-01, 9.4891e-01]],\n",
            "\n",
            "         [[7.6395e-01, 5.9322e-01, 5.3507e-01],\n",
            "          [3.6297e-01, 7.5432e-01, 9.6671e-02],\n",
            "          [5.3229e-01, 2.0056e-02, 4.1368e-01],\n",
            "          ...,\n",
            "          [8.0237e-02, 1.3850e-01, 4.1056e-01],\n",
            "          [3.3409e-01, 3.1236e-01, 1.7177e-01],\n",
            "          [9.9607e-01, 1.0583e-01, 2.7119e-01]],\n",
            "\n",
            "         [[6.0237e-01, 2.6062e-01, 6.1571e-01],\n",
            "          [9.4499e-01, 7.1608e-01, 3.2553e-01],\n",
            "          [4.6307e-01, 9.7610e-01, 5.1814e-01],\n",
            "          ...,\n",
            "          [5.7205e-01, 3.8192e-01, 8.2734e-01],\n",
            "          [4.3695e-01, 7.5086e-01, 7.4147e-01],\n",
            "          [1.7702e-01, 4.9373e-01, 3.4789e-01]]],\n",
            "\n",
            "\n",
            "        ...,\n",
            "\n",
            "\n",
            "        [[[7.4555e-01, 4.1289e-01, 6.7560e-01],\n",
            "          [1.1346e-01, 2.4358e-01, 3.9596e-01],\n",
            "          [9.2083e-01, 5.0439e-01, 8.3582e-01],\n",
            "          ...,\n",
            "          [9.8237e-01, 7.9767e-01, 6.3682e-01],\n",
            "          [1.2409e-01, 2.5624e-01, 9.0500e-01],\n",
            "          [5.1720e-02, 8.9514e-02, 1.8371e-01]],\n",
            "\n",
            "         [[5.4742e-01, 5.1096e-01, 4.1804e-01],\n",
            "          [6.1874e-01, 9.6672e-01, 5.2259e-01],\n",
            "          [6.1970e-01, 7.3141e-01, 1.0966e-01],\n",
            "          ...,\n",
            "          [1.2526e-01, 6.2889e-01, 7.5449e-01],\n",
            "          [3.2828e-02, 8.0320e-01, 5.5865e-01],\n",
            "          [7.1607e-01, 2.7232e-01, 9.4386e-01]],\n",
            "\n",
            "         [[9.4417e-01, 7.9448e-01, 1.4885e-01],\n",
            "          [8.9009e-01, 2.6932e-01, 6.3067e-02],\n",
            "          [6.7300e-01, 3.7245e-01, 5.7954e-01],\n",
            "          ...,\n",
            "          [7.9713e-01, 9.5167e-01, 1.1905e-01],\n",
            "          [5.0344e-01, 6.8763e-01, 9.4129e-01],\n",
            "          [3.8435e-01, 4.8239e-01, 3.1785e-01]],\n",
            "\n",
            "         ...,\n",
            "\n",
            "         [[8.1575e-01, 1.5161e-01, 1.4707e-01],\n",
            "          [5.9882e-01, 3.5258e-01, 3.1745e-01],\n",
            "          [7.3776e-02, 8.5247e-01, 4.0934e-01],\n",
            "          ...,\n",
            "          [2.9623e-01, 6.1710e-01, 5.6778e-01],\n",
            "          [1.5230e-01, 5.5912e-01, 2.5335e-02],\n",
            "          [5.3634e-01, 4.9088e-01, 6.9170e-02]],\n",
            "\n",
            "         [[7.3751e-01, 3.4767e-01, 2.9471e-01],\n",
            "          [4.0669e-01, 1.5481e-01, 3.2010e-01],\n",
            "          [3.7643e-01, 2.0253e-01, 1.5698e-01],\n",
            "          ...,\n",
            "          [1.0549e-01, 8.6524e-01, 2.0158e-01],\n",
            "          [2.0184e-01, 3.4656e-01, 3.9817e-01],\n",
            "          [3.3577e-01, 3.0270e-01, 2.0004e-01]],\n",
            "\n",
            "         [[2.1283e-01, 1.3634e-01, 7.8203e-02],\n",
            "          [5.2151e-01, 2.3913e-01, 5.2916e-01],\n",
            "          [1.1456e-01, 1.5896e-01, 1.0211e-01],\n",
            "          ...,\n",
            "          [3.9769e-02, 2.6687e-02, 1.8626e-01],\n",
            "          [8.9827e-01, 9.3040e-01, 8.6762e-01],\n",
            "          [8.2678e-01, 5.4992e-01, 1.7965e-01]]],\n",
            "\n",
            "\n",
            "        [[[6.9910e-01, 5.5502e-01, 4.9794e-01],\n",
            "          [8.0509e-03, 6.7087e-01, 3.5761e-01],\n",
            "          [4.9503e-01, 8.7705e-01, 4.1989e-01],\n",
            "          ...,\n",
            "          [5.7795e-01, 7.6325e-01, 1.6809e-01],\n",
            "          [7.1167e-01, 5.8472e-01, 4.5557e-01],\n",
            "          [7.2710e-01, 9.2596e-01, 4.7799e-03]],\n",
            "\n",
            "         [[3.9831e-02, 5.1479e-01, 8.7156e-01],\n",
            "          [1.5829e-01, 8.1997e-01, 9.3968e-01],\n",
            "          [5.4988e-01, 7.4965e-01, 1.6126e-01],\n",
            "          ...,\n",
            "          [1.0184e-01, 6.6953e-01, 3.5907e-01],\n",
            "          [4.0153e-02, 4.6202e-01, 3.2564e-01],\n",
            "          [8.5230e-02, 9.7208e-01, 5.5026e-01]],\n",
            "\n",
            "         [[9.3520e-01, 5.7133e-01, 9.5664e-02],\n",
            "          [7.3382e-01, 9.2200e-01, 1.7710e-01],\n",
            "          [8.8239e-02, 7.1574e-01, 6.0126e-02],\n",
            "          ...,\n",
            "          [3.8750e-01, 4.8219e-01, 3.9701e-01],\n",
            "          [6.9012e-01, 9.9963e-01, 9.0747e-01],\n",
            "          [5.1659e-01, 6.4106e-01, 5.3332e-01]],\n",
            "\n",
            "         ...,\n",
            "\n",
            "         [[3.4224e-01, 3.8940e-01, 2.8077e-01],\n",
            "          [9.5103e-01, 4.9851e-01, 5.6438e-01],\n",
            "          [6.4189e-01, 7.9425e-03, 4.5115e-01],\n",
            "          ...,\n",
            "          [1.3845e-01, 6.3494e-01, 7.3537e-01],\n",
            "          [6.2333e-01, 6.1570e-01, 2.0074e-01],\n",
            "          [1.4623e-01, 6.5249e-01, 6.2387e-01]],\n",
            "\n",
            "         [[8.8066e-01, 8.1420e-01, 4.1781e-01],\n",
            "          [2.2905e-01, 3.8720e-01, 3.2878e-04],\n",
            "          [3.4682e-01, 3.0566e-01, 1.3767e-01],\n",
            "          ...,\n",
            "          [2.9070e-01, 6.3148e-01, 2.0953e-01],\n",
            "          [6.3987e-01, 2.9555e-01, 5.7955e-02],\n",
            "          [3.5075e-01, 4.9603e-01, 6.2630e-01]],\n",
            "\n",
            "         [[1.6313e-01, 5.1617e-01, 4.6464e-01],\n",
            "          [4.3557e-01, 2.2082e-01, 1.5039e-01],\n",
            "          [8.5252e-01, 3.9816e-01, 3.7968e-01],\n",
            "          ...,\n",
            "          [1.3930e-01, 8.1753e-01, 6.0939e-02],\n",
            "          [7.5693e-01, 1.1700e-01, 1.0586e-03],\n",
            "          [8.3600e-01, 2.6211e-01, 5.2001e-01]]],\n",
            "\n",
            "\n",
            "        [[[3.3531e-01, 7.1288e-01, 1.8625e-02],\n",
            "          [9.1850e-01, 2.7898e-01, 2.0561e-01],\n",
            "          [6.1287e-01, 8.9378e-01, 5.6433e-01],\n",
            "          ...,\n",
            "          [9.2569e-01, 4.0587e-01, 2.7991e-01],\n",
            "          [3.5815e-01, 4.1181e-01, 2.7720e-01],\n",
            "          [2.1237e-02, 5.7876e-01, 3.3182e-01]],\n",
            "\n",
            "         [[3.8989e-01, 1.6617e-01, 1.7509e-01],\n",
            "          [4.2087e-01, 7.2523e-02, 3.6345e-01],\n",
            "          [1.5961e-01, 8.6299e-01, 8.0801e-01],\n",
            "          ...,\n",
            "          [5.4048e-01, 5.2055e-01, 7.9900e-03],\n",
            "          [9.8053e-01, 1.7810e-01, 9.5711e-01],\n",
            "          [9.6838e-01, 7.7726e-01, 1.3940e-01]],\n",
            "\n",
            "         [[4.6746e-01, 1.0159e-01, 4.0173e-01],\n",
            "          [5.0571e-01, 7.9319e-01, 6.4065e-01],\n",
            "          [3.9872e-01, 1.6182e-01, 5.8461e-01],\n",
            "          ...,\n",
            "          [4.7314e-01, 1.3049e-01, 9.6232e-01],\n",
            "          [7.2491e-01, 1.1087e-01, 8.4877e-01],\n",
            "          [6.4757e-01, 6.6345e-01, 8.6099e-01]],\n",
            "\n",
            "         ...,\n",
            "\n",
            "         [[6.7296e-01, 4.9158e-01, 4.7318e-02],\n",
            "          [3.8328e-01, 4.3120e-01, 7.7367e-01],\n",
            "          [7.5194e-01, 1.9165e-01, 9.2672e-01],\n",
            "          ...,\n",
            "          [5.3706e-03, 3.6388e-01, 4.0298e-01],\n",
            "          [6.8915e-01, 2.9416e-01, 2.7732e-01],\n",
            "          [6.0692e-01, 2.2350e-02, 2.5078e-01]],\n",
            "\n",
            "         [[6.4374e-01, 1.6345e-01, 3.2854e-02],\n",
            "          [3.7672e-01, 6.5627e-01, 5.8866e-01],\n",
            "          [4.5125e-01, 9.0169e-01, 6.5158e-01],\n",
            "          ...,\n",
            "          [4.7867e-01, 5.6242e-01, 4.5485e-01],\n",
            "          [9.7542e-01, 7.4412e-02, 4.9449e-01],\n",
            "          [8.2243e-01, 1.6905e-01, 1.0818e-01]],\n",
            "\n",
            "         [[7.3431e-01, 2.0093e-02, 1.5243e-02],\n",
            "          [4.0509e-01, 2.2006e-01, 2.0110e-01],\n",
            "          [5.4056e-01, 4.9175e-01, 5.2447e-01],\n",
            "          ...,\n",
            "          [3.0865e-01, 3.9322e-01, 3.2120e-02],\n",
            "          [4.4470e-01, 4.9106e-01, 8.1633e-01],\n",
            "          [9.3409e-01, 3.4296e-01, 4.5316e-01]]]])\n",
            "----------------------------------------------\n",
            "tensor([[[[1.5691e-01, 4.0925e-01, 3.7092e-01,  ..., 9.5767e-01,\n",
            "           7.4108e-01, 3.2577e-01],\n",
            "          [7.4101e-01, 4.2579e-02, 2.7791e-01,  ..., 4.2177e-01,\n",
            "           4.9236e-01, 2.2755e-01],\n",
            "          [5.3604e-01, 3.0318e-01, 5.7375e-01,  ..., 8.3571e-01,\n",
            "           4.1991e-02, 7.3704e-01],\n",
            "          ...,\n",
            "          [9.9603e-01, 1.4600e-01, 1.0152e-01,  ..., 2.5726e-01,\n",
            "           7.3942e-02, 9.1305e-01],\n",
            "          [3.3326e-01, 6.8493e-01, 6.8157e-01,  ..., 1.2093e-01,\n",
            "           6.1501e-01, 7.1225e-01],\n",
            "          [2.6289e-01, 3.2666e-01, 8.5016e-01,  ..., 8.5544e-01,\n",
            "           3.3265e-01, 8.6741e-01]],\n",
            "\n",
            "         [[5.1335e-01, 3.6930e-01, 8.0338e-01,  ..., 9.3596e-01,\n",
            "           8.5896e-01, 4.0422e-01],\n",
            "          [1.6672e-01, 4.8064e-01, 9.9257e-01,  ..., 4.1714e-01,\n",
            "           5.5918e-01, 6.7225e-01],\n",
            "          [2.6977e-01, 8.3785e-01, 1.9334e-01,  ..., 5.9189e-01,\n",
            "           9.9634e-01, 7.1836e-01],\n",
            "          ...,\n",
            "          [6.9948e-01, 5.6014e-01, 2.2744e-01,  ..., 7.2972e-01,\n",
            "           8.4931e-01, 3.6305e-01],\n",
            "          [1.2334e-01, 3.7878e-01, 7.8945e-01,  ..., 5.0107e-01,\n",
            "           7.4178e-02, 7.7396e-01],\n",
            "          [2.5842e-01, 8.5123e-01, 6.3522e-01,  ..., 4.5722e-01,\n",
            "           2.6848e-01, 6.5819e-01]],\n",
            "\n",
            "         [[6.5334e-01, 4.3955e-01, 1.2183e-01,  ..., 9.8083e-02,\n",
            "           4.9465e-01, 9.3842e-01],\n",
            "          [8.3724e-01, 4.6879e-01, 5.1054e-01,  ..., 8.7886e-01,\n",
            "           7.4269e-01, 6.4039e-01],\n",
            "          [3.2169e-01, 2.7384e-01, 3.4711e-01,  ..., 5.0467e-01,\n",
            "           2.8870e-01, 4.3418e-01],\n",
            "          ...,\n",
            "          [9.1911e-01, 7.8987e-01, 9.8739e-01,  ..., 9.7661e-01,\n",
            "           9.8285e-01, 8.4176e-01],\n",
            "          [8.1012e-01, 6.9790e-01, 5.4821e-01,  ..., 8.4075e-01,\n",
            "           8.2233e-01, 9.8782e-01],\n",
            "          [8.6164e-01, 7.8676e-01, 9.4355e-01,  ..., 1.9222e-01,\n",
            "           2.8928e-02, 3.6338e-01]]],\n",
            "\n",
            "\n",
            "        [[[9.2229e-01, 2.6503e-01, 4.9680e-01,  ..., 5.6047e-01,\n",
            "           1.9035e-01, 2.5916e-01],\n",
            "          [9.0288e-01, 5.5902e-01, 8.1969e-01,  ..., 7.8933e-01,\n",
            "           1.8955e-01, 1.1126e-02],\n",
            "          [6.5700e-01, 7.6569e-01, 9.2773e-02,  ..., 4.4156e-01,\n",
            "           4.6313e-01, 7.8193e-02],\n",
            "          ...,\n",
            "          [2.9333e-01, 6.0512e-01, 2.2340e-01,  ..., 9.8349e-01,\n",
            "           4.3061e-01, 2.6812e-01],\n",
            "          [6.0575e-02, 9.6500e-01, 2.2665e-01,  ..., 2.0899e-01,\n",
            "           6.5173e-01, 2.4128e-01],\n",
            "          [4.6788e-01, 5.5347e-01, 8.9784e-01,  ..., 1.9622e-01,\n",
            "           8.5028e-01, 7.6423e-01]],\n",
            "\n",
            "         [[7.8070e-01, 8.7264e-01, 3.3663e-01,  ..., 7.6847e-01,\n",
            "           3.2825e-03, 8.3259e-01],\n",
            "          [8.8750e-01, 8.0251e-01, 3.2493e-01,  ..., 8.5312e-01,\n",
            "           5.3705e-02, 6.3395e-01],\n",
            "          [7.2636e-01, 5.1079e-01, 1.3487e-01,  ..., 3.8464e-01,\n",
            "           4.7755e-01, 7.6882e-01],\n",
            "          ...,\n",
            "          [6.6856e-01, 7.6414e-01, 7.6500e-01,  ..., 5.4941e-01,\n",
            "           7.9445e-01, 6.9091e-01],\n",
            "          [2.0371e-01, 7.5425e-01, 4.6855e-01,  ..., 9.7095e-02,\n",
            "           2.8341e-01, 5.8028e-01],\n",
            "          [2.8442e-02, 7.7903e-01, 3.5417e-01,  ..., 4.7450e-01,\n",
            "           7.3963e-01, 3.9210e-01]],\n",
            "\n",
            "         [[1.0745e-01, 3.0201e-01, 9.3089e-01,  ..., 6.6996e-02,\n",
            "           6.8289e-01, 3.4633e-01],\n",
            "          [4.3033e-01, 8.0013e-01, 4.2879e-01,  ..., 5.0551e-01,\n",
            "           8.2018e-01, 2.4157e-01],\n",
            "          [3.6366e-01, 6.1465e-01, 7.5952e-01,  ..., 5.1192e-01,\n",
            "           6.7714e-01, 4.8910e-01],\n",
            "          ...,\n",
            "          [8.1713e-01, 6.1249e-01, 2.9296e-01,  ..., 2.2596e-01,\n",
            "           1.8126e-01, 3.0615e-01],\n",
            "          [8.5351e-01, 7.3185e-01, 3.9799e-01,  ..., 7.1551e-01,\n",
            "           3.4771e-01, 5.9230e-01],\n",
            "          [3.6588e-02, 7.7074e-01, 1.9460e-01,  ..., 7.8263e-01,\n",
            "           7.7283e-01, 4.2847e-01]]],\n",
            "\n",
            "\n",
            "        [[[5.5608e-02, 3.3410e-01, 7.3777e-01,  ..., 4.7504e-02,\n",
            "           9.7593e-01, 9.5521e-01],\n",
            "          [2.8840e-01, 5.5961e-01, 3.4515e-01,  ..., 7.0746e-01,\n",
            "           3.1674e-01, 6.3623e-01],\n",
            "          [5.4017e-01, 6.1286e-01, 8.7407e-01,  ..., 9.4583e-01,\n",
            "           3.0558e-01, 9.8134e-01],\n",
            "          ...,\n",
            "          [4.3170e-02, 2.2269e-01, 8.1277e-01,  ..., 3.0037e-01,\n",
            "           3.9075e-01, 8.8596e-01],\n",
            "          [7.6395e-01, 3.6297e-01, 5.3229e-01,  ..., 8.0237e-02,\n",
            "           3.3409e-01, 9.9607e-01],\n",
            "          [6.0237e-01, 9.4499e-01, 4.6307e-01,  ..., 5.7205e-01,\n",
            "           4.3695e-01, 1.7702e-01]],\n",
            "\n",
            "         [[4.8306e-01, 5.2689e-02, 2.6357e-01,  ..., 7.1243e-01,\n",
            "           4.2515e-01, 2.9743e-01],\n",
            "          [9.7080e-01, 5.0821e-01, 1.5243e-02,  ..., 8.1329e-01,\n",
            "           7.3991e-01, 4.1105e-01],\n",
            "          [1.5530e-01, 1.9464e-01, 8.0491e-01,  ..., 7.7279e-01,\n",
            "           3.6833e-01, 2.9873e-01],\n",
            "          ...,\n",
            "          [3.9478e-02, 4.2675e-01, 1.1583e-01,  ..., 7.7367e-01,\n",
            "           2.9566e-01, 7.4351e-01],\n",
            "          [5.9322e-01, 7.5432e-01, 2.0056e-02,  ..., 1.3850e-01,\n",
            "           3.1236e-01, 1.0583e-01],\n",
            "          [2.6062e-01, 7.1608e-01, 9.7610e-01,  ..., 3.8192e-01,\n",
            "           7.5086e-01, 4.9373e-01]],\n",
            "\n",
            "         [[8.6134e-01, 8.3212e-01, 6.7818e-01,  ..., 8.2089e-01,\n",
            "           2.9827e-01, 4.5211e-01],\n",
            "          [7.9133e-01, 8.6019e-01, 7.8668e-01,  ..., 7.6204e-01,\n",
            "           7.3277e-01, 2.8327e-01],\n",
            "          [9.1465e-01, 3.6110e-01, 7.8229e-01,  ..., 1.9580e-01,\n",
            "           9.3768e-02, 2.6927e-02],\n",
            "          ...,\n",
            "          [5.8390e-01, 8.9446e-01, 3.0787e-01,  ..., 5.2543e-01,\n",
            "           4.4213e-01, 9.4891e-01],\n",
            "          [5.3507e-01, 9.6671e-02, 4.1368e-01,  ..., 4.1056e-01,\n",
            "           1.7177e-01, 2.7119e-01],\n",
            "          [6.1571e-01, 3.2553e-01, 5.1814e-01,  ..., 8.2734e-01,\n",
            "           7.4147e-01, 3.4789e-01]]],\n",
            "\n",
            "\n",
            "        ...,\n",
            "\n",
            "\n",
            "        [[[7.4555e-01, 1.1346e-01, 9.2083e-01,  ..., 9.8237e-01,\n",
            "           1.2409e-01, 5.1720e-02],\n",
            "          [5.4742e-01, 6.1874e-01, 6.1970e-01,  ..., 1.2526e-01,\n",
            "           3.2828e-02, 7.1607e-01],\n",
            "          [9.4417e-01, 8.9009e-01, 6.7300e-01,  ..., 7.9713e-01,\n",
            "           5.0344e-01, 3.8435e-01],\n",
            "          ...,\n",
            "          [8.1575e-01, 5.9882e-01, 7.3776e-02,  ..., 2.9623e-01,\n",
            "           1.5230e-01, 5.3634e-01],\n",
            "          [7.3751e-01, 4.0669e-01, 3.7643e-01,  ..., 1.0549e-01,\n",
            "           2.0184e-01, 3.3577e-01],\n",
            "          [2.1283e-01, 5.2151e-01, 1.1456e-01,  ..., 3.9769e-02,\n",
            "           8.9827e-01, 8.2678e-01]],\n",
            "\n",
            "         [[4.1289e-01, 2.4358e-01, 5.0439e-01,  ..., 7.9767e-01,\n",
            "           2.5624e-01, 8.9514e-02],\n",
            "          [5.1096e-01, 9.6672e-01, 7.3141e-01,  ..., 6.2889e-01,\n",
            "           8.0320e-01, 2.7232e-01],\n",
            "          [7.9448e-01, 2.6932e-01, 3.7245e-01,  ..., 9.5167e-01,\n",
            "           6.8763e-01, 4.8239e-01],\n",
            "          ...,\n",
            "          [1.5161e-01, 3.5258e-01, 8.5247e-01,  ..., 6.1710e-01,\n",
            "           5.5912e-01, 4.9088e-01],\n",
            "          [3.4767e-01, 1.5481e-01, 2.0253e-01,  ..., 8.6524e-01,\n",
            "           3.4656e-01, 3.0270e-01],\n",
            "          [1.3634e-01, 2.3913e-01, 1.5896e-01,  ..., 2.6687e-02,\n",
            "           9.3040e-01, 5.4992e-01]],\n",
            "\n",
            "         [[6.7560e-01, 3.9596e-01, 8.3582e-01,  ..., 6.3682e-01,\n",
            "           9.0500e-01, 1.8371e-01],\n",
            "          [4.1804e-01, 5.2259e-01, 1.0966e-01,  ..., 7.5449e-01,\n",
            "           5.5865e-01, 9.4386e-01],\n",
            "          [1.4885e-01, 6.3067e-02, 5.7954e-01,  ..., 1.1905e-01,\n",
            "           9.4129e-01, 3.1785e-01],\n",
            "          ...,\n",
            "          [1.4707e-01, 3.1745e-01, 4.0934e-01,  ..., 5.6778e-01,\n",
            "           2.5335e-02, 6.9170e-02],\n",
            "          [2.9471e-01, 3.2010e-01, 1.5698e-01,  ..., 2.0158e-01,\n",
            "           3.9817e-01, 2.0004e-01],\n",
            "          [7.8203e-02, 5.2916e-01, 1.0211e-01,  ..., 1.8626e-01,\n",
            "           8.6762e-01, 1.7965e-01]]],\n",
            "\n",
            "\n",
            "        [[[6.9910e-01, 8.0509e-03, 4.9503e-01,  ..., 5.7795e-01,\n",
            "           7.1167e-01, 7.2710e-01],\n",
            "          [3.9831e-02, 1.5829e-01, 5.4988e-01,  ..., 1.0184e-01,\n",
            "           4.0153e-02, 8.5230e-02],\n",
            "          [9.3520e-01, 7.3382e-01, 8.8239e-02,  ..., 3.8750e-01,\n",
            "           6.9012e-01, 5.1659e-01],\n",
            "          ...,\n",
            "          [3.4224e-01, 9.5103e-01, 6.4189e-01,  ..., 1.3845e-01,\n",
            "           6.2333e-01, 1.4623e-01],\n",
            "          [8.8066e-01, 2.2905e-01, 3.4682e-01,  ..., 2.9070e-01,\n",
            "           6.3987e-01, 3.5075e-01],\n",
            "          [1.6313e-01, 4.3557e-01, 8.5252e-01,  ..., 1.3930e-01,\n",
            "           7.5693e-01, 8.3600e-01]],\n",
            "\n",
            "         [[5.5502e-01, 6.7087e-01, 8.7705e-01,  ..., 7.6325e-01,\n",
            "           5.8472e-01, 9.2596e-01],\n",
            "          [5.1479e-01, 8.1997e-01, 7.4965e-01,  ..., 6.6953e-01,\n",
            "           4.6202e-01, 9.7208e-01],\n",
            "          [5.7133e-01, 9.2200e-01, 7.1574e-01,  ..., 4.8219e-01,\n",
            "           9.9963e-01, 6.4106e-01],\n",
            "          ...,\n",
            "          [3.8940e-01, 4.9851e-01, 7.9425e-03,  ..., 6.3494e-01,\n",
            "           6.1570e-01, 6.5249e-01],\n",
            "          [8.1420e-01, 3.8720e-01, 3.0566e-01,  ..., 6.3148e-01,\n",
            "           2.9555e-01, 4.9603e-01],\n",
            "          [5.1617e-01, 2.2082e-01, 3.9816e-01,  ..., 8.1753e-01,\n",
            "           1.1700e-01, 2.6211e-01]],\n",
            "\n",
            "         [[4.9794e-01, 3.5761e-01, 4.1989e-01,  ..., 1.6809e-01,\n",
            "           4.5557e-01, 4.7799e-03],\n",
            "          [8.7156e-01, 9.3968e-01, 1.6126e-01,  ..., 3.5907e-01,\n",
            "           3.2564e-01, 5.5026e-01],\n",
            "          [9.5664e-02, 1.7710e-01, 6.0126e-02,  ..., 3.9701e-01,\n",
            "           9.0747e-01, 5.3332e-01],\n",
            "          ...,\n",
            "          [2.8077e-01, 5.6438e-01, 4.5115e-01,  ..., 7.3537e-01,\n",
            "           2.0074e-01, 6.2387e-01],\n",
            "          [4.1781e-01, 3.2878e-04, 1.3767e-01,  ..., 2.0953e-01,\n",
            "           5.7955e-02, 6.2630e-01],\n",
            "          [4.6464e-01, 1.5039e-01, 3.7968e-01,  ..., 6.0939e-02,\n",
            "           1.0586e-03, 5.2001e-01]]],\n",
            "\n",
            "\n",
            "        [[[3.3531e-01, 9.1850e-01, 6.1287e-01,  ..., 9.2569e-01,\n",
            "           3.5815e-01, 2.1237e-02],\n",
            "          [3.8989e-01, 4.2087e-01, 1.5961e-01,  ..., 5.4048e-01,\n",
            "           9.8053e-01, 9.6838e-01],\n",
            "          [4.6746e-01, 5.0571e-01, 3.9872e-01,  ..., 4.7314e-01,\n",
            "           7.2491e-01, 6.4757e-01],\n",
            "          ...,\n",
            "          [6.7296e-01, 3.8328e-01, 7.5194e-01,  ..., 5.3706e-03,\n",
            "           6.8915e-01, 6.0692e-01],\n",
            "          [6.4374e-01, 3.7672e-01, 4.5125e-01,  ..., 4.7867e-01,\n",
            "           9.7542e-01, 8.2243e-01],\n",
            "          [7.3431e-01, 4.0509e-01, 5.4056e-01,  ..., 3.0865e-01,\n",
            "           4.4470e-01, 9.3409e-01]],\n",
            "\n",
            "         [[7.1288e-01, 2.7898e-01, 8.9378e-01,  ..., 4.0587e-01,\n",
            "           4.1181e-01, 5.7876e-01],\n",
            "          [1.6617e-01, 7.2523e-02, 8.6299e-01,  ..., 5.2055e-01,\n",
            "           1.7810e-01, 7.7726e-01],\n",
            "          [1.0159e-01, 7.9319e-01, 1.6182e-01,  ..., 1.3049e-01,\n",
            "           1.1087e-01, 6.6345e-01],\n",
            "          ...,\n",
            "          [4.9158e-01, 4.3120e-01, 1.9165e-01,  ..., 3.6388e-01,\n",
            "           2.9416e-01, 2.2350e-02],\n",
            "          [1.6345e-01, 6.5627e-01, 9.0169e-01,  ..., 5.6242e-01,\n",
            "           7.4412e-02, 1.6905e-01],\n",
            "          [2.0093e-02, 2.2006e-01, 4.9175e-01,  ..., 3.9322e-01,\n",
            "           4.9106e-01, 3.4296e-01]],\n",
            "\n",
            "         [[1.8625e-02, 2.0561e-01, 5.6433e-01,  ..., 2.7991e-01,\n",
            "           2.7720e-01, 3.3182e-01],\n",
            "          [1.7509e-01, 3.6345e-01, 8.0801e-01,  ..., 7.9900e-03,\n",
            "           9.5711e-01, 1.3940e-01],\n",
            "          [4.0173e-01, 6.4065e-01, 5.8461e-01,  ..., 9.6232e-01,\n",
            "           8.4877e-01, 8.6099e-01],\n",
            "          ...,\n",
            "          [4.7318e-02, 7.7367e-01, 9.2672e-01,  ..., 4.0298e-01,\n",
            "           2.7732e-01, 2.5078e-01],\n",
            "          [3.2854e-02, 5.8866e-01, 6.5158e-01,  ..., 4.5485e-01,\n",
            "           4.9449e-01, 1.0818e-01],\n",
            "          [1.5243e-02, 2.0110e-01, 5.2447e-01,  ..., 3.2120e-02,\n",
            "           8.1633e-01, 4.5316e-01]]]])\n"
          ],
          "name": "stdout"
        }
      ]
    },
    {
      "cell_type": "code",
      "metadata": {
        "colab": {
          "base_uri": "https://localhost:8080/"
        },
        "id": "2_vt1czrboe2",
        "outputId": "7b449b19-e7b4-44e1-ad18-d23a52172e99"
      },
      "source": [
        "m = torch.randn(100, 10)\n",
        "v = torch.randn(10)\n",
        "print('m = ', m)\n",
        "print('v = ', v)\n",
        "\n",
        "# 내적\n",
        "d = torch.dot(v, v)\n",
        "print('d = v·v = ', d)\n",
        "print('----------------------------------------------')\n",
        "\n",
        "# 100 × 10의 행렬과 길이 10인 벡터의 곱\n",
        "# 결과는 길이 100인 벡터\n",
        "v2 = torch.mv(m, v)\n",
        "print('v2 = ', v2)\n",
        "print('----------------------------------------------')\n",
        "\n",
        "# 행렬곱\n",
        "m2 = torch.mm(m.t(), m)\n",
        "print('m2 = ', m2)\n",
        "print('----------------------------------------------')\n",
        "\n",
        "# 특이값 분해\n",
        "u, s, v = torch.svd(m)\n",
        "print('u = ', u)\n",
        "print('s = ', s)\n",
        "print('v = ', v)\n",
        "\n"
      ],
      "execution_count": null,
      "outputs": [
        {
          "output_type": "stream",
          "text": [
            "m =  tensor([[ 0.6798,  0.7856,  1.0314,  0.2959, -0.7454,  1.4941, -0.5332, -1.0125,\n",
            "         -1.2292,  0.5043],\n",
            "        [-1.6013,  1.7182,  0.0316,  0.1358,  0.9649, -1.6322, -0.6593, -1.1340,\n",
            "          1.8365, -2.3527],\n",
            "        [-0.2876, -2.4550,  0.1730, -1.2235,  0.6070,  1.0752, -1.6298,  0.2290,\n",
            "         -0.8482, -1.3720],\n",
            "        [-0.3379,  0.3857,  0.1037, -0.5585, -0.5254,  0.7013,  0.7972,  0.0302,\n",
            "         -1.3584, -0.7754],\n",
            "        [-0.1006,  0.4249, -0.2097,  0.9189,  0.7264, -1.7299, -1.2365, -0.7657,\n",
            "          0.5746, -0.1865],\n",
            "        [ 0.0091,  0.7486, -0.9319, -0.6826, -1.0796,  1.2411,  0.2495, -0.4826,\n",
            "          0.2161, -0.2031],\n",
            "        [-1.4029,  1.0735,  0.4696, -0.1008, -0.5910,  0.8022, -0.5932, -1.5902,\n",
            "         -0.5466,  1.0596],\n",
            "        [ 0.2169,  0.9760,  0.8589,  0.7592,  0.2818, -1.0876,  0.0877, -0.7752,\n",
            "         -0.3796,  2.1534],\n",
            "        [ 0.6674,  0.5540, -0.9251, -0.5389,  0.2965, -0.5925, -0.6392,  0.5319,\n",
            "          0.3998, -0.6462],\n",
            "        [-1.0118,  0.7295, -1.0041, -0.5411,  0.3754, -0.5743,  0.4918,  0.8249,\n",
            "          0.5124,  2.6651],\n",
            "        [ 0.5388,  0.1148, -0.7340, -1.3473, -0.5436, -2.3202, -0.7700,  2.5534,\n",
            "          0.1871,  1.4451],\n",
            "        [-0.4218, -0.1196,  0.2099,  0.7163, -0.5190, -0.2257,  0.6625,  2.0105,\n",
            "         -1.0395, -0.0537],\n",
            "        [-0.3276,  1.1160,  0.3240,  0.7073,  1.2161, -0.0253,  0.5971, -0.9911,\n",
            "         -0.3948, -0.1630],\n",
            "        [ 1.0143, -1.3494,  1.1636, -0.5102, -0.6780,  0.3814,  0.5224,  1.0895,\n",
            "          0.0645,  0.8069],\n",
            "        [-0.8498, -2.6757,  0.8472,  0.8289,  0.8095, -0.1202,  0.0491,  1.2562,\n",
            "          1.1664, -1.5181],\n",
            "        [-0.3833, -1.9351,  1.0548,  0.3886,  0.0115, -0.3191,  1.8327,  0.6879,\n",
            "          1.8389, -0.3950],\n",
            "        [-0.3160, -0.0461, -1.8407,  1.1582, -0.2285, -1.0953, -2.7334,  2.3457,\n",
            "         -0.6284,  0.3937],\n",
            "        [-1.4519, -0.0155, -0.2070,  0.7288, -0.6660,  0.3784,  0.7175, -0.9842,\n",
            "          0.3368, -0.9821],\n",
            "        [ 1.7352, -0.6824,  0.8652,  0.5110,  0.4034, -0.1792, -0.5409,  0.2304,\n",
            "          0.7247, -1.6049],\n",
            "        [ 0.3418,  1.6220, -0.1771,  0.6875,  0.3921,  0.1131, -1.4878, -1.0226,\n",
            "          0.4245, -1.6544],\n",
            "        [ 0.4975,  0.4230,  0.3867,  0.1152, -1.8812, -0.6766, -1.4774,  0.9700,\n",
            "         -0.0757,  0.7036],\n",
            "        [ 0.4397,  1.1917,  0.1277, -1.0371,  0.3929,  1.4211, -1.3501, -2.0236,\n",
            "          1.2204, -0.7790],\n",
            "        [ 0.7405, -0.1018, -0.0260, -0.2016,  0.2209,  2.3855, -1.3633,  2.1141,\n",
            "         -0.3261, -0.1359],\n",
            "        [-0.5556,  0.8201, -0.6105, -0.7868, -2.3721,  0.7608,  2.2251,  0.2460,\n",
            "          1.5211,  0.0212],\n",
            "        [-0.2840, -1.1325,  0.2305,  0.3158,  1.1210,  1.2179, -0.3989,  1.5450,\n",
            "         -0.7096,  1.0351],\n",
            "        [ 1.7173, -0.0819,  0.6794, -0.3095, -0.3460, -1.0074,  0.2541,  2.1295,\n",
            "          0.7137, -0.1981],\n",
            "        [-0.2346,  1.6361, -0.2288,  1.4930, -1.3122, -1.3623, -0.5627, -1.5243,\n",
            "         -1.3347, -0.1416],\n",
            "        [-0.3624,  0.1413,  0.3648, -0.2177, -2.3178,  0.6352, -1.7511, -1.4190,\n",
            "          0.8224,  0.7287],\n",
            "        [-0.4744, -0.8377, -2.2839,  0.9206,  2.2802,  1.0340,  1.8652, -0.8236,\n",
            "          2.1233, -0.8141],\n",
            "        [ 0.6702,  0.7383, -0.5766,  0.5066, -0.2958, -0.4484,  0.9390,  0.8180,\n",
            "          1.9055, -0.1821],\n",
            "        [ 0.3106, -1.1199,  0.1536, -0.5624,  0.7648,  1.0560, -0.2056, -2.1769,\n",
            "          0.5388,  1.3006],\n",
            "        [-1.2275, -0.0844,  1.2668, -1.5348, -0.5532, -0.6297, -0.5156,  2.3804,\n",
            "          0.7090,  0.8052],\n",
            "        [ 0.6404, -0.5675, -0.9092,  1.3644, -1.0958, -0.4053,  1.7357, -0.7344,\n",
            "         -0.4678,  1.0857],\n",
            "        [ 0.8463,  0.2053, -1.2102, -0.8557, -0.2229, -1.8637,  0.6262, -1.0778,\n",
            "          1.5925,  1.7975],\n",
            "        [ 0.2913,  1.7631, -0.1039,  1.4278,  0.0902,  1.0666, -0.6051,  0.1449,\n",
            "         -2.7932,  1.0656],\n",
            "        [-2.1507, -0.2516,  1.8870,  1.1591, -1.5390,  0.0706,  0.6777, -0.7525,\n",
            "         -0.2583, -0.1050],\n",
            "        [-0.5824, -0.1872,  0.5330, -0.5877, -1.5471, -0.5145,  0.5189,  0.5247,\n",
            "         -1.0333, -1.1432],\n",
            "        [-0.5513,  2.6110, -0.3001,  1.0208,  0.0204, -0.5255, -1.7904,  0.0630,\n",
            "         -0.7349,  0.5775],\n",
            "        [-1.1644, -0.5325,  1.0242, -0.8791,  0.3764,  1.4406, -0.8808,  0.3071,\n",
            "         -1.1709, -0.1869],\n",
            "        [-0.6711, -0.2184, -0.7525,  1.4440, -1.1688, -0.9111,  0.5896, -0.2027,\n",
            "          0.5208,  1.1466],\n",
            "        [-0.9139, -1.3132,  0.2334,  0.4771, -0.2709, -1.7380, -0.0221, -1.9413,\n",
            "         -1.2209,  0.6453],\n",
            "        [ 0.9591,  1.3082, -1.5270, -2.2779, -0.7860, -0.7897, -0.2962,  0.8265,\n",
            "          1.4719, -0.3314],\n",
            "        [ 0.2911,  0.3850,  1.5846, -0.1631,  0.2745, -0.9915,  0.8469,  0.1738,\n",
            "         -0.7097,  0.8824],\n",
            "        [-0.1965, -0.1492, -0.8221, -0.9250, -0.5945,  2.1727, -0.3273, -1.5342,\n",
            "          0.0520,  1.1681],\n",
            "        [ 0.9207, -0.1092,  0.5570,  0.0907, -0.1148, -0.8410,  0.6930, -0.5639,\n",
            "          0.9599, -0.7777],\n",
            "        [-0.3604, -1.1668, -1.1833, -0.3793, -0.3431,  0.6588, -1.7713,  1.0437,\n",
            "         -1.0669,  0.3923],\n",
            "        [ 0.9014,  0.4720, -0.2207,  0.7297, -0.6481,  1.1011,  0.2764, -0.5424,\n",
            "         -1.5983, -1.1021],\n",
            "        [ 0.2174,  0.9696, -1.7929, -1.3013, -0.0171, -0.1789, -0.9349, -0.8332,\n",
            "         -0.4451,  1.0538],\n",
            "        [-0.3035,  0.3051, -0.4753, -0.5057,  0.3175, -0.7528, -0.3714,  1.5164,\n",
            "          1.4380, -1.4872],\n",
            "        [ 0.8182,  1.5259,  1.6474, -0.6074, -0.8038,  1.1903,  0.0263,  0.1484,\n",
            "          0.9603,  0.5214],\n",
            "        [ 0.5411, -0.3328, -1.5183,  1.0452,  1.6390,  1.4488, -0.6560, -1.1072,\n",
            "          0.7824,  0.6823],\n",
            "        [ 0.7924, -2.1284,  0.8693,  0.1324,  0.0216,  0.4005, -1.3015,  0.8456,\n",
            "          0.1796,  0.2224],\n",
            "        [-0.9747, -1.3064,  0.2353,  0.9745,  0.4253,  0.3019,  0.6161,  0.8065,\n",
            "          0.1894, -0.3812],\n",
            "        [ 1.2834, -0.6392,  0.2965, -0.6487,  1.0691,  0.8888, -0.0927, -0.4124,\n",
            "         -0.4240,  0.7801],\n",
            "        [-1.3777, -0.1993,  0.7313,  1.1105,  0.2969,  0.3168,  0.6833, -0.0096,\n",
            "          0.2242, -0.7189],\n",
            "        [ 0.7905, -0.0651,  1.0219, -0.4987, -0.8696, -0.4920, -0.1367, -3.4068,\n",
            "         -1.2130, -0.5051],\n",
            "        [-0.8543,  0.7530, -1.3686,  0.4873, -0.0103,  0.6773,  1.5424,  0.4086,\n",
            "          0.8546,  0.8254],\n",
            "        [-0.8901,  3.6667,  0.2927,  0.3283, -1.0023,  0.6813, -0.2862,  0.6788,\n",
            "         -1.0600,  1.3867],\n",
            "        [ 2.1145,  0.4587, -2.1026, -0.4556,  0.8146, -0.7699,  0.2679, -0.8718,\n",
            "          0.8374,  0.4187],\n",
            "        [-0.7902, -1.3860, -2.6201, -0.7898, -0.0397, -1.1953, -1.4407,  0.4189,\n",
            "          0.8849, -0.8694],\n",
            "        [ 1.8653, -0.3382,  1.2038,  0.4998, -0.1454, -1.7079,  0.9657, -0.4105,\n",
            "         -0.6561,  0.7697],\n",
            "        [ 0.5890, -0.6080,  1.2007,  1.3585,  1.0873,  1.0206, -0.6736,  0.5490,\n",
            "          1.1123, -0.6775],\n",
            "        [ 0.1507,  0.4439,  0.3020, -0.0843,  0.5354,  1.2328,  0.4683, -1.1037,\n",
            "          0.4215,  0.1856],\n",
            "        [ 2.3386, -0.3799,  0.4262, -0.1796, -1.5704,  0.7716,  1.5704, -1.7653,\n",
            "         -1.9888,  0.6886],\n",
            "        [-0.7389,  0.8594,  0.8256,  1.6711, -0.3701,  1.6720,  1.9724, -0.7809,\n",
            "          0.1816,  0.4812],\n",
            "        [ 0.1689,  0.9294,  0.3127,  0.5731, -0.1717, -0.1607,  0.2299,  1.8997,\n",
            "          2.2837,  0.8770],\n",
            "        [-0.7273, -1.4210,  0.7056, -0.9779, -1.9640,  1.1293, -1.5654, -0.6345,\n",
            "          0.5248, -1.5940],\n",
            "        [-0.5248, -0.1239,  0.0335, -1.3693,  0.6190, -0.8870,  2.4126,  0.4333,\n",
            "         -1.7741, -2.5794],\n",
            "        [ 0.6245,  0.5292,  1.4212,  1.9173, -0.7232, -0.6246,  1.0170, -0.0195,\n",
            "         -0.2362,  0.3577],\n",
            "        [ 0.0099, -2.0577,  0.5105, -0.0411, -0.9362,  1.6550, -0.7128,  0.8799,\n",
            "          1.5080, -0.8080],\n",
            "        [ 0.8267,  0.5589,  0.5168, -1.3914,  1.5241, -1.7009, -2.1575,  0.3216,\n",
            "         -1.4846,  0.4723],\n",
            "        [ 0.7787,  1.0851,  0.2563,  0.8727,  2.3279,  2.0892, -0.5918, -2.2722,\n",
            "          0.9890,  0.5578],\n",
            "        [-0.3329,  0.7867,  1.6284,  0.2978,  0.4582, -0.5167, -1.1060,  1.1333,\n",
            "          1.7000,  2.0695],\n",
            "        [-1.1119, -0.4000,  1.0863,  2.0092, -1.2157, -0.5847,  0.4602,  0.0088,\n",
            "          0.5311, -0.6074],\n",
            "        [ 2.1250,  0.5250, -1.1479, -0.1235,  1.7565,  0.0317,  0.8037,  0.5692,\n",
            "         -1.6774,  0.2525],\n",
            "        [ 2.1753,  1.0489, -0.8081, -0.2641, -0.8491,  0.2196,  0.6667, -0.3246,\n",
            "          0.2429, -0.2091],\n",
            "        [ 0.0379,  0.8160,  0.2144,  0.6280, -0.3744,  0.1615, -0.2404, -1.4785,\n",
            "          1.4535, -0.6559],\n",
            "        [-1.1474,  0.1349, -0.4113, -1.3122,  0.5608,  0.4854, -0.1236, -0.0902,\n",
            "         -0.5648,  0.3113],\n",
            "        [ 0.1575, -1.3203, -0.1003,  1.1493,  1.2370, -2.4113,  0.8025, -0.4745,\n",
            "          0.1331, -0.6914],\n",
            "        [ 1.4354, -0.7403, -1.0758, -1.1869, -0.5644, -1.0592, -0.4088,  1.3901,\n",
            "          0.4461,  0.8792],\n",
            "        [-0.1282, -0.3577, -0.9390, -1.3910,  0.7798, -0.9413,  0.5750, -1.7179,\n",
            "          1.3888,  0.7286],\n",
            "        [-0.5142,  1.2530, -0.2194,  0.4840,  0.8062, -0.3377, -0.4112,  1.2682,\n",
            "         -0.2886, -0.7273],\n",
            "        [ 0.7961,  1.5260, -0.4639,  2.3706,  0.0721, -0.4904,  2.4839,  0.3841,\n",
            "          0.7278,  1.0320],\n",
            "        [-0.3295,  0.2388, -0.4068, -2.0358, -1.3452,  0.0481,  1.0298,  0.4720,\n",
            "         -0.5317, -0.0701],\n",
            "        [-0.3530,  0.4230, -0.0754,  1.3703,  1.0168,  0.2730, -1.5054, -0.7577,\n",
            "          1.9849,  2.0902],\n",
            "        [-0.4236,  0.2814, -0.8106, -0.1648, -0.6296, -0.2892, -0.0759,  0.3345,\n",
            "          0.0312,  0.4254],\n",
            "        [ 0.7688, -2.2909,  0.7920,  0.2015,  0.7327,  1.8831,  0.9144,  0.1154,\n",
            "         -1.8770, -0.0433],\n",
            "        [ 1.2799, -1.2617, -0.0742, -0.0834, -0.8170, -0.4712, -0.0378,  0.0289,\n",
            "         -0.3802,  1.2271],\n",
            "        [-1.0866,  1.4173,  0.2007, -0.8056, -0.8776, -0.3253,  0.4826, -0.8139,\n",
            "         -0.0377,  0.8507],\n",
            "        [ 0.2242, -0.6523,  0.4719,  0.0276,  0.3307,  0.6454, -0.0064, -0.6664,\n",
            "          0.0644, -0.3743],\n",
            "        [-1.3337,  0.5751, -1.1872,  1.6789,  0.3737, -1.0145, -0.5352, -0.7786,\n",
            "         -0.1184,  0.8152],\n",
            "        [-0.3868,  0.1842, -0.2632,  0.5442, -0.9066,  0.2364,  0.0679, -0.2848,\n",
            "          0.2640, -1.0044],\n",
            "        [-1.5152,  0.1280,  0.0466,  0.0870,  0.8779,  0.3965,  0.2893,  0.0481,\n",
            "          2.3294, -0.2411],\n",
            "        [-2.1070, -0.1423,  0.2014, -0.6799, -1.4548,  0.7408,  0.5684, -0.6707,\n",
            "          0.0224,  0.1854],\n",
            "        [-0.9167,  0.3926, -1.2817,  0.1227, -1.1447, -0.5664, -1.2754, -0.3998,\n",
            "         -0.0763,  0.4937],\n",
            "        [-1.2056,  0.6847, -0.2005, -0.5189,  1.6143,  0.3689, -0.7821,  0.1961,\n",
            "         -0.8501,  1.6540],\n",
            "        [ 0.6193,  0.9308, -0.8361,  0.8115, -0.0321, -0.9773,  1.3830, -0.7139,\n",
            "          0.8117, -0.7739],\n",
            "        [ 0.5709,  0.6027, -1.1104, -0.6882, -0.6544,  0.1391,  1.7649, -0.4559,\n",
            "          1.7610, -1.0751],\n",
            "        [ 0.6697,  1.5366, -0.0104, -1.6422, -0.3512,  1.5833, -1.3649, -0.2898,\n",
            "          1.0453,  0.1961],\n",
            "        [-0.0909, -1.0964, -1.5972, -0.5092,  0.6591, -0.8177, -0.9040,  0.4693,\n",
            "          0.0092,  1.1740]])\n",
            "v =  tensor([-0.9551, -0.0196, -0.1559, -0.6972,  1.3926, -0.4410, -1.1223,  1.0513,\n",
            "         0.1247, -0.9675])\n",
            "d = v·v =  tensor(6.8731)\n",
            "----------------------------------------------\n",
            "v2 =  tensor([-3.8359,  5.5127,  4.8115, -0.6345,  2.0892, -2.0168, -1.9602, -3.0616,\n",
            "         2.4974,  0.0626,  2.9769,  0.5422, -0.1516, -2.0940,  4.2139, -0.5969,\n",
            "         5.0215, -1.0310,  0.9980,  1.9344, -0.9578,  0.4741,  2.5382, -4.5500,\n",
            "         2.0432,  0.6678, -3.0401, -3.1985,  0.9962, -0.9123, -2.5562,  3.9443,\n",
            "        -6.5860, -2.8917, -2.1846, -2.6999, -0.0945,  1.4960,  2.8108, -3.3892,\n",
            "        -1.8737,  1.8437, -1.3094, -3.1916, -1.3148,  2.6203, -2.7460,  0.1137,\n",
            "         5.1139, -2.5474, -0.3490,  1.0673,  1.2483, -0.8475,  0.6518, -4.6500,\n",
            "        -1.6318, -1.6316, -1.4270,  5.2216, -4.1021,  1.5062, -1.7520, -9.2270,\n",
            "        -5.3353,  0.3792,  0.7587,  2.7285, -4.4343,  0.6409,  5.0790, -1.2339,\n",
            "         1.3492, -1.7888, -0.0998, -3.9242, -1.5848,  2.3114,  1.1620,  0.4452,\n",
            "        -0.2363,  3.8973, -5.3456, -0.7597, -0.2010, -0.0798, -1.8607, -3.2197,\n",
            "        -1.7633, -0.4417,  0.2237, -0.7103,  2.6739, -1.4143,  0.1618,  2.9941,\n",
            "        -2.1116, -2.0771,  0.4571,  2.3641])\n",
            "----------------------------------------------\n",
            "m2 =  tensor([[ 90.0263,  -2.0136,  -4.5517,  -9.2390,   7.6459,  -3.0127,   5.9218,\n",
            "          -0.4394,  -6.9244,   6.8356],\n",
            "        [ -2.0136, 116.5592, -11.2751,   7.6708,  -9.7949,  -6.1997,  -2.6137,\n",
            "         -18.5912,   1.3402,  21.1038],\n",
            "        [ -4.5517, -11.2751,  85.5034,  13.6125, -11.0966,  15.4163,   4.6413,\n",
            "           0.4658, -14.3180,  -6.8277],\n",
            "        [ -9.2390,   7.6708,  13.6125,  89.5974,   9.8708,  -4.4227,  16.8538,\n",
            "         -10.5818,   1.4829,   2.5975],\n",
            "        [  7.6459,  -9.7949, -11.0966,   9.8708,  89.5831,   1.6347,  -8.9861,\n",
            "          -0.7104,   7.8106,  -1.8329],\n",
            "        [ -3.0127,  -6.1997,  15.4163,  -4.4227,   1.6347, 106.6172,  -4.1144,\n",
            "         -16.9736,  -6.2712,  -4.5047],\n",
            "        [  5.9218,  -2.6137,   4.6413,  16.8538,  -8.9861,  -4.1144, 111.2304,\n",
            "         -11.3265,   6.5462,  -8.9738],\n",
            "        [ -0.4394, -18.5912,   0.4658, -10.5818,  -0.7104, -16.9736, -11.3265,\n",
            "         123.2094,   2.9356,   0.9107],\n",
            "        [ -6.9244,   1.3402, -14.3180,   1.4829,   7.8106,  -6.2712,   6.5462,\n",
            "           2.9356, 114.0060,  -7.6321],\n",
            "        [  6.8356,  21.1038,  -6.8277,   2.5975,  -1.8329,  -4.5047,  -8.9738,\n",
            "           0.9107,  -7.6321,  98.0450]])\n",
            "----------------------------------------------\n",
            "u =  tensor([[ 1.2972e-01, -6.5664e-02,  1.7399e-01,  7.2963e-03,  5.9903e-03,\n",
            "          8.5684e-03,  6.3816e-02,  3.3671e-02, -7.9906e-02, -4.5493e-02],\n",
            "        [ 6.2748e-02,  6.3304e-02, -1.9342e-01, -1.4109e-01,  1.5304e-01,\n",
            "         -2.5097e-02, -2.5528e-01,  1.4760e-01, -7.9481e-02,  1.4203e-01],\n",
            "        [-1.8927e-01, -1.5205e-01,  1.3162e-01, -1.4833e-01, -2.7369e-02,\n",
            "          1.2962e-02, -1.0250e-01, -2.5351e-02,  2.2304e-02, -2.0202e-03],\n",
            "        [ 2.9195e-02, -7.8148e-02,  6.5637e-02,  6.4037e-02,  1.9583e-02,\n",
            "          9.0480e-02, -3.2025e-02,  8.9088e-02,  1.1002e-01,  2.4618e-02],\n",
            "        [ 2.6196e-02,  1.0093e-01, -6.1021e-02, -4.7349e-02, -2.3798e-03,\n",
            "         -1.2506e-01, -1.5913e-01, -1.5128e-02, -1.2026e-01, -1.3301e-02],\n",
            "        [ 7.0556e-02,  1.3329e-03,  2.0687e-02, -5.8607e-02,  3.1797e-02,\n",
            "          1.6233e-01,  4.8568e-02,  2.9666e-02,  7.4251e-02, -9.1618e-02],\n",
            "        [ 1.6464e-01,  4.4586e-03,  1.1513e-01, -4.7258e-02,  1.2233e-01,\n",
            "         -5.1621e-04, -1.5835e-02, -9.9550e-02,  3.3330e-02,  6.1994e-02],\n",
            "        [ 1.2798e-01,  1.0043e-01,  3.5039e-02,  9.9297e-02, -3.2360e-02,\n",
            "         -1.2537e-01,  3.8885e-02, -1.0941e-01, -8.6066e-02,  1.0736e-01],\n",
            "        [-5.2628e-02,  9.8687e-02, -2.4897e-02, -4.8550e-02, -4.3100e-02,\n",
            "          4.6354e-02, -4.8866e-02,  1.0233e-01, -1.8604e-02, -3.1973e-02],\n",
            "        [ 1.2716e-02,  1.9411e-01, -1.8579e-02,  3.4186e-02,  2.5322e-02,\n",
            "         -3.1937e-02,  1.2966e-01, -1.5410e-01,  1.6963e-01,  1.1298e-01],\n",
            "        [-1.8874e-01,  2.6141e-01,  1.9233e-02,  1.2605e-01, -1.6069e-02,\n",
            "          5.9501e-02,  2.0811e-02, -6.1642e-02, -2.9218e-02,  4.5823e-02],\n",
            "        [-8.6445e-02, -8.6354e-03,  1.8009e-02,  1.7664e-01,  6.7609e-02,\n",
            "         -4.6145e-02,  3.5479e-02,  6.4063e-02,  9.0394e-02, -5.6936e-02],\n",
            "        [ 1.2550e-01, -1.6826e-02, -2.7901e-02, -4.6646e-03, -2.1649e-02,\n",
            "         -1.0339e-01, -4.1587e-02,  8.4160e-02,  4.0051e-02,  1.0390e-01],\n",
            "        [-1.0370e-01, -6.4131e-02,  3.7707e-02,  9.0190e-02, -4.1336e-02,\n",
            "          4.7669e-02,  1.6434e-01, -7.9796e-02, -9.0433e-02,  2.7078e-02],\n",
            "        [-2.1331e-01, -1.6415e-01, -1.3709e-01, -3.4665e-02,  6.3348e-02,\n",
            "         -1.2145e-01, -2.2762e-02, -3.4764e-02, -3.2846e-02, -9.8626e-03],\n",
            "        [-1.0503e-01, -1.3521e-01, -2.1176e-01,  5.3753e-02,  3.1303e-02,\n",
            "         -8.8307e-03,  9.8729e-02, -1.0580e-01, -4.4324e-02,  7.2705e-02],\n",
            "        [-1.6911e-01,  2.1235e-01,  8.9815e-02,  9.7768e-03,  7.2914e-02,\n",
            "         -1.4286e-01, -8.9623e-02,  2.1212e-02,  4.4190e-02, -2.9332e-01],\n",
            "        [ 7.9342e-02, -9.4682e-02, -8.4577e-02, -1.8193e-02,  1.1645e-01,\n",
            "          2.3191e-02, -7.7728e-02, -2.5077e-02,  7.6187e-02, -6.3529e-02],\n",
            "        [-8.0691e-02, -7.4456e-02, -5.3753e-02, -3.6090e-02, -7.7271e-02,\n",
            "         -2.4877e-02, -1.6303e-02,  1.3303e-01, -2.2554e-01, -6.1654e-02],\n",
            "        [ 8.8750e-02,  3.2220e-02, -4.6001e-03, -1.3591e-01,  4.0085e-02,\n",
            "         -2.9729e-02, -1.2797e-01,  2.0045e-01, -1.2061e-01, -8.2882e-02],\n",
            "        [-4.4805e-02,  1.1103e-01,  9.6448e-02,  8.2923e-02,  9.6327e-02,\n",
            "          4.7258e-02,  1.7191e-02, -3.6370e-02, -1.6566e-01, -1.3186e-01],\n",
            "        [ 1.1855e-01, -8.3298e-03,  3.5629e-02, -2.6310e-01,  8.1243e-03,\n",
            "          9.4504e-02, -8.0834e-03,  8.1845e-02, -1.2250e-01,  5.4462e-02],\n",
            "        [-1.3132e-01, -1.8239e-02,  1.5372e-01, -8.6211e-02,  3.1784e-02,\n",
            "         -1.6823e-02,  1.8868e-01,  1.6516e-01,  3.3164e-02, -1.2338e-01],\n",
            "        [ 6.8337e-02, -3.7507e-03, -1.3563e-01,  6.6269e-02,  1.2745e-01,\n",
            "          2.7439e-01,  1.5267e-01, -3.0564e-02,  9.1640e-02, -5.0166e-02],\n",
            "        [-1.1537e-01, -3.7139e-02,  9.8334e-02, -9.5593e-03, -1.0535e-02,\n",
            "         -1.5013e-01,  1.4077e-01, -2.4883e-02,  1.1379e-01,  7.0138e-03],\n",
            "        [-1.4700e-01,  6.3858e-02, -5.3742e-02,  1.1800e-01, -4.6180e-02,\n",
            "          4.6471e-02,  1.0268e-01,  1.0368e-01, -1.6101e-01,  8.6622e-03],\n",
            "        [ 1.8307e-01,  6.9101e-02,  4.6229e-02,  1.1107e-01,  5.3592e-02,\n",
            "         -3.1811e-02, -2.0608e-01,  1.2174e-02, -7.0212e-02, -1.4789e-01],\n",
            "        [ 8.3553e-02,  2.0154e-02,  9.4381e-02, -9.2356e-02,  1.4975e-01,\n",
            "          1.1743e-01,  3.5813e-03, -1.7587e-01, -1.7422e-01, -1.3503e-01],\n",
            "        [ 3.0358e-02, -6.9963e-02, -2.8296e-01, -1.9917e-01, -1.1550e-01,\n",
            "         -7.5827e-02,  5.7415e-02,  1.1478e-02,  2.4432e-01, -6.3506e-02],\n",
            "        [-4.4588e-03,  7.8620e-02, -1.7918e-01,  1.9758e-02,  1.1269e-02,\n",
            "          4.4261e-02,  1.0584e-01,  7.1047e-02, -4.5178e-02, -6.9662e-02],\n",
            "        [ 8.1971e-02, -6.8636e-02,  3.5608e-02, -1.6045e-01, -1.1519e-01,\n",
            "         -1.2323e-02,  6.5177e-02, -2.0595e-01, -3.0896e-02,  7.5709e-02],\n",
            "        [-1.7410e-01,  8.6614e-02,  3.3025e-02,  6.2680e-02,  1.8425e-01,\n",
            "          4.8100e-02,  9.0601e-02, -5.3790e-02, -2.7218e-02,  2.1012e-01],\n",
            "        [ 9.8385e-02, -2.0341e-02, -6.7639e-02,  1.5236e-01, -1.0193e-01,\n",
            "          5.4105e-03,  4.1054e-02, -1.4436e-01,  5.8197e-02, -1.8897e-01],\n",
            "        [ 6.0431e-02,  1.8331e-01, -1.2938e-01, -3.3255e-03, -1.3152e-01,\n",
            "          9.5397e-02,  1.9217e-02, -2.0762e-01, -5.8904e-02,  5.4664e-02],\n",
            "        [ 1.3544e-01,  4.1095e-02,  2.2551e-01,  1.0007e-01, -1.0373e-02,\n",
            "         -1.4305e-01,  3.3009e-02,  1.3116e-01,  1.0188e-01, -1.2177e-01],\n",
            "        [ 8.7377e-02, -1.4664e-01, -9.9046e-03,  1.1501e-01,  2.3597e-01,\n",
            "         -3.6468e-02, -4.5571e-02, -1.2404e-01, -3.1917e-02,  3.2064e-02],\n",
            "        [-4.4907e-02, -6.5120e-02,  3.0191e-02,  1.3526e-01,  8.7349e-02,\n",
            "          1.2869e-01, -1.0479e-01,  2.9551e-02,  1.1903e-02,  2.4073e-03],\n",
            "        [ 1.1069e-01,  1.8623e-01,  1.0549e-01,  1.8913e-03,  1.1633e-01,\n",
            "         -1.1811e-01, -7.3926e-02,  1.1773e-01, -2.0497e-02, -5.7433e-02],\n",
            "        [-5.5112e-02, -1.0280e-01,  1.6619e-01, -5.9977e-02,  8.8561e-02,\n",
            "         -2.2035e-02, -3.9381e-05,  9.1189e-03,  7.3834e-02,  1.1824e-01],\n",
            "        [ 5.5326e-02,  5.7473e-02, -9.1730e-02,  9.5750e-02,  5.7683e-02,\n",
            "         -4.0517e-02,  6.7053e-03, -1.7518e-01,  2.7223e-02, -1.5970e-01],\n",
            "        [ 6.1662e-02, -4.2180e-02,  2.0412e-02,  7.7824e-02, -4.2497e-02,\n",
            "         -7.1391e-02, -2.1954e-01, -2.5792e-01, -1.5464e-02,  3.2504e-02],\n",
            "        [-6.1086e-02,  2.0108e-01, -5.9086e-02, -6.2589e-02, -2.3383e-02,\n",
            "          2.6123e-01,  1.4200e-02,  8.5442e-02, -2.5032e-02,  1.9033e-02],\n",
            "        [ 2.5970e-02,  6.5511e-03,  2.3751e-02,  1.5165e-01, -3.1459e-02,\n",
            "         -4.5503e-02,  2.9156e-02, -1.5021e-02, -7.2135e-02,  2.0562e-01],\n",
            "        [ 1.0413e-01, -3.3571e-02,  1.0796e-01, -1.5388e-01, -1.3004e-02,\n",
            "          1.1047e-01,  1.0523e-01, -1.3838e-01,  9.5364e-02, -5.7845e-02],\n",
            "        [ 1.4725e-02, -3.1182e-02, -1.1740e-01,  2.1669e-02, -5.4092e-02,\n",
            "          4.5038e-02, -2.5367e-02,  2.3436e-02, -1.4765e-01,  3.0369e-02],\n",
            "        [-1.3318e-01,  3.3347e-02,  1.5746e-01, -5.5974e-02,  1.3532e-02,\n",
            "         -9.2657e-03, -2.5631e-02, -6.7961e-02,  1.0619e-01, -1.6597e-01],\n",
            "        [ 8.2450e-02, -9.8926e-02,  8.4330e-02,  4.5294e-02, -5.1981e-02,\n",
            "          3.7378e-02, -3.5834e-02,  1.4889e-01,  2.4711e-02, -1.7309e-01],\n",
            "        [ 6.2429e-02,  1.6393e-01,  9.1190e-02, -8.8223e-02, -7.8084e-02,\n",
            "          9.2535e-02, -5.0796e-02, -5.3485e-02,  8.9754e-02, -1.3885e-02],\n",
            "        [-1.3436e-01,  7.0830e-02, -1.2143e-01, -5.2670e-02,  7.7007e-02,\n",
            "          4.2647e-02, -4.2274e-02,  1.3748e-01, -1.3772e-02,  1.8344e-02],\n",
            "        [ 7.3068e-02,  7.9602e-03,  4.5187e-02, -8.1240e-03,  8.1144e-02,\n",
            "          9.4379e-02,  2.0271e-01,  8.8045e-02, -1.6794e-01,  9.8343e-02],\n",
            "        [ 6.5101e-02,  7.6018e-03, -2.1577e-02, -2.1111e-01, -1.2141e-01,\n",
            "         -1.3515e-01,  8.0921e-02, -3.0694e-02,  7.2904e-02, -1.4517e-01],\n",
            "        [-1.6187e-01, -7.0891e-02,  7.0063e-02, -3.6529e-02, -3.0740e-02,\n",
            "         -6.5777e-02,  6.3152e-02, -8.9936e-02, -1.4187e-01, -7.1257e-02],\n",
            "        [-7.9674e-02, -1.0163e-01, -7.0351e-02,  2.4549e-02,  5.5568e-02,\n",
            "         -1.0429e-01,  2.3136e-02, -3.2896e-02,  8.2639e-02, -3.0166e-02],\n",
            "        [-5.3837e-03, -3.8995e-02,  8.2661e-02, -6.0190e-02, -1.6186e-01,\n",
            "         -2.2337e-02,  9.5952e-02, -2.0176e-02, -2.1448e-02,  7.3247e-02],\n",
            "        [ 1.9454e-02, -1.0563e-01, -7.4843e-02,  1.6785e-02,  1.1580e-01,\n",
            "         -9.5633e-02, -1.7339e-02,  1.9166e-02,  4.9791e-02,  2.6098e-02],\n",
            "        [ 1.8140e-01, -1.1143e-01,  8.6734e-02,  2.6046e-04, -1.0266e-01,\n",
            "          1.0170e-01, -1.9766e-01, -9.2689e-02, -1.8023e-01,  5.3254e-02],\n",
            "        [ 6.5683e-02,  5.1903e-02, -1.1352e-01,  7.8597e-03,  4.3627e-02,\n",
            "          1.0819e-02,  1.3390e-01, -1.5750e-02,  2.1111e-01, -5.1061e-02],\n",
            "        [ 1.7628e-01,  1.6551e-01,  1.4714e-01,  1.0279e-01,  1.9445e-01,\n",
            "         -1.0315e-03,  1.0307e-01,  1.4821e-01,  7.6821e-02,  2.7269e-02],\n",
            "        [ 4.6686e-02,  1.4164e-01, -9.1459e-02, -7.9768e-02, -2.5146e-01,\n",
            "          6.5329e-02,  4.3131e-03,  1.4272e-02, -1.0097e-02, -7.6120e-02],\n",
            "        [-1.6648e-01,  1.0822e-01, -7.4809e-02, -1.4065e-01, -4.0275e-03,\n",
            "          6.4867e-02, -1.9074e-01, -1.0134e-01,  1.0174e-01, -1.5875e-01],\n",
            "        [ 3.1850e-02, -1.4784e-03, -1.7504e-02,  1.9088e-01, -1.6659e-01,\n",
            "         -3.4837e-02, -1.7988e-03, -5.3453e-02, -1.8922e-01,  5.8595e-02],\n",
            "        [-5.7446e-02, -9.4494e-02, -4.1258e-02, -9.0268e-02,  2.1236e-02,\n",
            "         -1.5988e-01,  1.0523e-01,  9.7075e-02, -1.4298e-01, -4.2879e-02],\n",
            "        [ 1.0236e-01, -5.7562e-02, -4.6407e-03, -8.6196e-02, -2.5785e-02,\n",
            "          5.2213e-03,  8.2053e-02,  1.6224e-02,  7.8450e-03,  6.1288e-02],\n",
            "        [ 1.5159e-01, -1.2952e-01,  1.2053e-01,  1.5363e-01, -2.1675e-01,\n",
            "          1.5227e-01,  5.9232e-02, -6.1945e-02, -6.3402e-02, -9.4513e-02],\n",
            "        [ 1.8794e-01, -1.2686e-01, -6.0276e-02,  6.2118e-02,  9.1498e-02,\n",
            "         -5.7806e-02,  1.6358e-01,  1.4466e-02,  7.7918e-02, -2.3200e-02],\n",
            "        [-5.1742e-02,  1.2585e-01, -1.2773e-01,  2.2289e-02,  1.1092e-01,\n",
            "         -3.2000e-02,  2.1902e-01,  4.3125e-02, -8.1684e-02, -1.9062e-03],\n",
            "        [-7.5422e-02, -1.4595e-01,  7.4447e-02, -1.2811e-01,  1.5981e-01,\n",
            "          1.7255e-01, -8.5359e-02, -7.5970e-02, -1.2715e-01, -1.0437e-01],\n",
            "        [-5.6417e-02, -1.3131e-01, -6.6841e-02,  1.4499e-01, -7.0898e-02,\n",
            "          1.2399e-01, -1.9496e-01,  1.9317e-01,  1.9698e-01,  2.0796e-01],\n",
            "        [ 9.0075e-02, -3.9055e-02, -4.5486e-02,  1.8772e-01,  2.2295e-02,\n",
            "         -9.4024e-02,  5.3458e-02,  2.1325e-02, -1.4001e-01, -5.0558e-02],\n",
            "        [-1.5371e-01, -1.4042e-01, -1.8674e-02, -1.1201e-01,  9.5222e-02,\n",
            "          5.8919e-02,  1.2203e-01, -5.7055e-02, -8.8515e-02, -1.4781e-01],\n",
            "        [-7.9029e-02,  1.5339e-01,  1.7549e-01, -1.1882e-02, -1.1408e-01,\n",
            "         -7.8096e-02, -1.4905e-01,  5.6456e-02, -1.0879e-01,  2.1054e-01],\n",
            "        [ 1.9628e-01, -3.8820e-02,  8.3337e-03, -2.5744e-01, -9.8519e-02,\n",
            "         -1.5929e-01,  1.2304e-01,  7.1542e-02, -5.3677e-02,  5.4631e-02],\n",
            "        [-2.9724e-02,  1.4368e-01, -2.5382e-03, -9.4593e-03,  1.3105e-01,\n",
            "         -1.4137e-01,  1.8004e-01, -7.5216e-02, -1.7632e-01,  1.6111e-01],\n",
            "        [ 2.4185e-02, -8.8796e-02, -1.0294e-01,  1.1007e-01,  1.7250e-01,\n",
            "         -8.1867e-02, -4.3163e-02, -5.2175e-02, -8.9798e-02, -1.0879e-01],\n",
            "        [-1.1136e-04,  5.2691e-02,  5.3031e-02,  5.6678e-02, -2.8116e-01,\n",
            "         -5.0376e-02,  4.0394e-02,  1.7562e-01,  1.1761e-01,  1.1500e-03],\n",
            "        [ 7.4046e-02,  4.9474e-02, -2.3308e-02,  2.5679e-02, -1.2977e-01,\n",
            "          1.5362e-01,  7.1708e-02,  1.1186e-01, -7.2319e-02, -1.2605e-01],\n",
            "        [ 1.1722e-01, -1.2092e-02, -8.9200e-02, -9.7514e-02,  5.8744e-02,\n",
            "          2.2955e-02, -2.3623e-02,  1.9951e-02, -1.3215e-01, -4.7918e-02],\n",
            "        [-6.7961e-03,  1.4764e-02,  6.8279e-02, -6.2751e-02,  2.4502e-02,\n",
            "          3.6029e-02, -2.5090e-02, -2.8978e-02,  1.5952e-01,  1.3688e-01],\n",
            "        [-4.4792e-02, -2.3750e-02, -1.7161e-01,  7.5717e-02, -1.2571e-01,\n",
            "         -1.4234e-01, -1.7879e-01, -6.1697e-02, -4.3820e-02,  3.0660e-02],\n",
            "        [-1.4768e-01,  1.4216e-01,  2.2804e-03,  3.7163e-02, -1.1299e-01,\n",
            "          1.0763e-01,  5.5525e-02, -7.2023e-02, -4.3439e-02, -6.2579e-02],\n",
            "        [ 4.9545e-02,  6.4672e-02, -1.1735e-01, -1.1650e-01, -1.1142e-01,\n",
            "          8.0588e-02, -4.5874e-02, -1.7643e-01,  2.4907e-02,  1.6017e-01],\n",
            "        [-3.2752e-02,  7.3961e-02, -7.0211e-03,  1.5977e-02,  6.9154e-02,\n",
            "         -8.6505e-02, -4.1720e-02,  1.8712e-01,  6.1590e-02,  1.6065e-02],\n",
            "        [ 1.4698e-01,  6.7605e-02, -1.8905e-01,  1.7612e-01, -4.7038e-02,\n",
            "         -1.0330e-01,  1.6876e-01,  7.0227e-02,  4.1958e-02, -1.0203e-01],\n",
            "        [-2.5269e-02,  1.2279e-02,  3.4269e-02,  7.4687e-02,  2.3340e-02,\n",
            "          2.3915e-01,  6.1888e-03, -1.4302e-02,  1.1447e-01,  8.2005e-02],\n",
            "        [ 7.8663e-02,  1.2242e-01, -3.6490e-02, -1.6647e-01,  5.0905e-02,\n",
            "         -2.0317e-01,  1.2590e-01, -1.4716e-01, -9.7073e-02, -3.1986e-02],\n",
            "        [-3.7719e-03,  7.3187e-02, -2.3015e-04,  2.0585e-02,  3.9114e-02,\n",
            "          4.3417e-02, -6.6041e-03, -4.1222e-02,  6.3486e-02, -5.5560e-02],\n",
            "        [-6.2936e-02, -2.4353e-01,  1.1693e-01,  3.9747e-02, -1.4982e-01,\n",
            "         -6.4298e-02,  9.3242e-02, -2.2403e-02,  9.1307e-02, -1.6673e-02],\n",
            "        [-4.2316e-02,  1.2785e-02,  4.8869e-02,  7.7652e-02, -1.1690e-01,\n",
            "          3.0289e-02,  5.1067e-02, -1.5649e-01, -8.0696e-02, -8.9678e-02],\n",
            "        [ 1.2311e-01,  6.7514e-02,  1.7922e-02,  3.9570e-02,  9.8599e-02,\n",
            "          9.4734e-02, -1.2852e-02, -6.6056e-02,  4.1170e-02,  1.3056e-01],\n",
            "        [ 8.1961e-03, -9.2693e-02,  6.8681e-03, -5.5577e-02, -3.3228e-02,\n",
            "         -1.1755e-02,  5.1935e-03, -1.0704e-02, -3.6753e-02,  1.3079e-02],\n",
            "        [ 9.4565e-02,  1.0413e-01, -4.1944e-02, -5.2463e-03,  5.2717e-02,\n",
            "         -1.6551e-01, -1.1585e-01, -9.5493e-02,  9.0883e-02, -1.0456e-01],\n",
            "        [ 3.0419e-02, -4.1689e-02, -4.1962e-02, -5.5533e-03,  7.8213e-02,\n",
            "          4.8253e-02, -5.0805e-02,  3.7560e-02, -3.7252e-03, -1.2093e-01],\n",
            "        [-7.0718e-03, -8.4354e-04, -1.6361e-01, -1.3916e-01,  1.3158e-01,\n",
            "         -4.2343e-02,  6.3447e-02, -1.9049e-02,  4.1315e-02,  1.0518e-01],\n",
            "        [ 5.5696e-02, -7.0436e-02,  1.6081e-02,  9.9144e-04,  1.7868e-01,\n",
            "          1.1679e-01, -1.2466e-02, -1.4132e-01,  1.1652e-01,  4.5054e-02],\n",
            "        [ 2.9403e-02,  1.1528e-01,  4.2470e-02, -3.0703e-02,  8.9565e-02,\n",
            "          3.2181e-02, -1.0489e-01, -1.0487e-01,  3.6170e-02, -1.4795e-01],\n",
            "        [ 1.8967e-02,  9.5450e-02,  1.2019e-01, -6.2094e-02,  1.4983e-02,\n",
            "         -1.3279e-01,  3.0143e-02, -4.0805e-02,  1.6158e-01,  1.7450e-01],\n",
            "        [ 9.6458e-02,  3.3290e-02, -1.7696e-01,  4.3215e-02, -6.1969e-02,\n",
            "          3.2489e-02, -4.8792e-02,  7.8270e-02, -1.0579e-02, -6.2154e-02],\n",
            "        [ 5.0436e-02, -9.6728e-04, -1.9393e-01, -3.6551e-02, -3.3250e-02,\n",
            "          2.0745e-01,  4.4886e-02,  6.7935e-02,  3.0839e-02, -3.3600e-02],\n",
            "        [ 4.4869e-02,  7.9044e-02,  9.6500e-02, -1.8305e-01,  4.5133e-02,\n",
            "          1.5192e-01,  1.1990e-01,  9.0756e-02, -8.4421e-02,  4.0908e-02],\n",
            "        [-1.0392e-01,  1.2050e-01,  1.7442e-02, -5.4091e-02, -8.8246e-02,\n",
            "         -4.2107e-02, -3.2863e-02, -1.5179e-01,  9.3189e-02, -4.1906e-02]])\n",
            "s =  tensor([12.2053, 11.7963, 11.4394, 10.7569, 10.2000,  9.8768,  9.3909,  8.6990,\n",
            "         8.4257,  7.2964])\n",
            "v =  tensor([[-0.0202,  0.0672,  0.0680,  0.0814, -0.7151,  0.1577,  0.2668,  0.2703,\n",
            "         -0.4967, -0.2380],\n",
            "        [ 0.5608,  0.5047,  0.0544,  0.0544,  0.2487,  0.0798,  0.0639,  0.5724,\n",
            "         -0.0010,  0.1580],\n",
            "        [ 0.0160, -0.4025,  0.1722,  0.2433,  0.2757, -0.1794,  0.1624,  0.0421,\n",
            "         -0.5847,  0.5202],\n",
            "        [ 0.2505, -0.1300, -0.2335,  0.2175,  0.1297, -0.6809,  0.0324,  0.0622,\n",
            "         -0.1036, -0.5679],\n",
            "        [-0.0948,  0.0243, -0.1178, -0.3654, -0.3994, -0.5950, -0.0108,  0.2458,\n",
            "          0.2205,  0.4694],\n",
            "        [ 0.1463, -0.4501,  0.3252, -0.4246,  0.1217,  0.0836,  0.5701,  0.1894,\n",
            "          0.2625, -0.1959],\n",
            "        [ 0.2322, -0.3118, -0.5132,  0.4885, -0.2116,  0.2113,  0.2588,  0.0237,\n",
            "          0.3769,  0.2189],\n",
            "        [-0.7047,  0.2390,  0.0166,  0.3316,  0.2279, -0.0899,  0.3629,  0.3362,\n",
            "          0.1669, -0.0586],\n",
            "        [-0.0747,  0.1693, -0.6781, -0.4484,  0.2275,  0.1108,  0.3412, -0.1275,\n",
            "         -0.3284,  0.0198],\n",
            "        [ 0.1885,  0.4191,  0.2553,  0.1432, -0.1052, -0.2168,  0.5071, -0.6063,\n",
            "          0.0741,  0.1220]])\n"
          ],
          "name": "stdout"
        }
      ]
    },
    {
      "cell_type": "code",
      "metadata": {
        "colab": {
          "base_uri": "https://localhost:8080/"
        },
        "id": "NESjTO83bu32",
        "outputId": "1bd7446d-1f2d-49c3-8f2d-02ff36188e89"
      },
      "source": [
        "x = torch.randn(100, 3)\n",
        "print('x = ', x)\n",
        "print('----------------------------------------------')\n",
        "\n",
        "# 미분의 변수로 사용하는 경우는 requires_grad를 True로 설정\n",
        "a = torch.tensor([1, 2, 3.], requires_grad=True)\n",
        "print('a = ', a)\n",
        "print('----------------------------------------------')\n",
        "\n",
        "# 계산을 통해 자동으로 계산 그래프가 구축된다\n",
        "y = torch.mv(x, a)\n",
        "o = y.sum()\n",
        "print('o = ', o)\n",
        "print('----------------------------------------------')\n",
        "\n",
        "# 미분을 실행\n",
        "o.backward()\n",
        "\n",
        "# 분석 답과 비교\n",
        "a.grad != x.sum(0)"
      ],
      "execution_count": null,
      "outputs": [
        {
          "output_type": "stream",
          "text": [
            "x =  tensor([[-1.9227e-01,  1.2863e-01,  9.2560e-01],\n",
            "        [ 4.0601e-01, -7.5957e-01, -9.0717e-01],\n",
            "        [-3.6739e-01, -1.4413e+00, -1.9562e+00],\n",
            "        [-1.3489e+00, -1.3932e+00, -8.9764e-01],\n",
            "        [ 4.0411e-01,  7.5846e-01,  4.2555e-01],\n",
            "        [-1.2482e-01, -8.7477e-01,  6.3485e-01],\n",
            "        [-4.5254e-02,  8.2529e-01, -3.3980e-01],\n",
            "        [ 9.9069e-01, -5.5383e-01,  5.3189e-01],\n",
            "        [ 8.3350e-01,  7.1258e-01, -5.2958e-01],\n",
            "        [ 3.3810e-01, -2.0548e+00, -7.8876e-03],\n",
            "        [-2.9465e+00,  1.3861e-01,  6.7807e-04],\n",
            "        [-9.0023e-01, -2.3520e-01, -4.3697e-01],\n",
            "        [ 6.4807e-01,  5.0378e-01,  1.7776e-01],\n",
            "        [-5.4870e-01,  8.4573e-01,  1.7723e+00],\n",
            "        [-1.0640e+00,  1.1795e+00,  8.3360e-01],\n",
            "        [ 4.9720e-01, -3.1391e-01, -1.0720e+00],\n",
            "        [ 8.3883e-01, -3.6492e-02, -1.7427e-02],\n",
            "        [ 8.2245e-01,  1.1985e+00,  1.0615e+00],\n",
            "        [ 6.0944e-01,  1.5640e-01, -8.1242e-01],\n",
            "        [ 7.5178e-03,  4.2944e-01, -8.0406e-01],\n",
            "        [ 7.7379e-01,  1.6537e+00,  1.4160e-02],\n",
            "        [ 1.1666e+00, -1.5005e-01, -3.7131e-01],\n",
            "        [-1.1971e+00,  2.7869e-02,  1.1581e+00],\n",
            "        [-1.5274e+00,  7.5453e-01, -8.7928e-01],\n",
            "        [ 3.1723e-01,  1.0783e+00,  4.2205e-01],\n",
            "        [ 1.0750e-01,  8.3245e-01, -8.6491e-01],\n",
            "        [ 8.4509e-01,  1.9541e+00,  2.6768e-01],\n",
            "        [ 2.0549e+00,  1.1848e+00,  1.6010e+00],\n",
            "        [ 1.2166e+00, -3.8325e-01, -1.0461e-01],\n",
            "        [-9.9753e-01,  1.0016e+00, -6.2991e-01],\n",
            "        [ 6.0604e-01,  1.7758e+00,  4.8447e-01],\n",
            "        [ 3.6051e-01, -1.0051e+00,  6.8647e-01],\n",
            "        [-6.1966e-02, -1.3992e-01, -1.3589e+00],\n",
            "        [ 1.0792e-01,  3.0834e-01, -2.6006e-01],\n",
            "        [ 3.5227e-01,  4.4535e-01, -8.7565e-01],\n",
            "        [ 1.2384e+00,  1.0925e+00, -1.2762e+00],\n",
            "        [ 9.3867e-01,  6.4151e-01, -3.4818e-01],\n",
            "        [ 4.1587e-01,  1.1101e-01,  1.0921e+00],\n",
            "        [ 2.1014e+00, -1.4045e+00, -5.0281e-01],\n",
            "        [-6.4716e-01,  1.7154e+00,  1.3068e+00],\n",
            "        [ 1.0305e+00, -6.8336e-01, -9.4452e-02],\n",
            "        [ 1.9600e+00, -9.3303e-01, -3.5602e-01],\n",
            "        [-2.6963e-01, -1.4537e+00, -1.2775e+00],\n",
            "        [ 7.5231e-01, -3.8345e-01,  6.9912e-01],\n",
            "        [ 1.0418e+00,  7.5800e-02,  3.3275e-02],\n",
            "        [-2.8684e+00,  8.2296e-01,  9.1529e-01],\n",
            "        [-8.1152e-01,  1.6017e+00,  6.2339e-01],\n",
            "        [-1.5338e+00, -1.3762e+00,  1.2954e+00],\n",
            "        [ 2.9668e-01, -1.6920e+00, -1.1123e+00],\n",
            "        [-2.0150e+00, -3.0747e-02, -2.1884e-01],\n",
            "        [-2.2057e+00, -1.1497e+00, -8.9328e-01],\n",
            "        [ 6.2136e-01, -1.3140e+00, -9.5439e-01],\n",
            "        [-1.1764e+00,  1.5916e+00, -1.0554e-01],\n",
            "        [-1.6730e+00,  8.8752e-01, -7.1464e-01],\n",
            "        [-5.4642e-02,  5.9905e-01,  8.2381e-03],\n",
            "        [-7.5771e-02,  7.8283e-01,  2.3269e+00],\n",
            "        [ 1.4352e+00,  1.7125e+00, -6.8702e-02],\n",
            "        [ 1.2388e+00,  1.1913e+00,  2.6250e-01],\n",
            "        [-8.6145e-01, -8.6027e-01,  3.6268e-01],\n",
            "        [-4.9692e-01, -7.9799e-01,  8.4108e-01],\n",
            "        [ 7.0200e-02,  7.1062e-01,  1.6472e+00],\n",
            "        [ 1.0120e+00, -1.0817e+00, -1.8174e+00],\n",
            "        [ 1.3597e+00, -1.5794e-01, -3.4164e-02],\n",
            "        [ 1.6344e+00,  1.0742e+00,  6.6763e-01],\n",
            "        [-6.0480e-01,  8.5281e-01,  1.4422e+00],\n",
            "        [-1.0540e-01,  1.3137e+00, -5.6162e-01],\n",
            "        [-7.1748e-01, -2.7629e+00, -2.5738e-02],\n",
            "        [ 1.2346e+00, -6.7518e-01,  1.0111e-01],\n",
            "        [-5.7755e-01, -2.7911e-01,  3.5558e-01],\n",
            "        [ 2.1627e+00, -1.1100e+00, -1.6137e+00],\n",
            "        [ 4.6445e-01, -1.8169e+00,  1.2741e-01],\n",
            "        [-1.1282e+00, -1.4194e+00,  1.6731e+00],\n",
            "        [ 4.9624e-01, -1.1358e-01,  2.0242e-01],\n",
            "        [ 1.8148e+00,  2.5744e-01, -5.1559e-01],\n",
            "        [-1.6898e+00, -6.6751e-01,  4.3936e-01],\n",
            "        [-5.1769e-01,  1.8934e-01, -1.7604e+00],\n",
            "        [-9.7048e-01,  5.1561e-01, -1.1117e+00],\n",
            "        [-5.3647e-02,  1.1674e+00, -1.1935e+00],\n",
            "        [ 1.3944e-01, -2.3263e-03, -7.6412e-01],\n",
            "        [-6.4401e-01,  1.8277e-02,  1.7911e+00],\n",
            "        [-2.9871e-01, -4.7784e-01,  1.6444e-01],\n",
            "        [ 3.7187e-01,  3.3368e-01,  1.0185e+00],\n",
            "        [-1.0549e+00,  4.1926e-01,  6.3208e-01],\n",
            "        [-3.0922e-01,  1.0701e-02,  7.9593e-01],\n",
            "        [-2.6647e+00, -5.0283e-01, -9.4420e-01],\n",
            "        [-5.9795e-01, -4.1893e-01, -1.0001e+00],\n",
            "        [-3.4991e-01,  7.5310e-01, -8.5677e-01],\n",
            "        [ 3.5641e-02, -1.1836e+00,  6.1944e-01],\n",
            "        [-8.6695e-01,  8.1521e-01,  4.1610e-02],\n",
            "        [ 2.7798e+00, -8.4405e-01,  4.1574e-01],\n",
            "        [-1.5090e-02,  4.8770e-02, -6.3156e-01],\n",
            "        [-1.3517e+00,  3.6769e-01,  7.8663e-01],\n",
            "        [ 1.9723e+00, -2.3098e+00, -9.8401e-01],\n",
            "        [ 8.6361e-01, -6.3757e-01,  2.7260e-02],\n",
            "        [-8.3415e-01,  1.5403e+00,  4.2390e-01],\n",
            "        [-9.6627e-02, -6.6632e-01, -3.4175e-01],\n",
            "        [-1.9839e+00, -7.0673e-01, -3.4456e-01],\n",
            "        [ 1.3823e+00, -1.0380e+00,  8.3995e-01],\n",
            "        [-4.8435e-01,  5.2057e-02, -1.3909e+00],\n",
            "        [ 1.4510e+00,  9.2329e-01, -1.4072e+00]])\n",
            "----------------------------------------------\n",
            "a =  tensor([1., 2., 3.], requires_grad=True)\n",
            "----------------------------------------------\n",
            "o =  tensor(-3.8389, grad_fn=<SumBackward0>)\n",
            "----------------------------------------------\n"
          ],
          "name": "stdout"
        },
        {
          "output_type": "execute_result",
          "data": {
            "text/plain": [
              "tensor([True, True, True])"
            ]
          },
          "metadata": {
            "tags": []
          },
          "execution_count": 17
        }
      ]
    },
    {
      "cell_type": "code",
      "metadata": {
        "colab": {
          "base_uri": "https://localhost:8080/"
        },
        "id": "qcx4GNyrbx80",
        "outputId": "f584826d-3ccf-42a6-aa74-47681cfe014e"
      },
      "source": [
        "# x는 requires_grad가 False이므로 미분이 계산되지 않는다\n",
        "x.grad is None"
      ],
      "execution_count": null,
      "outputs": [
        {
          "output_type": "execute_result",
          "data": {
            "text/plain": [
              "True"
            ]
          },
          "metadata": {
            "tags": []
          },
          "execution_count": 19
        }
      ]
    },
    {
      "cell_type": "code",
      "metadata": {
        "id": "X5rtlFNacykm"
      },
      "source": [
        "import torch"
      ],
      "execution_count": null,
      "outputs": []
    },
    {
      "cell_type": "code",
      "metadata": {
        "colab": {
          "base_uri": "https://localhost:8080/"
        },
        "id": "E8umUA9sc1Py",
        "outputId": "1a37da5e-54d8-44d2-afb2-edddd05ccc1b"
      },
      "source": [
        "x = torch.tensor([[1,2,3], [4,5,6], [7,8,9]])\n",
        "print(x)\n",
        "print(\"Size:\", x.size())\n",
        "print(\"Shape:\", x.shape)\n",
        "print(\"랭크(차원):\", x.ndimension())"
      ],
      "execution_count": null,
      "outputs": [
        {
          "output_type": "stream",
          "text": [
            "tensor([[1, 2, 3],\n",
            "        [4, 5, 6],\n",
            "        [7, 8, 9]])\n",
            "Size: torch.Size([3, 3])\n",
            "Shape: torch.Size([3, 3])\n",
            "랭크(차원): 2\n"
          ],
          "name": "stdout"
        }
      ]
    },
    {
      "cell_type": "code",
      "metadata": {
        "colab": {
          "base_uri": "https://localhost:8080/"
        },
        "id": "0qQN3frac4dM",
        "outputId": "aa84b134-f08c-4d79-cc7f-16f6f41f1070"
      },
      "source": [
        "# 랭크 늘리기\n",
        "x = torch.unsqueeze(x, 0)\n",
        "print(x)\n",
        "print(\"Size:\", x.size())\n",
        "print(\"Shape:\", x.shape)\n",
        "print(\"랭크(차원):\", x.ndimension())"
      ],
      "execution_count": null,
      "outputs": [
        {
          "output_type": "stream",
          "text": [
            "tensor([[[1, 2, 3],\n",
            "         [4, 5, 6],\n",
            "         [7, 8, 9]]])\n",
            "Size: torch.Size([1, 3, 3])\n",
            "Shape: torch.Size([1, 3, 3])\n",
            "랭크(차원): 3\n"
          ],
          "name": "stdout"
        }
      ]
    },
    {
      "cell_type": "code",
      "metadata": {
        "colab": {
          "base_uri": "https://localhost:8080/"
        },
        "id": "R7OejD5wc6Ro",
        "outputId": "d7d3ba6e-bb47-4d90-ec6d-2920a42c3fb5"
      },
      "source": [
        "# 랭크 줄이기\n",
        "x = torch.squeeze(x)\n",
        "print(x)\n",
        "print(\"Size:\", x.size())\n",
        "print(\"Shape:\", x.shape) #[3, 3] 2개의 차원에 각 3개의 원소를 가진 텐서\n",
        "print(\"랭크(차원):\", x.ndimension())"
      ],
      "execution_count": null,
      "outputs": [
        {
          "output_type": "stream",
          "text": [
            "tensor([[1, 2, 3],\n",
            "        [4, 5, 6],\n",
            "        [7, 8, 9]])\n",
            "Size: torch.Size([3, 3])\n",
            "Shape: torch.Size([3, 3])\n",
            "랭크(차원): 2\n"
          ],
          "name": "stdout"
        }
      ]
    },
    {
      "cell_type": "code",
      "metadata": {
        "colab": {
          "base_uri": "https://localhost:8080/"
        },
        "id": "vB2F0WiUc8KF",
        "outputId": "d337adb2-b1a0-436a-8777-320b98c00620"
      },
      "source": [
        "# 랭크의 형태 바꾸기\n",
        "x = x.view(9)\n",
        "print(x)\n",
        "print(\"Size:\", x.size())\n",
        "print(\"Shape:\", x.shape)\n",
        "print(\"랭크(차원):\", x.ndimension())"
      ],
      "execution_count": null,
      "outputs": [
        {
          "output_type": "stream",
          "text": [
            "tensor([1, 2, 3, 4, 5, 6, 7, 8, 9])\n",
            "Size: torch.Size([9])\n",
            "Shape: torch.Size([9])\n",
            "랭크(차원): 1\n"
          ],
          "name": "stdout"
        }
      ]
    },
    {
      "cell_type": "code",
      "metadata": {
        "colab": {
          "base_uri": "https://localhost:8080/"
        },
        "id": "t6qBYla2c-OA",
        "outputId": "395f357e-8873-4c21-a998-5c4b001a0a73"
      },
      "source": [
        "try:\n",
        "    x = x.view(2,4)\n",
        "except Exception as e:\n",
        "    print(e) #에러 출력"
      ],
      "execution_count": null,
      "outputs": [
        {
          "output_type": "stream",
          "text": [
            "shape '[2, 4]' is invalid for input of size 9\n"
          ],
          "name": "stdout"
        }
      ]
    },
    {
      "cell_type": "code",
      "metadata": {
        "id": "i1p1bTJEdARQ"
      },
      "source": [
        "import torch"
      ],
      "execution_count": null,
      "outputs": []
    },
    {
      "cell_type": "code",
      "metadata": {
        "colab": {
          "base_uri": "https://localhost:8080/"
        },
        "id": "ey2u0_0hdByP",
        "outputId": "f477172a-942d-46a0-f4b7-9cfafd7495a9"
      },
      "source": [
        "w = torch.randn(5,3, dtype=torch.float)\n",
        "x = torch.tensor([[1.0,2.0], [3.0,4.0], [5.0,6.0]])\n",
        "print(\"w size:\", w.size())\n",
        "print(\"x size:\", x.size())\n",
        "print(\"w:\", w)\n",
        "print(\"x:\", x)"
      ],
      "execution_count": null,
      "outputs": [
        {
          "output_type": "stream",
          "text": [
            "w size: torch.Size([5, 3])\n",
            "x size: torch.Size([3, 2])\n",
            "w: tensor([[ 0.1727,  0.9527,  0.8641],\n",
            "        [-1.6424,  0.3769, -1.2721],\n",
            "        [ 0.1030,  0.7264, -1.0004],\n",
            "        [ 0.6280,  0.4056, -0.4270],\n",
            "        [ 0.4699, -1.1105,  0.3937]])\n",
            "x: tensor([[1., 2.],\n",
            "        [3., 4.],\n",
            "        [5., 6.]])\n"
          ],
          "name": "stdout"
        }
      ]
    },
    {
      "cell_type": "code",
      "metadata": {
        "colab": {
          "base_uri": "https://localhost:8080/"
        },
        "id": "lChrELqcdDs9",
        "outputId": "97f18a46-f4fb-4474-ee7f-e2bde0d82b5c"
      },
      "source": [
        "b = torch.randn(5,2, dtype=torch.float)\n",
        "print(\"b:\", b.size())\n",
        "print(\"b:\", b)"
      ],
      "execution_count": null,
      "outputs": [
        {
          "output_type": "stream",
          "text": [
            "b: torch.Size([5, 2])\n",
            "b: tensor([[-0.5560, -0.4305],\n",
            "        [ 0.5728, -0.3673],\n",
            "        [-0.3768,  0.1250],\n",
            "        [ 1.5495,  0.0025],\n",
            "        [ 1.1418,  1.5612]])\n"
          ],
          "name": "stdout"
        }
      ]
    },
    {
      "cell_type": "code",
      "metadata": {
        "colab": {
          "base_uri": "https://localhost:8080/"
        },
        "id": "34V5Rw3mdFbC",
        "outputId": "1cad6cf2-5c59-4c30-f353-5a9325069bf6"
      },
      "source": [
        "wx = torch.mm(w,x) # w의 행은 5, x의 열은 2, 즉 shape는 [5, 2]입니다.\n",
        "print(\"wx size:\", wx.size())\n",
        "print(\"wx:\", wx)"
      ],
      "execution_count": null,
      "outputs": [
        {
          "output_type": "stream",
          "text": [
            "wx size: torch.Size([5, 2])\n",
            "wx: tensor([[ 7.3514,  9.3409],\n",
            "        [-6.8722, -9.4098],\n",
            "        [-2.7198, -2.8909],\n",
            "        [-0.2904,  0.3161],\n",
            "        [-0.8931, -1.1400]])\n"
          ],
          "name": "stdout"
        }
      ]
    },
    {
      "cell_type": "code",
      "metadata": {
        "colab": {
          "base_uri": "https://localhost:8080/"
        },
        "id": "GjOc9wfadG64",
        "outputId": "4db2a897-3260-48f0-fc1b-20aadf0fee1a"
      },
      "source": [
        "result = wx + b\t\n",
        "print(\"result size:\", result.size()) \n",
        "print(\"result:\", result)"
      ],
      "execution_count": null,
      "outputs": [
        {
          "output_type": "stream",
          "text": [
            "result size: torch.Size([5, 2])\n",
            "result: tensor([[ 6.7954,  8.9104],\n",
            "        [-6.2994, -9.7771],\n",
            "        [-3.0967, -2.7659],\n",
            "        [ 1.2591,  0.3186],\n",
            "        [ 0.2486,  0.4211]])\n"
          ],
          "name": "stdout"
        }
      ]
    },
    {
      "cell_type": "code",
      "metadata": {
        "id": "B8fRMi1KhvUi"
      },
      "source": [
        "import torch"
      ],
      "execution_count": null,
      "outputs": []
    },
    {
      "cell_type": "code",
      "metadata": {
        "id": "Osrf70TKhwyA"
      },
      "source": [
        "w = torch.tensor(1.0, requires_grad=True)"
      ],
      "execution_count": null,
      "outputs": []
    },
    {
      "cell_type": "code",
      "metadata": {
        "colab": {
          "base_uri": "https://localhost:8080/"
        },
        "id": "pb27AZf1hydy",
        "outputId": "7308359b-3d9c-4d8a-b841-591b5675189e"
      },
      "source": [
        "a = w*3\n",
        "l = a**2\n",
        "l.backward()\n",
        "print(w.grad)\n",
        "print('l을 w로 미분한 값은 {}'.format(w.grad))"
      ],
      "execution_count": null,
      "outputs": [
        {
          "output_type": "stream",
          "text": [
            "tensor(18.)\n",
            "l을 w로 미분한 값은 18.0\n"
          ],
          "name": "stdout"
        }
      ]
    },
    {
      "cell_type": "code",
      "metadata": {
        "id": "rArRRHycjQWG"
      },
      "source": [
        "import torch\n",
        "import numpy\n",
        "from sklearn.datasets import make_blobs\n",
        "import matplotlib.pyplot as plt"
      ],
      "execution_count": null,
      "outputs": []
    },
    {
      "cell_type": "code",
      "metadata": {
        "id": "hsibk_FcjSA-"
      },
      "source": [
        "n_dim = 2\n",
        "x_train, y_train = make_blobs(n_samples=80, n_features=n_dim, centers=[[1,1],[-1,-1],[1,-1],[-1,1]], shuffle=True, cluster_std=0.3)\n",
        "x_test, y_test = make_blobs(n_samples=20, n_features=n_dim, centers=[[1,1],[-1,-1],[1,-1],[-1,1]], shuffle=True, cluster_std=0.3)"
      ],
      "execution_count": null,
      "outputs": []
    },
    {
      "cell_type": "code",
      "metadata": {
        "id": "_Q8ZPtmejT4_"
      },
      "source": [
        "def label_map(y_, from_, to_):\n",
        "    y = numpy.copy(y_)\n",
        "    for f in from_:\n",
        "        y[y_ == f] = to_\n",
        "    return y\n",
        "\n",
        "y_train = label_map(y_train, [0, 1], 0)\n",
        "y_train = label_map(y_train, [2, 3], 1)\n",
        "y_test = label_map(y_test, [0, 1], 0)\n",
        "y_test = label_map(y_test, [2, 3], 1)"
      ],
      "execution_count": null,
      "outputs": []
    },
    {
      "cell_type": "code",
      "metadata": {
        "colab": {
          "base_uri": "https://localhost:8080/",
          "height": 265
        },
        "id": "HEuzPgL1jV23",
        "outputId": "3e25898f-5911-43e4-8754-478a1c2be8d6"
      },
      "source": [
        "def vis_data(x,y = None, c = 'r'):\n",
        "    if y is None:\n",
        "        y = [None] * len(x)\n",
        "    for x_, y_ in zip(x,y):\n",
        "        if y_ is None:\n",
        "            plt.plot(x_[0], x_[1], '*',markerfacecolor='none', markeredgecolor=c)\n",
        "        else:\n",
        "            plt.plot(x_[0], x_[1], c+'o' if y_ == 0 else c+'+')\n",
        "\n",
        "plt.figure()\n",
        "vis_data(x_train, y_train, c='r')\n",
        "plt.show()"
      ],
      "execution_count": null,
      "outputs": [
        {
          "output_type": "display_data",
          "data": {
            "image/png": "[encoded data removed]",
            "text/plain": [
              "<Figure size 432x288 with 1 Axes>"
            ]
          },
          "metadata": {
            "tags": [],
            "needs_background": "light"
          }
        }
      ]
    },
    {
      "cell_type": "code",
      "metadata": {
        "colab": {
          "base_uri": "https://localhost:8080/"
        },
        "id": "yTE19bTUjYk0",
        "outputId": "85a75915-fcdd-4239-8e5a-56eb0dd0d60e"
      },
      "source": [
        "x_train = torch.FloatTensor(x_train)\n",
        "print(x_train.shape)\n",
        "x_test = torch.FloatTensor(x_test)\n",
        "y_train = torch.FloatTensor(y_train)\n",
        "y_test = torch.FloatTensor(y_test)"
      ],
      "execution_count": null,
      "outputs": [
        {
          "output_type": "stream",
          "text": [
            "torch.Size([80, 2])\n"
          ],
          "name": "stdout"
        }
      ]
    },
    {
      "cell_type": "code",
      "metadata": {
        "id": "tw5OpoT7jae8"
      },
      "source": [
        "class NeuralNet(torch.nn.Module):\n",
        "    def __init__(self, input_size, hidden_size):\n",
        "        super(NeuralNet, self).__init__()\n",
        "        self.input_size = input_size\n",
        "        self.hidden_size  = hidden_size\n",
        "        self.linear_1 = torch.nn.Linear(self.input_size, self.hidden_size)\n",
        "        self.relu = torch.nn.ReLU()\n",
        "        self.linear_2 = torch.nn.Linear(self.hidden_size, 1)\n",
        "        self.sigmoid = torch.nn.Sigmoid()\n",
        "        \n",
        "    def forward(self, input_tensor):\n",
        "        linear1 = self.linear_1(input_tensor)\n",
        "        relu = self.relu(linear1)\n",
        "        linear2 = self.linear_2(relu)\n",
        "        output = self.sigmoid(linear2)\n",
        "        return output"
      ],
      "execution_count": null,
      "outputs": []
    },
    {
      "cell_type": "code",
      "metadata": {
        "id": "dY3P33MXjeIQ"
      },
      "source": [
        "model = NeuralNet(2, 5)\n",
        "learning_rate = 0.03\n",
        "criterion = torch.nn.BCELoss()\n",
        "epochs = 2000\n",
        "optimizer = torch.optim.SGD(model.parameters(), lr = learning_rate)"
      ],
      "execution_count": null,
      "outputs": []
    },
    {
      "cell_type": "code",
      "metadata": {
        "colab": {
          "base_uri": "https://localhost:8080/"
        },
        "id": "eb4vOS8ljga4",
        "outputId": "e1a2ef08-78be-44ec-bd49-107f2ebb4c84"
      },
      "source": [
        "model.eval()\n",
        "test_loss_before = criterion(model(x_test).squeeze(), y_test)\n",
        "print('Before Training, test loss is {}'.format(test_loss_before.item()))"
      ],
      "execution_count": null,
      "outputs": [
        {
          "output_type": "stream",
          "text": [
            "Before Training, test loss is 0.7097562551498413\n"
          ],
          "name": "stdout"
        }
      ]
    },
    {
      "cell_type": "code",
      "metadata": {
        "colab": {
          "base_uri": "https://localhost:8080/"
        },
        "id": "sJy2hXtTjkR-",
        "outputId": "a077bfdd-7428-40e3-e2b4-9a42d6d632ac"
      },
      "source": [
        "for epoch in range(epochs):\n",
        "    model.train()\n",
        "    optimizer.zero_grad()\n",
        "    train_output = model(x_train)\n",
        "    train_loss = criterion(train_output.squeeze(), y_train)\n",
        "    if epoch % 100 == 0:\n",
        "        print('Train loss at {} is {}'.format(epoch, train_loss.item()))\n",
        "    train_loss.backward()\n",
        "    optimizer.step()"
      ],
      "execution_count": null,
      "outputs": [
        {
          "output_type": "stream",
          "text": [
            "Train loss at 0 is 0.7105113863945007\n",
            "Train loss at 100 is 0.6489236354827881\n",
            "Train loss at 200 is 0.5772174000740051\n",
            "Train loss at 300 is 0.48759692907333374\n",
            "Train loss at 400 is 0.3981737792491913\n",
            "Train loss at 500 is 0.3204366862773895\n",
            "Train loss at 600 is 0.2585979104042053\n",
            "Train loss at 700 is 0.21179898083209991\n",
            "Train loss at 800 is 0.17681026458740234\n",
            "Train loss at 900 is 0.15046480298042297\n",
            "Train loss at 1000 is 0.13041146099567413\n",
            "Train loss at 1100 is 0.11490590870380402\n",
            "Train loss at 1200 is 0.10273300111293793\n",
            "Train loss at 1300 is 0.09296940267086029\n",
            "Train loss at 1400 is 0.08498941361904144\n",
            "Train loss at 1500 is 0.07837939262390137\n",
            "Train loss at 1600 is 0.07280733436346054\n",
            "Train loss at 1700 is 0.06804965436458588\n",
            "Train loss at 1800 is 0.06394053995609283\n",
            "Train loss at 1900 is 0.06035527586936951\n"
          ],
          "name": "stdout"
        }
      ]
    },
    {
      "cell_type": "code",
      "metadata": {
        "colab": {
          "base_uri": "https://localhost:8080/"
        },
        "id": "LA2nHIVsjnDn",
        "outputId": "354c0f1f-db43-4ca2-8c08-a64f556a1c0e"
      },
      "source": [
        "model.eval()\n",
        "test_loss = criterion(torch.squeeze(model(x_test)), y_test)\n",
        "print('After Training, test loss is {}'.format(test_loss.item()))"
      ],
      "execution_count": null,
      "outputs": [
        {
          "output_type": "stream",
          "text": [
            "After Training, test loss is 0.03513074666261673\n"
          ],
          "name": "stdout"
        }
      ]
    },
    {
      "cell_type": "code",
      "metadata": {
        "colab": {
          "base_uri": "https://localhost:8080/"
        },
        "id": "bvtiIXcYjqMr",
        "outputId": "94480174-4284-46c7-e93f-13fc1cf62c32"
      },
      "source": [
        "torch.save(model.state_dict(), './model.pt')\n",
        "print('state_dict format of the model: {}'.format(model.state_dict()))"
      ],
      "execution_count": null,
      "outputs": [
        {
          "output_type": "stream",
          "text": [
            "state_dict format of the model: OrderedDict([('linear_1.weight', tensor([[-0.1897, -0.3328],\n",
            "        [ 1.7346,  1.7785],\n",
            "        [-2.0873, -1.8450],\n",
            "        [-0.1731, -0.4857],\n",
            "        [ 0.2535,  0.2131]])), ('linear_1.bias', tensor([ 1.6082, -0.4195, -0.4959, -0.8190, -0.6902])), ('linear_2.weight', tensor([[ 1.5528, -2.5097, -2.6979,  0.1592,  0.3981]])), ('linear_2.bias', tensor([1.5922]))])\n"
          ],
          "name": "stdout"
        }
      ]
    },
    {
      "cell_type": "code",
      "metadata": {
        "colab": {
          "base_uri": "https://localhost:8080/"
        },
        "id": "JJ46sZIVjtDj",
        "outputId": "d2a20d7e-1d15-4ca4-a0bd-372a9a28cea0"
      },
      "source": [
        "new_model = NeuralNet(2, 5)\n",
        "new_model.load_state_dict(torch.load('./model.pt'))\n",
        "new_model.eval()\n",
        "print('벡터 [-1, 1]이 레이블 1을 가질 확률은 {}'.format(new_model(torch.FloatTensor([-1,1])).item()))"
      ],
      "execution_count": null,
      "outputs": [
        {
          "output_type": "stream",
          "text": [
            "벡터 [-1, 1]이 레이블 1을 가질 확률은 0.9795107245445251\n"
          ],
          "name": "stdout"
        }
      ]
    },
    {
      "cell_type": "code",
      "metadata": {
        "colab": {
          "base_uri": "https://localhost:8080/"
        },
        "id": "8H6y3NnQsifp",
        "outputId": "5474fdc4-9d11-426f-d2b4-1e545fcff023"
      },
      "source": [
        "from google.colab import drive\n",
        "drive.mount('/gdrive', force_remount=True)"
      ],
      "execution_count": null,
      "outputs": [
        {
          "output_type": "stream",
          "text": [
            "Mounted at /gdrive\n"
          ],
          "name": "stdout"
        }
      ]
    },
    {
      "cell_type": "code",
      "metadata": {
        "id": "JF3Ewm2jslXO"
      },
      "source": [
        "ROOT_PATH = '/gdrive/My Drive/Colab Notebooks/data/'"
      ],
      "execution_count": null,
      "outputs": []
    },
    {
      "cell_type": "code",
      "metadata": {
        "id": "5NhkNEy0soG6"
      },
      "source": [
        "from torchvision import datasets, transforms, utils\n",
        "from torch.utils import data\n",
        "\n",
        "import matplotlib.pyplot as plt\n",
        "import numpy as np"
      ],
      "execution_count": null,
      "outputs": []
    },
    {
      "cell_type": "code",
      "metadata": {
        "id": "qp4llH5qspmc"
      },
      "source": [
        "transform = transforms.Compose([\n",
        "    transforms.ToTensor()\n",
        "])"
      ],
      "execution_count": null,
      "outputs": []
    },
    {
      "cell_type": "code",
      "metadata": {
        "colab": {
          "base_uri": "https://localhost:8080/",
          "height": 580,
          "referenced_widgets": [
            "e9aece2c2fae468c96fdeb76c5e6359a",
            "575e16674d2542309e1be8a5f651626c",
            "536d67ddede44c5793b06cd4a27689d7",
            "d89ce5e30da94f66a3940b652af254c2",
            "cdd9e50e6fbe49d3a97e7eb37d16b509",
            "624aac16edc042669c5e09a8fb3262a9",
            "2b7b29c5138f4f49bc326f94e78ee2f4",
            "9adf4fd1861247c08b91ea0da4c40561",
            "7e4b4ef2e6844f60a3ed8c3208ca010f",
            "c006889ba1234fe6b391193cf02137ce",
            "4dc2a32cf64c41db9171d93b4e53fb4d",
            "c3d8db1f0aa642419a19791f3b04fe84",
            "0fc4d0e629bc4f248cef597b410c2eea",
            "aa38b68d73584403a6fd29211930d8c4",
            "2218105533c84cc794afa12e89655e99",
            "484f95cfc23a4d3baa2a18cda150abd1",
            "1a5cb127400a4debbda4397149da6cd0",
            "ff8a015c5cbe457997562989f6a1da3b",
            "fcc73ae9d10746209f0a654eb1e73348",
            "2213ad536f8b48d38db2dbcd69a7aa18",
            "1362cf5a8ac943939e75e444d364994a",
            "3681c855c6da41ce9d786bac6d6afade",
            "306867f19d6547eda3ad96ce9049b0e7",
            "14d6ea366b394e2ba5b08dfecb6d84d1",
            "d8213673811047f3b1c8cf23c9308a1a",
            "f5603b225da74c2f90a6f0cdd4ea8746",
            "228607a844324f66a1f03596a65d285d",
            "f28b39ee1aaf49b498c88318bbd823c0",
            "57bf31c86f3e4397bc5b9d395d164753",
            "6a37b9c4c164432fbeafd308755e2d7d",
            "72c69d4f6ca045a8a3c8b5daf4dc028a",
            "87808b91ca5145c08588037ff67b443e"
          ]
        },
        "id": "T5cAJGDKsrAF",
        "outputId": "53366e7b-6f35-4d26-909c-c253efa1ce06"
      },
      "source": [
        "trainset = datasets.FashionMNIST(\n",
        "    root      = './.data/', \n",
        "    train     = True,\n",
        "    download  = True,\n",
        "    transform = transform\n",
        ")\n",
        "testset = datasets.FashionMNIST(\n",
        "    root      = './.data/', \n",
        "    train     = False,\n",
        "    download  = True,\n",
        "    transform = transform\n",
        ")"
      ],
      "execution_count": null,
      "outputs": [
        {
          "output_type": "stream",
          "text": [
            "Downloading http://fashion-mnist.s3-website.eu-central-1.amazonaws.com/train-images-idx3-ubyte.gz\n",
            "Downloading http://fashion-mnist.s3-website.eu-central-1.amazonaws.com/train-images-idx3-ubyte.gz to ./.data/FashionMNIST/raw/train-images-idx3-ubyte.gz\n"
          ],
          "name": "stdout"
        },
        {
          "output_type": "display_data",
          "data": {
            "application/vnd.jupyter.widget-view+json": {
              "model_id": "e9aece2c2fae468c96fdeb76c5e6359a",
              "version_minor": 0,
              "version_major": 2
            },
            "text/plain": [
              "HBox(children=(FloatProgress(value=0.0, max=26421880.0), HTML(value='')))"
            ]
          },
          "metadata": {
            "tags": []
          }
        },
        {
          "output_type": "stream",
          "text": [
            "\n",
            "Extracting ./.data/FashionMNIST/raw/train-images-idx3-ubyte.gz to ./.data/FashionMNIST/raw\n",
            "\n",
            "Downloading http://fashion-mnist.s3-website.eu-central-1.amazonaws.com/train-labels-idx1-ubyte.gz\n",
            "Downloading http://fashion-mnist.s3-website.eu-central-1.amazonaws.com/train-labels-idx1-ubyte.gz to ./.data/FashionMNIST/raw/train-labels-idx1-ubyte.gz\n"
          ],
          "name": "stdout"
        },
        {
          "output_type": "display_data",
          "data": {
            "application/vnd.jupyter.widget-view+json": {
              "model_id": "7e4b4ef2e6844f60a3ed8c3208ca010f",
              "version_minor": 0,
              "version_major": 2
            },
            "text/plain": [
              "HBox(children=(FloatProgress(value=0.0, max=29515.0), HTML(value='')))"
            ]
          },
          "metadata": {
            "tags": []
          }
        },
        {
          "output_type": "stream",
          "text": [
            "\n",
            "Extracting ./.data/FashionMNIST/raw/train-labels-idx1-ubyte.gz to ./.data/FashionMNIST/raw\n",
            "\n",
            "Downloading http://fashion-mnist.s3-website.eu-central-1.amazonaws.com/t10k-images-idx3-ubyte.gz\n",
            "Downloading http://fashion-mnist.s3-website.eu-central-1.amazonaws.com/t10k-images-idx3-ubyte.gz to ./.data/FashionMNIST/raw/t10k-images-idx3-ubyte.gz\n"
          ],
          "name": "stdout"
        },
        {
          "output_type": "display_data",
          "data": {
            "application/vnd.jupyter.widget-view+json": {
              "model_id": "1a5cb127400a4debbda4397149da6cd0",
              "version_minor": 0,
              "version_major": 2
            },
            "text/plain": [
              "HBox(children=(FloatProgress(value=0.0, max=4422102.0), HTML(value='')))"
            ]
          },
          "metadata": {
            "tags": []
          }
        },
        {
          "output_type": "stream",
          "text": [
            "\n",
            "Extracting ./.data/FashionMNIST/raw/t10k-images-idx3-ubyte.gz to ./.data/FashionMNIST/raw\n",
            "\n",
            "Downloading http://fashion-mnist.s3-website.eu-central-1.amazonaws.com/t10k-labels-idx1-ubyte.gz\n",
            "Downloading http://fashion-mnist.s3-website.eu-central-1.amazonaws.com/t10k-labels-idx1-ubyte.gz to ./.data/FashionMNIST/raw/t10k-labels-idx1-ubyte.gz\n"
          ],
          "name": "stdout"
        },
        {
          "output_type": "display_data",
          "data": {
            "application/vnd.jupyter.widget-view+json": {
              "model_id": "d8213673811047f3b1c8cf23c9308a1a",
              "version_minor": 0,
              "version_major": 2
            },
            "text/plain": [
              "HBox(children=(FloatProgress(value=0.0, max=5148.0), HTML(value='')))"
            ]
          },
          "metadata": {
            "tags": []
          }
        },
        {
          "output_type": "stream",
          "text": [
            "\n",
            "Extracting ./.data/FashionMNIST/raw/t10k-labels-idx1-ubyte.gz to ./.data/FashionMNIST/raw\n",
            "\n"
          ],
          "name": "stdout"
        },
        {
          "output_type": "stream",
          "text": [
            "/usr/local/lib/python3.7/dist-packages/torchvision/datasets/mnist.py:498: UserWarning: The given NumPy array is not writeable, and PyTorch does not support non-writeable tensors. This means you can write to the underlying (supposedly non-writeable) NumPy array using the tensor. You may want to copy the array to protect its data or make it writeable before converting it to a tensor. This type of warning will be suppressed for the rest of this program. (Triggered internally at  /pytorch/torch/csrc/utils/tensor_numpy.cpp:180.)\n",
            "  return torch.from_numpy(parsed.astype(m[2], copy=False)).view(*s)\n"
          ],
          "name": "stderr"
        }
      ]
    },
    {
      "cell_type": "code",
      "metadata": {
        "id": "y_5RO8CXsxLp"
      },
      "source": [
        "batch_size = 16\n",
        "\n",
        "train_loader = data.DataLoader(\n",
        "    dataset     = trainset,\n",
        "    batch_size  = batch_size\n",
        ")\n",
        "test_loader = data.DataLoader(\n",
        "    dataset     = testset,\n",
        "    batch_size  = batch_size\n",
        ")"
      ],
      "execution_count": null,
      "outputs": []
    },
    {
      "cell_type": "code",
      "metadata": {
        "id": "wJUgGo7-sy9y"
      },
      "source": [
        "dataiter       = iter(train_loader)\n",
        "images, labels = next(dataiter)"
      ],
      "execution_count": null,
      "outputs": []
    },
    {
      "cell_type": "code",
      "metadata": {
        "colab": {
          "base_uri": "https://localhost:8080/",
          "height": 190
        },
        "id": "O9i7eiLms0nO",
        "outputId": "4a476218-b276-41f8-ec5a-01e16095b129"
      },
      "source": [
        "img   = utils.make_grid(images, padding=0)\n",
        "npimg = img.numpy()\n",
        "plt.figure(figsize=(10, 7))\n",
        "plt.imshow(np.transpose(npimg, (1,2,0)))\n",
        "plt.show()"
      ],
      "execution_count": null,
      "outputs": [
        {
          "output_type": "display_data",
          "data": {
            "image/png": "[encoded data removed]",
            "text/plain": [
              "<Figure size 720x504 with 1 Axes>"
            ]
          },
          "metadata": {
            "tags": [],
            "needs_background": "light"
          }
        }
      ]
    },
    {
      "cell_type": "code",
      "metadata": {
        "colab": {
          "base_uri": "https://localhost:8080/"
        },
        "id": "xtXIFS_fs2XE",
        "outputId": "707ff54f-2c3a-49c4-a047-e76f1a7da5b2"
      },
      "source": [
        "print(labels)"
      ],
      "execution_count": null,
      "outputs": [
        {
          "output_type": "stream",
          "text": [
            "tensor([9, 0, 0, 3, 0, 2, 7, 2, 5, 5, 0, 9, 5, 5, 7, 9])\n"
          ],
          "name": "stdout"
        }
      ]
    },
    {
      "cell_type": "code",
      "metadata": {
        "colab": {
          "base_uri": "https://localhost:8080/"
        },
        "id": "eJ-TOoFos4Dj",
        "outputId": "b7b159ec-dacf-4ace-a5ca-321251140fb0"
      },
      "source": [
        "CLASSES = {\n",
        "    0: 'T-shirt/top',\n",
        "    1: 'Trouser',\n",
        "    2: 'Pullover',\n",
        "    3: 'Dress',\n",
        "    4: 'Coat',\n",
        "    5: 'Sandal',\n",
        "    6: 'Shirt',\n",
        "    7: 'Sneaker',\n",
        "    8: 'Bag',\n",
        "    9: 'Ankle boot'\n",
        "}\n",
        "\n",
        "\n",
        "for label in labels:\n",
        "    index = label.item()\n",
        "    print(CLASSES[index])"
      ],
      "execution_count": null,
      "outputs": [
        {
          "output_type": "stream",
          "text": [
            "Ankle boot\n",
            "T-shirt/top\n",
            "T-shirt/top\n",
            "Dress\n",
            "T-shirt/top\n",
            "Pullover\n",
            "Sneaker\n",
            "Pullover\n",
            "Sandal\n",
            "Sandal\n",
            "T-shirt/top\n",
            "Ankle boot\n",
            "Sandal\n",
            "Sandal\n",
            "Sneaker\n",
            "Ankle boot\n"
          ],
          "name": "stdout"
        }
      ]
    },
    {
      "cell_type": "code",
      "metadata": {
        "colab": {
          "base_uri": "https://localhost:8080/",
          "height": 300
        },
        "id": "LORHygM2s58E",
        "outputId": "00248fc6-1026-4045-d840-ee8891dbec12"
      },
      "source": [
        "idx = 1\n",
        "\n",
        "item_img = images[idx]\n",
        "item_npimg = item_img.squeeze().numpy()\n",
        "plt.title(CLASSES[labels[idx].item()])\n",
        "print(item_npimg.shape)\n",
        "plt.imshow(item_npimg, cmap='gray')\n",
        "plt.show()"
      ],
      "execution_count": null,
      "outputs": [
        {
          "output_type": "stream",
          "text": [
            "(28, 28)\n"
          ],
          "name": "stdout"
        },
        {
          "output_type": "display_data",
          "data": {
            "image/png": "[encoded data removed]",
            "text/plain": [
              "<Figure size 432x288 with 1 Axes>"
            ]
          },
          "metadata": {
            "tags": [],
            "needs_background": "light"
          }
        }
      ]
    },
    {
      "cell_type": "code",
      "metadata": {
        "id": "9pm-sG5zs8DA"
      },
      "source": [
        "import torch\n",
        "import torch.nn as nn\n",
        "import torch.optim as optim\n",
        "import torch.nn.functional as F\n",
        "from torchvision import transforms, datasets"
      ],
      "execution_count": null,
      "outputs": []
    },
    {
      "cell_type": "code",
      "metadata": {
        "id": "f0VeCcqGs9pG"
      },
      "source": [
        "USE_CUDA = torch.cuda.is_available()\n",
        "DEVICE = torch.device(\"cuda\" if USE_CUDA else \"cpu\")"
      ],
      "execution_count": null,
      "outputs": []
    },
    {
      "cell_type": "code",
      "metadata": {
        "id": "C693TZIPs_KP"
      },
      "source": [
        "EPOCHS = 30\n",
        "BATCH_SIZE = 64"
      ],
      "execution_count": null,
      "outputs": []
    },
    {
      "cell_type": "code",
      "metadata": {
        "id": "NwI7z50etAti"
      },
      "source": [
        "transform = transforms.Compose([\n",
        "    transforms.ToTensor()\n",
        "])"
      ],
      "execution_count": null,
      "outputs": []
    },
    {
      "cell_type": "code",
      "metadata": {
        "id": "2qSG4nFftC-2"
      },
      "source": [
        "trainset = datasets.FashionMNIST(\n",
        "    root      = './.data/', \n",
        "    train     = True,\n",
        "    download  = True,\n",
        "    transform = transform\n",
        ")\n",
        "\n",
        "testset = datasets.FashionMNIST(\n",
        "    root      = './.data/', \n",
        "    train     = False,\n",
        "    download  = True,\n",
        "    transform = transform\n",
        ")\n",
        "\n",
        "train_loader = torch.utils.data.DataLoader(\n",
        "    dataset     = trainset,\n",
        "    batch_size  = BATCH_SIZE,\n",
        "    shuffle     = True,\n",
        ")\n",
        "\n",
        "test_loader = torch.utils.data.DataLoader(\n",
        "    dataset     = testset,\n",
        "    batch_size  = BATCH_SIZE,\n",
        "    shuffle     = True,\n",
        ")"
      ],
      "execution_count": null,
      "outputs": []
    },
    {
      "cell_type": "code",
      "metadata": {
        "id": "FLUW9bD7tFBQ"
      },
      "source": [
        "class Net(nn.Module):\n",
        "    def __init__(self):\n",
        "        super(Net, self).__init__()\n",
        "        self.fc1 = nn.Linear(784, 256)\n",
        "        self.fc2 = nn.Linear(256, 128)\n",
        "        self.fc3 = nn.Linear(128, 10)\n",
        "\n",
        "    def forward(self, x):\n",
        "        x = x.view(-1, 784)\n",
        "        x = F.relu(self.fc1(x))\n",
        "        x = F.relu(self.fc2(x))\n",
        "        x = self.fc3(x)\n",
        "        return x"
      ],
      "execution_count": null,
      "outputs": []
    },
    {
      "cell_type": "code",
      "metadata": {
        "id": "IeqmLGZRtHnk"
      },
      "source": [
        "model        = Net().to(DEVICE)\n",
        "optimizer    = optim.SGD(model.parameters(), lr=0.01)"
      ],
      "execution_count": null,
      "outputs": []
    },
    {
      "cell_type": "code",
      "metadata": {
        "id": "hIWWHes-tJeR"
      },
      "source": [
        "def train(model, train_loader, optimizer):\n",
        "    model.train()\n",
        "    for batch_idx, (data, target) in enumerate(train_loader):\n",
        "        # 학습 데이터를 DEVICE의 메모리로 보냄\n",
        "        data, target = data.to(DEVICE), target.to(DEVICE)\n",
        "        optimizer.zero_grad()\n",
        "        output = model(data)\n",
        "        loss = F.cross_entropy(output, target)\n",
        "        loss.backward()\n",
        "        optimizer.step()"
      ],
      "execution_count": null,
      "outputs": []
    },
    {
      "cell_type": "code",
      "metadata": {
        "id": "C0HFQ38ntLSK"
      },
      "source": [
        "def evaluate(model, test_loader):\n",
        "    model.eval()\n",
        "    test_loss = 0\n",
        "    correct = 0\n",
        "    with torch.no_grad():\n",
        "        for data, target in test_loader:\n",
        "            data, target = data.to(DEVICE), target.to(DEVICE)\n",
        "            output = model(data)\n",
        "\n",
        "            # 모든 오차 더하기\n",
        "            test_loss += F.cross_entropy(output, target,\n",
        "                                         reduction='sum').item()\n",
        "            \n",
        "            # 가장 큰 값을 가진 클래스가 모델의 예측입니다.\n",
        "            # 예측과 정답을 비교하여 일치할 경우 correct에 1을 더합니다.\n",
        "            pred = output.max(1, keepdim=True)[1]\n",
        "            correct += pred.eq(target.view_as(pred)).sum().item()\n",
        "\n",
        "    test_loss /= len(test_loader.dataset)\n",
        "    test_accuracy = 100. * correct / len(test_loader.dataset)\n",
        "    return test_loss, test_accuracy"
      ],
      "execution_count": null,
      "outputs": []
    },
    {
      "cell_type": "code",
      "metadata": {
        "colab": {
          "base_uri": "https://localhost:8080/"
        },
        "id": "FA--vCBVtNAE",
        "outputId": "16daca52-6016-4583-9bc4-75c699c61b27"
      },
      "source": [
        "for epoch in range(1, EPOCHS + 1):\n",
        "    train(model, train_loader, optimizer)\n",
        "    test_loss, test_accuracy = evaluate(model, test_loader)\n",
        "    \n",
        "    print('[{}] Test Loss: {:.4f}, Accuracy: {:.2f}%'.format(\n",
        "          epoch, test_loss, test_accuracy))"
      ],
      "execution_count": null,
      "outputs": [
        {
          "output_type": "stream",
          "text": [
            "[1] Test Loss: 0.8507, Accuracy: 67.34%\n",
            "[2] Test Loss: 0.6647, Accuracy: 75.94%\n",
            "[3] Test Loss: 0.5917, Accuracy: 79.32%\n",
            "[4] Test Loss: 0.5564, Accuracy: 80.54%\n",
            "[5] Test Loss: 0.5240, Accuracy: 81.50%\n",
            "[6] Test Loss: 0.5045, Accuracy: 81.91%\n",
            "[7] Test Loss: 0.5071, Accuracy: 81.72%\n",
            "[8] Test Loss: 0.4691, Accuracy: 83.61%\n",
            "[9] Test Loss: 0.4643, Accuracy: 83.41%\n",
            "[10] Test Loss: 0.4566, Accuracy: 83.83%\n",
            "[11] Test Loss: 0.4468, Accuracy: 84.03%\n",
            "[12] Test Loss: 0.4472, Accuracy: 84.10%\n",
            "[13] Test Loss: 0.4375, Accuracy: 84.50%\n",
            "[14] Test Loss: 0.4270, Accuracy: 85.05%\n",
            "[15] Test Loss: 0.4463, Accuracy: 84.05%\n",
            "[16] Test Loss: 0.4164, Accuracy: 85.29%\n",
            "[17] Test Loss: 0.4127, Accuracy: 85.23%\n",
            "[18] Test Loss: 0.4227, Accuracy: 84.93%\n",
            "[19] Test Loss: 0.4869, Accuracy: 81.70%\n",
            "[20] Test Loss: 0.4024, Accuracy: 85.68%\n",
            "[21] Test Loss: 0.4056, Accuracy: 85.39%\n",
            "[22] Test Loss: 0.4027, Accuracy: 85.57%\n",
            "[23] Test Loss: 0.3867, Accuracy: 86.23%\n",
            "[24] Test Loss: 0.3845, Accuracy: 86.32%\n",
            "[25] Test Loss: 0.3929, Accuracy: 85.89%\n",
            "[26] Test Loss: 0.3910, Accuracy: 86.00%\n",
            "[27] Test Loss: 0.3789, Accuracy: 86.42%\n",
            "[28] Test Loss: 0.3862, Accuracy: 85.90%\n",
            "[29] Test Loss: 0.3929, Accuracy: 85.83%\n",
            "[30] Test Loss: 0.3873, Accuracy: 85.81%\n"
          ],
          "name": "stdout"
        }
      ]
    },
    {
      "cell_type": "code",
      "metadata": {
        "id": "uZlKQNX4t9lG"
      },
      "source": [
        "import torch\n",
        "import torch.nn as nn\n",
        "import torch.optim as optim\n",
        "import torch.nn.functional as F\n",
        "from torchvision import transforms, datasets"
      ],
      "execution_count": null,
      "outputs": []
    },
    {
      "cell_type": "code",
      "metadata": {
        "id": "VcipJk24t_YP"
      },
      "source": [
        "USE_CUDA = torch.cuda.is_available()\n",
        "DEVICE = torch.device(\"cuda\" if USE_CUDA else \"cpu\")"
      ],
      "execution_count": null,
      "outputs": []
    },
    {
      "cell_type": "code",
      "metadata": {
        "id": "qli2F342uBKE"
      },
      "source": [
        "EPOCHS = 50\n",
        "BATCH_SIZE = 64"
      ],
      "execution_count": null,
      "outputs": []
    },
    {
      "cell_type": "code",
      "metadata": {
        "id": "LKJEIQn7uEQU"
      },
      "source": [
        "train_loader = torch.utils.data.DataLoader(\n",
        "    datasets.FashionMNIST('./.data',\n",
        "                   train=True,\n",
        "                   download=True,\n",
        "                   transform=transforms.Compose([\n",
        "                       transforms.RandomHorizontalFlip(),\n",
        "                       transforms.ToTensor(),\n",
        "                       transforms.Normalize((0.1307,), (0.3081,))\n",
        "                   ])),\n",
        "    batch_size=BATCH_SIZE, shuffle=True)\n",
        "test_loader = torch.utils.data.DataLoader(\n",
        "    datasets.FashionMNIST('./.data',\n",
        "                   train=False, \n",
        "                   transform=transforms.Compose([\n",
        "                       transforms.ToTensor(),\n",
        "                       transforms.Normalize((0.1307,), (0.3081,))\n",
        "                   ])),\n",
        "    batch_size=BATCH_SIZE, shuffle=True)"
      ],
      "execution_count": null,
      "outputs": []
    },
    {
      "cell_type": "code",
      "metadata": {
        "id": "RoObGkLAuGPe"
      },
      "source": [
        "class Net(nn.Module):\n",
        "    def __init__(self, dropout_p=0.2):\n",
        "        super(Net, self).__init__()\n",
        "        self.fc1 = nn.Linear(784, 256)\n",
        "        self.fc2 = nn.Linear(256, 128)\n",
        "        self.fc3 = nn.Linear(128, 10)\n",
        "        # 드롭아웃 확률\n",
        "        self.dropout_p = dropout_p\n",
        "\n",
        "    def forward(self, x):\n",
        "        x = x.view(-1, 784)\n",
        "        x = F.relu(self.fc1(x))\n",
        "        # 드롭아웃 추가\n",
        "        x = F.dropout(x, training=self.training,\n",
        "                      p=self.dropout_p)\n",
        "        x = F.relu(self.fc2(x))\n",
        "        # 드롭아웃 추가\n",
        "        x = F.dropout(x, training=self.training,\n",
        "                      p=self.dropout_p)\n",
        "        x = self.fc3(x)\n",
        "        return x"
      ],
      "execution_count": null,
      "outputs": []
    },
    {
      "cell_type": "code",
      "metadata": {
        "id": "tB6Cq_qwuH5P"
      },
      "source": [
        "model        = Net(dropout_p=0.2).to(DEVICE)\n",
        "optimizer    = optim.SGD(model.parameters(), lr=0.01)"
      ],
      "execution_count": null,
      "outputs": []
    },
    {
      "cell_type": "code",
      "metadata": {
        "id": "gFdt3KnLuJgG"
      },
      "source": [
        "def train(model, train_loader, optimizer):\n",
        "    model.train()\n",
        "    for batch_idx, (data, target) in enumerate(train_loader):\n",
        "        data, target = data.to(DEVICE), target.to(DEVICE)\n",
        "        optimizer.zero_grad()\n",
        "        output = model(data)\n",
        "        loss = F.cross_entropy(output, target)\n",
        "        loss.backward()\n",
        "        optimizer.step()"
      ],
      "execution_count": null,
      "outputs": []
    },
    {
      "cell_type": "code",
      "metadata": {
        "id": "xLMQ_iRUuLAs"
      },
      "source": [
        "def evaluate(model, test_loader):\n",
        "    model.eval()\n",
        "    test_loss = 0\n",
        "    correct = 0\n",
        "    with torch.no_grad():\n",
        "        for data, target in test_loader:\n",
        "            data, target = data.to(DEVICE), target.to(DEVICE)\n",
        "            output = model(data)\n",
        "            test_loss += F.cross_entropy(output, target,\n",
        "                                         reduction='sum').item()\n",
        "            \n",
        "            # 맞춘 갯수 계산\n",
        "            pred = output.max(1, keepdim=True)[1]\n",
        "            correct += pred.eq(target.view_as(pred)).sum().item()\n",
        "\n",
        "    test_loss /= len(test_loader.dataset)\n",
        "    test_accuracy = 100. * correct / len(test_loader.dataset)\n",
        "    return test_loss, test_accuracy"
      ],
      "execution_count": null,
      "outputs": []
    },
    {
      "cell_type": "code",
      "metadata": {
        "colab": {
          "base_uri": "https://localhost:8080/"
        },
        "id": "7-jsKZVRuMve",
        "outputId": "7ca3f979-8fda-478f-c991-1c12a8e46dcf"
      },
      "source": [
        "for epoch in range(1, EPOCHS + 1):\n",
        "    train(model, train_loader, optimizer)\n",
        "    test_loss, test_accuracy = evaluate(model, test_loader)\n",
        "    \n",
        "    print('[{}] Test Loss: {:.4f}, Accuracy: {:.2f}%'.format(\n",
        "          epoch, test_loss, test_accuracy))"
      ],
      "execution_count": null,
      "outputs": [
        {
          "output_type": "stream",
          "text": [
            "[1] Test Loss: 0.6401, Accuracy: 77.83%\n",
            "[2] Test Loss: 0.5385, Accuracy: 80.30%\n",
            "[3] Test Loss: 0.4934, Accuracy: 82.06%\n",
            "[4] Test Loss: 0.4600, Accuracy: 83.39%\n",
            "[5] Test Loss: 0.4432, Accuracy: 83.96%\n",
            "[6] Test Loss: 0.4302, Accuracy: 84.35%\n",
            "[7] Test Loss: 0.4188, Accuracy: 84.76%\n",
            "[8] Test Loss: 0.4053, Accuracy: 85.36%\n",
            "[9] Test Loss: 0.4014, Accuracy: 85.40%\n",
            "[10] Test Loss: 0.3933, Accuracy: 85.80%\n",
            "[11] Test Loss: 0.3835, Accuracy: 86.00%\n",
            "[12] Test Loss: 0.3777, Accuracy: 86.40%\n",
            "[13] Test Loss: 0.3735, Accuracy: 86.43%\n",
            "[14] Test Loss: 0.3763, Accuracy: 86.22%\n",
            "[15] Test Loss: 0.3630, Accuracy: 86.73%\n",
            "[16] Test Loss: 0.3618, Accuracy: 86.91%\n",
            "[17] Test Loss: 0.3556, Accuracy: 86.90%\n",
            "[18] Test Loss: 0.3569, Accuracy: 86.92%\n",
            "[19] Test Loss: 0.3646, Accuracy: 86.71%\n",
            "[20] Test Loss: 0.3505, Accuracy: 86.98%\n",
            "[21] Test Loss: 0.3444, Accuracy: 87.27%\n",
            "[22] Test Loss: 0.3425, Accuracy: 87.51%\n",
            "[23] Test Loss: 0.3385, Accuracy: 87.81%\n",
            "[24] Test Loss: 0.3384, Accuracy: 87.75%\n",
            "[25] Test Loss: 0.3349, Accuracy: 87.78%\n",
            "[26] Test Loss: 0.3345, Accuracy: 87.67%\n",
            "[27] Test Loss: 0.3392, Accuracy: 87.64%\n",
            "[28] Test Loss: 0.3391, Accuracy: 87.61%\n",
            "[29] Test Loss: 0.3365, Accuracy: 87.61%\n",
            "[30] Test Loss: 0.3294, Accuracy: 88.03%\n",
            "[31] Test Loss: 0.3329, Accuracy: 87.81%\n",
            "[32] Test Loss: 0.3296, Accuracy: 88.05%\n",
            "[33] Test Loss: 0.3209, Accuracy: 88.52%\n",
            "[34] Test Loss: 0.3212, Accuracy: 88.28%\n",
            "[35] Test Loss: 0.3284, Accuracy: 87.96%\n",
            "[36] Test Loss: 0.3220, Accuracy: 88.35%\n",
            "[37] Test Loss: 0.3192, Accuracy: 88.56%\n",
            "[38] Test Loss: 0.3178, Accuracy: 88.56%\n",
            "[39] Test Loss: 0.3170, Accuracy: 88.32%\n",
            "[40] Test Loss: 0.3171, Accuracy: 88.48%\n",
            "[41] Test Loss: 0.3202, Accuracy: 88.32%\n",
            "[42] Test Loss: 0.3196, Accuracy: 88.45%\n",
            "[43] Test Loss: 0.3151, Accuracy: 88.47%\n",
            "[44] Test Loss: 0.3115, Accuracy: 88.57%\n",
            "[45] Test Loss: 0.3121, Accuracy: 88.53%\n",
            "[46] Test Loss: 0.3142, Accuracy: 88.56%\n",
            "[47] Test Loss: 0.3083, Accuracy: 88.70%\n",
            "[48] Test Loss: 0.3091, Accuracy: 88.73%\n",
            "[49] Test Loss: 0.3069, Accuracy: 88.96%\n",
            "[50] Test Loss: 0.3090, Accuracy: 88.94%\n"
          ],
          "name": "stdout"
        }
      ]
    },
    {
      "cell_type": "code",
      "metadata": {
        "id": "sNO5j5qa51sA"
      },
      "source": [
        "import torch\n",
        "import torch.nn as nn\n",
        "import torch.optim as optim\n",
        "import torch.nn.functional as F\n",
        "from torchvision import transforms, datasets"
      ],
      "execution_count": null,
      "outputs": []
    },
    {
      "cell_type": "code",
      "metadata": {
        "id": "ZUy_FX9753ba"
      },
      "source": [
        "USE_CUDA = torch.cuda.is_available()\n",
        "DEVICE = torch.device(\"cuda\" if USE_CUDA else \"cpu\")"
      ],
      "execution_count": null,
      "outputs": []
    },
    {
      "cell_type": "code",
      "metadata": {
        "id": "cOjPHE-r55b0"
      },
      "source": [
        "EPOCHS     = 40\n",
        "BATCH_SIZE = 64"
      ],
      "execution_count": null,
      "outputs": []
    },
    {
      "cell_type": "code",
      "metadata": {
        "colab": {
          "base_uri": "https://localhost:8080/",
          "height": 522,
          "referenced_widgets": [
            "3e31e158092642f3bcdb8ad5e71c61d2",
            "885ff733b013494c8213abf532ea4cfd",
            "627146edab7043718c8bddf62af9bdda",
            "1331cf821d3a45288b5ac217c5bb5d60",
            "e7f637d6fb2e4fda948ba64e26ec9dd1",
            "3279d189f04d4203b120e676e93a9ad9",
            "3ef5dd0899754b45948602638eb23481",
            "9d851b874d7f4427a7cb003502c1c86a",
            "77d13a2d57034311a9e276805ff39a55",
            "32ec46c2277b484eb13a83963b733e88",
            "5f5737e9be554970a006a99f9401324e",
            "b32e656b27cc432cb7cf7dbf8b29c6cd",
            "f5dd7a4f78104d5993c72f13419586a9",
            "711b360f286b4cca90f95d6f376f06aa",
            "e4e766c59dce4bc9a511c73a8f698973",
            "a0146d24b50046ae82d4f2c433df1e84",
            "dbd8a7b4c17b4a1497f4a691406c6522",
            "97c2d0b461c44b23ae77c8945f751c07",
            "eebf5fc8f70640f8ba3f5856052e709d",
            "941c8212f52142ed9c77c54328645ca8",
            "a2e362809e7047b1851d53f1429df437",
            "4e8dae2e0d6642abb291f3acfde79b06",
            "594e1ba664844a60b6c8a091e68682da",
            "67446eb59b694dd1ae98d119d19a2a42",
            "a923b4478b89400ba92d13a07d7505b1",
            "677662d86bda446594ac58886885712e",
            "25157dbec7b74c388c90c8d24d8d9557",
            "06dbb996b0a34f03b36264a122f1adef",
            "df5800853d8743629e7b0862e3e93795",
            "c94749bbb72049238c7f631b1cbf013e",
            "05a3027c2e15439cb4b7c665a002c85a",
            "cb07e800bae648cc878d1a04372d042e"
          ]
        },
        "id": "0fmY2UVf57gc",
        "outputId": "1e5d26c7-1714-46dc-e4e2-aca8dd67586c"
      },
      "source": [
        "train_loader = torch.utils.data.DataLoader(\n",
        "    datasets.MNIST('./.data',\n",
        "                   train=True,\n",
        "                   download=True,\n",
        "                   transform=transforms.Compose([\n",
        "                       transforms.ToTensor(),\n",
        "                       transforms.Normalize((0.1307,), (0.3081,))\n",
        "                   ])),\n",
        "    batch_size=BATCH_SIZE, shuffle=True)\n",
        "\n",
        "test_loader = torch.utils.data.DataLoader(\n",
        "    datasets.MNIST('./.data',\n",
        "                   train=False, \n",
        "                   transform=transforms.Compose([\n",
        "                       transforms.ToTensor(),\n",
        "                       transforms.Normalize((0.1307,), (0.3081,))\n",
        "                   ])),\n",
        "    batch_size=BATCH_SIZE, shuffle=True)"
      ],
      "execution_count": null,
      "outputs": [
        {
          "output_type": "stream",
          "text": [
            "Downloading http://yann.lecun.com/exdb/mnist/train-images-idx3-ubyte.gz\n",
            "Downloading http://yann.lecun.com/exdb/mnist/train-images-idx3-ubyte.gz to ./.data/MNIST/raw/train-images-idx3-ubyte.gz\n"
          ],
          "name": "stdout"
        },
        {
          "output_type": "display_data",
          "data": {
            "application/vnd.jupyter.widget-view+json": {
              "model_id": "3e31e158092642f3bcdb8ad5e71c61d2",
              "version_minor": 0,
              "version_major": 2
            },
            "text/plain": [
              "HBox(children=(FloatProgress(value=0.0, max=9912422.0), HTML(value='')))"
            ]
          },
          "metadata": {
            "tags": []
          }
        },
        {
          "output_type": "stream",
          "text": [
            "\n",
            "Extracting ./.data/MNIST/raw/train-images-idx3-ubyte.gz to ./.data/MNIST/raw\n",
            "\n",
            "Downloading http://yann.lecun.com/exdb/mnist/train-labels-idx1-ubyte.gz\n",
            "Downloading http://yann.lecun.com/exdb/mnist/train-labels-idx1-ubyte.gz to ./.data/MNIST/raw/train-labels-idx1-ubyte.gz\n"
          ],
          "name": "stdout"
        },
        {
          "output_type": "display_data",
          "data": {
            "application/vnd.jupyter.widget-view+json": {
              "model_id": "77d13a2d57034311a9e276805ff39a55",
              "version_minor": 0,
              "version_major": 2
            },
            "text/plain": [
              "HBox(children=(FloatProgress(value=0.0, max=28881.0), HTML(value='')))"
            ]
          },
          "metadata": {
            "tags": []
          }
        },
        {
          "output_type": "stream",
          "text": [
            "\n",
            "Extracting ./.data/MNIST/raw/train-labels-idx1-ubyte.gz to ./.data/MNIST/raw\n",
            "\n",
            "Downloading http://yann.lecun.com/exdb/mnist/t10k-images-idx3-ubyte.gz\n",
            "Downloading http://yann.lecun.com/exdb/mnist/t10k-images-idx3-ubyte.gz to ./.data/MNIST/raw/t10k-images-idx3-ubyte.gz\n"
          ],
          "name": "stdout"
        },
        {
          "output_type": "display_data",
          "data": {
            "application/vnd.jupyter.widget-view+json": {
              "model_id": "dbd8a7b4c17b4a1497f4a691406c6522",
              "version_minor": 0,
              "version_major": 2
            },
            "text/plain": [
              "HBox(children=(FloatProgress(value=0.0, max=1648877.0), HTML(value='')))"
            ]
          },
          "metadata": {
            "tags": []
          }
        },
        {
          "output_type": "stream",
          "text": [
            "\n",
            "Extracting ./.data/MNIST/raw/t10k-images-idx3-ubyte.gz to ./.data/MNIST/raw\n",
            "\n",
            "Downloading http://yann.lecun.com/exdb/mnist/t10k-labels-idx1-ubyte.gz\n",
            "Downloading http://yann.lecun.com/exdb/mnist/t10k-labels-idx1-ubyte.gz to ./.data/MNIST/raw/t10k-labels-idx1-ubyte.gz\n"
          ],
          "name": "stdout"
        },
        {
          "output_type": "display_data",
          "data": {
            "application/vnd.jupyter.widget-view+json": {
              "model_id": "a923b4478b89400ba92d13a07d7505b1",
              "version_minor": 0,
              "version_major": 2
            },
            "text/plain": [
              "HBox(children=(FloatProgress(value=0.0, max=4542.0), HTML(value='')))"
            ]
          },
          "metadata": {
            "tags": []
          }
        },
        {
          "output_type": "stream",
          "text": [
            "\n",
            "Extracting ./.data/MNIST/raw/t10k-labels-idx1-ubyte.gz to ./.data/MNIST/raw\n",
            "\n"
          ],
          "name": "stdout"
        }
      ]
    },
    {
      "cell_type": "code",
      "metadata": {
        "id": "f1LbMcCg6FR-"
      },
      "source": [
        "class Net(nn.Module):\n",
        "    def __init__(self):\n",
        "        super(Net, self).__init__()\n",
        "        self.conv1 = nn.Conv2d(1, 10, kernel_size=5)\n",
        "        self.conv2 = nn.Conv2d(10, 20, kernel_size=5)\n",
        "        self.conv2_drop = nn.Dropout2d()\n",
        "        self.fc1 = nn.Linear(320, 50)\n",
        "        self.fc2 = nn.Linear(50, 10)\n",
        "\n",
        "    def forward(self, x):\n",
        "        x = F.relu(F.max_pool2d(self.conv1(x), 2))\n",
        "        x = F.relu(F.max_pool2d(self.conv2_drop(self.conv2(x)), 2))\n",
        "        x = x.view(-1, 320)\n",
        "        x = F.relu(self.fc1(x))\n",
        "        x = F.dropout(x, training=self.training)\n",
        "        x = self.fc2(x)\n",
        "        return x"
      ],
      "execution_count": null,
      "outputs": []
    },
    {
      "cell_type": "code",
      "metadata": {
        "id": "U0vULZWO6GjN"
      },
      "source": [
        "model     = Net().to(DEVICE)\n",
        "optimizer = optim.SGD(model.parameters(), lr=0.01, momentum=0.5)"
      ],
      "execution_count": null,
      "outputs": []
    },
    {
      "cell_type": "code",
      "metadata": {
        "id": "fJ9dU7cV6H2f"
      },
      "source": [
        "def train(model, train_loader, optimizer, epoch):\n",
        "    model.train()\n",
        "    for batch_idx, (data, target) in enumerate(train_loader):\n",
        "        data, target = data.to(DEVICE), target.to(DEVICE)\n",
        "        optimizer.zero_grad()\n",
        "        output = model(data)\n",
        "        loss = F.cross_entropy(output, target)\n",
        "        loss.backward()\n",
        "        optimizer.step()\n",
        "\n",
        "        if batch_idx % 200 == 0:\n",
        "            print('Train Epoch: {} [{}/{} ({:.0f}%)]\\tLoss: {:.6f}'.format(\n",
        "                epoch, batch_idx * len(data), len(train_loader.dataset),\n",
        "                100. * batch_idx / len(train_loader), loss.item()))"
      ],
      "execution_count": null,
      "outputs": []
    },
    {
      "cell_type": "code",
      "metadata": {
        "id": "y78Vmo_A6JDK"
      },
      "source": [
        "def evaluate(model, test_loader):\n",
        "    model.eval()\n",
        "    test_loss = 0\n",
        "    correct = 0\n",
        "    with torch.no_grad():\n",
        "        for data, target in test_loader:\n",
        "            data, target = data.to(DEVICE), target.to(DEVICE)\n",
        "            output = model(data)\n",
        "\n",
        "            # 배치 오차를 합산\n",
        "            test_loss += F.cross_entropy(output, target,\n",
        "                                         reduction='sum').item()\n",
        "\n",
        "            # 가장 높은 값을 가진 인덱스가 바로 예측값\n",
        "            pred = output.max(1, keepdim=True)[1]\n",
        "            correct += pred.eq(target.view_as(pred)).sum().item()\n",
        "\n",
        "    test_loss /= len(test_loader.dataset)\n",
        "    test_accuracy = 100. * correct / len(test_loader.dataset)\n",
        "    return test_loss, test_accuracy"
      ],
      "execution_count": null,
      "outputs": []
    },
    {
      "cell_type": "code",
      "metadata": {
        "colab": {
          "base_uri": "https://localhost:8080/"
        },
        "id": "E-b7sD8_6Kdx",
        "outputId": "7a787c8d-b2d5-46fc-a86f-ae336890ac2c"
      },
      "source": [
        "for epoch in range(1, EPOCHS + 1):\n",
        "    train(model, train_loader, optimizer, epoch)\n",
        "    test_loss, test_accuracy = evaluate(model, test_loader)\n",
        "    \n",
        "    print('[{}] Test Loss: {:.4f}, Accuracy: {:.2f}%'.format(\n",
        "          epoch, test_loss, test_accuracy))"
      ],
      "execution_count": null,
      "outputs": [
        {
          "output_type": "stream",
          "text": [
            "/usr/local/lib/python3.7/dist-packages/torch/nn/functional.py:718: UserWarning: Named tensors and all their associated APIs are an experimental feature and subject to change. Please do not use them for anything important until they are released as stable. (Triggered internally at  /pytorch/c10/core/TensorImpl.h:1156.)\n",
            "  return torch.max_pool2d(input, kernel_size, stride, padding, dilation, ceil_mode)\n"
          ],
          "name": "stderr"
        },
        {
          "output_type": "stream",
          "text": [
            "Train Epoch: 1 [0/60000 (0%)]\tLoss: 2.290438\n",
            "Train Epoch: 1 [12800/60000 (21%)]\tLoss: 1.043722\n",
            "Train Epoch: 1 [25600/60000 (43%)]\tLoss: 0.639094\n",
            "Train Epoch: 1 [38400/60000 (64%)]\tLoss: 0.636718\n",
            "Train Epoch: 1 [51200/60000 (85%)]\tLoss: 0.712054\n",
            "[1] Test Loss: 0.2017, Accuracy: 94.01%\n",
            "Train Epoch: 2 [0/60000 (0%)]\tLoss: 0.429305\n",
            "Train Epoch: 2 [12800/60000 (21%)]\tLoss: 0.348368\n",
            "Train Epoch: 2 [25600/60000 (43%)]\tLoss: 0.417343\n",
            "Train Epoch: 2 [38400/60000 (64%)]\tLoss: 0.396586\n",
            "Train Epoch: 2 [51200/60000 (85%)]\tLoss: 0.456270\n",
            "[2] Test Loss: 0.1293, Accuracy: 96.20%\n",
            "Train Epoch: 3 [0/60000 (0%)]\tLoss: 0.230342\n",
            "Train Epoch: 3 [12800/60000 (21%)]\tLoss: 0.504865\n",
            "Train Epoch: 3 [25600/60000 (43%)]\tLoss: 0.188215\n",
            "Train Epoch: 3 [38400/60000 (64%)]\tLoss: 0.291074\n",
            "Train Epoch: 3 [51200/60000 (85%)]\tLoss: 0.366204\n",
            "[3] Test Loss: 0.1008, Accuracy: 96.83%\n",
            "Train Epoch: 4 [0/60000 (0%)]\tLoss: 0.219180\n",
            "Train Epoch: 4 [12800/60000 (21%)]\tLoss: 0.327725\n",
            "Train Epoch: 4 [25600/60000 (43%)]\tLoss: 0.202239\n",
            "Train Epoch: 4 [38400/60000 (64%)]\tLoss: 0.295876\n",
            "Train Epoch: 4 [51200/60000 (85%)]\tLoss: 0.198649\n",
            "[4] Test Loss: 0.0791, Accuracy: 97.67%\n",
            "Train Epoch: 5 [0/60000 (0%)]\tLoss: 0.171555\n",
            "Train Epoch: 5 [12800/60000 (21%)]\tLoss: 0.197498\n",
            "Train Epoch: 5 [25600/60000 (43%)]\tLoss: 0.228066\n",
            "Train Epoch: 5 [38400/60000 (64%)]\tLoss: 0.123957\n",
            "Train Epoch: 5 [51200/60000 (85%)]\tLoss: 0.242097\n",
            "[5] Test Loss: 0.0742, Accuracy: 97.72%\n",
            "Train Epoch: 6 [0/60000 (0%)]\tLoss: 0.197074\n",
            "Train Epoch: 6 [12800/60000 (21%)]\tLoss: 0.352416\n",
            "Train Epoch: 6 [25600/60000 (43%)]\tLoss: 0.205275\n",
            "Train Epoch: 6 [38400/60000 (64%)]\tLoss: 0.142497\n",
            "Train Epoch: 6 [51200/60000 (85%)]\tLoss: 0.196953\n",
            "[6] Test Loss: 0.0674, Accuracy: 97.93%\n",
            "Train Epoch: 7 [0/60000 (0%)]\tLoss: 0.061583\n",
            "Train Epoch: 7 [12800/60000 (21%)]\tLoss: 0.161627\n",
            "Train Epoch: 7 [25600/60000 (43%)]\tLoss: 0.197285\n",
            "Train Epoch: 7 [38400/60000 (64%)]\tLoss: 0.341349\n",
            "Train Epoch: 7 [51200/60000 (85%)]\tLoss: 0.201052\n",
            "[7] Test Loss: 0.0622, Accuracy: 98.03%\n",
            "Train Epoch: 8 [0/60000 (0%)]\tLoss: 0.169579\n",
            "Train Epoch: 8 [12800/60000 (21%)]\tLoss: 0.118875\n",
            "Train Epoch: 8 [25600/60000 (43%)]\tLoss: 0.143929\n",
            "Train Epoch: 8 [38400/60000 (64%)]\tLoss: 0.080264\n",
            "Train Epoch: 8 [51200/60000 (85%)]\tLoss: 0.102447\n",
            "[8] Test Loss: 0.0584, Accuracy: 98.20%\n",
            "Train Epoch: 9 [0/60000 (0%)]\tLoss: 0.111662\n",
            "Train Epoch: 9 [12800/60000 (21%)]\tLoss: 0.236476\n",
            "Train Epoch: 9 [25600/60000 (43%)]\tLoss: 0.131150\n",
            "Train Epoch: 9 [38400/60000 (64%)]\tLoss: 0.139843\n",
            "Train Epoch: 9 [51200/60000 (85%)]\tLoss: 0.087560\n",
            "[9] Test Loss: 0.0538, Accuracy: 98.31%\n",
            "Train Epoch: 10 [0/60000 (0%)]\tLoss: 0.062561\n",
            "Train Epoch: 10 [12800/60000 (21%)]\tLoss: 0.166819\n",
            "Train Epoch: 10 [25600/60000 (43%)]\tLoss: 0.332056\n",
            "Train Epoch: 10 [38400/60000 (64%)]\tLoss: 0.301258\n",
            "Train Epoch: 10 [51200/60000 (85%)]\tLoss: 0.217452\n",
            "[10] Test Loss: 0.0525, Accuracy: 98.37%\n",
            "Train Epoch: 11 [0/60000 (0%)]\tLoss: 0.062170\n",
            "Train Epoch: 11 [12800/60000 (21%)]\tLoss: 0.060820\n",
            "Train Epoch: 11 [25600/60000 (43%)]\tLoss: 0.170193\n",
            "Train Epoch: 11 [38400/60000 (64%)]\tLoss: 0.175476\n",
            "Train Epoch: 11 [51200/60000 (85%)]\tLoss: 0.136966\n",
            "[11] Test Loss: 0.0500, Accuracy: 98.35%\n",
            "Train Epoch: 12 [0/60000 (0%)]\tLoss: 0.133412\n",
            "Train Epoch: 12 [12800/60000 (21%)]\tLoss: 0.273139\n",
            "Train Epoch: 12 [25600/60000 (43%)]\tLoss: 0.183186\n",
            "Train Epoch: 12 [38400/60000 (64%)]\tLoss: 0.075413\n",
            "Train Epoch: 12 [51200/60000 (85%)]\tLoss: 0.192797\n",
            "[12] Test Loss: 0.0468, Accuracy: 98.55%\n",
            "Train Epoch: 13 [0/60000 (0%)]\tLoss: 0.138814\n",
            "Train Epoch: 13 [12800/60000 (21%)]\tLoss: 0.263952\n",
            "Train Epoch: 13 [25600/60000 (43%)]\tLoss: 0.171723\n",
            "Train Epoch: 13 [38400/60000 (64%)]\tLoss: 0.253811\n",
            "Train Epoch: 13 [51200/60000 (85%)]\tLoss: 0.149283\n",
            "[13] Test Loss: 0.0455, Accuracy: 98.52%\n",
            "Train Epoch: 14 [0/60000 (0%)]\tLoss: 0.034865\n",
            "Train Epoch: 14 [12800/60000 (21%)]\tLoss: 0.069743\n",
            "Train Epoch: 14 [25600/60000 (43%)]\tLoss: 0.432215\n",
            "Train Epoch: 14 [38400/60000 (64%)]\tLoss: 0.177955\n",
            "Train Epoch: 14 [51200/60000 (85%)]\tLoss: 0.115715\n",
            "[14] Test Loss: 0.0451, Accuracy: 98.54%\n",
            "Train Epoch: 15 [0/60000 (0%)]\tLoss: 0.130630\n",
            "Train Epoch: 15 [12800/60000 (21%)]\tLoss: 0.260034\n",
            "Train Epoch: 15 [25600/60000 (43%)]\tLoss: 0.203898\n",
            "Train Epoch: 15 [38400/60000 (64%)]\tLoss: 0.231563\n",
            "Train Epoch: 15 [51200/60000 (85%)]\tLoss: 0.178051\n",
            "[15] Test Loss: 0.0432, Accuracy: 98.69%\n",
            "Train Epoch: 16 [0/60000 (0%)]\tLoss: 0.169211\n",
            "Train Epoch: 16 [12800/60000 (21%)]\tLoss: 0.223498\n",
            "Train Epoch: 16 [25600/60000 (43%)]\tLoss: 0.062262\n",
            "Train Epoch: 16 [38400/60000 (64%)]\tLoss: 0.255167\n",
            "Train Epoch: 16 [51200/60000 (85%)]\tLoss: 0.076910\n",
            "[16] Test Loss: 0.0426, Accuracy: 98.67%\n",
            "Train Epoch: 17 [0/60000 (0%)]\tLoss: 0.137700\n",
            "Train Epoch: 17 [12800/60000 (21%)]\tLoss: 0.260470\n",
            "Train Epoch: 17 [25600/60000 (43%)]\tLoss: 0.212654\n",
            "Train Epoch: 17 [38400/60000 (64%)]\tLoss: 0.257277\n",
            "Train Epoch: 17 [51200/60000 (85%)]\tLoss: 0.156910\n",
            "[17] Test Loss: 0.0432, Accuracy: 98.70%\n",
            "Train Epoch: 18 [0/60000 (0%)]\tLoss: 0.110263\n",
            "Train Epoch: 18 [12800/60000 (21%)]\tLoss: 0.158152\n",
            "Train Epoch: 18 [25600/60000 (43%)]\tLoss: 0.082021\n",
            "Train Epoch: 18 [38400/60000 (64%)]\tLoss: 0.088811\n",
            "Train Epoch: 18 [51200/60000 (85%)]\tLoss: 0.123794\n",
            "[18] Test Loss: 0.0410, Accuracy: 98.69%\n",
            "Train Epoch: 19 [0/60000 (0%)]\tLoss: 0.141969\n",
            "Train Epoch: 19 [12800/60000 (21%)]\tLoss: 0.085224\n",
            "Train Epoch: 19 [25600/60000 (43%)]\tLoss: 0.105391\n",
            "Train Epoch: 19 [38400/60000 (64%)]\tLoss: 0.195180\n",
            "Train Epoch: 19 [51200/60000 (85%)]\tLoss: 0.307407\n",
            "[19] Test Loss: 0.0405, Accuracy: 98.73%\n",
            "Train Epoch: 20 [0/60000 (0%)]\tLoss: 0.094500\n",
            "Train Epoch: 20 [12800/60000 (21%)]\tLoss: 0.108218\n",
            "Train Epoch: 20 [25600/60000 (43%)]\tLoss: 0.183466\n",
            "Train Epoch: 20 [38400/60000 (64%)]\tLoss: 0.190025\n",
            "Train Epoch: 20 [51200/60000 (85%)]\tLoss: 0.090346\n",
            "[20] Test Loss: 0.0389, Accuracy: 98.79%\n",
            "Train Epoch: 21 [0/60000 (0%)]\tLoss: 0.110531\n",
            "Train Epoch: 21 [12800/60000 (21%)]\tLoss: 0.093444\n",
            "Train Epoch: 21 [25600/60000 (43%)]\tLoss: 0.099317\n",
            "Train Epoch: 21 [38400/60000 (64%)]\tLoss: 0.148306\n",
            "Train Epoch: 21 [51200/60000 (85%)]\tLoss: 0.152148\n",
            "[21] Test Loss: 0.0377, Accuracy: 98.76%\n",
            "Train Epoch: 22 [0/60000 (0%)]\tLoss: 0.181780\n",
            "Train Epoch: 22 [12800/60000 (21%)]\tLoss: 0.096510\n",
            "Train Epoch: 22 [25600/60000 (43%)]\tLoss: 0.209360\n",
            "Train Epoch: 22 [38400/60000 (64%)]\tLoss: 0.038166\n",
            "Train Epoch: 22 [51200/60000 (85%)]\tLoss: 0.114242\n",
            "[22] Test Loss: 0.0374, Accuracy: 98.87%\n",
            "Train Epoch: 23 [0/60000 (0%)]\tLoss: 0.104697\n",
            "Train Epoch: 23 [12800/60000 (21%)]\tLoss: 0.265125\n",
            "Train Epoch: 23 [25600/60000 (43%)]\tLoss: 0.045520\n",
            "Train Epoch: 23 [38400/60000 (64%)]\tLoss: 0.244183\n",
            "Train Epoch: 23 [51200/60000 (85%)]\tLoss: 0.192389\n",
            "[23] Test Loss: 0.0364, Accuracy: 98.84%\n",
            "Train Epoch: 24 [0/60000 (0%)]\tLoss: 0.057488\n",
            "Train Epoch: 24 [12800/60000 (21%)]\tLoss: 0.072737\n",
            "Train Epoch: 24 [25600/60000 (43%)]\tLoss: 0.048121\n",
            "Train Epoch: 24 [38400/60000 (64%)]\tLoss: 0.033101\n",
            "Train Epoch: 24 [51200/60000 (85%)]\tLoss: 0.065816\n",
            "[24] Test Loss: 0.0370, Accuracy: 98.77%\n",
            "Train Epoch: 25 [0/60000 (0%)]\tLoss: 0.082470\n",
            "Train Epoch: 25 [12800/60000 (21%)]\tLoss: 0.063215\n",
            "Train Epoch: 25 [25600/60000 (43%)]\tLoss: 0.066178\n",
            "Train Epoch: 25 [38400/60000 (64%)]\tLoss: 0.337833\n",
            "Train Epoch: 25 [51200/60000 (85%)]\tLoss: 0.154778\n",
            "[25] Test Loss: 0.0365, Accuracy: 98.84%\n",
            "Train Epoch: 26 [0/60000 (0%)]\tLoss: 0.067840\n",
            "Train Epoch: 26 [12800/60000 (21%)]\tLoss: 0.105889\n",
            "Train Epoch: 26 [25600/60000 (43%)]\tLoss: 0.217246\n",
            "Train Epoch: 26 [38400/60000 (64%)]\tLoss: 0.212107\n",
            "Train Epoch: 26 [51200/60000 (85%)]\tLoss: 0.131147\n",
            "[26] Test Loss: 0.0365, Accuracy: 98.84%\n",
            "Train Epoch: 27 [0/60000 (0%)]\tLoss: 0.151665\n",
            "Train Epoch: 27 [12800/60000 (21%)]\tLoss: 0.098272\n",
            "Train Epoch: 27 [25600/60000 (43%)]\tLoss: 0.049526\n",
            "Train Epoch: 27 [38400/60000 (64%)]\tLoss: 0.042817\n",
            "Train Epoch: 27 [51200/60000 (85%)]\tLoss: 0.065679\n",
            "[27] Test Loss: 0.0363, Accuracy: 98.82%\n",
            "Train Epoch: 28 [0/60000 (0%)]\tLoss: 0.088732\n",
            "Train Epoch: 28 [12800/60000 (21%)]\tLoss: 0.060585\n",
            "Train Epoch: 28 [25600/60000 (43%)]\tLoss: 0.189469\n",
            "Train Epoch: 28 [38400/60000 (64%)]\tLoss: 0.095959\n",
            "Train Epoch: 28 [51200/60000 (85%)]\tLoss: 0.119847\n",
            "[28] Test Loss: 0.0368, Accuracy: 98.89%\n",
            "Train Epoch: 29 [0/60000 (0%)]\tLoss: 0.216334\n",
            "Train Epoch: 29 [12800/60000 (21%)]\tLoss: 0.071791\n",
            "Train Epoch: 29 [25600/60000 (43%)]\tLoss: 0.059968\n",
            "Train Epoch: 29 [38400/60000 (64%)]\tLoss: 0.074609\n",
            "Train Epoch: 29 [51200/60000 (85%)]\tLoss: 0.077867\n",
            "[29] Test Loss: 0.0345, Accuracy: 98.87%\n",
            "Train Epoch: 30 [0/60000 (0%)]\tLoss: 0.153398\n",
            "Train Epoch: 30 [12800/60000 (21%)]\tLoss: 0.048168\n",
            "Train Epoch: 30 [25600/60000 (43%)]\tLoss: 0.107044\n",
            "Train Epoch: 30 [38400/60000 (64%)]\tLoss: 0.079511\n",
            "Train Epoch: 30 [51200/60000 (85%)]\tLoss: 0.070177\n",
            "[30] Test Loss: 0.0346, Accuracy: 98.95%\n",
            "Train Epoch: 31 [0/60000 (0%)]\tLoss: 0.239762\n",
            "Train Epoch: 31 [12800/60000 (21%)]\tLoss: 0.080046\n",
            "Train Epoch: 31 [25600/60000 (43%)]\tLoss: 0.150498\n",
            "Train Epoch: 31 [38400/60000 (64%)]\tLoss: 0.196529\n",
            "Train Epoch: 31 [51200/60000 (85%)]\tLoss: 0.067369\n",
            "[31] Test Loss: 0.0343, Accuracy: 98.94%\n",
            "Train Epoch: 32 [0/60000 (0%)]\tLoss: 0.117621\n",
            "Train Epoch: 32 [12800/60000 (21%)]\tLoss: 0.029233\n",
            "Train Epoch: 32 [25600/60000 (43%)]\tLoss: 0.086833\n",
            "Train Epoch: 32 [38400/60000 (64%)]\tLoss: 0.070332\n",
            "Train Epoch: 32 [51200/60000 (85%)]\tLoss: 0.140814\n",
            "[32] Test Loss: 0.0330, Accuracy: 98.97%\n",
            "Train Epoch: 33 [0/60000 (0%)]\tLoss: 0.099191\n",
            "Train Epoch: 33 [12800/60000 (21%)]\tLoss: 0.040172\n",
            "Train Epoch: 33 [25600/60000 (43%)]\tLoss: 0.121240\n",
            "Train Epoch: 33 [38400/60000 (64%)]\tLoss: 0.073362\n",
            "Train Epoch: 33 [51200/60000 (85%)]\tLoss: 0.108813\n",
            "[33] Test Loss: 0.0342, Accuracy: 98.96%\n",
            "Train Epoch: 34 [0/60000 (0%)]\tLoss: 0.086989\n",
            "Train Epoch: 34 [12800/60000 (21%)]\tLoss: 0.075706\n",
            "Train Epoch: 34 [25600/60000 (43%)]\tLoss: 0.056389\n",
            "Train Epoch: 34 [38400/60000 (64%)]\tLoss: 0.082837\n",
            "Train Epoch: 34 [51200/60000 (85%)]\tLoss: 0.066519\n",
            "[34] Test Loss: 0.0349, Accuracy: 98.93%\n",
            "Train Epoch: 35 [0/60000 (0%)]\tLoss: 0.110516\n",
            "Train Epoch: 35 [12800/60000 (21%)]\tLoss: 0.165497\n",
            "Train Epoch: 35 [25600/60000 (43%)]\tLoss: 0.058569\n",
            "Train Epoch: 35 [38400/60000 (64%)]\tLoss: 0.082046\n",
            "Train Epoch: 35 [51200/60000 (85%)]\tLoss: 0.134783\n",
            "[35] Test Loss: 0.0334, Accuracy: 98.96%\n",
            "Train Epoch: 36 [0/60000 (0%)]\tLoss: 0.078249\n",
            "Train Epoch: 36 [12800/60000 (21%)]\tLoss: 0.112358\n",
            "Train Epoch: 36 [25600/60000 (43%)]\tLoss: 0.059008\n",
            "Train Epoch: 36 [38400/60000 (64%)]\tLoss: 0.038206\n",
            "Train Epoch: 36 [51200/60000 (85%)]\tLoss: 0.333795\n",
            "[36] Test Loss: 0.0332, Accuracy: 99.03%\n",
            "Train Epoch: 37 [0/60000 (0%)]\tLoss: 0.054033\n",
            "Train Epoch: 37 [12800/60000 (21%)]\tLoss: 0.101886\n",
            "Train Epoch: 37 [25600/60000 (43%)]\tLoss: 0.171281\n",
            "Train Epoch: 37 [38400/60000 (64%)]\tLoss: 0.020986\n",
            "Train Epoch: 37 [51200/60000 (85%)]\tLoss: 0.049629\n",
            "[37] Test Loss: 0.0332, Accuracy: 98.93%\n",
            "Train Epoch: 38 [0/60000 (0%)]\tLoss: 0.168682\n",
            "Train Epoch: 38 [12800/60000 (21%)]\tLoss: 0.071288\n",
            "Train Epoch: 38 [25600/60000 (43%)]\tLoss: 0.243770\n",
            "Train Epoch: 38 [38400/60000 (64%)]\tLoss: 0.072447\n",
            "Train Epoch: 38 [51200/60000 (85%)]\tLoss: 0.203892\n",
            "[38] Test Loss: 0.0333, Accuracy: 98.94%\n",
            "Train Epoch: 39 [0/60000 (0%)]\tLoss: 0.078428\n",
            "Train Epoch: 39 [12800/60000 (21%)]\tLoss: 0.087424\n",
            "Train Epoch: 39 [25600/60000 (43%)]\tLoss: 0.120058\n",
            "Train Epoch: 39 [38400/60000 (64%)]\tLoss: 0.087518\n",
            "Train Epoch: 39 [51200/60000 (85%)]\tLoss: 0.174475\n",
            "[39] Test Loss: 0.0331, Accuracy: 98.97%\n",
            "Train Epoch: 40 [0/60000 (0%)]\tLoss: 0.053148\n",
            "Train Epoch: 40 [12800/60000 (21%)]\tLoss: 0.106204\n",
            "Train Epoch: 40 [25600/60000 (43%)]\tLoss: 0.046918\n",
            "Train Epoch: 40 [38400/60000 (64%)]\tLoss: 0.117613\n",
            "Train Epoch: 40 [51200/60000 (85%)]\tLoss: 0.049952\n",
            "[40] Test Loss: 0.0332, Accuracy: 98.95%\n"
          ],
          "name": "stdout"
        }
      ]
    },
    {
      "cell_type": "code",
      "metadata": {
        "id": "MB8nN7pz7HEy"
      },
      "source": [
        "import torch\n",
        "import torch.nn as nn\n",
        "import torch.optim as optim\n",
        "import torch.nn.functional as F\n",
        "from torchvision import transforms, datasets, models"
      ],
      "execution_count": null,
      "outputs": []
    },
    {
      "cell_type": "code",
      "metadata": {
        "id": "GVt4V-8Q7JhM"
      },
      "source": [
        "USE_CUDA = torch.cuda.is_available()\n",
        "DEVICE = torch.device(\"cuda\" if USE_CUDA else \"cpu\")"
      ],
      "execution_count": null,
      "outputs": []
    },
    {
      "cell_type": "code",
      "metadata": {
        "id": "veChJbsx7KZN"
      },
      "source": [
        "EPOCHS     = 300\n",
        "BATCH_SIZE = 128"
      ],
      "execution_count": null,
      "outputs": []
    },
    {
      "cell_type": "code",
      "metadata": {
        "colab": {
          "base_uri": "https://localhost:8080/",
          "height": 106,
          "referenced_widgets": [
            "f1d0f8f3f1164baba55b66e31af2a626",
            "3624f825204a44c6b6f33ca37625b929",
            "d15a105b8d0641978a501bac3a92edbe",
            "b433038fe53449689187eabf789be0a7",
            "b035554a3783490fbb9dbe5aca3476b7",
            "12429eda07c84595885c816322eca490",
            "ef642326a6ca4b529513fda397682c48",
            "b4dcf79c2d214c3595778c5ee205125a"
          ]
        },
        "id": "Ukk37w3G7Lrh",
        "outputId": "2c06ac47-769a-422c-e68a-25569c31fbaa"
      },
      "source": [
        "train_loader = torch.utils.data.DataLoader(\n",
        "    datasets.CIFAR10('./.data',\n",
        "                   train=True,\n",
        "                   download=True,\n",
        "                   transform=transforms.Compose([\n",
        "                       transforms.RandomCrop(32, padding=4),\n",
        "                       transforms.RandomHorizontalFlip(),\n",
        "                       transforms.ToTensor(),\n",
        "                       transforms.Normalize((0.5, 0.5, 0.5),\n",
        "                                            (0.5, 0.5, 0.5))])),\n",
        "    batch_size=BATCH_SIZE, shuffle=True)\n",
        "test_loader = torch.utils.data.DataLoader(\n",
        "    datasets.CIFAR10('./.data',\n",
        "                   train=False, \n",
        "                   transform=transforms.Compose([\n",
        "                       transforms.ToTensor(),\n",
        "                       transforms.Normalize((0.5, 0.5, 0.5),\n",
        "                                            (0.5, 0.5, 0.5))])),\n",
        "    batch_size=BATCH_SIZE, shuffle=True)"
      ],
      "execution_count": null,
      "outputs": [
        {
          "output_type": "stream",
          "text": [
            "Downloading https://www.cs.toronto.edu/~kriz/cifar-10-python.tar.gz to ./.data/cifar-10-python.tar.gz\n"
          ],
          "name": "stdout"
        },
        {
          "output_type": "display_data",
          "data": {
            "application/vnd.jupyter.widget-view+json": {
              "model_id": "f1d0f8f3f1164baba55b66e31af2a626",
              "version_minor": 0,
              "version_major": 2
            },
            "text/plain": [
              "HBox(children=(FloatProgress(value=0.0, max=170498071.0), HTML(value='')))"
            ]
          },
          "metadata": {
            "tags": []
          }
        },
        {
          "output_type": "stream",
          "text": [
            "\n",
            "Extracting ./.data/cifar-10-python.tar.gz to ./.data\n"
          ],
          "name": "stdout"
        }
      ]
    },
    {
      "cell_type": "code",
      "metadata": {
        "id": "KPBq_hG_7Nk4"
      },
      "source": [
        "class BasicBlock(nn.Module):\n",
        "    def __init__(self, in_planes, planes, stride=1):\n",
        "        super(BasicBlock, self).__init__()\n",
        "        self.conv1 = nn.Conv2d(in_planes, planes, kernel_size=3,\n",
        "                               stride=stride, padding=1, bias=False)\n",
        "        self.bn1 = nn.BatchNorm2d(planes)\n",
        "        self.conv2 = nn.Conv2d(planes, planes, kernel_size=3,\n",
        "                               stride=1, padding=1, bias=False)\n",
        "        self.bn2 = nn.BatchNorm2d(planes)\n",
        "\n",
        "        self.shortcut = nn.Sequential()\n",
        "        if stride != 1 or in_planes != planes:\n",
        "            self.shortcut = nn.Sequential(\n",
        "                nn.Conv2d(in_planes, planes,\n",
        "                          kernel_size=1, stride=stride, bias=False),\n",
        "                nn.BatchNorm2d(planes)\n",
        "            )\n",
        "\n",
        "    def forward(self, x):\n",
        "        out = F.relu(self.bn1(self.conv1(x)))\n",
        "        out = self.bn2(self.conv2(out))\n",
        "        out += self.shortcut(x)\n",
        "        out = F.relu(out)\n",
        "        return out\n",
        "\n",
        "\n",
        "class ResNet(nn.Module):\n",
        "    def __init__(self, num_classes=10):\n",
        "        super(ResNet, self).__init__()\n",
        "        self.in_planes = 16\n",
        "\n",
        "        self.conv1 = nn.Conv2d(3, 16, kernel_size=3,\n",
        "                               stride=1, padding=1, bias=False)\n",
        "        self.bn1 = nn.BatchNorm2d(16)\n",
        "        self.layer1 = self._make_layer(16, 2, stride=1)\n",
        "        self.layer2 = self._make_layer(32, 2, stride=2)\n",
        "        self.layer3 = self._make_layer(64, 2, stride=2)\n",
        "        self.linear = nn.Linear(64, num_classes)\n",
        "\n",
        "    def _make_layer(self, planes, num_blocks, stride):\n",
        "        strides = [stride] + [1]*(num_blocks-1)\n",
        "        layers = []\n",
        "        for stride in strides:\n",
        "            layers.append(BasicBlock(self.in_planes, planes, stride))\n",
        "            self.in_planes = planes\n",
        "        return nn.Sequential(*layers)\n",
        "\n",
        "    def forward(self, x):\n",
        "        out = F.relu(self.bn1(self.conv1(x)))\n",
        "        out = self.layer1(out)\n",
        "        out = self.layer2(out)\n",
        "        out = self.layer3(out)\n",
        "        out = F.avg_pool2d(out, 8)\n",
        "        out = out.view(out.size(0), -1)\n",
        "        out = self.linear(out)\n",
        "        return out"
      ],
      "execution_count": null,
      "outputs": []
    },
    {
      "cell_type": "code",
      "metadata": {
        "id": "i0fQnpk47Pfi"
      },
      "source": [
        "model = ResNet().to(DEVICE)\n",
        "optimizer = optim.SGD(model.parameters(), lr=0.1,\n",
        "                      momentum=0.9, weight_decay=0.0005)\n",
        "scheduler = optim.lr_scheduler.StepLR(optimizer, step_size=50, gamma=0.1)"
      ],
      "execution_count": null,
      "outputs": []
    },
    {
      "cell_type": "code",
      "metadata": {
        "colab": {
          "base_uri": "https://localhost:8080/"
        },
        "id": "luFOalk57Qom",
        "outputId": "654daa8b-902c-4f96-ab46-e1fe00416ea7"
      },
      "source": [
        "print(model)"
      ],
      "execution_count": null,
      "outputs": [
        {
          "output_type": "stream",
          "text": [
            "ResNet(\n",
            "  (conv1): Conv2d(3, 16, kernel_size=(3, 3), stride=(1, 1), padding=(1, 1), bias=False)\n",
            "  (bn1): BatchNorm2d(16, eps=1e-05, momentum=0.1, affine=True, track_running_stats=True)\n",
            "  (layer1): Sequential(\n",
            "    (0): BasicBlock(\n",
            "      (conv1): Conv2d(16, 16, kernel_size=(3, 3), stride=(1, 1), padding=(1, 1), bias=False)\n",
            "      (bn1): BatchNorm2d(16, eps=1e-05, momentum=0.1, affine=True, track_running_stats=True)\n",
            "      (conv2): Conv2d(16, 16, kernel_size=(3, 3), stride=(1, 1), padding=(1, 1), bias=False)\n",
            "      (bn2): BatchNorm2d(16, eps=1e-05, momentum=0.1, affine=True, track_running_stats=True)\n",
            "      (shortcut): Sequential()\n",
            "    )\n",
            "    (1): BasicBlock(\n",
            "      (conv1): Conv2d(16, 16, kernel_size=(3, 3), stride=(1, 1), padding=(1, 1), bias=False)\n",
            "      (bn1): BatchNorm2d(16, eps=1e-05, momentum=0.1, affine=True, track_running_stats=True)\n",
            "      (conv2): Conv2d(16, 16, kernel_size=(3, 3), stride=(1, 1), padding=(1, 1), bias=False)\n",
            "      (bn2): BatchNorm2d(16, eps=1e-05, momentum=0.1, affine=True, track_running_stats=True)\n",
            "      (shortcut): Sequential()\n",
            "    )\n",
            "  )\n",
            "  (layer2): Sequential(\n",
            "    (0): BasicBlock(\n",
            "      (conv1): Conv2d(16, 32, kernel_size=(3, 3), stride=(2, 2), padding=(1, 1), bias=False)\n",
            "      (bn1): BatchNorm2d(32, eps=1e-05, momentum=0.1, affine=True, track_running_stats=True)\n",
            "      (conv2): Conv2d(32, 32, kernel_size=(3, 3), stride=(1, 1), padding=(1, 1), bias=False)\n",
            "      (bn2): BatchNorm2d(32, eps=1e-05, momentum=0.1, affine=True, track_running_stats=True)\n",
            "      (shortcut): Sequential(\n",
            "        (0): Conv2d(16, 32, kernel_size=(1, 1), stride=(2, 2), bias=False)\n",
            "        (1): BatchNorm2d(32, eps=1e-05, momentum=0.1, affine=True, track_running_stats=True)\n",
            "      )\n",
            "    )\n",
            "    (1): BasicBlock(\n",
            "      (conv1): Conv2d(32, 32, kernel_size=(3, 3), stride=(1, 1), padding=(1, 1), bias=False)\n",
            "      (bn1): BatchNorm2d(32, eps=1e-05, momentum=0.1, affine=True, track_running_stats=True)\n",
            "      (conv2): Conv2d(32, 32, kernel_size=(3, 3), stride=(1, 1), padding=(1, 1), bias=False)\n",
            "      (bn2): BatchNorm2d(32, eps=1e-05, momentum=0.1, affine=True, track_running_stats=True)\n",
            "      (shortcut): Sequential()\n",
            "    )\n",
            "  )\n",
            "  (layer3): Sequential(\n",
            "    (0): BasicBlock(\n",
            "      (conv1): Conv2d(32, 64, kernel_size=(3, 3), stride=(2, 2), padding=(1, 1), bias=False)\n",
            "      (bn1): BatchNorm2d(64, eps=1e-05, momentum=0.1, affine=True, track_running_stats=True)\n",
            "      (conv2): Conv2d(64, 64, kernel_size=(3, 3), stride=(1, 1), padding=(1, 1), bias=False)\n",
            "      (bn2): BatchNorm2d(64, eps=1e-05, momentum=0.1, affine=True, track_running_stats=True)\n",
            "      (shortcut): Sequential(\n",
            "        (0): Conv2d(32, 64, kernel_size=(1, 1), stride=(2, 2), bias=False)\n",
            "        (1): BatchNorm2d(64, eps=1e-05, momentum=0.1, affine=True, track_running_stats=True)\n",
            "      )\n",
            "    )\n",
            "    (1): BasicBlock(\n",
            "      (conv1): Conv2d(64, 64, kernel_size=(3, 3), stride=(1, 1), padding=(1, 1), bias=False)\n",
            "      (bn1): BatchNorm2d(64, eps=1e-05, momentum=0.1, affine=True, track_running_stats=True)\n",
            "      (conv2): Conv2d(64, 64, kernel_size=(3, 3), stride=(1, 1), padding=(1, 1), bias=False)\n",
            "      (bn2): BatchNorm2d(64, eps=1e-05, momentum=0.1, affine=True, track_running_stats=True)\n",
            "      (shortcut): Sequential()\n",
            "    )\n",
            "  )\n",
            "  (linear): Linear(in_features=64, out_features=10, bias=True)\n",
            ")\n"
          ],
          "name": "stdout"
        }
      ]
    },
    {
      "cell_type": "code",
      "metadata": {
        "id": "PRxRKG1f8WfZ"
      },
      "source": [
        "def train(model, train_loader, optimizer, epoch):\n",
        "    model.train()\n",
        "    for batch_idx, (data, target) in enumerate(train_loader):\n",
        "        data, target = data.to(DEVICE), target.to(DEVICE)\n",
        "        optimizer.zero_grad()\n",
        "        output = model(data)\n",
        "        loss = F.cross_entropy(output, target)\n",
        "        loss.backward()\n",
        "        optimizer.step()"
      ],
      "execution_count": null,
      "outputs": []
    },
    {
      "cell_type": "code",
      "metadata": {
        "id": "Wuw39EIq8YE_"
      },
      "source": [
        "def evaluate(model, test_loader):\n",
        "    model.eval()\n",
        "    test_loss = 0\n",
        "    correct = 0\n",
        "    with torch.no_grad():\n",
        "        for data, target in test_loader:\n",
        "            data, target = data.to(DEVICE), target.to(DEVICE)\n",
        "            output = model(data)\n",
        "\n",
        "            # 배치 오차를 합산\n",
        "            test_loss += F.cross_entropy(output, target,\n",
        "                                         reduction='sum').item()\n",
        "\n",
        "            # 가장 높은 값을 가진 인덱스가 바로 예측값\n",
        "            pred = output.max(1, keepdim=True)[1]\n",
        "            correct += pred.eq(target.view_as(pred)).sum().item()\n",
        "\n",
        "    test_loss /= len(test_loader.dataset)\n",
        "    test_accuracy = 100. * correct / len(test_loader.dataset)\n",
        "    return test_loss, test_accuracy"
      ],
      "execution_count": null,
      "outputs": []
    },
    {
      "cell_type": "code",
      "metadata": {
        "colab": {
          "base_uri": "https://localhost:8080/",
          "height": 1000
        },
        "id": "rrF1HlN68avh",
        "outputId": "220ba8b0-2e3a-46a7-9be7-6ffd49fa279b"
      },
      "source": [
        "for epoch in range(1, EPOCHS + 1):\n",
        "    scheduler.step()\n",
        "    train(model, train_loader, optimizer, epoch)\n",
        "    test_loss, test_accuracy = evaluate(model, test_loader)\n",
        "    \n",
        "    print('[{}] Test Loss: {:.4f}, Accuracy: {:.2f}%'.format(\n",
        "          epoch, test_loss, test_accuracy))"
      ],
      "execution_count": null,
      "outputs": [
        {
          "output_type": "stream",
          "text": [
            "/usr/local/lib/python3.7/dist-packages/torch/optim/lr_scheduler.py:134: UserWarning: Detected call of `lr_scheduler.step()` before `optimizer.step()`. In PyTorch 1.1.0 and later, you should call them in the opposite order: `optimizer.step()` before `lr_scheduler.step()`.  Failure to do this will result in PyTorch skipping the first value of the learning rate schedule. See more details at https://pytorch.org/docs/stable/optim.html#how-to-adjust-learning-rate\n",
            "  \"https://pytorch.org/docs/stable/optim.html#how-to-adjust-learning-rate\", UserWarning)\n"
          ],
          "name": "stderr"
        },
        {
          "output_type": "stream",
          "text": [
            "[1] Test Loss: 1.5082, Accuracy: 46.72%\n",
            "[2] Test Loss: 1.1139, Accuracy: 60.37%\n",
            "[3] Test Loss: 1.0495, Accuracy: 61.85%\n",
            "[4] Test Loss: 1.0831, Accuracy: 63.53%\n",
            "[5] Test Loss: 0.8182, Accuracy: 71.66%\n",
            "[6] Test Loss: 0.9583, Accuracy: 69.73%\n",
            "[7] Test Loss: 1.1204, Accuracy: 66.48%\n",
            "[8] Test Loss: 0.7737, Accuracy: 73.89%\n",
            "[9] Test Loss: 0.7115, Accuracy: 75.70%\n",
            "[10] Test Loss: 0.9437, Accuracy: 69.56%\n",
            "[11] Test Loss: 0.6906, Accuracy: 75.81%\n",
            "[12] Test Loss: 0.7131, Accuracy: 76.35%\n",
            "[13] Test Loss: 0.6143, Accuracy: 79.48%\n",
            "[14] Test Loss: 0.8998, Accuracy: 71.56%\n",
            "[15] Test Loss: 0.8315, Accuracy: 73.73%\n",
            "[16] Test Loss: 0.6823, Accuracy: 77.10%\n",
            "[17] Test Loss: 0.7413, Accuracy: 76.03%\n",
            "[18] Test Loss: 0.7386, Accuracy: 75.74%\n",
            "[19] Test Loss: 0.9736, Accuracy: 72.03%\n",
            "[20] Test Loss: 0.5866, Accuracy: 80.72%\n",
            "[21] Test Loss: 0.9264, Accuracy: 71.44%\n",
            "[22] Test Loss: 0.6746, Accuracy: 76.87%\n",
            "[23] Test Loss: 0.8652, Accuracy: 72.62%\n",
            "[24] Test Loss: 0.7164, Accuracy: 77.08%\n",
            "[25] Test Loss: 0.6516, Accuracy: 78.84%\n",
            "[26] Test Loss: 0.7480, Accuracy: 75.99%\n",
            "[27] Test Loss: 0.7729, Accuracy: 74.69%\n",
            "[28] Test Loss: 0.6532, Accuracy: 78.64%\n",
            "[29] Test Loss: 0.6320, Accuracy: 78.88%\n",
            "[30] Test Loss: 0.6583, Accuracy: 78.41%\n",
            "[31] Test Loss: 0.7881, Accuracy: 74.98%\n",
            "[32] Test Loss: 0.6083, Accuracy: 79.65%\n",
            "[33] Test Loss: 0.6544, Accuracy: 79.08%\n",
            "[34] Test Loss: 0.7769, Accuracy: 75.16%\n",
            "[35] Test Loss: 0.7621, Accuracy: 75.26%\n",
            "[36] Test Loss: 0.6164, Accuracy: 79.30%\n",
            "[37] Test Loss: 0.7163, Accuracy: 76.75%\n",
            "[38] Test Loss: 0.6194, Accuracy: 79.38%\n",
            "[39] Test Loss: 0.5802, Accuracy: 80.86%\n",
            "[40] Test Loss: 0.6190, Accuracy: 79.44%\n",
            "[41] Test Loss: 0.6915, Accuracy: 76.95%\n",
            "[42] Test Loss: 0.6849, Accuracy: 77.60%\n",
            "[43] Test Loss: 0.7686, Accuracy: 75.32%\n",
            "[44] Test Loss: 0.7289, Accuracy: 76.51%\n",
            "[45] Test Loss: 0.8474, Accuracy: 73.54%\n"
          ],
          "name": "stdout"
        },
        {
          "output_type": "error",
          "ename": "KeyboardInterrupt",
          "evalue": "ignored",
          "traceback": [
            "\u001b[0;31m---------------------------------------------------------------------------\u001b[0m",
            "\u001b[0;31mKeyboardInterrupt\u001b[0m                         Traceback (most recent call last)",
            "\u001b[0;32m<ipython-input-100-6f2013d63ac2>\u001b[0m in \u001b[0;36m<module>\u001b[0;34m()\u001b[0m\n\u001b[1;32m      1\u001b[0m \u001b[0;32mfor\u001b[0m \u001b[0mepoch\u001b[0m \u001b[0;32min\u001b[0m \u001b[0mrange\u001b[0m\u001b[0;34m(\u001b[0m\u001b[0;36m1\u001b[0m\u001b[0;34m,\u001b[0m \u001b[0mEPOCHS\u001b[0m \u001b[0;34m+\u001b[0m \u001b[0;36m1\u001b[0m\u001b[0;34m)\u001b[0m\u001b[0;34m:\u001b[0m\u001b[0;34m\u001b[0m\u001b[0;34m\u001b[0m\u001b[0m\n\u001b[1;32m      2\u001b[0m     \u001b[0mscheduler\u001b[0m\u001b[0;34m.\u001b[0m\u001b[0mstep\u001b[0m\u001b[0;34m(\u001b[0m\u001b[0;34m)\u001b[0m\u001b[0;34m\u001b[0m\u001b[0;34m\u001b[0m\u001b[0m\n\u001b[0;32m----> 3\u001b[0;31m     \u001b[0mtrain\u001b[0m\u001b[0;34m(\u001b[0m\u001b[0mmodel\u001b[0m\u001b[0;34m,\u001b[0m \u001b[0mtrain_loader\u001b[0m\u001b[0;34m,\u001b[0m \u001b[0moptimizer\u001b[0m\u001b[0;34m,\u001b[0m \u001b[0mepoch\u001b[0m\u001b[0;34m)\u001b[0m\u001b[0;34m\u001b[0m\u001b[0;34m\u001b[0m\u001b[0m\n\u001b[0m\u001b[1;32m      4\u001b[0m     \u001b[0mtest_loss\u001b[0m\u001b[0;34m,\u001b[0m \u001b[0mtest_accuracy\u001b[0m \u001b[0;34m=\u001b[0m \u001b[0mevaluate\u001b[0m\u001b[0;34m(\u001b[0m\u001b[0mmodel\u001b[0m\u001b[0;34m,\u001b[0m \u001b[0mtest_loader\u001b[0m\u001b[0;34m)\u001b[0m\u001b[0;34m\u001b[0m\u001b[0;34m\u001b[0m\u001b[0m\n\u001b[1;32m      5\u001b[0m \u001b[0;34m\u001b[0m\u001b[0m\n",
            "\u001b[0;32m<ipython-input-98-c6c6f9dd7e44>\u001b[0m in \u001b[0;36mtrain\u001b[0;34m(model, train_loader, optimizer, epoch)\u001b[0m\n\u001b[1;32m      1\u001b[0m \u001b[0;32mdef\u001b[0m \u001b[0mtrain\u001b[0m\u001b[0;34m(\u001b[0m\u001b[0mmodel\u001b[0m\u001b[0;34m,\u001b[0m \u001b[0mtrain_loader\u001b[0m\u001b[0;34m,\u001b[0m \u001b[0moptimizer\u001b[0m\u001b[0;34m,\u001b[0m \u001b[0mepoch\u001b[0m\u001b[0;34m)\u001b[0m\u001b[0;34m:\u001b[0m\u001b[0;34m\u001b[0m\u001b[0;34m\u001b[0m\u001b[0m\n\u001b[1;32m      2\u001b[0m     \u001b[0mmodel\u001b[0m\u001b[0;34m.\u001b[0m\u001b[0mtrain\u001b[0m\u001b[0;34m(\u001b[0m\u001b[0;34m)\u001b[0m\u001b[0;34m\u001b[0m\u001b[0;34m\u001b[0m\u001b[0m\n\u001b[0;32m----> 3\u001b[0;31m     \u001b[0;32mfor\u001b[0m \u001b[0mbatch_idx\u001b[0m\u001b[0;34m,\u001b[0m \u001b[0;34m(\u001b[0m\u001b[0mdata\u001b[0m\u001b[0;34m,\u001b[0m \u001b[0mtarget\u001b[0m\u001b[0;34m)\u001b[0m \u001b[0;32min\u001b[0m \u001b[0menumerate\u001b[0m\u001b[0;34m(\u001b[0m\u001b[0mtrain_loader\u001b[0m\u001b[0;34m)\u001b[0m\u001b[0;34m:\u001b[0m\u001b[0;34m\u001b[0m\u001b[0;34m\u001b[0m\u001b[0m\n\u001b[0m\u001b[1;32m      4\u001b[0m         \u001b[0mdata\u001b[0m\u001b[0;34m,\u001b[0m \u001b[0mtarget\u001b[0m \u001b[0;34m=\u001b[0m \u001b[0mdata\u001b[0m\u001b[0;34m.\u001b[0m\u001b[0mto\u001b[0m\u001b[0;34m(\u001b[0m\u001b[0mDEVICE\u001b[0m\u001b[0;34m)\u001b[0m\u001b[0;34m,\u001b[0m \u001b[0mtarget\u001b[0m\u001b[0;34m.\u001b[0m\u001b[0mto\u001b[0m\u001b[0;34m(\u001b[0m\u001b[0mDEVICE\u001b[0m\u001b[0;34m)\u001b[0m\u001b[0;34m\u001b[0m\u001b[0;34m\u001b[0m\u001b[0m\n\u001b[1;32m      5\u001b[0m         \u001b[0moptimizer\u001b[0m\u001b[0;34m.\u001b[0m\u001b[0mzero_grad\u001b[0m\u001b[0;34m(\u001b[0m\u001b[0;34m)\u001b[0m\u001b[0;34m\u001b[0m\u001b[0;34m\u001b[0m\u001b[0m\n",
            "\u001b[0;32m/usr/local/lib/python3.7/dist-packages/torch/utils/data/dataloader.py\u001b[0m in \u001b[0;36m__next__\u001b[0;34m(self)\u001b[0m\n\u001b[1;32m    519\u001b[0m             \u001b[0;32mif\u001b[0m \u001b[0mself\u001b[0m\u001b[0;34m.\u001b[0m\u001b[0m_sampler_iter\u001b[0m \u001b[0;32mis\u001b[0m \u001b[0;32mNone\u001b[0m\u001b[0;34m:\u001b[0m\u001b[0;34m\u001b[0m\u001b[0;34m\u001b[0m\u001b[0m\n\u001b[1;32m    520\u001b[0m                 \u001b[0mself\u001b[0m\u001b[0;34m.\u001b[0m\u001b[0m_reset\u001b[0m\u001b[0;34m(\u001b[0m\u001b[0;34m)\u001b[0m\u001b[0;34m\u001b[0m\u001b[0;34m\u001b[0m\u001b[0m\n\u001b[0;32m--> 521\u001b[0;31m             \u001b[0mdata\u001b[0m \u001b[0;34m=\u001b[0m \u001b[0mself\u001b[0m\u001b[0;34m.\u001b[0m\u001b[0m_next_data\u001b[0m\u001b[0;34m(\u001b[0m\u001b[0;34m)\u001b[0m\u001b[0;34m\u001b[0m\u001b[0;34m\u001b[0m\u001b[0m\n\u001b[0m\u001b[1;32m    522\u001b[0m             \u001b[0mself\u001b[0m\u001b[0;34m.\u001b[0m\u001b[0m_num_yielded\u001b[0m \u001b[0;34m+=\u001b[0m \u001b[0;36m1\u001b[0m\u001b[0;34m\u001b[0m\u001b[0;34m\u001b[0m\u001b[0m\n\u001b[1;32m    523\u001b[0m             \u001b[0;32mif\u001b[0m \u001b[0mself\u001b[0m\u001b[0;34m.\u001b[0m\u001b[0m_dataset_kind\u001b[0m \u001b[0;34m==\u001b[0m \u001b[0m_DatasetKind\u001b[0m\u001b[0;34m.\u001b[0m\u001b[0mIterable\u001b[0m \u001b[0;32mand\u001b[0m\u001b[0;31m \u001b[0m\u001b[0;31m\\\u001b[0m\u001b[0;34m\u001b[0m\u001b[0;34m\u001b[0m\u001b[0m\n",
            "\u001b[0;32m/usr/local/lib/python3.7/dist-packages/torch/utils/data/dataloader.py\u001b[0m in \u001b[0;36m_next_data\u001b[0;34m(self)\u001b[0m\n\u001b[1;32m    559\u001b[0m     \u001b[0;32mdef\u001b[0m \u001b[0m_next_data\u001b[0m\u001b[0;34m(\u001b[0m\u001b[0mself\u001b[0m\u001b[0;34m)\u001b[0m\u001b[0;34m:\u001b[0m\u001b[0;34m\u001b[0m\u001b[0;34m\u001b[0m\u001b[0m\n\u001b[1;32m    560\u001b[0m         \u001b[0mindex\u001b[0m \u001b[0;34m=\u001b[0m \u001b[0mself\u001b[0m\u001b[0;34m.\u001b[0m\u001b[0m_next_index\u001b[0m\u001b[0;34m(\u001b[0m\u001b[0;34m)\u001b[0m  \u001b[0;31m# may raise StopIteration\u001b[0m\u001b[0;34m\u001b[0m\u001b[0;34m\u001b[0m\u001b[0m\n\u001b[0;32m--> 561\u001b[0;31m         \u001b[0mdata\u001b[0m \u001b[0;34m=\u001b[0m \u001b[0mself\u001b[0m\u001b[0;34m.\u001b[0m\u001b[0m_dataset_fetcher\u001b[0m\u001b[0;34m.\u001b[0m\u001b[0mfetch\u001b[0m\u001b[0;34m(\u001b[0m\u001b[0mindex\u001b[0m\u001b[0;34m)\u001b[0m  \u001b[0;31m# may raise StopIteration\u001b[0m\u001b[0;34m\u001b[0m\u001b[0;34m\u001b[0m\u001b[0m\n\u001b[0m\u001b[1;32m    562\u001b[0m         \u001b[0;32mif\u001b[0m \u001b[0mself\u001b[0m\u001b[0;34m.\u001b[0m\u001b[0m_pin_memory\u001b[0m\u001b[0;34m:\u001b[0m\u001b[0;34m\u001b[0m\u001b[0;34m\u001b[0m\u001b[0m\n\u001b[1;32m    563\u001b[0m             \u001b[0mdata\u001b[0m \u001b[0;34m=\u001b[0m \u001b[0m_utils\u001b[0m\u001b[0;34m.\u001b[0m\u001b[0mpin_memory\u001b[0m\u001b[0;34m.\u001b[0m\u001b[0mpin_memory\u001b[0m\u001b[0;34m(\u001b[0m\u001b[0mdata\u001b[0m\u001b[0;34m)\u001b[0m\u001b[0;34m\u001b[0m\u001b[0;34m\u001b[0m\u001b[0m\n",
            "\u001b[0;32m/usr/local/lib/python3.7/dist-packages/torch/utils/data/_utils/fetch.py\u001b[0m in \u001b[0;36mfetch\u001b[0;34m(self, possibly_batched_index)\u001b[0m\n\u001b[1;32m     42\u001b[0m     \u001b[0;32mdef\u001b[0m \u001b[0mfetch\u001b[0m\u001b[0;34m(\u001b[0m\u001b[0mself\u001b[0m\u001b[0;34m,\u001b[0m \u001b[0mpossibly_batched_index\u001b[0m\u001b[0;34m)\u001b[0m\u001b[0;34m:\u001b[0m\u001b[0;34m\u001b[0m\u001b[0;34m\u001b[0m\u001b[0m\n\u001b[1;32m     43\u001b[0m         \u001b[0;32mif\u001b[0m \u001b[0mself\u001b[0m\u001b[0;34m.\u001b[0m\u001b[0mauto_collation\u001b[0m\u001b[0;34m:\u001b[0m\u001b[0;34m\u001b[0m\u001b[0;34m\u001b[0m\u001b[0m\n\u001b[0;32m---> 44\u001b[0;31m             \u001b[0mdata\u001b[0m \u001b[0;34m=\u001b[0m \u001b[0;34m[\u001b[0m\u001b[0mself\u001b[0m\u001b[0;34m.\u001b[0m\u001b[0mdataset\u001b[0m\u001b[0;34m[\u001b[0m\u001b[0midx\u001b[0m\u001b[0;34m]\u001b[0m \u001b[0;32mfor\u001b[0m \u001b[0midx\u001b[0m \u001b[0;32min\u001b[0m \u001b[0mpossibly_batched_index\u001b[0m\u001b[0;34m]\u001b[0m\u001b[0;34m\u001b[0m\u001b[0;34m\u001b[0m\u001b[0m\n\u001b[0m\u001b[1;32m     45\u001b[0m         \u001b[0;32melse\u001b[0m\u001b[0;34m:\u001b[0m\u001b[0;34m\u001b[0m\u001b[0;34m\u001b[0m\u001b[0m\n\u001b[1;32m     46\u001b[0m             \u001b[0mdata\u001b[0m \u001b[0;34m=\u001b[0m \u001b[0mself\u001b[0m\u001b[0;34m.\u001b[0m\u001b[0mdataset\u001b[0m\u001b[0;34m[\u001b[0m\u001b[0mpossibly_batched_index\u001b[0m\u001b[0;34m]\u001b[0m\u001b[0;34m\u001b[0m\u001b[0;34m\u001b[0m\u001b[0m\n",
            "\u001b[0;32m/usr/local/lib/python3.7/dist-packages/torch/utils/data/_utils/fetch.py\u001b[0m in \u001b[0;36m<listcomp>\u001b[0;34m(.0)\u001b[0m\n\u001b[1;32m     42\u001b[0m     \u001b[0;32mdef\u001b[0m \u001b[0mfetch\u001b[0m\u001b[0;34m(\u001b[0m\u001b[0mself\u001b[0m\u001b[0;34m,\u001b[0m \u001b[0mpossibly_batched_index\u001b[0m\u001b[0;34m)\u001b[0m\u001b[0;34m:\u001b[0m\u001b[0;34m\u001b[0m\u001b[0;34m\u001b[0m\u001b[0m\n\u001b[1;32m     43\u001b[0m         \u001b[0;32mif\u001b[0m \u001b[0mself\u001b[0m\u001b[0;34m.\u001b[0m\u001b[0mauto_collation\u001b[0m\u001b[0;34m:\u001b[0m\u001b[0;34m\u001b[0m\u001b[0;34m\u001b[0m\u001b[0m\n\u001b[0;32m---> 44\u001b[0;31m             \u001b[0mdata\u001b[0m \u001b[0;34m=\u001b[0m \u001b[0;34m[\u001b[0m\u001b[0mself\u001b[0m\u001b[0;34m.\u001b[0m\u001b[0mdataset\u001b[0m\u001b[0;34m[\u001b[0m\u001b[0midx\u001b[0m\u001b[0;34m]\u001b[0m \u001b[0;32mfor\u001b[0m \u001b[0midx\u001b[0m \u001b[0;32min\u001b[0m \u001b[0mpossibly_batched_index\u001b[0m\u001b[0;34m]\u001b[0m\u001b[0;34m\u001b[0m\u001b[0;34m\u001b[0m\u001b[0m\n\u001b[0m\u001b[1;32m     45\u001b[0m         \u001b[0;32melse\u001b[0m\u001b[0;34m:\u001b[0m\u001b[0;34m\u001b[0m\u001b[0;34m\u001b[0m\u001b[0m\n\u001b[1;32m     46\u001b[0m             \u001b[0mdata\u001b[0m \u001b[0;34m=\u001b[0m \u001b[0mself\u001b[0m\u001b[0;34m.\u001b[0m\u001b[0mdataset\u001b[0m\u001b[0;34m[\u001b[0m\u001b[0mpossibly_batched_index\u001b[0m\u001b[0;34m]\u001b[0m\u001b[0;34m\u001b[0m\u001b[0;34m\u001b[0m\u001b[0m\n",
            "\u001b[0;32m/usr/local/lib/python3.7/dist-packages/torchvision/datasets/cifar.py\u001b[0m in \u001b[0;36m__getitem__\u001b[0;34m(self, index)\u001b[0m\n\u001b[1;32m    118\u001b[0m \u001b[0;34m\u001b[0m\u001b[0m\n\u001b[1;32m    119\u001b[0m         \u001b[0;32mif\u001b[0m \u001b[0mself\u001b[0m\u001b[0;34m.\u001b[0m\u001b[0mtransform\u001b[0m \u001b[0;32mis\u001b[0m \u001b[0;32mnot\u001b[0m \u001b[0;32mNone\u001b[0m\u001b[0;34m:\u001b[0m\u001b[0;34m\u001b[0m\u001b[0;34m\u001b[0m\u001b[0m\n\u001b[0;32m--> 120\u001b[0;31m             \u001b[0mimg\u001b[0m \u001b[0;34m=\u001b[0m \u001b[0mself\u001b[0m\u001b[0;34m.\u001b[0m\u001b[0mtransform\u001b[0m\u001b[0;34m(\u001b[0m\u001b[0mimg\u001b[0m\u001b[0;34m)\u001b[0m\u001b[0;34m\u001b[0m\u001b[0;34m\u001b[0m\u001b[0m\n\u001b[0m\u001b[1;32m    121\u001b[0m \u001b[0;34m\u001b[0m\u001b[0m\n\u001b[1;32m    122\u001b[0m         \u001b[0;32mif\u001b[0m \u001b[0mself\u001b[0m\u001b[0;34m.\u001b[0m\u001b[0mtarget_transform\u001b[0m \u001b[0;32mis\u001b[0m \u001b[0;32mnot\u001b[0m \u001b[0;32mNone\u001b[0m\u001b[0;34m:\u001b[0m\u001b[0;34m\u001b[0m\u001b[0;34m\u001b[0m\u001b[0m\n",
            "\u001b[0;32m/usr/local/lib/python3.7/dist-packages/torchvision/transforms/transforms.py\u001b[0m in \u001b[0;36m__call__\u001b[0;34m(self, img)\u001b[0m\n\u001b[1;32m     58\u001b[0m     \u001b[0;32mdef\u001b[0m \u001b[0m__call__\u001b[0m\u001b[0;34m(\u001b[0m\u001b[0mself\u001b[0m\u001b[0;34m,\u001b[0m \u001b[0mimg\u001b[0m\u001b[0;34m)\u001b[0m\u001b[0;34m:\u001b[0m\u001b[0;34m\u001b[0m\u001b[0;34m\u001b[0m\u001b[0m\n\u001b[1;32m     59\u001b[0m         \u001b[0;32mfor\u001b[0m \u001b[0mt\u001b[0m \u001b[0;32min\u001b[0m \u001b[0mself\u001b[0m\u001b[0;34m.\u001b[0m\u001b[0mtransforms\u001b[0m\u001b[0;34m:\u001b[0m\u001b[0;34m\u001b[0m\u001b[0;34m\u001b[0m\u001b[0m\n\u001b[0;32m---> 60\u001b[0;31m             \u001b[0mimg\u001b[0m \u001b[0;34m=\u001b[0m \u001b[0mt\u001b[0m\u001b[0;34m(\u001b[0m\u001b[0mimg\u001b[0m\u001b[0;34m)\u001b[0m\u001b[0;34m\u001b[0m\u001b[0;34m\u001b[0m\u001b[0m\n\u001b[0m\u001b[1;32m     61\u001b[0m         \u001b[0;32mreturn\u001b[0m \u001b[0mimg\u001b[0m\u001b[0;34m\u001b[0m\u001b[0;34m\u001b[0m\u001b[0m\n\u001b[1;32m     62\u001b[0m \u001b[0;34m\u001b[0m\u001b[0m\n",
            "\u001b[0;32m/usr/local/lib/python3.7/dist-packages/torch/nn/modules/module.py\u001b[0m in \u001b[0;36m_call_impl\u001b[0;34m(self, *input, **kwargs)\u001b[0m\n\u001b[1;32m   1047\u001b[0m         \u001b[0;31m# If we don't have any hooks, we want to skip the rest of the logic in\u001b[0m\u001b[0;34m\u001b[0m\u001b[0;34m\u001b[0m\u001b[0;34m\u001b[0m\u001b[0m\n\u001b[1;32m   1048\u001b[0m         \u001b[0;31m# this function, and just call forward.\u001b[0m\u001b[0;34m\u001b[0m\u001b[0;34m\u001b[0m\u001b[0;34m\u001b[0m\u001b[0m\n\u001b[0;32m-> 1049\u001b[0;31m         if not (self._backward_hooks or self._forward_hooks or self._forward_pre_hooks or _global_backward_hooks\n\u001b[0m\u001b[1;32m   1050\u001b[0m                 or _global_forward_hooks or _global_forward_pre_hooks):\n\u001b[1;32m   1051\u001b[0m             \u001b[0;32mreturn\u001b[0m \u001b[0mforward_call\u001b[0m\u001b[0;34m(\u001b[0m\u001b[0;34m*\u001b[0m\u001b[0minput\u001b[0m\u001b[0;34m,\u001b[0m \u001b[0;34m**\u001b[0m\u001b[0mkwargs\u001b[0m\u001b[0;34m)\u001b[0m\u001b[0;34m\u001b[0m\u001b[0;34m\u001b[0m\u001b[0m\n",
            "\u001b[0;31mKeyboardInterrupt\u001b[0m: "
          ]
        }
      ]
    },
    {
      "cell_type": "code",
      "metadata": {
        "id": "PTw3hqMn-5Fb"
      },
      "source": [
        "import torch\n",
        "import torchvision\n",
        "import torch.nn.functional as F\n",
        "from torch import nn, optim\n",
        "from torchvision import transforms, datasets\n",
        "\n",
        "import matplotlib.pyplot as plt\n",
        "from mpl_toolkits.mplot3d import Axes3D\n",
        "from matplotlib import cm\n",
        "import numpy as np"
      ],
      "execution_count": null,
      "outputs": []
    },
    {
      "cell_type": "code",
      "metadata": {
        "colab": {
          "base_uri": "https://localhost:8080/"
        },
        "id": "sTgwqdDH-6dH",
        "outputId": "35f5ff14-5065-45f1-ceff-55f67817c78c"
      },
      "source": [
        "# 하이퍼파라미터\n",
        "EPOCH = 10\n",
        "BATCH_SIZE = 64\n",
        "USE_CUDA = torch.cuda.is_available()\n",
        "DEVICE = torch.device(\"cuda\" if USE_CUDA else \"cpu\")\n",
        "print(\"Using Device:\", DEVICE)"
      ],
      "execution_count": null,
      "outputs": [
        {
          "output_type": "stream",
          "text": [
            "Using Device: cuda\n"
          ],
          "name": "stdout"
        }
      ]
    },
    {
      "cell_type": "code",
      "metadata": {
        "id": "71xecKl2-7zU"
      },
      "source": [
        "# Fashion MNIST 데이터셋\n",
        "trainset = datasets.FashionMNIST(\n",
        "    root      = './.data/', \n",
        "    train     = True,\n",
        "    download  = True,\n",
        "    transform = transforms.ToTensor()\n",
        ")\n",
        "train_loader = torch.utils.data.DataLoader(\n",
        "    dataset     = trainset,\n",
        "    batch_size  = BATCH_SIZE,\n",
        "    shuffle     = True,\n",
        "    num_workers = 2\n",
        ")"
      ],
      "execution_count": null,
      "outputs": []
    },
    {
      "cell_type": "code",
      "metadata": {
        "id": "-Y-WZsDj-9ee"
      },
      "source": [
        "class Autoencoder(nn.Module):\n",
        "    def __init__(self):\n",
        "        super(Autoencoder, self).__init__()\n",
        "\n",
        "        self.encoder = nn.Sequential(\n",
        "            nn.Linear(28*28, 128),\n",
        "            nn.ReLU(),\n",
        "            nn.Linear(128, 64),\n",
        "            nn.ReLU(),\n",
        "            nn.Linear(64, 12),\n",
        "            nn.ReLU(),\n",
        "            nn.Linear(12, 3),   # 입력의 특징을 3차원으로 압축합니다\n",
        "        )\n",
        "        self.decoder = nn.Sequential(\n",
        "            nn.Linear(3, 12),\n",
        "            nn.ReLU(),\n",
        "            nn.Linear(12, 64),\n",
        "            nn.ReLU(),\n",
        "            nn.Linear(64, 128),\n",
        "            nn.ReLU(),\n",
        "            nn.Linear(128, 28*28),\n",
        "            nn.Sigmoid(),       # 픽셀당 0과 1 사이로 값을 출력합니다\n",
        "        )\n",
        "\n",
        "    def forward(self, x):\n",
        "        encoded = self.encoder(x)\n",
        "        decoded = self.decoder(encoded)\n",
        "        return encoded, decoded"
      ],
      "execution_count": null,
      "outputs": []
    },
    {
      "cell_type": "code",
      "metadata": {
        "id": "GH4yFwd9--4z"
      },
      "source": [
        "autoencoder = Autoencoder().to(DEVICE)\n",
        "optimizer = torch.optim.Adam(autoencoder.parameters(), lr=0.005)\n",
        "criterion = nn.MSELoss()"
      ],
      "execution_count": null,
      "outputs": []
    },
    {
      "cell_type": "code",
      "metadata": {
        "id": "FtqJ7PxA_AIH"
      },
      "source": [
        "# 원본 이미지를 시각화 하기 (첫번째 열)\n",
        "view_data = trainset.data[:5].view(-1, 28*28)\n",
        "view_data = view_data.type(torch.FloatTensor)/255."
      ],
      "execution_count": null,
      "outputs": []
    },
    {
      "cell_type": "code",
      "metadata": {
        "id": "llN7d-nz_BJR"
      },
      "source": [
        "def train(autoencoder, train_loader):\n",
        "    autoencoder.train()\n",
        "    for step, (x, label) in enumerate(train_loader):\n",
        "        x = x.view(-1, 28*28).to(DEVICE)\n",
        "        y = x.view(-1, 28*28).to(DEVICE)\n",
        "        label = label.to(DEVICE)\n",
        "\n",
        "        encoded, decoded = autoencoder(x)\n",
        "\n",
        "        loss = criterion(decoded, y)\n",
        "        optimizer.zero_grad()\n",
        "        loss.backward()\n",
        "        optimizer.step()"
      ],
      "execution_count": null,
      "outputs": []
    },
    {
      "cell_type": "code",
      "metadata": {
        "colab": {
          "base_uri": "https://localhost:8080/",
          "height": 1000
        },
        "id": "l_PUhfLr_CUx",
        "outputId": "f2ce0269-ae2a-4147-ee58-57357458f3c8"
      },
      "source": [
        "for epoch in range(1, EPOCH+1):\n",
        "    train(autoencoder, train_loader)\n",
        "\n",
        "    # 디코더에서 나온 이미지를 시각화 하기 (두번째 열)\n",
        "    test_x = view_data.to(DEVICE)\n",
        "    _, decoded_data = autoencoder(test_x)\n",
        "\n",
        "    # 원본과 디코딩 결과 비교해보기\n",
        "    f, a = plt.subplots(2, 5, figsize=(5, 2))\n",
        "    print(\"[Epoch {}]\".format(epoch))\n",
        "    for i in range(5):\n",
        "        img = np.reshape(view_data.data.numpy()[i],(28, 28))\n",
        "        a[0][i].imshow(img, cmap='gray')\n",
        "        a[0][i].set_xticks(()); a[0][i].set_yticks(())\n",
        "\n",
        "    for i in range(5):\n",
        "        img = np.reshape(decoded_data.to(\"cpu\").data.numpy()[i], (28, 28))\n",
        "        a[1][i].imshow(img, cmap='gray')\n",
        "        a[1][i].set_xticks(()); a[1][i].set_yticks(())\n",
        "    plt.show()"
      ],
      "execution_count": null,
      "outputs": [
        {
          "output_type": "stream",
          "text": [
            "[Epoch 1]\n"
          ],
          "name": "stdout"
        },
        {
          "output_type": "display_data",
          "data": {
            "image/png": "[encoded data removed]",
            "text/plain": [
              "<Figure size 360x144 with 10 Axes>"
            ]
          },
          "metadata": {
            "tags": []
          }
        },
        {
          "output_type": "stream",
          "text": [
            "[Epoch 2]\n"
          ],
          "name": "stdout"
        },
        {
          "output_type": "display_data",
          "data": {
            "image/png": "[encoded data removed]",
            "text/plain": [
              "<Figure size 360x144 with 10 Axes>"
            ]
          },
          "metadata": {
            "tags": []
          }
        },
        {
          "output_type": "stream",
          "text": [
            "[Epoch 3]\n"
          ],
          "name": "stdout"
        },
        {
          "output_type": "display_data",
          "data": {
            "image/png": "[encoded data removed]",
            "text/plain": [
              "<Figure size 360x144 with 10 Axes>"
            ]
          },
          "metadata": {
            "tags": []
          }
        },
        {
          "output_type": "stream",
          "text": [
            "[Epoch 4]\n"
          ],
          "name": "stdout"
        },
        {
          "output_type": "display_data",
          "data": {
            "image/png": "[encoded data removed]",
            "text/plain": [
              "<Figure size 360x144 with 10 Axes>"
            ]
          },
          "metadata": {
            "tags": []
          }
        },
        {
          "output_type": "stream",
          "text": [
            "[Epoch 5]\n"
          ],
          "name": "stdout"
        },
        {
          "output_type": "display_data",
          "data": {
            "image/png": "[encoded data removed]",
            "text/plain": [
              "<Figure size 360x144 with 10 Axes>"
            ]
          },
          "metadata": {
            "tags": []
          }
        },
        {
          "output_type": "stream",
          "text": [
            "[Epoch 6]\n"
          ],
          "name": "stdout"
        },
        {
          "output_type": "display_data",
          "data": {
            "image/png": "[encoded data removed]",
            "text/plain": [
              "<Figure size 360x144 with 10 Axes>"
            ]
          },
          "metadata": {
            "tags": []
          }
        },
        {
          "output_type": "stream",
          "text": [
            "[Epoch 7]\n"
          ],
          "name": "stdout"
        },
        {
          "output_type": "display_data",
          "data": {
            "image/png": "[encoded data removed]",
            "text/plain": [
              "<Figure size 360x144 with 10 Axes>"
            ]
          },
          "metadata": {
            "tags": []
          }
        },
        {
          "output_type": "stream",
          "text": [
            "[Epoch 8]\n"
          ],
          "name": "stdout"
        },
        {
          "output_type": "display_data",
          "data": {
            "image/png": "[encoded data removed]",
            "text/plain": [
              "<Figure size 360x144 with 10 Axes>"
            ]
          },
          "metadata": {
            "tags": []
          }
        },
        {
          "output_type": "stream",
          "text": [
            "[Epoch 9]\n"
          ],
          "name": "stdout"
        },
        {
          "output_type": "display_data",
          "data": {
            "image/png": "[encoded data removed]",
            "text/plain": [
              "<Figure size 360x144 with 10 Axes>"
            ]
          },
          "metadata": {
            "tags": []
          }
        },
        {
          "output_type": "stream",
          "text": [
            "[Epoch 10]\n"
          ],
          "name": "stdout"
        },
        {
          "output_type": "display_data",
          "data": {
            "image/png": "[encoded data removed]",
            "text/plain": [
              "<Figure size 360x144 with 10 Axes>"
            ]
          },
          "metadata": {
            "tags": []
          }
        }
      ]
    },
    {
      "cell_type": "code",
      "metadata": {
        "id": "5TKumILa_EMQ"
      },
      "source": [
        "# 잠재변수를 3D 플롯으로 시각화\n",
        "view_data = trainset.data[:200].view(-1, 28*28)\n",
        "view_data = view_data.type(torch.FloatTensor)/255.\n",
        "test_x = view_data.to(DEVICE)\n",
        "encoded_data, _ = autoencoder(test_x)\n",
        "encoded_data = encoded_data.to(\"cpu\")"
      ],
      "execution_count": null,
      "outputs": []
    },
    {
      "cell_type": "code",
      "metadata": {
        "colab": {
          "base_uri": "https://localhost:8080/",
          "height": 607
        },
        "id": "EBr6trna_FkQ",
        "outputId": "c0a5b661-abc6-4afd-ee21-cbf57eb4f390"
      },
      "source": [
        "CLASSES = {\n",
        "    0: 'T-shirt/top',\n",
        "    1: 'Trouser',\n",
        "    2: 'Pullover',\n",
        "    3: 'Dress',\n",
        "    4: 'Coat',\n",
        "    5: 'Sandal',\n",
        "    6: 'Shirt',\n",
        "    7: 'Sneaker',\n",
        "    8: 'Bag',\n",
        "    9: 'Ankle boot'\n",
        "}\n",
        "\n",
        "fig = plt.figure(figsize=(10,8))\n",
        "ax = Axes3D(fig)\n",
        "\n",
        "X = encoded_data.data[:, 0].numpy()\n",
        "Y = encoded_data.data[:, 1].numpy()\n",
        "Z = encoded_data.data[:, 2].numpy()\n",
        "\n",
        "labels = trainset.targets[:200].numpy()\n",
        "\n",
        "for x, y, z, s in zip(X, Y, Z, labels):\n",
        "    name = CLASSES[s]\n",
        "    color = cm.rainbow(int(255*s/9))\n",
        "    ax.text(x, y, z, name, backgroundcolor=color)\n",
        "\n",
        "ax.set_xlim(X.min(), X.max())\n",
        "ax.set_ylim(Y.min(), Y.max())\n",
        "ax.set_zlim(Z.min(), Z.max())\n",
        "plt.show()"
      ],
      "execution_count": null,
      "outputs": [
        {
          "output_type": "display_data",
          "data": {
            "image/png": "[encoded data removed]",
            "text/plain": [
              "<Figure size 720x576 with 1 Axes>"
            ]
          },
          "metadata": {
            "tags": [],
            "needs_background": "light"
          }
        }
      ]
    },
    {
      "cell_type": "code",
      "metadata": {
        "id": "cxPDL8BT_Hxo"
      },
      "source": [
        "import torch\n",
        "import torchvision\n",
        "import torch.nn.functional as F\n",
        "from torch import nn, optim\n",
        "from torchvision import transforms, datasets\n",
        "\n",
        "import matplotlib.pyplot as plt\n",
        "import numpy as np"
      ],
      "execution_count": null,
      "outputs": []
    },
    {
      "cell_type": "code",
      "metadata": {
        "colab": {
          "base_uri": "https://localhost:8080/"
        },
        "id": "MXoGiNRd_JLc",
        "outputId": "afae5718-8d2d-4b58-9831-c6bc8aaa5be2"
      },
      "source": [
        "# 하이퍼파라미터\n",
        "EPOCH = 10\n",
        "BATCH_SIZE = 64\n",
        "USE_CUDA = torch.cuda.is_available()\n",
        "DEVICE = torch.device(\"cuda\" if USE_CUDA else \"cpu\")\n",
        "print(\"다음 기기로 학습합니다:\", DEVICE)"
      ],
      "execution_count": null,
      "outputs": [
        {
          "output_type": "stream",
          "text": [
            "다음 기기로 학습합니다: cuda\n"
          ],
          "name": "stdout"
        }
      ]
    },
    {
      "cell_type": "code",
      "metadata": {
        "id": "wDzGj43v_KjH"
      },
      "source": [
        "# Fashion MNIST 학습 데이터셋\n",
        "trainset = datasets.FashionMNIST(\n",
        "    root      = './.data/', \n",
        "    train     = True,\n",
        "    download  = True,\n",
        "    transform = transforms.ToTensor()\n",
        ")\n",
        "\n",
        "train_loader = torch.utils.data.DataLoader(\n",
        "    dataset     = trainset,\n",
        "    batch_size  = BATCH_SIZE,\n",
        "    shuffle     = True,\n",
        "    num_workers = 2\n",
        ")"
      ],
      "execution_count": null,
      "outputs": []
    },
    {
      "cell_type": "code",
      "metadata": {
        "id": "mPAK0koW_MEi"
      },
      "source": [
        "class Autoencoder(nn.Module):\n",
        "    def __init__(self):\n",
        "        super(Autoencoder, self).__init__()\n",
        "\n",
        "        self.encoder = nn.Sequential(\n",
        "            nn.Linear(28*28, 128),\n",
        "            nn.ReLU(),\n",
        "            nn.Linear(128, 64),\n",
        "            nn.ReLU(),\n",
        "            nn.Linear(64, 12),\n",
        "            nn.ReLU(),\n",
        "            nn.Linear(12, 3),   # 입력의 특징을 3차원으로 압축합니다\n",
        "        )\n",
        "        self.decoder = nn.Sequential(\n",
        "            nn.Linear(3, 12),\n",
        "            nn.ReLU(),\n",
        "            nn.Linear(12, 64),\n",
        "            nn.ReLU(),\n",
        "            nn.Linear(64, 128),\n",
        "            nn.ReLU(),\n",
        "            nn.Linear(128, 28*28),\n",
        "            nn.Sigmoid(),       # 픽셀당 0과 1 사이로 값을 출력합니다\n",
        "        )\n",
        "\n",
        "    def forward(self, x):\n",
        "        encoded = self.encoder(x)\n",
        "        decoded = self.decoder(encoded)\n",
        "        return encoded, decoded"
      ],
      "execution_count": null,
      "outputs": []
    },
    {
      "cell_type": "code",
      "metadata": {
        "id": "XZDznoGZ_QZ8"
      },
      "source": [
        "autoencoder = Autoencoder().to(DEVICE)\n",
        "optimizer = torch.optim.Adam(autoencoder.parameters(), lr=0.005)\n",
        "criterion = nn.MSELoss()"
      ],
      "execution_count": null,
      "outputs": []
    },
    {
      "cell_type": "code",
      "metadata": {
        "id": "ru-UnN71_R-b"
      },
      "source": [
        "def add_noise(img):\n",
        "    noise = torch.randn(img.size()) * 0.2\n",
        "    noisy_img = img + noise\n",
        "    return noisy_img"
      ],
      "execution_count": null,
      "outputs": []
    },
    {
      "cell_type": "code",
      "metadata": {
        "id": "2SuuvpWI_TZ1"
      },
      "source": [
        "def train(autoencoder, train_loader):\n",
        "    autoencoder.train()\n",
        "    avg_loss = 0\n",
        "    for step, (x, label) in enumerate(train_loader):\n",
        "        noisy_x = add_noise(x)  # 입력에 노이즈 더하기\n",
        "        noisy_x = noisy_x.view(-1, 28*28).to(DEVICE)\n",
        "        y = x.view(-1, 28*28).to(DEVICE)\n",
        "\n",
        "        label = label.to(DEVICE)\n",
        "        encoded, decoded = autoencoder(noisy_x)\n",
        "\n",
        "        loss = criterion(decoded, y)\n",
        "        optimizer.zero_grad()\n",
        "        loss.backward()\n",
        "        optimizer.step()\n",
        "        \n",
        "        avg_loss += loss.item()\n",
        "    return avg_loss / len(train_loader)"
      ],
      "execution_count": null,
      "outputs": []
    },
    {
      "cell_type": "code",
      "metadata": {
        "colab": {
          "base_uri": "https://localhost:8080/"
        },
        "id": "1Zu9t9Q0_U5y",
        "outputId": "a235bbd7-f04b-49bd-fa2a-04b3af334bcc"
      },
      "source": [
        "for epoch in range(1, EPOCH+1):\n",
        "    loss = train(autoencoder, train_loader)\n",
        "    print(\"[Epoch {}] loss:{}\".format(epoch, loss))\n",
        "    # 이번 예제에선 학습시 시각화를 건너 뜁니다"
      ],
      "execution_count": null,
      "outputs": [
        {
          "output_type": "stream",
          "text": [
            "[Epoch 1] loss:0.03397495982481409\n",
            "[Epoch 2] loss:0.025862208958754917\n",
            "[Epoch 3] loss:0.024758234081952685\n",
            "[Epoch 4] loss:0.024029115542594685\n",
            "[Epoch 5] loss:0.02354575223974518\n",
            "[Epoch 6] loss:0.02317643820492825\n",
            "[Epoch 7] loss:0.022928445989182637\n",
            "[Epoch 8] loss:0.022768942166620225\n",
            "[Epoch 9] loss:0.022565332243342135\n",
            "[Epoch 10] loss:0.022470099948791424\n"
          ],
          "name": "stdout"
        }
      ]
    },
    {
      "cell_type": "code",
      "metadata": {
        "id": "74RR1u1k_Wib"
      },
      "source": [
        "# 모델이 학습시 본적이 없는 데이터로 검증하기 위해 테스트 데이터셋을 가져옵니다.\n",
        "testset = datasets.FashionMNIST(\n",
        "    root      = './.data/', \n",
        "    train     = False,\n",
        "    download  = True,\n",
        "    transform = transforms.ToTensor()\n",
        ")\n",
        "\n",
        "# 테스트셋에서 이미지 한장을 가져옵니다.\n",
        "sample_data = testset.data[0].view(-1, 28*28)\n",
        "sample_data = sample_data.type(torch.FloatTensor)/255.\n",
        "\n",
        "# 이미지를 add_noise로 오염시킨 후, 모델에 통과시킵니다.\n",
        "original_x = sample_data[0]\n",
        "noisy_x = add_noise(original_x).to(DEVICE)\n",
        "_, recovered_x = autoencoder(noisy_x)"
      ],
      "execution_count": 119,
      "outputs": []
    },
    {
      "cell_type": "code",
      "metadata": {
        "id": "5ja8y-lG_X3B",
        "colab": {
          "base_uri": "https://localhost:8080/",
          "height": 310
        },
        "outputId": "b5aaba63-7beb-4df1-fbed-590fbfafe66f"
      },
      "source": [
        "f, a = plt.subplots(1, 3, figsize=(15, 15))\n",
        "\n",
        "# 시각화를 위해 넘파이 행렬로 바꿔줍니다.\n",
        "original_img = np.reshape(original_x.to(\"cpu\").data.numpy(), (28, 28))\n",
        "noisy_img = np.reshape(noisy_x.to(\"cpu\").data.numpy(), (28, 28))\n",
        "recovered_img = np.reshape(recovered_x.to(\"cpu\").data.numpy(), (28, 28))\n",
        "\n",
        "# 원본 사진\n",
        "a[0].set_title('Original')\n",
        "a[0].imshow(original_img, cmap='gray')\n",
        "\n",
        "# 오염된 원본 사진\n",
        "a[1].set_title('Noisy')\n",
        "a[1].imshow(noisy_img, cmap='gray')\n",
        "\n",
        "# 복원된 사진\n",
        "a[2].set_title('Recovered')\n",
        "a[2].imshow(recovered_img, cmap='gray')\n",
        "\n",
        "plt.show()"
      ],
      "execution_count": 120,
      "outputs": [
        {
          "output_type": "display_data",
          "data": {
            "image/png": "[encoded data removed]",
            "text/plain": [
              "<Figure size 1080x1080 with 3 Axes>"
            ]
          },
          "metadata": {
            "tags": [],
            "needs_background": "light"
          }
        }
      ]
    },
    {
      "cell_type": "code",
      "metadata": {
        "id": "1sKtJGwQG0dO"
      },
      "source": [
        "import os\n",
        "import torch\n",
        "import torch.nn as nn\n",
        "import torch.nn.functional as F\n",
        "# from torchtext import datasets        # 현재 버전에서 사라짐 torchtext --> torchtext.legacy 로 변경할 것\n",
        "from torchtext.legacy import data, datasets"
      ],
      "execution_count": 121,
      "outputs": []
    },
    {
      "cell_type": "code",
      "metadata": {
        "colab": {
          "base_uri": "https://localhost:8080/"
        },
        "id": "sgorsQjdG60s",
        "outputId": "f8cec105-92e6-491f-bb6b-9b174de49292"
      },
      "source": [
        "# 하이퍼파라미터\n",
        "BATCH_SIZE = 64\n",
        "lr = 0.001\n",
        "EPOCHS = 10\n",
        "USE_CUDA = torch.cuda.is_available()\n",
        "DEVICE = torch.device(\"cuda\" if USE_CUDA else \"cpu\")\n",
        "print(\"다음 기기로 학습합니다:\", DEVICE)"
      ],
      "execution_count": 122,
      "outputs": [
        {
          "output_type": "stream",
          "text": [
            "다음 기기로 학습합니다: cuda\n"
          ],
          "name": "stdout"
        }
      ]
    },
    {
      "cell_type": "code",
      "metadata": {
        "colab": {
          "base_uri": "https://localhost:8080/"
        },
        "id": "sDlBUK34G8xI",
        "outputId": "5258257c-e68e-40a9-d6d0-346b3b736589"
      },
      "source": [
        "# 데이터 로딩하기\n",
        "print(\"데이터 로딩중...\")\n",
        "TEXT = data.Field(sequential=True, batch_first=True, lower=True)\n",
        "LABEL = data.Field(sequential=False, batch_first=True)\n",
        "trainset, testset = datasets.IMDB.splits(TEXT, LABEL)\n",
        "TEXT.build_vocab(trainset, min_freq=5)\n",
        "LABEL.build_vocab(trainset)\n",
        "\n",
        "# 학습용 데이터를 학습셋 80% 검증셋 20% 로 나누기\n",
        "trainset, valset = trainset.split(split_ratio=0.8)\n",
        "train_iter, val_iter, test_iter = data.BucketIterator.splits(\n",
        "        (trainset, valset, testset), batch_size=BATCH_SIZE,\n",
        "        shuffle=True, repeat=False)\n",
        "\n",
        "\n",
        "vocab_size = len(TEXT.vocab)\n",
        "n_classes = 2"
      ],
      "execution_count": 124,
      "outputs": [
        {
          "output_type": "stream",
          "text": [
            "데이터 로딩중...\n"
          ],
          "name": "stdout"
        }
      ]
    },
    {
      "cell_type": "code",
      "metadata": {
        "colab": {
          "base_uri": "https://localhost:8080/"
        },
        "id": "OKTQgI3oHFU3",
        "outputId": "8c861276-20d9-433d-a81d-94f1208a2431"
      },
      "source": [
        "print(\"[학습셋]: %d [검증셋]: %d [테스트셋]: %d [단어수]: %d [클래스] %d\"\n",
        "      % (len(trainset),len(valset), len(testset), vocab_size, n_classes))"
      ],
      "execution_count": 125,
      "outputs": [
        {
          "output_type": "stream",
          "text": [
            "[학습셋]: 20000 [검증셋]: 5000 [테스트셋]: 25000 [단어수]: 46159 [클래스] 2\n"
          ],
          "name": "stdout"
        }
      ]
    },
    {
      "cell_type": "code",
      "metadata": {
        "id": "jKkU2IguHINi"
      },
      "source": [
        "class BasicGRU(nn.Module):\n",
        "    def __init__(self, n_layers, hidden_dim, n_vocab, embed_dim, n_classes, dropout_p=0.2):\n",
        "        super(BasicGRU, self).__init__()\n",
        "        print(\"Building Basic GRU model...\")\n",
        "        self.n_layers = n_layers\n",
        "        self.embed = nn.Embedding(n_vocab, embed_dim)\n",
        "        self.hidden_dim = hidden_dim\n",
        "        self.dropout = nn.Dropout(dropout_p)\n",
        "        self.gru = nn.GRU(embed_dim, self.hidden_dim,\n",
        "                          num_layers=self.n_layers,\n",
        "                          batch_first=True)\n",
        "        self.out = nn.Linear(self.hidden_dim, n_classes)\n",
        "\n",
        "    def forward(self, x):\n",
        "        x = self.embed(x)\n",
        "        h_0 = self._init_state(batch_size=x.size(0))\n",
        "        x, _ = self.gru(x, h_0)  # [i, b, h]\n",
        "        h_t = x[:,-1,:]\n",
        "        self.dropout(h_t)\n",
        "        logit = self.out(h_t)  # [b, h] -> [b, o]\n",
        "        return logit\n",
        "    \n",
        "    def _init_state(self, batch_size=1):\n",
        "        weight = next(self.parameters()).data\n",
        "        return weight.new(self.n_layers, batch_size, self.hidden_dim).zero_()"
      ],
      "execution_count": 126,
      "outputs": []
    },
    {
      "cell_type": "code",
      "metadata": {
        "id": "EnfkBweTHJ6k"
      },
      "source": [
        "def train(model, optimizer, train_iter):\n",
        "    model.train()\n",
        "    for b, batch in enumerate(train_iter):\n",
        "        x, y = batch.text.to(DEVICE), batch.label.to(DEVICE)\n",
        "        y.data.sub_(1)  # 레이블 값을 0과 1로 변환\n",
        "        optimizer.zero_grad()\n",
        "\n",
        "        logit = model(x)\n",
        "        loss = F.cross_entropy(logit, y)\n",
        "        loss.backward()\n",
        "        optimizer.step()"
      ],
      "execution_count": 127,
      "outputs": []
    },
    {
      "cell_type": "code",
      "metadata": {
        "id": "JRZrlpyoHLcN"
      },
      "source": [
        "def evaluate(model, val_iter):\n",
        "    \"\"\"evaluate model\"\"\"\n",
        "    model.eval()\n",
        "    corrects, total_loss = 0, 0\n",
        "    for batch in val_iter:\n",
        "        x, y = batch.text.to(DEVICE), batch.label.to(DEVICE)\n",
        "        y.data.sub_(1) # 레이블 값을 0과 1로 변환\n",
        "        logit = model(x)\n",
        "        loss = F.cross_entropy(logit, y, reduction='sum')\n",
        "        total_loss += loss.item()\n",
        "        corrects += (logit.max(1)[1].view(y.size()).data == y.data).sum()\n",
        "    size = len(val_iter.dataset)\n",
        "    avg_loss = total_loss / size\n",
        "    avg_accuracy = 100.0 * corrects / size\n",
        "    return avg_loss, avg_accuracy"
      ],
      "execution_count": 128,
      "outputs": []
    },
    {
      "cell_type": "code",
      "metadata": {
        "colab": {
          "base_uri": "https://localhost:8080/"
        },
        "id": "yI5zdZeyHNsx",
        "outputId": "d1163b41-83f2-4e24-8d6a-430137f29363"
      },
      "source": [
        "model = BasicGRU(1, 256, vocab_size, 128, n_classes, 0.5).to(DEVICE)\n",
        "optimizer = torch.optim.Adam(model.parameters(), lr=lr)"
      ],
      "execution_count": 129,
      "outputs": [
        {
          "output_type": "stream",
          "text": [
            "Building Basic GRU model...\n"
          ],
          "name": "stdout"
        }
      ]
    },
    {
      "cell_type": "code",
      "metadata": {
        "colab": {
          "base_uri": "https://localhost:8080/"
        },
        "id": "QTgTqGOJHPqq",
        "outputId": "9c165343-abe5-4a5f-d8a3-3fd5982719fa"
      },
      "source": [
        "best_val_loss = None\n",
        "for e in range(1, EPOCHS+1):\n",
        "    train(model, optimizer, train_iter)\n",
        "    val_loss, val_accuracy = evaluate(model, val_iter)\n",
        "\n",
        "    print(\"[이폭: %d] 검증 오차:%5.2f | 검증 정확도:%5.2f\" % (e, val_loss, val_accuracy))\n",
        "    \n",
        "    # 검증 오차가 가장 적은 최적의 모델을 저장\n",
        "    if not best_val_loss or val_loss < best_val_loss:\n",
        "        if not os.path.isdir(\"snapshot\"):\n",
        "            os.makedirs(\"snapshot\")\n",
        "        torch.save(model.state_dict(), './snapshot/txtclassification.pt')\n",
        "        best_val_loss = val_loss"
      ],
      "execution_count": 130,
      "outputs": [
        {
          "output_type": "stream",
          "text": [
            "[이폭: 1] 검증 오차: 0.70 | 검증 정확도:50.54\n",
            "[이폭: 2] 검증 오차: 0.69 | 검증 정확도:51.00\n",
            "[이폭: 3] 검증 오차: 0.69 | 검증 정확도:52.44\n",
            "[이폭: 4] 검증 오차: 0.70 | 검증 정확도:53.16\n",
            "[이폭: 5] 검증 오차: 0.58 | 검증 정확도:70.12\n",
            "[이폭: 6] 검증 오차: 0.36 | 검증 정확도:84.94\n",
            "[이폭: 7] 검증 오차: 0.35 | 검증 정확도:85.66\n",
            "[이폭: 8] 검증 오차: 0.35 | 검증 정확도:86.18\n",
            "[이폭: 9] 검증 오차: 0.42 | 검증 정확도:86.02\n",
            "[이폭: 10] 검증 오차: 0.55 | 검증 정확도:84.58\n"
          ],
          "name": "stdout"
        }
      ]
    },
    {
      "cell_type": "code",
      "metadata": {
        "colab": {
          "base_uri": "https://localhost:8080/"
        },
        "id": "NEm1YMFBHTEU",
        "outputId": "4ab5f7c2-8656-4283-b649-446020b1d514"
      },
      "source": [
        "model.load_state_dict(torch.load('./snapshot/txtclassification.pt'))\n",
        "test_loss, test_acc = evaluate(model, test_iter)\n",
        "print('테스트 오차: %5.2f | 테스트 정확도: %5.2f' % (test_loss, test_acc))"
      ],
      "execution_count": 131,
      "outputs": [
        {
          "output_type": "stream",
          "text": [
            "테스트 오차:  0.34 | 테스트 정확도: 85.46\n"
          ],
          "name": "stdout"
        }
      ]
    },
    {
      "cell_type": "code",
      "metadata": {
        "id": "XBERDFpAHUSV"
      },
      "source": [
        "import torch\n",
        "import torch.nn as nn\n",
        "import torch.nn.functional as F\n",
        "import random\n",
        "import matplotlib.pyplot as plt"
      ],
      "execution_count": 132,
      "outputs": []
    },
    {
      "cell_type": "code",
      "metadata": {
        "colab": {
          "base_uri": "https://localhost:8080/"
        },
        "id": "_UWOH7Q2HVY1",
        "outputId": "af4f24c1-6524-4fde-88f9-e902e6e7bd8d"
      },
      "source": [
        "vocab_size = 256  # 총 아스키 코드 개수\n",
        "x_ = list(map(ord, \"hello\"))  # 아스키 코드 리스트로 변환\n",
        "y_ = list(map(ord, \"hola\"))   # 아스키 코드 리스트로 변환\n",
        "print(\"hello -> \", x_)\n",
        "print(\"hola  -> \", y_)"
      ],
      "execution_count": 133,
      "outputs": [
        {
          "output_type": "stream",
          "text": [
            "hello ->  [104, 101, 108, 108, 111]\n",
            "hola  ->  [104, 111, 108, 97]\n"
          ],
          "name": "stdout"
        }
      ]
    },
    {
      "cell_type": "code",
      "metadata": {
        "id": "KdUW5dPwHXHT"
      },
      "source": [
        "x = torch.LongTensor(x_)\n",
        "y = torch.LongTensor(y_)"
      ],
      "execution_count": 134,
      "outputs": []
    },
    {
      "cell_type": "code",
      "metadata": {
        "id": "OWNaRe95HY7J"
      },
      "source": [
        "class Seq2Seq(nn.Module):\n",
        "    def __init__(self, vocab_size, hidden_size):\n",
        "        super(Seq2Seq, self).__init__()\n",
        "        self.n_layers = 1\n",
        "        self.hidden_size = hidden_size\n",
        "        self.embedding = nn.Embedding(vocab_size, hidden_size)\n",
        "        self.encoder = nn.GRU(hidden_size, hidden_size)\n",
        "        self.decoder = nn.GRU(hidden_size, hidden_size)\n",
        "        self.project = nn.Linear(hidden_size, vocab_size)\n",
        "\n",
        "    def forward(self, inputs, targets):\n",
        "        # 인코더에 들어갈 입력\n",
        "        initial_state = self._init_state()\n",
        "        embedding = self.embedding(inputs).unsqueeze(1)\n",
        "        # embedding = [seq_len, batch_size, embedding_size]\n",
        "        \n",
        "        # 인코더 (Encoder)\n",
        "        encoder_output, encoder_state = self.encoder(embedding, initial_state)\n",
        "        # encoder_output = [seq_len, batch_size, hidden_size]\n",
        "        # encoder_state  = [n_layers, seq_len, hidden_size]\n",
        "\n",
        "        # 디코더에 들어갈 입력\n",
        "        decoder_state = encoder_state\n",
        "        decoder_input = torch.LongTensor([0])\n",
        "        \n",
        "        # 디코더 (Decoder)\n",
        "        outputs = []\n",
        "        \n",
        "        for i in range(targets.size()[0]):\n",
        "            decoder_input = self.embedding(decoder_input).unsqueeze(1)\n",
        "            decoder_output, decoder_state = self.decoder(decoder_input, decoder_state)\n",
        "            projection = self.project(decoder_output)\n",
        "            outputs.append(projection)\n",
        "            \n",
        "            #티처 포싱(Teacher Forcing) 사용\n",
        "            decoder_input = torch.LongTensor([targets[i]])\n",
        "\n",
        "        outputs = torch.stack(outputs).squeeze()\n",
        "        return outputs\n",
        "    \n",
        "    def _init_state(self, batch_size=1):\n",
        "        weight = next(self.parameters()).data\n",
        "        return weight.new(self.n_layers, batch_size, self.hidden_size).zero_()"
      ],
      "execution_count": 135,
      "outputs": []
    },
    {
      "cell_type": "code",
      "metadata": {
        "id": "cZR8BouRHadk"
      },
      "source": [
        "seq2seq = Seq2Seq(vocab_size, 16)"
      ],
      "execution_count": 136,
      "outputs": []
    },
    {
      "cell_type": "code",
      "metadata": {
        "id": "ndH6ZCbaHbnz"
      },
      "source": [
        "criterion = nn.CrossEntropyLoss()\n",
        "optimizer = torch.optim.Adam(seq2seq.parameters(), lr=1e-3)"
      ],
      "execution_count": 137,
      "outputs": []
    },
    {
      "cell_type": "code",
      "metadata": {
        "colab": {
          "base_uri": "https://localhost:8080/"
        },
        "id": "EVBW1tibHduW",
        "outputId": "e8278d3f-cae3-4571-dc3a-7685b68c6ea0"
      },
      "source": [
        "log = []\n",
        "for i in range(1000):\n",
        "    prediction = seq2seq(x, y)\n",
        "    loss = criterion(prediction, y)\n",
        "    optimizer.zero_grad()\n",
        "    loss.backward()\n",
        "    optimizer.step()\n",
        "    loss_val = loss.data\n",
        "    log.append(loss_val)\n",
        "    if i % 100 == 0:\n",
        "        print(\"\\n 반복:%d 오차: %s\" % (i, loss_val.item()))\n",
        "        _, top1 = prediction.data.topk(1, 1)\n",
        "        print([chr(c) for c in top1.squeeze().numpy().tolist()])"
      ],
      "execution_count": 138,
      "outputs": [
        {
          "output_type": "stream",
          "text": [
            "\n",
            " 반복:0 오차: 5.568734645843506\n",
            "['\\x8f', 'À', 'y', 'y']\n",
            "\n",
            " 반복:100 오차: 2.130953311920166\n",
            "['h', 'h', 'o', 'h']\n",
            "\n",
            " 반복:200 오차: 0.8545694351196289\n",
            "['h', 'o', 'l', 'a']\n",
            "\n",
            " 반복:300 오차: 0.5125503540039062\n",
            "['h', 'o', 'l', 'a']\n",
            "\n",
            " 반복:400 오차: 0.34015220403671265\n",
            "['h', 'o', 'l', 'a']\n",
            "\n",
            " 반복:500 오차: 0.22907133400440216\n",
            "['h', 'o', 'l', 'a']\n",
            "\n",
            " 반복:600 오차: 0.16785138845443726\n",
            "['h', 'o', 'l', 'a']\n",
            "\n",
            " 반복:700 오차: 0.12037800252437592\n",
            "['h', 'o', 'l', 'a']\n",
            "\n",
            " 반복:800 오차: 0.08825857937335968\n",
            "['h', 'o', 'l', 'a']\n",
            "\n",
            " 반복:900 오차: 0.067418672144413\n",
            "['h', 'o', 'l', 'a']\n"
          ],
          "name": "stdout"
        }
      ]
    },
    {
      "cell_type": "code",
      "metadata": {
        "colab": {
          "base_uri": "https://localhost:8080/",
          "height": 265
        },
        "id": "Uy5lhUz2HfON",
        "outputId": "d03a289a-f95c-47d8-9fc1-23147c44e5e2"
      },
      "source": [
        "plt.plot(log)\n",
        "plt.ylabel('cross entropy loss')\n",
        "plt.show()"
      ],
      "execution_count": 139,
      "outputs": [
        {
          "output_type": "display_data",
          "data": {
            "image/png": "[encoded data removed]",
            "text/plain": [
              "<Figure size 432x288 with 1 Axes>"
            ]
          },
          "metadata": {
            "tags": [],
            "needs_background": "light"
          }
        }
      ]
    }
  ]
}