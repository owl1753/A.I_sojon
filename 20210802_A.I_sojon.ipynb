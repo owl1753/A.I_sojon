{
  "nbformat": 4,
  "nbformat_minor": 0,
  "metadata": {
    "colab": {
      "name": "20210802 인공지능 소전.ipynb",
      "provenance": [],
      "collapsed_sections": [],
      "authorship_tag": "ABX9TyPHANtFpeA1JT5XHrUOZEy3",
      "include_colab_link": true
    },
    "kernelspec": {
      "name": "python3",
      "display_name": "Python 3"
    },
    "language_info": {
      "name": "python"
    }
  },
  "cells": [
    {
      "cell_type": "markdown",
      "metadata": {
        "id": "view-in-github",
        "colab_type": "text"
      },
      "source": [
        "<a href=\"https://colab.research.google.com/github/owl1753/A.I_sojon/blob/main/20210802_A.I_sojon.ipynb\" target=\"_parent\"><img src=\"https://colab.research.google.com/assets/colab-badge.svg\" alt=\"Open In Colab\"/></a>"
      ]
    },
    {
      "cell_type": "code",
      "metadata": {
        "id": "xoXumQtNGiTs"
      },
      "source": [
        "import pandas as pd\n",
        "import numpy as np\n",
        "import matplotlib.pyplot as plt"
      ],
      "execution_count": null,
      "outputs": []
    },
    {
      "cell_type": "code",
      "metadata": {
        "id": "phN0tXLMI4SM"
      },
      "source": [
        "def step_function(x):\n",
        "  return np.array(x > 0, dtype=np.int)\n",
        "\n",
        "def sigmoid(x):\n",
        "  return 1 / (1 + np.exp(-x))\n",
        "\n",
        "def relu(x):\n",
        "  return np.maximum(0, x)"
      ],
      "execution_count": null,
      "outputs": []
    },
    {
      "cell_type": "code",
      "metadata": {
        "id": "hQW_LdMDG2ag"
      },
      "source": [
        "x = np.arange(-5.0, 5.0, 0.1)\n",
        "y1 = step_function(x)\n",
        "y2 = sigmoid(x)\n",
        "y3 = relu(x)"
      ],
      "execution_count": null,
      "outputs": []
    },
    {
      "cell_type": "code",
      "metadata": {
        "colab": {
          "base_uri": "https://localhost:8080/",
          "height": 265
        },
        "id": "vXRO5BTaJJil",
        "outputId": "62185dfd-1fb4-4743-f7aa-75354b11275b"
      },
      "source": [
        "plt.plot(x, y1)\n",
        "plt.plot(x, y2, 'r--')\n",
        "plt.plot(x, y3)\n",
        "plt.show()"
      ],
      "execution_count": null,
      "outputs": [
        {
          "output_type": "display_data",
          "data": {
            "image/png": "[encoded data removed]",
            "text/plain": [
              "<Figure size 432x288 with 1 Axes>"
            ]
          },
          "metadata": {
            "tags": [],
            "needs_background": "light"
          }
        }
      ]
    },
    {
      "cell_type": "code",
      "metadata": {
        "id": "X5Y0zQFoPAPH"
      },
      "source": [
        "def AND(x1, x2):\n",
        "  x = np.array([x1, x2])\n",
        "  w = np.array([0.5, 0.5])\n",
        "  b = -0.7\n",
        "  tmp = np.sum(w*x) + b\n",
        "\n",
        "  if tmp <= 0:\n",
        "    return 0\n",
        "  else:\n",
        "    return 1\n",
        "\n",
        "def OR(x1, x2):\n",
        "  x = np.array([x1, x2])\n",
        "  w = np.array([0.5, 0.5])\n",
        "  b = -0.3\n",
        "  tmp = np.sum(w*x) + b\n",
        "\n",
        "  if tmp <= 0:\n",
        "    return 0\n",
        "  else:\n",
        "    return 1\n",
        "\n",
        "def NAND(x1, x2):\n",
        "  x = np.array([x1, x2])\n",
        "  w = np.array([-0.5, -0.5])\n",
        "  b = 0.7\n",
        "  tmp = np.sum(w*x) + b\n",
        "\n",
        "  if tmp <= 0:\n",
        "    return 0\n",
        "  else:\n",
        "    return 1\n",
        "\n",
        "def NOR(x1, x2):\n",
        "  x = np.array([x1, x2])\n",
        "  w = np.array([-0.5, -0.5])\n",
        "  b = 0.3\n",
        "  tmp = np.sum(w*x) + b\n",
        "\n",
        "  if tmp <= 0:\n",
        "    return 0\n",
        "  else:\n",
        "    return 1\n",
        "\n",
        "def XOR(x1, x2):\n",
        "  s1 = NAND(x1, x2)\n",
        "  s2 = OR(x1, x2)\n",
        "  return AND(s1, s2)"
      ],
      "execution_count": null,
      "outputs": []
    },
    {
      "cell_type": "code",
      "metadata": {
        "colab": {
          "base_uri": "https://localhost:8080/"
        },
        "id": "pWAqe59IO7Z_",
        "outputId": "d6d72704-3d3d-4293-ba95-f4344fd6f632"
      },
      "source": [
        "print(AND(0, 0))\n",
        "print(AND(1, 0))\n",
        "print(AND(0, 1))\n",
        "print(AND(1, 1))\n",
        "print()\n",
        "print(OR(0, 0))\n",
        "print(OR(1, 0))\n",
        "print(OR(0, 1))\n",
        "print(OR(1, 1))\n",
        "print()\n",
        "print(NAND(0, 0))\n",
        "print(NAND(1, 0))\n",
        "print(NAND(0, 1))\n",
        "print(NAND(1, 1))\n",
        "print()\n",
        "print(NOR(0, 0))\n",
        "print(NOR(1, 0))\n",
        "print(NOR(0, 1))\n",
        "print(NOR(1, 1))\n",
        "print()\n",
        "print(XOR(0, 0))\n",
        "print(XOR(1, 0))\n",
        "print(XOR(0, 1))\n",
        "print(XOR(1, 1))"
      ],
      "execution_count": null,
      "outputs": [
        {
          "output_type": "stream",
          "text": [
            "0\n",
            "0\n",
            "0\n",
            "1\n",
            "\n",
            "0\n",
            "1\n",
            "1\n",
            "1\n",
            "\n",
            "1\n",
            "1\n",
            "1\n",
            "0\n",
            "\n",
            "1\n",
            "0\n",
            "0\n",
            "0\n",
            "\n",
            "0\n",
            "1\n",
            "1\n",
            "0\n"
          ],
          "name": "stdout"
        }
      ]
    }
  ]
}